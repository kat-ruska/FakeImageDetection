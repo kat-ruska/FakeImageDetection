{
 "cells": [
  {
   "cell_type": "markdown",
   "metadata": {},
   "source": [
    "111_521\n",
    "123_100\n",
    "001_003\n",
    "\n",
    "111\n",
    "521\n",
    "123\n",
    "100\n",
    "001\n",
    "003\n",
    "\n",
    "I should check if each folder has 111_521 and 521_111 images and mirror them into the train / validation /test\n",
    "\n",
    "Are the distributions and male/female equal in all 111_521 and 521_111? Or it is easier to take real as a banchmark? What about the number? it should be more or less equal?\n",
    "\n",
    "We can split by true and then add 111_521 and 521_111\n",
    "\n",
    "get all youtube real\n",
    "get face2face and check mirror naming\n",
    "do split for real\n",
    "make mask for all fakes based on above split\n",
    "apply mask to file"
   ]
  },
  {
   "cell_type": "code",
   "execution_count": 2,
   "metadata": {},
   "outputs": [],
   "source": [
    "import pandas as pd\n",
    "import matplotlib.pyplot as plt"
   ]
  },
  {
   "cell_type": "code",
   "execution_count": 3,
   "metadata": {},
   "outputs": [],
   "source": [
    "data_all = pd.read_excel('dataset.xlsx', index_col=0)"
   ]
  },
  {
   "cell_type": "code",
   "execution_count": 440,
   "metadata": {},
   "outputs": [
    {
     "name": "stdout",
     "output_type": "stream",
     "text": [
      "                                                filename    gender        age  \\\n",
      "index                                                                           \n",
      "0      /content/drive/My Drive/FakeImageDetector/real...  0.061687  32.637210   \n",
      "1      /content/drive/My Drive/FakeImageDetector/real...  0.063749  31.867521   \n",
      "2      /content/drive/My Drive/FakeImageDetector/real...  0.032942  34.179979   \n",
      "3      /content/drive/My Drive/FakeImageDetector/real...  0.026315  33.717182   \n",
      "4      /content/drive/My Drive/FakeImageDetector/real...  0.055017  37.760803   \n",
      "\n",
      "      method  label fake_real_name    age_cat  gender10 gender_age_cat  \\\n",
      "index                                                                    \n",
      "0       Real      1    real_images  age_30_40         0    0_age_30_40   \n",
      "1       Real      1    real_images  age_30_40         0    0_age_30_40   \n",
      "2       Real      1    real_images  age_30_40         0    0_age_30_40   \n",
      "3       Real      1    real_images  age_30_40         0    0_age_30_40   \n",
      "4       Real      1    real_images  age_30_40         0    0_age_30_40   \n",
      "\n",
      "                                                 imgname target_source  \n",
      "index                                                                   \n",
      "0      21__outside_talking_still_laughing.mp4_image6.jpg            21  \n",
      "1      21__outside_talking_still_laughing.mp4_image7.jpg            21  \n",
      "2      21__outside_talking_still_laughing.mp4_image8.jpg            21  \n",
      "3      21__outside_talking_still_laughing.mp4_image9.jpg            21  \n",
      "4      21__outside_talking_still_laughing.mp4_image10...            21  \n"
     ]
    }
   ],
   "source": [
    "print(data_all.head())"
   ]
  },
  {
   "cell_type": "code",
   "execution_count": 445,
   "metadata": {},
   "outputs": [
    {
     "name": "stdout",
     "output_type": "stream",
     "text": [
      "index                                                             0\n",
      "filename          /content/drive/My Drive/FakeImageDetector/real...\n",
      "gender                                                    0.0616868\n",
      "age                                                         32.6372\n",
      "method                                                         Real\n",
      "label                                                             1\n",
      "fake_real_name                                          real_images\n",
      "age_cat                                                   age_30_40\n",
      "gender10                                                          0\n",
      "gender_age_cat                                          0_age_30_40\n",
      "imgname           21__outside_talking_still_laughing.mp4_image6.jpg\n",
      "target_source                                                    21\n",
      "Name: 0, dtype: object\n"
     ]
    }
   ],
   "source": [
    "data_all = data_all.reset_index()\n",
    "print(data_all.loc[0])"
   ]
  },
  {
   "cell_type": "code",
   "execution_count": 446,
   "metadata": {},
   "outputs": [],
   "source": [
    "data_df = data_all[data_all['fake_real_name'] == 'Deepfakes']"
   ]
  },
  {
   "cell_type": "code",
   "execution_count": 447,
   "metadata": {},
   "outputs": [
    {
     "name": "stdout",
     "output_type": "stream",
     "text": [
      "(5401, 12)\n"
     ]
    }
   ],
   "source": [
    "print(data_df.shape)"
   ]
  },
  {
   "cell_type": "code",
   "execution_count": 448,
   "metadata": {},
   "outputs": [
    {
     "name": "stdout",
     "output_type": "stream",
     "text": [
      "(52962, 12)\n"
     ]
    }
   ],
   "source": [
    "print(data_all.shape)"
   ]
  },
  {
   "cell_type": "code",
   "execution_count": 449,
   "metadata": {},
   "outputs": [
    {
     "name": "stdout",
     "output_type": "stream",
     "text": [
      "(47561, 12)\n"
     ]
    }
   ],
   "source": [
    "data_all_new = data_all[data_all['fake_real_name'] != 'Deepfakes']\n",
    "print(data_all_new.shape)"
   ]
  },
  {
   "cell_type": "code",
   "execution_count": 450,
   "metadata": {},
   "outputs": [],
   "source": [
    "data_all_new.to_csv(\"dataset_new.csv\", index=0)"
   ]
  },
  {
   "cell_type": "code",
   "execution_count": 293,
   "metadata": {},
   "outputs": [],
   "source": [
    "data_real = data_all[data_all['method'] == 'Real']"
   ]
  },
  {
   "cell_type": "code",
   "execution_count": 295,
   "metadata": {},
   "outputs": [
    {
     "name": "stdout",
     "output_type": "stream",
     "text": [
      "index\n",
      "0        21__outside_talking_still_laughing.mp4_image6.jpg\n",
      "1        21__outside_talking_still_laughing.mp4_image7.jpg\n",
      "2        21__outside_talking_still_laughing.mp4_image8.jpg\n",
      "3        21__outside_talking_still_laughing.mp4_image9.jpg\n",
      "4        21__outside_talking_still_laughing.mp4_image10...\n",
      "5        21__outside_talking_still_laughing.mp4_image11...\n",
      "6        21__outside_talking_still_laughing.mp4_image12...\n",
      "7        21__outside_talking_still_laughing.mp4_image13...\n",
      "8        21__outside_talking_still_laughing.mp4_image14...\n",
      "9        21__outside_talking_still_laughing.mp4_image15...\n",
      "10       21__outside_talking_still_laughing.mp4_image16...\n",
      "11       21__outside_talking_still_laughing.mp4_image18...\n",
      "12       21__outside_talking_still_laughing.mp4_image19...\n",
      "13                        27__kitchen_still.mp4_image1.jpg\n",
      "14                        27__kitchen_still.mp4_image2.jpg\n",
      "15                        27__kitchen_still.mp4_image3.jpg\n",
      "16                        27__kitchen_still.mp4_image4.jpg\n",
      "17                        27__kitchen_still.mp4_image5.jpg\n",
      "18                        27__kitchen_still.mp4_image6.jpg\n",
      "19                        27__kitchen_still.mp4_image7.jpg\n",
      "20                        27__kitchen_still.mp4_image8.jpg\n",
      "21                        27__kitchen_still.mp4_image9.jpg\n",
      "22                       27__kitchen_still.mp4_image10.jpg\n",
      "23                       27__kitchen_still.mp4_image11.jpg\n",
      "24                       27__kitchen_still.mp4_image12.jpg\n",
      "25                       27__kitchen_still.mp4_image13.jpg\n",
      "26                       27__kitchen_still.mp4_image14.jpg\n",
      "27                       27__kitchen_still.mp4_image15.jpg\n",
      "28                       27__kitchen_still.mp4_image16.jpg\n",
      "29                       27__kitchen_still.mp4_image17.jpg\n",
      "                               ...                        \n",
      "12702                                  321.mp4_image12.jpg\n",
      "12703                                   206.mp4_image1.jpg\n",
      "12704                                   206.mp4_image2.jpg\n",
      "12705                                   206.mp4_image3.jpg\n",
      "12706                                   206.mp4_image4.jpg\n",
      "12707                                   206.mp4_image5.jpg\n",
      "12708                                   206.mp4_image6.jpg\n",
      "12709                                   206.mp4_image7.jpg\n",
      "12710                                   206.mp4_image8.jpg\n",
      "12711                                   206.mp4_image9.jpg\n",
      "12712                                  206.mp4_image10.jpg\n",
      "12713                                  206.mp4_image11.jpg\n",
      "12714                                  206.mp4_image12.jpg\n",
      "12715                                  206.mp4_image13.jpg\n",
      "12716                                  206.mp4_image14.jpg\n",
      "12717                                  206.mp4_image15.jpg\n",
      "12718                                   221.mp4_image1.jpg\n",
      "12719                                   221.mp4_image2.jpg\n",
      "12720                                   221.mp4_image3.jpg\n",
      "12721                                   221.mp4_image4.jpg\n",
      "12722                                   221.mp4_image5.jpg\n",
      "12723                                   221.mp4_image6.jpg\n",
      "12724                                   221.mp4_image7.jpg\n",
      "12725                                   221.mp4_image8.jpg\n",
      "12726                                   221.mp4_image9.jpg\n",
      "12727                                  221.mp4_image10.jpg\n",
      "12728                                  221.mp4_image11.jpg\n",
      "12729                                  221.mp4_image12.jpg\n",
      "12730                                  221.mp4_image13.jpg\n",
      "12731                                  221.mp4_image14.jpg\n",
      "Name: imgname, Length: 12732, dtype: object\n"
     ]
    },
    {
     "name": "stderr",
     "output_type": "stream",
     "text": [
      "/Users/ruska/anaconda/lib/python3.6/site-packages/ipykernel/__main__.py:1: SettingWithCopyWarning: \n",
      "A value is trying to be set on a copy of a slice from a DataFrame.\n",
      "Try using .loc[row_indexer,col_indexer] = value instead\n",
      "\n",
      "See the caveats in the documentation: http://pandas.pydata.org/pandas-docs/stable/indexing.html#indexing-view-versus-copy\n",
      "  if __name__ == '__main__':\n"
     ]
    }
   ],
   "source": [
    "data_real['imgname'] = data_real['filename'].apply(lambda x: x.split('/')[-1])\n",
    "print(data_real['imgname'])"
   ]
  },
  {
   "cell_type": "code",
   "execution_count": 320,
   "metadata": {},
   "outputs": [
    {
     "name": "stdout",
     "output_type": "stream",
     "text": [
      "index\n",
      "0       real_images\n",
      "1       real_images\n",
      "2       real_images\n",
      "3       real_images\n",
      "4       real_images\n",
      "5       real_images\n",
      "6       real_images\n",
      "7       real_images\n",
      "8       real_images\n",
      "9       real_images\n",
      "10      real_images\n",
      "11      real_images\n",
      "12      real_images\n",
      "13      real_images\n",
      "14      real_images\n",
      "15      real_images\n",
      "16      real_images\n",
      "17      real_images\n",
      "18      real_images\n",
      "19      real_images\n",
      "20      real_images\n",
      "21      real_images\n",
      "22      real_images\n",
      "23      real_images\n",
      "24      real_images\n",
      "25      real_images\n",
      "26      real_images\n",
      "27      real_images\n",
      "28      real_images\n",
      "29      real_images\n",
      "           ...     \n",
      "5371      Deepfakes\n",
      "5372      Deepfakes\n",
      "5373      Deepfakes\n",
      "5374      Deepfakes\n",
      "5375      Deepfakes\n",
      "5376      Deepfakes\n",
      "5377      Deepfakes\n",
      "5378      Deepfakes\n",
      "5379      Deepfakes\n",
      "5380      Deepfakes\n",
      "5381      Deepfakes\n",
      "5382      Deepfakes\n",
      "5383      Deepfakes\n",
      "5384      Deepfakes\n",
      "5385      Deepfakes\n",
      "5386      Deepfakes\n",
      "5387      Deepfakes\n",
      "5388      Deepfakes\n",
      "5389      Deepfakes\n",
      "5390      Deepfakes\n",
      "5391      Deepfakes\n",
      "5392      Deepfakes\n",
      "5393      Deepfakes\n",
      "5394      Deepfakes\n",
      "5395      Deepfakes\n",
      "5396      Deepfakes\n",
      "5397      Deepfakes\n",
      "5398      Deepfakes\n",
      "5399      Deepfakes\n",
      "5400      Deepfakes\n",
      "Name: fake_real_name, Length: 52962, dtype: object\n"
     ]
    }
   ],
   "source": [
    "data_all['fake_real_name'] = data_all['filename'].apply(lambda x: x.split('/'))\n",
    "data_all['fake_real_name'] = data_all['fake_real_name'].apply(lambda x: x[-4])\n",
    "data_all['fake_real_name'] = data_all['fake_real_name'].apply(lambda x: x if x != \"My Drive\" else \"real_images\")\n",
    "print(data_all['fake_real_name'])"
   ]
  },
  {
   "cell_type": "code",
   "execution_count": 321,
   "metadata": {},
   "outputs": [],
   "source": [
    "data_all['age_cat'] = pd.cut(data_all['age'], bins = [0., 20., 30., 40., 50., np.inf], labels = \n",
    "                                ['age_less_20', 'age_20_30', 'age_30_40', 'age_40_50', 'age_above_50'])"
   ]
  },
  {
   "cell_type": "code",
   "execution_count": 322,
   "metadata": {},
   "outputs": [],
   "source": [
    "data_all['gender10'] = data_all['gender'].apply(lambda x: 1 if x > 0.5 else 0)"
   ]
  },
  {
   "cell_type": "code",
   "execution_count": 324,
   "metadata": {},
   "outputs": [],
   "source": [
    "data_all['gender_age_cat'] = data_all['gender10'].astype(str) + \"_\" + data_all['age_cat'].astype(str)"
   ]
  },
  {
   "cell_type": "code",
   "execution_count": 325,
   "metadata": {},
   "outputs": [],
   "source": [
    "data_all['imgname'] = data_all['filename'].apply(lambda x: x.split('/')[-1])"
   ]
  },
  {
   "cell_type": "code",
   "execution_count": 333,
   "metadata": {},
   "outputs": [
    {
     "name": "stdout",
     "output_type": "stream",
     "text": [
      "21\n",
      "_\n",
      "o\n"
     ]
    }
   ],
   "source": [
    "t = \"21__outside_talking_still_laughing.mp4_image6.jpg\"\n",
    "print(t[:2])\n",
    "print(t[3])\n",
    "print(t[4])"
   ]
  },
  {
   "cell_type": "code",
   "execution_count": 330,
   "metadata": {},
   "outputs": [
    {
     "name": "stdout",
     "output_type": "stream",
     "text": [
      "index\n",
      "0    21__outside_talking_still_laughing.mp4_image6.jpg\n",
      "0                                    864_839.mp4_7.jpg\n",
      "0                                    053_095.mp4_7.jpg\n",
      "0          14_03__talking_angry_couch__L0GHYIFS_36.bmp\n",
      "0                                    440_364.mp4_2.jpg\n",
      "0                                        215_208_2.bmp\n",
      "Name: imgname, dtype: object\n"
     ]
    }
   ],
   "source": [
    "print(data_all['imgname'].loc[0])"
   ]
  },
  {
   "cell_type": "code",
   "execution_count": 334,
   "metadata": {},
   "outputs": [],
   "source": [
    "def get_target_source(img):\n",
    "    if (img[2] == \"_\") and (img[3] == \"_\"):\n",
    "        return img[:2]\n",
    "    if (img[2] != \"_\") and (img[3] == \"_\"):\n",
    "        return img[:7]\n",
    "    if (img[2] == \"_\") and (img[3] != \"_\"):\n",
    "        return img[:5]\n",
    "    if (img[4:7] =='mp4'):\n",
    "        return img[:3]"
   ]
  },
  {
   "cell_type": "code",
   "execution_count": 335,
   "metadata": {},
   "outputs": [],
   "source": [
    "data_all['target_source'] = data_all['imgname'].apply(lambda x: get_target_source(x))"
   ]
  },
  {
   "cell_type": "code",
   "execution_count": 336,
   "metadata": {},
   "outputs": [
    {
     "name": "stdout",
     "output_type": "stream",
     "text": [
      "index\n",
      "0            21\n",
      "1            21\n",
      "2            21\n",
      "3            21\n",
      "4            21\n",
      "5            21\n",
      "6            21\n",
      "7            21\n",
      "8            21\n",
      "9            21\n",
      "10           21\n",
      "11           21\n",
      "12           21\n",
      "13           27\n",
      "14           27\n",
      "15           27\n",
      "16           27\n",
      "17           27\n",
      "18           27\n",
      "19           27\n",
      "20           27\n",
      "21           27\n",
      "22           27\n",
      "23           27\n",
      "24           27\n",
      "25           27\n",
      "26           27\n",
      "27           27\n",
      "28           27\n",
      "29           27\n",
      "         ...   \n",
      "5371    554_572\n",
      "5372    554_572\n",
      "5373    554_572\n",
      "5374    572_554\n",
      "5375    572_554\n",
      "5376    572_554\n",
      "5377    572_554\n",
      "5378    572_554\n",
      "5379    896_128\n",
      "5380    896_128\n",
      "5381    896_128\n",
      "5382    896_128\n",
      "5383    896_128\n",
      "5384    896_128\n",
      "5385    128_896\n",
      "5386    128_896\n",
      "5387    128_896\n",
      "5388    128_896\n",
      "5389    128_896\n",
      "5390    128_896\n",
      "5391    337_522\n",
      "5392    337_522\n",
      "5393    337_522\n",
      "5394    337_522\n",
      "5395    337_522\n",
      "5396    337_522\n",
      "5397    522_337\n",
      "5398    522_337\n",
      "5399    522_337\n",
      "5400    522_337\n",
      "Name: target_source, Length: 52962, dtype: object\n"
     ]
    }
   ],
   "source": [
    "print(data_all['target_source'])"
   ]
  },
  {
   "cell_type": "code",
   "execution_count": 339,
   "metadata": {},
   "outputs": [
    {
     "name": "stdout",
     "output_type": "stream",
     "text": [
      "                                                filename    gender        age  \\\n",
      "index                                                                           \n",
      "0      /content/drive/My Drive/FakeImageDetector/real...  0.061687  32.637210   \n",
      "1      /content/drive/My Drive/FakeImageDetector/real...  0.063749  31.867521   \n",
      "2      /content/drive/My Drive/FakeImageDetector/real...  0.032942  34.179979   \n",
      "3      /content/drive/My Drive/FakeImageDetector/real...  0.026315  33.717182   \n",
      "4      /content/drive/My Drive/FakeImageDetector/real...  0.055017  37.760803   \n",
      "\n",
      "      method  label fake_real_name    age_cat  gender10 gender_age_cat  \\\n",
      "index                                                                    \n",
      "0       Real      1    real_images  age_30_40         0    0_age_30_40   \n",
      "1       Real      1    real_images  age_30_40         0    0_age_30_40   \n",
      "2       Real      1    real_images  age_30_40         0    0_age_30_40   \n",
      "3       Real      1    real_images  age_30_40         0    0_age_30_40   \n",
      "4       Real      1    real_images  age_30_40         0    0_age_30_40   \n",
      "\n",
      "                                                 imgname target_source  \n",
      "index                                                                   \n",
      "0      21__outside_talking_still_laughing.mp4_image6.jpg            21  \n",
      "1      21__outside_talking_still_laughing.mp4_image7.jpg            21  \n",
      "2      21__outside_talking_still_laughing.mp4_image8.jpg            21  \n",
      "3      21__outside_talking_still_laughing.mp4_image9.jpg            21  \n",
      "4      21__outside_talking_still_laughing.mp4_image10...            21  \n"
     ]
    }
   ],
   "source": [
    "\n",
    "cols = ['filename', 'gender', 'age', 'method', 'label', 'fake_real_name', 'age_cat', 'gender10', 'gender_age_cat', \n",
    "       'imgname', 'target_source']\n",
    "data_all = data_all.loc[:, cols]\n",
    "print(data_all.head())"
   ]
  },
  {
   "cell_type": "code",
   "execution_count": 340,
   "metadata": {},
   "outputs": [],
   "source": [
    "data_dfd = data_all[data_all['fake_real_name'] == 'DeepFakeDetection']"
   ]
  },
  {
   "cell_type": "code",
   "execution_count": 346,
   "metadata": {},
   "outputs": [
    {
     "name": "stdout",
     "output_type": "stream",
     "text": [
      "                                                filename    gender        age  \\\n",
      "index                                                                           \n",
      "0      /content/drive/My Drive/FakeImageDetector/data...  0.720798  32.394219   \n",
      "1      /content/drive/My Drive/FakeImageDetector/data...  0.477959  31.788816   \n",
      "2      /content/drive/My Drive/FakeImageDetector/data...  0.404159  29.169129   \n",
      "3      /content/drive/My Drive/FakeImageDetector/data...  0.174277  31.118909   \n",
      "4      /content/drive/My Drive/FakeImageDetector/data...  0.453684  27.199726   \n",
      "\n",
      "                  method  label     fake_real_name    age_cat  gender10  \\\n",
      "index                                                                     \n",
      "0      DeepFakeDetection      0  DeepFakeDetection  age_30_40         1   \n",
      "1      DeepFakeDetection      0  DeepFakeDetection  age_30_40         0   \n",
      "2      DeepFakeDetection      0  DeepFakeDetection  age_20_30         0   \n",
      "3      DeepFakeDetection      0  DeepFakeDetection  age_30_40         0   \n",
      "4      DeepFakeDetection      0  DeepFakeDetection  age_20_30         0   \n",
      "\n",
      "      gender_age_cat                                      imgname  \\\n",
      "index                                                               \n",
      "0        1_age_30_40  14_03__talking_angry_couch__L0GHYIFS_36.bmp   \n",
      "1        0_age_30_40  14_03__talking_angry_couch__L0GHYIFS_38.bmp   \n",
      "2        0_age_20_30  14_03__talking_angry_couch__L0GHYIFS_40.bmp   \n",
      "3        0_age_30_40  14_03__talking_angry_couch__L0GHYIFS_42.bmp   \n",
      "4        0_age_20_30  14_03__talking_angry_couch__L0GHYIFS_44.bmp   \n",
      "\n",
      "      target_source  \n",
      "index                \n",
      "0             14_03  \n",
      "1             14_03  \n",
      "2             14_03  \n",
      "3             14_03  \n",
      "4             14_03  \n"
     ]
    }
   ],
   "source": [
    "print(data_dfd.head())"
   ]
  },
  {
   "cell_type": "code",
   "execution_count": 341,
   "metadata": {},
   "outputs": [
    {
     "name": "stdout",
     "output_type": "stream",
     "text": [
      "(11180, 11)\n"
     ]
    }
   ],
   "source": [
    "print(data_dfd.shape)"
   ]
  },
  {
   "cell_type": "code",
   "execution_count": 345,
   "metadata": {},
   "outputs": [
    {
     "name": "stdout",
     "output_type": "stream",
     "text": [
      "(253, 11)\n"
     ]
    }
   ],
   "source": [
    "data_dfd_unq = data_dfd.drop_duplicates(subset =['target_source'], keep='first') \n",
    "print(data_dfd_unq.shape)"
   ]
  },
  {
   "cell_type": "code",
   "execution_count": 348,
   "metadata": {},
   "outputs": [],
   "source": [
    "data_actor_real = data_all[data_all['method'] == 'Real']\n",
    "data_actor_real = data_actor_real[data_actor_real['target_source'].apply(lambda x: True if len(x) == 2 else False)]"
   ]
  },
  {
   "cell_type": "code",
   "execution_count": 350,
   "metadata": {},
   "outputs": [
    {
     "name": "stdout",
     "output_type": "stream",
     "text": [
      "(28, 11)\n"
     ]
    }
   ],
   "source": [
    "data_actor_real_unq = data_actor_real.drop_duplicates(subset =['target_source'], keep='first')\n",
    "print(data_actor_real_unq.shape)"
   ]
  },
  {
   "cell_type": "code",
   "execution_count": 351,
   "metadata": {},
   "outputs": [
    {
     "name": "stdout",
     "output_type": "stream",
     "text": [
      "0_age_30_40      0.399209\n",
      "1_age_20_30      0.205534\n",
      "0_age_20_30      0.201581\n",
      "1_age_30_40      0.162055\n",
      "0_age_40_50      0.015810\n",
      "1_age_40_50      0.011858\n",
      "1_age_less_20    0.003953\n",
      "Name: gender_age_cat, dtype: float64\n"
     ]
    }
   ],
   "source": [
    "print(data_dfd_unq['gender_age_cat'].value_counts()/data_dfd_unq.shape[0])"
   ]
  },
  {
   "cell_type": "code",
   "execution_count": 352,
   "metadata": {},
   "outputs": [
    {
     "name": "stdout",
     "output_type": "stream",
     "text": [
      "0_age_30_40      0.428571\n",
      "1_age_20_30      0.214286\n",
      "0_age_20_30      0.178571\n",
      "1_age_30_40      0.071429\n",
      "0_age_40_50      0.035714\n",
      "1_age_40_50      0.035714\n",
      "1_age_less_20    0.035714\n",
      "Name: gender_age_cat, dtype: float64\n"
     ]
    }
   ],
   "source": [
    "print(data_actor_real_unq['gender_age_cat'].value_counts()/data_actor_real_unq.shape[0])"
   ]
  },
  {
   "cell_type": "code",
   "execution_count": 363,
   "metadata": {},
   "outputs": [],
   "source": [
    "target_source_dfd = data_dfd_unq['target_source'].tolist()"
   ]
  },
  {
   "cell_type": "code",
   "execution_count": 367,
   "metadata": {},
   "outputs": [
    {
     "name": "stdout",
     "output_type": "stream",
     "text": [
      "['14_03', '20_13', '27_25', '03_07', '18_06', '12_06', '21_15', '10_22', '26_03', '02_09', '07_02', '07_21', '02_15', '28_16', '12_13', '04_07', '03_15', '20_09', '12_15', '01_03', '24_19', '02_06', '17_08', '18_15', '18_09', '13_02', '25_06', '10_23', '02_13', '25_20', '09_26', '23_24', '23_19', '01_02', '23_22', '21_09', '03_13', '27_01', '17_16', '11_01', '28_05', '09_03', '14_13', '13_12', '20_12', '07_14', '26_04', '12_02', '07_15', '14_06', '26_25', '14_02', '12_25', '20_15', '18_14', '11_13', '21_03', '13_03', '15_03', '19_24', '02_11', '14_26', '03_01', '22_23', '21_01', '11_07', '02_01', '09_25', '13_26', '25_15', '27_18', '24_23', '19_23', '27_26', '15_02', '01_11', '16_05', '06_27', '21_11', '07_25', '20_25', '09_13', '25_27', '12_21', '20_26', '15_06', '01_26', '27_13', '26_15', '03_14', '07_04', '20_21', '24_22', '28_08', '18_11', '14_18', '08_28', '12_07', '15_12', '08_05', '22_24', '03_06', '07_03', '06_15', '18_26', '08_17', '03_02', '08_16', '09_20', '13_20', '01_04', '21_06', '20_03', '07_12', '06_26', '06_18', '13_14', '01_20', '03_11', '13_25', '10_19', '12_26', '03_18', '06_11', '04_01', '21_14', '14_21', '05_16', '21_25', '25_26', '26_27', '05_17', '25_18', '02_18', '22_10', '09_11', '19_10', '01_15', '01_27', '20_14', '14_01', '02_04', '05_28', '21_07', '02_07', '03_20', '03_09', '25_02', '12_18', '11_06', '26_13', '07_09', '18_03', '14_20', '25_21', '15_01', '26_18', '15_20', '18_27', '03_26', '06_02', '15_18', '03_27', '25_09', '11_26', '04_21', '21_18', '26_20', '02_12', '11_21', '14_07', '15_07', '27_03', '15_04', '09_02', '13_07', '15_13', '06_07', '16_17', '04_26', '01_12', '04_27', '18_25', '02_27', '11_03', '26_06', '05_08', '20_01', '12_20', '23_10', '06_12', '15_25', '22_19', '15_21', '26_12', '14_15', '27_02', '25_12', '01_09', '11_18', '18_02', '20_18', '16_28', '13_04', '13_09', '01_21', '13_27', '06_03', '09_14', '03_21', '15_27', '15_14', '07_06', '06_14', '02_03', '14_09', '26_09', '21_02', '03_04', '13_11', '04_13', '26_14', '26_07', '12_14', '14_12', '16_08', '20_06', '06_25', '18_04', '07_26', '09_01', '11_04', '17_05', '02_21', '19_22', '21_04', '09_18', '02_25', '27_14', '26_11', '10_24', '06_20', '02_14', '04_18', '07_20', '09_07', '20_07', '07_13', '18_12', '06_04', '04_06', '20_27', '26_01']\n"
     ]
    }
   ],
   "source": [
    "print(target_source_dfd)"
   ]
  },
  {
   "cell_type": "code",
   "execution_count": 368,
   "metadata": {},
   "outputs": [
    {
     "name": "stdout",
     "output_type": "stream",
     "text": [
      "14_03\n",
      "03_14\n",
      "20_13\n",
      "13_20\n",
      "27_25\n",
      "25_27\n",
      "03_07\n",
      "07_03\n",
      "18_06\n",
      "06_18\n",
      "12_06\n",
      "06_12\n",
      "21_15\n",
      "15_21\n",
      "10_22\n",
      "22_10\n",
      "26_03\n",
      "03_26\n",
      "02_09\n",
      "09_02\n",
      "07_02\n",
      "02_07\n",
      "07_21\n",
      "21_07\n",
      "02_15\n",
      "15_02\n",
      "28_16\n",
      "16_28\n",
      "12_13\n",
      "13_12\n",
      "04_07\n",
      "07_04\n",
      "03_15\n",
      "15_03\n",
      "20_09\n",
      "09_20\n",
      "12_15\n",
      "15_12\n",
      "01_03\n",
      "03_01\n",
      "24_19\n",
      "19_24\n",
      "02_06\n",
      "06_02\n",
      "17_08\n",
      "08_17\n",
      "18_15\n",
      "15_18\n",
      "18_09\n",
      "09_18\n",
      "13_02\n",
      "02_13\n",
      "25_06\n",
      "06_25\n",
      "10_23\n",
      "23_10\n",
      "02_13\n",
      "13_02\n",
      "25_20\n",
      "20_25\n",
      "09_26\n",
      "26_09\n",
      "23_24\n",
      "24_23\n",
      "23_19\n",
      "19_23\n",
      "01_02\n",
      "02_01\n",
      "23_22\n",
      "22_23\n",
      "21_09\n",
      "09_21\n",
      "03_13\n",
      "13_03\n",
      "27_01\n",
      "01_27\n",
      "17_16\n",
      "16_17\n",
      "11_01\n",
      "01_11\n",
      "28_05\n",
      "05_28\n",
      "09_03\n",
      "03_09\n",
      "14_13\n",
      "13_14\n",
      "13_12\n",
      "12_13\n",
      "20_12\n",
      "12_20\n",
      "07_14\n",
      "14_07\n",
      "26_04\n",
      "04_26\n",
      "12_02\n",
      "02_12\n",
      "07_15\n",
      "15_07\n",
      "14_06\n",
      "06_14\n",
      "26_25\n",
      "25_26\n",
      "14_02\n",
      "02_14\n",
      "12_25\n",
      "25_12\n",
      "20_15\n",
      "15_20\n",
      "18_14\n",
      "14_18\n",
      "11_13\n",
      "13_11\n",
      "21_03\n",
      "03_21\n",
      "13_03\n",
      "03_13\n",
      "15_03\n",
      "03_15\n",
      "19_24\n",
      "24_19\n",
      "02_11\n",
      "11_02\n",
      "14_26\n",
      "26_14\n",
      "03_01\n",
      "01_03\n",
      "22_23\n",
      "23_22\n",
      "21_01\n",
      "01_21\n",
      "11_07\n",
      "07_11\n",
      "02_01\n",
      "01_02\n",
      "09_25\n",
      "25_09\n",
      "13_26\n",
      "26_13\n",
      "25_15\n",
      "15_25\n",
      "27_18\n",
      "18_27\n",
      "24_23\n",
      "23_24\n",
      "19_23\n",
      "23_19\n",
      "27_26\n",
      "26_27\n",
      "15_02\n",
      "02_15\n",
      "01_11\n",
      "11_01\n",
      "16_05\n",
      "05_16\n",
      "06_27\n",
      "27_06\n",
      "21_11\n",
      "11_21\n",
      "07_25\n",
      "25_07\n",
      "20_25\n",
      "25_20\n",
      "09_13\n",
      "13_09\n",
      "25_27\n",
      "27_25\n",
      "12_21\n",
      "21_12\n",
      "20_26\n",
      "26_20\n",
      "15_06\n",
      "06_15\n",
      "01_26\n",
      "26_01\n",
      "27_13\n",
      "13_27\n",
      "26_15\n",
      "15_26\n",
      "03_14\n",
      "14_03\n",
      "07_04\n",
      "04_07\n",
      "20_21\n",
      "21_20\n",
      "24_22\n",
      "22_24\n",
      "28_08\n",
      "08_28\n",
      "18_11\n",
      "11_18\n",
      "14_18\n",
      "18_14\n",
      "08_28\n",
      "28_08\n",
      "12_07\n",
      "07_12\n",
      "15_12\n",
      "12_15\n",
      "08_05\n",
      "05_08\n",
      "22_24\n",
      "24_22\n",
      "03_06\n",
      "06_03\n",
      "07_03\n",
      "03_07\n",
      "06_15\n",
      "15_06\n",
      "18_26\n",
      "26_18\n",
      "08_17\n",
      "17_08\n",
      "03_02\n",
      "02_03\n",
      "08_16\n",
      "16_08\n",
      "09_20\n",
      "20_09\n",
      "13_20\n",
      "20_13\n",
      "01_04\n",
      "04_01\n",
      "21_06\n",
      "06_21\n",
      "20_03\n",
      "03_20\n",
      "07_12\n",
      "12_07\n",
      "06_26\n",
      "26_06\n",
      "06_18\n",
      "18_06\n",
      "13_14\n",
      "14_13\n",
      "01_20\n",
      "20_01\n",
      "03_11\n",
      "11_03\n",
      "13_25\n",
      "25_13\n",
      "10_19\n",
      "19_10\n",
      "12_26\n",
      "26_12\n",
      "03_18\n",
      "18_03\n",
      "06_11\n",
      "11_06\n",
      "04_01\n",
      "01_04\n",
      "21_14\n",
      "14_21\n",
      "14_21\n",
      "21_14\n",
      "05_16\n",
      "16_05\n",
      "21_25\n",
      "25_21\n",
      "25_26\n",
      "26_25\n",
      "26_27\n",
      "27_26\n",
      "05_17\n",
      "17_05\n",
      "25_18\n",
      "18_25\n",
      "02_18\n",
      "18_02\n",
      "22_10\n",
      "10_22\n",
      "09_11\n",
      "11_09\n",
      "19_10\n",
      "10_19\n",
      "01_15\n",
      "15_01\n",
      "01_27\n",
      "27_01\n",
      "20_14\n",
      "14_20\n",
      "14_01\n",
      "01_14\n",
      "02_04\n",
      "04_02\n",
      "05_28\n",
      "28_05\n",
      "21_07\n",
      "07_21\n",
      "02_07\n",
      "07_02\n",
      "03_20\n",
      "20_03\n",
      "03_09\n",
      "09_03\n",
      "25_02\n",
      "02_25\n",
      "12_18\n",
      "18_12\n",
      "11_06\n",
      "06_11\n",
      "26_13\n",
      "13_26\n",
      "07_09\n",
      "09_07\n",
      "18_03\n",
      "03_18\n",
      "14_20\n",
      "20_14\n",
      "25_21\n",
      "21_25\n",
      "15_01\n",
      "01_15\n",
      "26_18\n",
      "18_26\n",
      "15_20\n",
      "20_15\n",
      "18_27\n",
      "27_18\n",
      "03_26\n",
      "26_03\n",
      "06_02\n",
      "02_06\n",
      "15_18\n",
      "18_15\n",
      "03_27\n",
      "27_03\n",
      "25_09\n",
      "09_25\n",
      "11_26\n",
      "26_11\n",
      "04_21\n",
      "21_04\n",
      "21_18\n",
      "18_21\n",
      "26_20\n",
      "20_26\n",
      "02_12\n",
      "12_02\n",
      "11_21\n",
      "21_11\n",
      "14_07\n",
      "07_14\n",
      "15_07\n",
      "07_15\n",
      "27_03\n",
      "03_27\n",
      "15_04\n",
      "04_15\n",
      "09_02\n",
      "02_09\n",
      "13_07\n",
      "07_13\n",
      "15_13\n",
      "13_15\n",
      "06_07\n",
      "07_06\n",
      "16_17\n",
      "17_16\n",
      "04_26\n",
      "26_04\n",
      "01_12\n",
      "12_01\n",
      "04_27\n",
      "27_04\n",
      "18_25\n",
      "25_18\n",
      "02_27\n",
      "27_02\n",
      "11_03\n",
      "03_11\n",
      "26_06\n",
      "06_26\n",
      "05_08\n",
      "08_05\n",
      "20_01\n",
      "01_20\n",
      "12_20\n",
      "20_12\n",
      "23_10\n",
      "10_23\n",
      "06_12\n",
      "12_06\n",
      "15_25\n",
      "25_15\n",
      "22_19\n",
      "19_22\n",
      "15_21\n",
      "21_15\n",
      "26_12\n",
      "12_26\n",
      "14_15\n",
      "15_14\n",
      "27_02\n",
      "02_27\n",
      "25_12\n",
      "12_25\n",
      "01_09\n",
      "09_01\n",
      "11_18\n",
      "18_11\n",
      "18_02\n",
      "02_18\n",
      "20_18\n",
      "18_20\n",
      "16_28\n",
      "28_16\n",
      "13_04\n",
      "04_13\n",
      "13_09\n",
      "09_13\n",
      "01_21\n",
      "21_01\n",
      "13_27\n",
      "27_13\n",
      "06_03\n",
      "03_06\n",
      "09_14\n",
      "14_09\n",
      "03_21\n",
      "21_03\n",
      "15_27\n",
      "27_15\n",
      "15_14\n",
      "14_15\n",
      "07_06\n",
      "06_07\n",
      "06_14\n",
      "14_06\n",
      "02_03\n",
      "03_02\n",
      "14_09\n",
      "09_14\n",
      "26_09\n",
      "09_26\n",
      "21_02\n",
      "02_21\n",
      "03_04\n",
      "04_03\n",
      "13_11\n",
      "11_13\n",
      "04_13\n",
      "13_04\n",
      "26_14\n",
      "14_26\n",
      "26_07\n",
      "07_26\n",
      "12_14\n",
      "14_12\n",
      "14_12\n",
      "12_14\n",
      "16_08\n",
      "08_16\n",
      "20_06\n",
      "06_20\n",
      "06_25\n",
      "25_06\n",
      "18_04\n",
      "04_18\n",
      "07_26\n",
      "26_07\n",
      "09_01\n",
      "01_09\n",
      "11_04\n",
      "04_11\n",
      "17_05\n",
      "05_17\n",
      "02_21\n",
      "21_02\n",
      "19_22\n",
      "22_19\n",
      "21_04\n",
      "04_21\n",
      "09_18\n",
      "18_09\n",
      "02_25\n",
      "25_02\n",
      "27_14\n",
      "14_27\n",
      "26_11\n",
      "11_26\n",
      "10_24\n",
      "24_10\n",
      "06_20\n",
      "20_06\n",
      "02_14\n",
      "14_02\n",
      "04_18\n",
      "18_04\n",
      "07_20\n",
      "20_07\n",
      "09_07\n",
      "07_09\n",
      "20_07\n",
      "07_20\n",
      "07_13\n",
      "13_07\n",
      "18_12\n",
      "12_18\n",
      "06_04\n",
      "04_06\n",
      "04_06\n",
      "06_04\n",
      "20_27\n",
      "27_20\n",
      "26_01\n",
      "01_26\n"
     ]
    },
    {
     "ename": "TypeError",
     "evalue": "unsupported operand type(s) for +: 'int' and 'str'",
     "output_type": "error",
     "traceback": [
      "\u001b[0;31m---------------------------------------------------------------------------\u001b[0m",
      "\u001b[0;31mTypeError\u001b[0m                                 Traceback (most recent call last)",
      "\u001b[0;32m<ipython-input-368-fbae9668e108>\u001b[0m in \u001b[0;36m<module>\u001b[0;34m()\u001b[0m\n\u001b[1;32m      7\u001b[0m         \u001b[0mrevv\u001b[0m\u001b[0;34m.\u001b[0m\u001b[0mappend\u001b[0m\u001b[0;34m(\u001b[0m\u001b[0mrv\u001b[0m\u001b[0;34m)\u001b[0m\u001b[0;34m\u001b[0m\u001b[0;34m\u001b[0m\u001b[0m\n\u001b[1;32m      8\u001b[0m \u001b[0;34m\u001b[0m\u001b[0m\n\u001b[0;32m----> 9\u001b[0;31m \u001b[0mprint\u001b[0m\u001b[0;34m(\u001b[0m\u001b[0msum\u001b[0m\u001b[0;34m(\u001b[0m\u001b[0mrevv\u001b[0m\u001b[0;34m)\u001b[0m\u001b[0;34m)\u001b[0m\u001b[0;34m\u001b[0m\u001b[0;34m\u001b[0m\u001b[0m\n\u001b[0m",
      "\u001b[0;31mTypeError\u001b[0m: unsupported operand type(s) for +: 'int' and 'str'"
     ]
    }
   ],
   "source": [
    "revv = []\n",
    "for v in target_source_dfd:\n",
    "    print(v)\n",
    "    rv = v[3:5] + \"_\" + v[:2]\n",
    "    print(rv)\n",
    "    if rv in target_source_dfd:\n",
    "        revv.append(rv)\n"
   ]
  },
  {
   "cell_type": "code",
   "execution_count": 371,
   "metadata": {},
   "outputs": [
    {
     "name": "stdout",
     "output_type": "stream",
     "text": [
      "['02_11', '27_14', '09_11', '11_07', '10_24', '20_18', '14_01', '21_09', '15_27', '02_04', '21_18', '12_21', '04_27', '03_04', '15_04', '11_04', '13_25', '15_13', '26_15', '20_21', '07_25', '06_27', '01_12', '20_27', '21_06']\n",
      "25\n"
     ]
    }
   ],
   "source": [
    "def Diff(li1, li2): \n",
    "    return (list(set(li1) - set(li2))) \n",
    "\n",
    "print(Diff(target_source_dfd, revv))\n",
    "print(len(Diff(target_source_dfd, revv)))"
   ]
  },
  {
   "cell_type": "code",
   "execution_count": null,
   "metadata": {},
   "outputs": [],
   "source": []
  },
  {
   "cell_type": "code",
   "execution_count": null,
   "metadata": {},
   "outputs": [],
   "source": [
    "1. get target_source_dfd_rev and set a diff into a separate list\n",
    "2. make target_source_dfd_rev into 2 separate lists\n",
    "3. make splits\n",
    "4. check age and gender distributions"
   ]
  },
  {
   "cell_type": "code",
   "execution_count": 377,
   "metadata": {},
   "outputs": [],
   "source": [
    "diff_target_rev = Diff(target_source_dfd, revv)\n",
    "target_source_dfd_rev = Diff(target_source_dfd, diff_target_rev)"
   ]
  },
  {
   "cell_type": "code",
   "execution_count": 373,
   "metadata": {},
   "outputs": [
    {
     "name": "stdout",
     "output_type": "stream",
     "text": [
      "['14_03', '20_13', '27_25', '03_07', '18_06', '12_06', '21_15', '10_22', '26_03', '02_09', '07_02', '07_21', '02_15', '28_16', '12_13', '04_07', '03_15', '20_09', '12_15', '01_03', '24_19', '02_06', '17_08', '18_15', '18_09', '13_02', '25_06', '10_23', '02_13', '25_20', '09_26', '23_24', '23_19', '01_02', '23_22', '21_09', '03_13', '27_01', '17_16', '11_01', '28_05', '09_03', '14_13', '13_12', '20_12', '07_14', '26_04', '12_02', '07_15', '14_06', '26_25', '14_02', '12_25', '20_15', '18_14', '11_13', '21_03', '13_03', '15_03', '19_24', '02_11', '14_26', '03_01', '22_23', '21_01', '11_07', '02_01', '09_25', '13_26', '25_15', '27_18', '24_23', '19_23', '27_26', '15_02', '01_11', '16_05', '06_27', '21_11', '07_25', '20_25', '09_13', '25_27', '12_21', '20_26', '15_06', '01_26', '27_13', '26_15', '03_14', '07_04', '20_21', '24_22', '28_08', '18_11', '14_18', '08_28', '12_07', '15_12', '08_05', '22_24', '03_06', '07_03', '06_15', '18_26', '08_17', '03_02', '08_16', '09_20', '13_20', '01_04', '21_06', '20_03', '07_12', '06_26', '06_18', '13_14', '01_20', '03_11', '13_25', '10_19', '12_26', '03_18', '06_11', '04_01', '21_14', '14_21', '05_16', '21_25', '25_26', '26_27', '05_17', '25_18', '02_18', '22_10', '09_11', '19_10', '01_15', '01_27', '20_14', '14_01', '02_04', '05_28', '21_07', '02_07', '03_20', '03_09', '25_02', '12_18', '11_06', '26_13', '07_09', '18_03', '14_20', '25_21', '15_01', '26_18', '15_20', '18_27', '03_26', '06_02', '15_18', '03_27', '25_09', '11_26', '04_21', '21_18', '26_20', '02_12', '11_21', '14_07', '15_07', '27_03', '15_04', '09_02', '13_07', '15_13', '06_07', '16_17', '04_26', '01_12', '04_27', '18_25', '02_27', '11_03', '26_06', '05_08', '20_01', '12_20', '23_10', '06_12', '15_25', '22_19', '15_21', '26_12', '14_15', '27_02', '25_12', '01_09', '11_18', '18_02', '20_18', '16_28', '13_04', '13_09', '01_21', '13_27', '06_03', '09_14', '03_21', '15_27', '15_14', '07_06', '06_14', '02_03', '14_09', '26_09', '21_02', '03_04', '13_11', '04_13', '26_14', '26_07', '12_14', '14_12', '16_08', '20_06', '06_25', '18_04', '07_26', '09_01', '11_04', '17_05', '02_21', '19_22', '21_04', '09_18', '02_25', '27_14', '26_11', '10_24', '06_20', '02_14', '04_18', '07_20', '09_07', '20_07', '07_13', '18_12', '06_04', '04_06', '20_27', '26_01']\n"
     ]
    }
   ],
   "source": [
    "print(target_source_dfd)"
   ]
  },
  {
   "cell_type": "code",
   "execution_count": 465,
   "metadata": {},
   "outputs": [
    {
     "name": "stdout",
     "output_type": "stream",
     "text": [
      "['02_11', '27_14', '09_11', '11_07', '10_24', '20_18', '14_01', '21_09', '15_27', '02_04', '21_18', '12_21', '04_27', '03_04', '15_04', '11_04', '13_25', '15_13', '26_15', '20_21', '07_25', '06_27', '01_12', '20_27', '21_06']\n",
      "no\n"
     ]
    }
   ],
   "source": [
    "print(diff_target_rev)\n",
    "if '14_03' in diff_target_rev:\n",
    "    print('year')\n",
    "else:\n",
    "    print('no')"
   ]
  },
  {
   "cell_type": "code",
   "execution_count": 467,
   "metadata": {},
   "outputs": [
    {
     "name": "stdout",
     "output_type": "stream",
     "text": [
      "['20_13', '24_22', '08_17', '07_02', '06_14', '01_03', '26_11', '27_02', '14_15', '13_02', '06_11', '21_14', '07_09', '04_21', '19_22', '02_14', '27_13', '09_26', '25_18', '27_03', '26_06', '14_06', '12_14', '14_09', '01_11', '25_20', '19_24', '02_21', '03_13', '10_19', '21_01', '15_14', '02_27', '12_15', '18_06', '25_26', '01_26', '25_09', '07_15', '13_26', '03_27', '06_15', '02_09', '14_03', '18_14', '14_07', '18_27', '06_20', '18_26', '04_01', '14_26', '26_14', '06_07', '01_04', '09_07', '14_13', '05_16', '03_26', '11_03', '08_28', '01_02', '18_25', '10_22', '08_16', '21_25', '22_19', '21_11', '24_23', '06_04', '11_13', '23_19', '15_03', '09_02', '20_14', '04_18', '13_12', '21_07', '12_25', '03_21', '11_26', '26_07', '17_16', '18_12', '18_09', '05_28', '13_14', '09_01', '21_03', '27_01', '26_20', '07_04', '25_15', '24_19', '21_04', '11_06', '20_06', '14_21', '25_12', '07_20', '20_25', '19_10', '28_08', '28_05', '03_01', '12_07', '02_03', '11_18', '12_18', '23_10', '06_03', '15_12', '14_02', '26_27', '03_09', '17_08', '01_20', '17_05', '15_20', '14_12', '06_25', '06_02', '26_12', '01_15', '21_15', '07_26', '13_20', '07_06', '15_25', '26_03', '04_26', '12_02', '11_21', '26_04', '19_23', '15_02', '02_18', '13_04', '21_02', '18_04', '02_01', '18_15', '23_22', '12_20', '26_13', '22_10', '03_11', '16_17', '15_01', '01_09', '02_25', '04_06', '04_07', '06_26', '18_02', '27_26', '03_14', '03_20', '20_07', '25_06', '03_02', '13_11', '01_21', '06_18', '25_02', '03_07', '16_28', '09_20', '13_27', '09_14', '07_14', '26_01', '09_13', '11_01', '02_13', '16_08', '20_03', '07_12', '20_01', '05_17', '12_26', '28_16', '16_05', '12_06', '18_11', '25_21', '09_03', '20_09', '02_12', '03_15', '03_06', '05_08', '15_21', '04_13', '20_15', '22_23', '07_03', '26_25', '15_07', '09_25', '20_12', '26_18', '23_24', '20_26', '25_27', '08_05', '27_18', '15_18', '07_13', '02_15', '15_06', '14_18', '02_06', '02_07', '12_13', '10_23', '07_21', '13_07', '06_12', '27_25', '03_18', '26_09', '09_18', '14_20', '22_24', '18_03', '13_09', '01_27', '13_03']\n",
      "yes\n"
     ]
    }
   ],
   "source": [
    "print(target_source_dfd_rev)\n",
    "if '14_03' in target_source_dfd_rev:\n",
    "    print('yes')\n",
    "else:\n",
    "    print('no')"
   ]
  },
  {
   "cell_type": "code",
   "execution_count": 378,
   "metadata": {},
   "outputs": [
    {
     "name": "stdout",
     "output_type": "stream",
     "text": [
      "120\n",
      "20\n",
      "108\n",
      "13\n"
     ]
    }
   ],
   "source": [
    "target_half = []\n",
    "source_half = []\n",
    "for ts in target_source_dfd_rev:\n",
    "    if ts[:2] not in source_half:\n",
    "        target_half.append(ts[:2])\n",
    "    if ts[3:5] not in target_half:\n",
    "        source_half.append(ts[3:5])\n",
    "print(len(target_half))\n",
    "print(target_half[0])\n",
    "print(len(source_half))\n",
    "print(source_half[0])"
   ]
  },
  {
   "cell_type": "code",
   "execution_count": 382,
   "metadata": {},
   "outputs": [
    {
     "name": "stdout",
     "output_type": "stream",
     "text": [
      "{'04', '19', '26', '06', '12', '24', '21', '25', '27', '20', '10', '01', '05', '07', '08'}\n",
      "{'14', '28', '16', '09', '23', '22', '02', '18', '11', '15', '03', '13', '17'}\n"
     ]
    }
   ],
   "source": [
    "print(set(target_half))\n",
    "print(set(source_half))"
   ]
  },
  {
   "cell_type": "code",
   "execution_count": 390,
   "metadata": {},
   "outputs": [
    {
     "name": "stdout",
     "output_type": "stream",
     "text": [
      "120\n"
     ]
    }
   ],
   "source": [
    "targets_unique = []\n",
    "for trev in target_source_dfd_rev:\n",
    "    if trev[:2] in set(target_half):\n",
    "        targets_unique.append(trev)\n",
    "print(len(targets_unique))"
   ]
  },
  {
   "cell_type": "code",
   "execution_count": 471,
   "metadata": {},
   "outputs": [
    {
     "name": "stdout",
     "output_type": "stream",
     "text": [
      "114\n",
      "114\n"
     ]
    }
   ],
   "source": [
    "targets_unique2 =[]\n",
    "source_unique2 =[]\n",
    "for ts in target_source_dfd_rev:\n",
    "    if ts not in source_unique2:\n",
    "        targets_unique2.append(ts)\n",
    "        rv = ts[3:5] + \"_\" + ts[:2]\n",
    "        source_unique2.append(rv)\n",
    "print(len(targets_unique2))\n",
    "print(len(source_unique2))"
   ]
  },
  {
   "cell_type": "code",
   "execution_count": 470,
   "metadata": {},
   "outputs": [
    {
     "data": {
      "text/plain": [
       "120"
      ]
     },
     "execution_count": 470,
     "metadata": {},
     "output_type": "execute_result"
    }
   ],
   "source": [
    "    len(targets_unique)"
   ]
  },
  {
   "cell_type": "code",
   "execution_count": null,
   "metadata": {},
   "outputs": [],
   "source": [
    "if '14_03' in "
   ]
  },
  {
   "cell_type": "code",
   "execution_count": 391,
   "metadata": {},
   "outputs": [
    {
     "name": "stdout",
     "output_type": "stream",
     "text": [
      "['20_13', '24_22', '08_17', '07_02', '06_14', '01_03', '26_11', '27_02', '06_11', '21_14', '07_09', '04_21', '19_22', '27_13', '25_18', '27_03', '26_06', '12_14', '01_11', '25_20', '19_24', '10_19', '21_01', '12_15', '25_26', '01_26', '25_09', '07_15', '06_15', '06_20', '04_01', '26_14', '06_07', '01_04', '05_16', '08_28', '01_02', '10_22', '08_16', '21_25', '21_11', '24_23', '06_04', '20_14', '04_18', '21_07', '12_25', '26_07', '05_28', '21_03', '27_01', '26_20', '07_04', '25_15', '24_19', '21_04', '20_06', '25_12', '07_20', '20_25', '19_10', '12_07', '12_18', '06_03', '26_27', '01_20', '06_25', '06_02', '26_12', '01_15', '21_15', '07_26', '07_06', '26_03', '04_26', '12_02', '26_04', '19_23', '21_02', '12_20', '26_13', '01_09', '04_06', '04_07', '06_26', '27_26', '20_07', '25_06', '01_21', '06_18', '25_02', '07_14', '26_01', '20_03', '07_12', '20_01', '05_17', '12_26', '12_06', '25_21', '20_09', '05_08', '04_13', '20_15', '07_03', '26_25', '20_12', '26_18', '20_26', '25_27', '08_05', '27_18', '07_13', '12_13', '10_23', '07_21', '06_12', '27_25', '26_09', '01_27']\n"
     ]
    }
   ],
   "source": [
    "print(targets_unique)"
   ]
  },
  {
   "cell_type": "code",
   "execution_count": null,
   "metadata": {},
   "outputs": [],
   "source": []
  },
  {
   "cell_type": "code",
   "execution_count": 392,
   "metadata": {},
   "outputs": [],
   "source": [
    "data_dfd_unq_target = data_dfd_unq[data_dfd_unq['target_source'].isin(targets_unique)]"
   ]
  },
  {
   "cell_type": "code",
   "execution_count": 472,
   "metadata": {},
   "outputs": [],
   "source": [
    "data_dfd_unq_target2 = data_dfd_unq[data_dfd_unq['target_source'].isin(targets_unique2)]"
   ]
  },
  {
   "cell_type": "code",
   "execution_count": 401,
   "metadata": {},
   "outputs": [
    {
     "name": "stdout",
     "output_type": "stream",
     "text": [
      "(120, 11)\n",
      "0_age_30_40      48\n",
      "1_age_20_30      29\n",
      "1_age_30_40      21\n",
      "0_age_20_30      17\n",
      "0_age_40_50       2\n",
      "1_age_40_50       2\n",
      "1_age_less_20     1\n",
      "Name: gender_age_cat, dtype: int64\n"
     ]
    }
   ],
   "source": [
    "print(data_dfd_unq_target.shape)\n",
    "print(data_dfd_unq_target['gender_age_cat'].value_counts())"
   ]
  },
  {
   "cell_type": "code",
   "execution_count": 473,
   "metadata": {},
   "outputs": [
    {
     "name": "stdout",
     "output_type": "stream",
     "text": [
      "(114, 11)\n",
      "0_age_30_40    50\n",
      "0_age_20_30    22\n",
      "1_age_20_30    20\n",
      "1_age_30_40    19\n",
      "1_age_40_50     3\n",
      "Name: gender_age_cat, dtype: int64\n"
     ]
    }
   ],
   "source": [
    "print(data_dfd_unq_target2.shape)\n",
    "print(data_dfd_unq_target2['gender_age_cat'].value_counts())"
   ]
  },
  {
   "cell_type": "code",
   "execution_count": 402,
   "metadata": {},
   "outputs": [],
   "source": [
    "data_dfd_unq_source = data_dfd_unq[~data_dfd_unq['target_source'].isin(targets_unique)]"
   ]
  },
  {
   "cell_type": "code",
   "execution_count": 474,
   "metadata": {},
   "outputs": [],
   "source": [
    "data_dfd_unq_source2 = data_dfd_unq[~data_dfd_unq['target_source'].isin(targets_unique2)]"
   ]
  },
  {
   "cell_type": "code",
   "execution_count": 403,
   "metadata": {},
   "outputs": [
    {
     "name": "stdout",
     "output_type": "stream",
     "text": [
      "(133, 11)\n",
      "0_age_30_40    53\n",
      "0_age_20_30    34\n",
      "1_age_20_30    23\n",
      "1_age_30_40    20\n",
      "0_age_40_50     2\n",
      "1_age_40_50     1\n",
      "Name: gender_age_cat, dtype: int64\n"
     ]
    }
   ],
   "source": [
    "print(data_dfd_unq_source.shape)\n",
    "print(data_dfd_unq_source['gender_age_cat'].value_counts())"
   ]
  },
  {
   "cell_type": "code",
   "execution_count": 475,
   "metadata": {},
   "outputs": [
    {
     "name": "stdout",
     "output_type": "stream",
     "text": [
      "(139, 11)\n",
      "0_age_30_40      51\n",
      "1_age_20_30      32\n",
      "0_age_20_30      29\n",
      "1_age_30_40      22\n",
      "0_age_40_50       4\n",
      "1_age_less_20     1\n",
      "Name: gender_age_cat, dtype: int64\n"
     ]
    }
   ],
   "source": [
    "print(data_dfd_unq_source2.shape)\n",
    "print(data_dfd_unq_source2['gender_age_cat'].value_counts())"
   ]
  },
  {
   "cell_type": "code",
   "execution_count": 404,
   "metadata": {},
   "outputs": [],
   "source": [
    "\n",
    "data_dfd_unq_rev = data_dfd_unq[data_dfd_unq['target_source'].isin(diff_target_rev)]"
   ]
  },
  {
   "cell_type": "code",
   "execution_count": 406,
   "metadata": {},
   "outputs": [
    {
     "name": "stdout",
     "output_type": "stream",
     "text": [
      "(25, 11)\n",
      "0_age_30_40    10\n",
      "1_age_20_30     6\n",
      "0_age_20_30     5\n",
      "1_age_30_40     3\n",
      "0_age_40_50     1\n",
      "Name: gender_age_cat, dtype: int64\n"
     ]
    }
   ],
   "source": [
    "\n",
    "print(data_dfd_unq_rev.shape)\n",
    "print(data_dfd_unq_rev['gender_age_cat'].value_counts())"
   ]
  },
  {
   "cell_type": "code",
   "execution_count": 408,
   "metadata": {},
   "outputs": [
    {
     "name": "stdout",
     "output_type": "stream",
     "text": [
      "                                                filename    gender        age  \\\n",
      "index                                                                           \n",
      "2947   /content/drive/My Drive/FakeImageDetector/data...  0.835261  42.453071   \n",
      "\n",
      "                  method  label     fake_real_name    age_cat  gender10  \\\n",
      "index                                                                     \n",
      "2947   DeepFakeDetection      0  DeepFakeDetection  age_40_50         1   \n",
      "\n",
      "      gender_age_cat                               imgname target_source  \n",
      "index                                                                     \n",
      "2947     1_age_40_50  03_20__kitchen_still__Z6V05FXO_0.bmp         03_20  \n"
     ]
    }
   ],
   "source": [
    "print(data_dfd_unq_source[data_dfd_unq_source['gender_age_cat'] == '1_age_40_50'])"
   ]
  },
  {
   "cell_type": "code",
   "execution_count": 414,
   "metadata": {},
   "outputs": [
    {
     "name": "stdout",
     "output_type": "stream",
     "text": [
      "                                                filename    gender        age  \\\n",
      "index                                                                           \n",
      "1025   /content/drive/My Drive/FakeImageDetector/data...  0.212863  40.634197   \n",
      "7039   /content/drive/My Drive/FakeImageDetector/data...  0.014911  40.071716   \n",
      "\n",
      "                  method  label     fake_real_name    age_cat  gender10  \\\n",
      "index                                                                     \n",
      "1025   DeepFakeDetection      0  DeepFakeDetection  age_40_50         0   \n",
      "7039   DeepFakeDetection      0  DeepFakeDetection  age_40_50         0   \n",
      "\n",
      "      gender_age_cat                                            imgname  \\\n",
      "index                                                                     \n",
      "1025     0_age_40_50             11_07__exit_phone_room__PGC20QSY_0.bmp   \n",
      "7039     0_age_40_50  13_11__outside_talking_still_laughing__61T622E...   \n",
      "\n",
      "      target_source  \n",
      "index                \n",
      "1025          11_07  \n",
      "7039          13_11  \n"
     ]
    }
   ],
   "source": [
    "print(data_dfd_unq_source[data_dfd_unq_source['gender_age_cat'] == '0_age_40_50'])"
   ]
  },
  {
   "cell_type": "code",
   "execution_count": 420,
   "metadata": {},
   "outputs": [
    {
     "name": "stdout",
     "output_type": "stream",
     "text": [
      "                                                filename    gender        age  \\\n",
      "index                                                                           \n",
      "2826   /content/drive/My Drive/FakeImageDetector/data...  0.744470  40.423057   \n",
      "10140  /content/drive/My Drive/FakeImageDetector/data...  0.717255  45.274531   \n",
      "\n",
      "                  method  label     fake_real_name    age_cat  gender10  \\\n",
      "index                                                                     \n",
      "2826   DeepFakeDetection      0  DeepFakeDetection  age_40_50         1   \n",
      "10140  DeepFakeDetection      0  DeepFakeDetection  age_40_50         1   \n",
      "\n",
      "      gender_age_cat                                      imgname  \\\n",
      "index                                                               \n",
      "2826     1_age_40_50         05_28__hugging_happy__VR9127O1_0.bmp   \n",
      "10140    1_age_40_50  07_20__talking_against_wall__KV6Q7D6C_0.bmp   \n",
      "\n",
      "      target_source  \n",
      "index                \n",
      "2826          05_28  \n",
      "10140         07_20  \n"
     ]
    }
   ],
   "source": [
    "print(data_dfd_unq_target[data_dfd_unq_target['gender_age_cat'] == '1_age_40_50'])"
   ]
  },
  {
   "cell_type": "code",
   "execution_count": 421,
   "metadata": {},
   "outputs": [
    {
     "name": "stdout",
     "output_type": "stream",
     "text": [
      "                                                filename    gender        age  \\\n",
      "index                                                                           \n",
      "1307   /content/drive/My Drive/FakeImageDetector/data...  0.026461  40.051508   \n",
      "10919  /content/drive/My Drive/FakeImageDetector/data...  0.356457  40.117221   \n",
      "\n",
      "                  method  label     fake_real_name    age_cat  gender10  \\\n",
      "index                                                                     \n",
      "1307   DeepFakeDetection      0  DeepFakeDetection  age_40_50         0   \n",
      "10919  DeepFakeDetection      0  DeepFakeDetection  age_40_50         0   \n",
      "\n",
      "      gender_age_cat                                     imgname target_source  \n",
      "index                                                                           \n",
      "1307     0_age_40_50      20_25__exit_phone_room__MUS0X71T_0.bmp         20_25  \n",
      "10919    0_age_40_50  26_01__secret_conversation__BTVMWLG6_0.bmp         26_01  \n"
     ]
    }
   ],
   "source": [
    "print(data_dfd_unq_target[data_dfd_unq_target['gender_age_cat'] == '0_age_40_50'])"
   ]
  },
  {
   "cell_type": "code",
   "execution_count": 422,
   "metadata": {},
   "outputs": [
    {
     "name": "stdout",
     "output_type": "stream",
     "text": [
      "                                                filename    gender        age  \\\n",
      "index                                                                           \n",
      "4973   /content/drive/My Drive/FakeImageDetector/data...  0.671382  16.453061   \n",
      "\n",
      "                  method  label     fake_real_name      age_cat  gender10  \\\n",
      "index                                                                       \n",
      "4973   DeepFakeDetection      0  DeepFakeDetection  age_less_20         1   \n",
      "\n",
      "      gender_age_cat                                            imgname  \\\n",
      "index                                                                     \n",
      "4973   1_age_less_20  06_12__outside_talking_still_laughing__3K21NFN...   \n",
      "\n",
      "      target_source  \n",
      "index                \n",
      "4973          06_12  \n"
     ]
    }
   ],
   "source": [
    "print(data_dfd_unq_target[data_dfd_unq_target['gender_age_cat'] == '1_age_less_20'])"
   ]
  },
  {
   "cell_type": "code",
   "execution_count": 416,
   "metadata": {},
   "outputs": [
    {
     "name": "stdout",
     "output_type": "stream",
     "text": [
      "(130, 11)\n",
      "(130, 11)\n"
     ]
    }
   ],
   "source": [
    "#I remove 03_20, 11_07, 13_11\n",
    "data_dfd_unq_source = data_dfd_unq_source[data_dfd_unq_source['target_source'] != '03_20']\n",
    "print(data_dfd_unq_source.shape)\n",
    "data_dfd_unq_source = data_dfd_unq_source[data_dfd_unq_source['target_source'] != '11_07']\n",
    "data_dfd_unq_source = data_dfd_unq_source[data_dfd_unq_source['target_source'] != '13_11']\n",
    "print(data_dfd_unq_source.shape)"
   ]
  },
  {
   "cell_type": "code",
   "execution_count": 423,
   "metadata": {},
   "outputs": [],
   "source": [
    "rear_people = ['05_28', '07_20', '20_25', '26_01', '06_12', '11_07']\n",
    "data_dfd_unq_target = data_dfd_unq_target[~data_dfd_unq_target['target_source'].isin(rear_people)]"
   ]
  },
  {
   "cell_type": "markdown",
   "metadata": {},
   "source": [
    "'05_28':  1_age_40_50 train\n",
    "'07_20': 1_age_40_50 val\n",
    "'20_25': 0_age_40_50 train\n",
    "'26_01': 0_age_40_50 val\n",
    "'11_07': '0_age_40_50' test\n",
    "'06_12': 1_age_less_20 train\n"
   ]
  },
  {
   "cell_type": "code",
   "execution_count": 418,
   "metadata": {},
   "outputs": [
    {
     "data": {
      "text/plain": [
       "0_age_30_40    53\n",
       "0_age_20_30    34\n",
       "1_age_20_30    23\n",
       "1_age_30_40    20\n",
       "Name: gender_age_cat, dtype: int64"
      ]
     },
     "execution_count": 418,
     "metadata": {},
     "output_type": "execute_result"
    }
   ],
   "source": [
    "data_dfd_unq_source['gender_age_cat'].value_counts()"
   ]
  },
  {
   "cell_type": "code",
   "execution_count": 426,
   "metadata": {},
   "outputs": [
    {
     "name": "stdout",
     "output_type": "stream",
     "text": [
      "                                                filename    gender        age  \\\n",
      "index                                                                           \n",
      "1025   /content/drive/My Drive/FakeImageDetector/data...  0.212863  40.634197   \n",
      "\n",
      "                  method  label     fake_real_name    age_cat  gender10  \\\n",
      "index                                                                     \n",
      "1025   DeepFakeDetection      0  DeepFakeDetection  age_40_50         0   \n",
      "\n",
      "      gender_age_cat                                 imgname target_source  \n",
      "index                                                                       \n",
      "1025     0_age_40_50  11_07__exit_phone_room__PGC20QSY_0.bmp         11_07  \n"
     ]
    }
   ],
   "source": [
    "print(data_dfd_unq_rev[data_dfd_unq_rev['gender_age_cat'] == '0_age_40_50'])"
   ]
  },
  {
   "cell_type": "code",
   "execution_count": 427,
   "metadata": {},
   "outputs": [],
   "source": [
    "data_dfd_unq_rev = data_dfd_unq_rev[data_dfd_unq_rev['target_source'] != '11_07']"
   ]
  },
  {
   "cell_type": "code",
   "execution_count": 424,
   "metadata": {},
   "outputs": [],
   "source": [
    "x"
   ]
  },
  {
   "cell_type": "code",
   "execution_count": 425,
   "metadata": {},
   "outputs": [],
   "source": [
    "data_dfd_unq_train, data_dfd_unq_val = train_test_split(data_dfd_unq_train_validation, test_size=0.2, \n",
    "                                         stratify = data_dfd_unq_train_validation['gender_age_cat'], \n",
    "                                         random_state=42)"
   ]
  },
  {
   "cell_type": "code",
   "execution_count": 429,
   "metadata": {},
   "outputs": [],
   "source": [
    "data_dfd_unq_rev_train_validation, data_dfd_unq_rev_test = train_test_split(data_dfd_unq_rev, test_size=0.2, \n",
    "                                                                           stratify = data_dfd_unq_rev['gender_age_cat'], \n",
    "                                                                           random_state=42)"
   ]
  },
  {
   "cell_type": "code",
   "execution_count": 430,
   "metadata": {},
   "outputs": [],
   "source": [
    "data_dfd_unq_rev_train, data_dfd_unq_rev_val = train_test_split(data_dfd_unq_rev_train_validation, test_size=0.2, \n",
    "                                                                           stratify = data_dfd_unq_rev_train_validation['gender_age_cat'], \n",
    "                                                                           random_state=42)"
   ]
  },
  {
   "cell_type": "code",
   "execution_count": 476,
   "metadata": {},
   "outputs": [],
   "source": [
    "data_dfd_unq_train_validation2, data_dfd_unq_target_test2 = train_test_split(data_dfd_unq_target2, test_size=0.2, \n",
    "                                                                           stratify = data_dfd_unq_target2['gender_age_cat'], \n",
    "                                                                           random_state=42)"
   ]
  },
  {
   "cell_type": "code",
   "execution_count": 477,
   "metadata": {},
   "outputs": [],
   "source": [
    "data_dfd_unq_train2, data_dfd_unq_val2 = train_test_split(data_dfd_unq_train_validation2, test_size=0.2, \n",
    "                                         stratify = data_dfd_unq_train_validation2['gender_age_cat'], \n",
    "                                         random_state=42)"
   ]
  },
  {
   "cell_type": "code",
   "execution_count": null,
   "metadata": {},
   "outputs": [],
   "source": []
  },
  {
   "cell_type": "code",
   "execution_count": null,
   "metadata": {},
   "outputs": [],
   "source": [
    "'05_28':  1_age_40_50 train\n",
    "'07_20': 1_age_40_50 val\n",
    "'20_25': 0_age_40_50 train\n",
    "'26_01': 0_age_40_50 val\n",
    "'11_07': '0_age_40_50' test\n",
    "'06_12': 1_age_less_20 train"
   ]
  },
  {
   "cell_type": "code",
   "execution_count": 456,
   "metadata": {},
   "outputs": [
    {
     "name": "stdout",
     "output_type": "stream",
     "text": [
      "['02_03', '05_11', '03_02', '11_05']\n"
     ]
    }
   ],
   "source": [
    "import copy\n",
    "def extend_list_with_reverse(l):\n",
    "    rev_l = []\n",
    "    for ts in l:\n",
    "        rts = ts[3:5] + \"_\" + ts[:2]\n",
    "        rev_l.append(rts)\n",
    "    \n",
    "    return l+ rev_l\n",
    "\n",
    "l = ['02_03', '05_11']\n",
    "print(extend_list_with_reverse(l))"
   ]
  },
  {
   "cell_type": "code",
   "execution_count": 457,
   "metadata": {},
   "outputs": [
    {
     "name": "stdout",
     "output_type": "stream",
     "text": [
      "['27_02', '01_15', '25_09', '25_15', '21_07', '07_13', '21_14', '01_04', '26_14', '04_26', '01_02', '07_21', '24_23', '04_21', '01_09', '20_26', '06_25', '26_04', '07_09', '26_11', '04_18', '21_02', '05_08', '25_27', '20_06', '07_02', '06_02', '06_18', '06_26', '26_07', '26_06', '26_13', '10_19', '20_12', '27_18', '06_20', '04_06', '21_11', '25_02', '21_25', '27_13', '25_12', '12_15', '20_09', '06_07', '12_20', '08_05', '07_14', '12_13', '26_18', '24_19', '26_27', '26_12', '05_17', '26_25', '24_22', '06_14', '25_06', '04_01', '25_20', '06_03', '08_17', '12_02', '07_04', '21_01', '21_03', '19_23', '01_27', '19_10', '26_20', '20_13', '12_14', '26_03', '09_11', '04_27', '27_14', '14_01', '21_06', '03_04', '02_11', '26_15', '15_27', '07_25', '15_04', '20_27', '21_09', '10_24', '20_21', '02_27', '15_01', '09_25', '15_25', '07_21', '13_07', '14_21', '04_01', '14_26', '26_04', '02_01', '21_07', '23_24', '21_04', '09_01', '26_20', '25_06', '04_26', '09_07', '11_26', '18_04', '02_21', '08_05', '27_25', '06_20', '02_07', '02_06', '18_06', '26_06', '07_26', '06_26', '13_26', '19_10', '12_20', '18_27', '20_06', '06_04', '11_21', '02_25', '25_21', '13_27', '12_25', '15_12', '09_20', '07_06', '20_12', '05_08', '14_07', '13_12', '18_26', '19_24', '27_26', '12_26', '17_05', '25_26', '22_24', '14_06', '06_25', '01_04', '20_25', '03_06', '17_08', '02_12', '04_07', '01_21', '03_21', '23_19', '27_01', '10_19', '20_26', '13_20', '14_12', '03_26', '11_09', '27_04', '14_27', '01_14', '06_21', '04_03', '11_02', '15_26', '27_15', '25_07', '04_15', '27_20', '09_21', '24_10', '21_20', '05_28', '20_25', '06_12']\n"
     ]
    }
   ],
   "source": [
    "tvt_dfd_ts = {}\n",
    "tvt_dfd_ts['train'] = data_dfd_unq_train['target_source'].tolist() + data_dfd_unq_rev_train['target_source'].tolist()\n",
    "tvt_dfd_ts['train'] = extend_list_with_reverse(tvt_dfd_ts['train']) + ['05_28', '20_25', '06_12']\n",
    "print(tvt_dfd_ts['train'])"
   ]
  },
  {
   "cell_type": "code",
   "execution_count": 458,
   "metadata": {},
   "outputs": [],
   "source": [
    "tvt_dfd_ts['validation'] = data_dfd_unq_val['target_source'].tolist() + data_dfd_unq_rev_val['target_source'].tolist()\n",
    "tvt_dfd_ts['validation'] = extend_list_with_reverse(tvt_dfd_ts['validation']) + ['07_20', '26_01']"
   ]
  },
  {
   "cell_type": "code",
   "execution_count": 459,
   "metadata": {},
   "outputs": [],
   "source": [
    "tvt_dfd_ts['test'] = data_dfd_unq_target_test['target_source'].tolist() + data_dfd_unq_rev_test['target_source'].tolist()\n",
    "extend_list_with_reverse(tvt_dfd_ts['test']).append('06_12')"
   ]
  },
  {
   "cell_type": "code",
   "execution_count": 460,
   "metadata": {},
   "outputs": [],
   "source": [
    "tvt_dfd_actor_ts = {}\n",
    "tvt_dfd_actor_ts['train'] = [x[:2] for x in tvt_dfd_ts['train']]\n",
    "tvt_dfd_actor_ts['validation'] = [x[:2] for x in tvt_dfd_ts['validation']]\n",
    "tvt_dfd_actor_ts['test'] = [x[:2] for x in tvt_dfd_ts['test']]"
   ]
  },
  {
   "cell_type": "code",
   "execution_count": 479,
   "metadata": {},
   "outputs": [
    {
     "name": "stdout",
     "output_type": "stream",
     "text": [
      "['18_06', '01_11', '07_20', '10_22', '04_18', '26_11', '12_02', '12_20', '12_14', '01_26', '09_01', '04_01', '25_26', '04_26', '21_14', '13_04', '08_16', '26_12', '13_02', '27_13', '25_20', '13_26', '18_14', '12_15', '14_26', '25_15', '16_28', '01_15', '14_09', '02_18', '23_22', '17_05', '20_13', '25_09', '27_02', '07_15', '26_20', '26_06', '23_10', '14_15', '12_06', '06_20', '14_03', '14_07', '03_26', '08_28', '20_14', '19_24', '18_26', '06_14', '11_13', '02_03', '01_03', '06_15', '18_15', '27_01', '18_27', '26_07', '24_23', '02_14', '17_16', '18_12', '09_13', '06_04', '09_26', '13_12', '19_22', '21_11', '03_07', '25_18', '14_13', '06_03', '09_11', '04_27', '27_14', '14_01', '21_06', '03_04', '02_11', '26_15', '15_27', '07_25', '15_04', '20_27', '21_09', '10_24', '20_21', '06_18', '11_01', '20_07', '22_10', '18_04', '11_26', '02_12', '20_12', '14_12', '26_01', '01_09', '01_04', '26_25', '26_04', '14_21', '04_13', '16_08', '12_26', '02_13', '13_27', '20_25', '26_13', '14_18', '15_12', '26_14', '15_25', '28_16', '15_01', '09_14', '18_02', '22_23', '05_17', '13_20', '09_25', '02_27', '15_07', '20_26', '06_26', '10_23', '15_14', '06_12', '20_06', '03_14', '07_14', '26_03', '28_08', '14_20', '24_19', '26_18', '14_06', '13_11', '03_02', '03_01', '15_06', '15_18', '01_27', '27_18', '07_26', '23_24', '14_02', '16_17', '12_18', '13_09', '04_06', '26_09', '12_13', '22_19', '11_21', '07_03', '18_25', '13_14', '03_06', '11_09', '27_04', '14_27', '01_14', '06_21', '04_03', '11_02', '15_26', '27_15', '25_07', '04_15', '27_20', '09_21', '24_10', '21_20', '11_07']\n"
     ]
    }
   ],
   "source": [
    "tvt_dfd_ts2 = {}\n",
    "tvt_dfd_ts2['train'] = data_dfd_unq_train2['target_source'].tolist() + data_dfd_unq_rev_train['target_source'].tolist()\n",
    "tvt_dfd_ts2['train'] = extend_list_with_reverse(tvt_dfd_ts2['train']) + ['11_07']\n",
    "print(tvt_dfd_ts2['train'])"
   ]
  },
  {
   "cell_type": "code",
   "execution_count": 480,
   "metadata": {},
   "outputs": [],
   "source": [
    "tvt_dfd_ts2['validation'] = data_dfd_unq_val2['target_source'].tolist() + data_dfd_unq_rev_val['target_source'].tolist()\n",
    "tvt_dfd_ts2['validation'] = extend_list_with_reverse(tvt_dfd_ts2['validation'])"
   ]
  },
  {
   "cell_type": "code",
   "execution_count": 482,
   "metadata": {},
   "outputs": [],
   "source": [
    "tvt_dfd_ts2['test'] = data_dfd_unq_target_test2['target_source'].tolist() + data_dfd_unq_rev_test['target_source'].tolist()\n",
    "tvt_dfd_ts2['test'] = extend_list_with_reverse(tvt_dfd_ts2['test'])"
   ]
  },
  {
   "cell_type": "code",
   "execution_count": 487,
   "metadata": {},
   "outputs": [],
   "source": [
    "tvt_dfd_actor_ts2 = {}\n",
    "tvt_dfd_actor_ts2['train'] = [x[:2] for x in tvt_dfd_ts2['train']]\n",
    "tvt_dfd_actor_ts2['validation'] = [x[:2] for x in tvt_dfd_ts2['validation']]\n",
    "tvt_dfd_actor_ts2['test'] = [x[:2] for x in tvt_dfd_ts2['test']]"
   ]
  },
  {
   "cell_type": "code",
   "execution_count": 484,
   "metadata": {},
   "outputs": [
    {
     "name": "stdout",
     "output_type": "stream",
     "text": [
      "train\n"
     ]
    }
   ],
   "source": [
    "if '14_03' in tvt_dfd_ts2['train']:\n",
    "    print('train')\n",
    "if '14_03' in tvt_dfd_ts2['validation']:\n",
    "    print('val')\n",
    "if '14_03' in tvt_dfd_ts2['test']:\n",
    "    print('test')"
   ]
  },
  {
   "cell_type": "code",
   "execution_count": 485,
   "metadata": {},
   "outputs": [],
   "source": [
    "if '14_03' in tvt_dfd_ts['train']:\n",
    "    print('train')\n",
    "if '14_03' in tvt_dfd_ts['validation']:\n",
    "    print('val')\n",
    "if '14_03' in tvt_dfd_ts['test']:\n",
    "    print('test')"
   ]
  },
  {
   "cell_type": "code",
   "execution_count": 461,
   "metadata": {},
   "outputs": [],
   "source": [
    "import pickle\n",
    "\n",
    "# a = {'hello': 'world'}\n",
    "\n",
    "with open('tvt_split_dfd.pickle', 'wb') as handle:\n",
    "    pickle.dump(tvt_dfd_ts, handle, protocol=pickle.HIGHEST_PROTOCOL)"
   ]
  },
  {
   "cell_type": "code",
   "execution_count": 462,
   "metadata": {},
   "outputs": [],
   "source": [
    "import pickle\n",
    "\n",
    "# a = {'hello': 'world'}\n",
    "\n",
    "with open('tvt_split_dfd_actor.pickle', 'wb') as handle:\n",
    "    pickle.dump(tvt_dfd_actor_ts, handle, protocol=pickle.HIGHEST_PROTOCOL)"
   ]
  },
  {
   "cell_type": "code",
   "execution_count": 489,
   "metadata": {},
   "outputs": [],
   "source": [
    "import pickle\n",
    "\n",
    "# a = {'hello': 'world'}\n",
    "\n",
    "with open('tvt_split_dfd2.pickle', 'wb') as handle:\n",
    "    pickle.dump(tvt_dfd_ts2, handle, protocol=pickle.HIGHEST_PROTOCOL)"
   ]
  },
  {
   "cell_type": "code",
   "execution_count": 490,
   "metadata": {},
   "outputs": [],
   "source": [
    "import pickle\n",
    "\n",
    "# a = {'hello': 'world'}\n",
    "\n",
    "with open('tvt_split_dfd_actor2.pickle', 'wb') as handle:\n",
    "    pickle.dump(tvt_dfd_actor_ts2, handle, protocol=pickle.HIGHEST_PROTOCOL)"
   ]
  },
  {
   "cell_type": "code",
   "execution_count": 387,
   "metadata": {},
   "outputs": [
    {
     "name": "stdout",
     "output_type": "stream",
     "text": [
      "['20_13', '24_22', '08_17', '07_02', '06_14', '01_03', '26_11', '27_02', '14_15', '13_02', '06_11', '21_14', '07_09', '04_21', '19_22', '02_14', '27_13', '09_26', '25_18', '27_03', '26_06', '14_06', '12_14', '14_09', '01_11', '25_20', '19_24', '02_21', '03_13', '10_19', '21_01', '15_14', '02_27', '12_15', '18_06', '25_26', '01_26', '25_09', '07_15', '13_26', '03_27', '06_15', '02_09', '14_03', '18_14', '14_07', '18_27', '06_20', '18_26', '04_01', '14_26', '26_14', '06_07', '01_04', '09_07', '14_13', '05_16', '03_26', '11_03', '08_28', '01_02', '18_25', '10_22', '08_16', '21_25', '22_19', '21_11', '24_23', '06_04', '11_13', '23_19', '15_03', '09_02', '20_14', '04_18', '13_12', '21_07', '12_25', '03_21', '11_26', '26_07', '17_16', '18_12', '18_09', '05_28', '13_14', '09_01', '21_03', '27_01', '26_20', '07_04', '25_15', '24_19', '21_04', '11_06', '20_06', '14_21', '25_12', '07_20', '20_25', '19_10', '28_08', '28_05', '03_01', '12_07', '02_03', '11_18', '12_18', '23_10', '06_03', '15_12', '14_02', '26_27', '03_09', '17_08', '01_20', '17_05', '15_20', '14_12', '06_25', '06_02', '26_12', '01_15', '21_15', '07_26', '13_20', '07_06', '15_25', '26_03', '04_26', '12_02', '11_21', '26_04', '19_23', '15_02', '02_18', '13_04', '21_02', '18_04', '02_01', '18_15', '23_22', '12_20', '26_13', '22_10', '03_11', '16_17', '15_01', '01_09', '02_25', '04_06', '04_07', '06_26', '18_02', '27_26', '03_14', '03_20', '20_07', '25_06', '03_02', '13_11', '01_21', '06_18', '25_02', '03_07', '16_28', '09_20', '13_27', '09_14', '07_14', '26_01', '09_13', '11_01', '02_13', '16_08', '20_03', '07_12', '20_01', '05_17', '12_26', '28_16', '16_05', '12_06', '18_11', '25_21', '09_03', '20_09', '02_12', '03_15', '03_06', '05_08', '15_21', '04_13', '20_15', '22_23', '07_03', '26_25', '15_07', '09_25', '20_12', '26_18', '23_24', '20_26', '25_27', '08_05', '27_18', '15_18', '07_13', '02_15', '15_06', '14_18', '02_06', '02_07', '12_13', '10_23', '07_21', '13_07', '06_12', '27_25', '03_18', '26_09', '09_18', '14_20', '22_24', '18_03', '13_09', '01_27', '13_03']\n"
     ]
    }
   ],
   "source": [
    "print(target_source_dfd_rev)"
   ]
  },
  {
   "cell_type": "code",
   "execution_count": null,
   "metadata": {},
   "outputs": [],
   "source": []
  },
  {
   "cell_type": "code",
   "execution_count": 372,
   "metadata": {},
   "outputs": [
    {
     "name": "stdout",
     "output_type": "stream",
     "text": [
      "['14', '28', '04', '26', '12', '24', '18', '21', '02', '27', '11', '20', '10', '01', '17']\n"
     ]
    }
   ],
   "source": [
    "print(Diff(target_half, source_half))"
   ]
  },
  {
   "cell_type": "code",
   "execution_count": null,
   "metadata": {},
   "outputs": [],
   "source": []
  },
  {
   "cell_type": "code",
   "execution_count": 104,
   "metadata": {},
   "outputs": [
    {
     "name": "stdout",
     "output_type": "stream",
     "text": [
      "index\n",
      "0        My Drive\n",
      "1        My Drive\n",
      "2        My Drive\n",
      "3        My Drive\n",
      "4        My Drive\n",
      "5        My Drive\n",
      "6        My Drive\n",
      "7        My Drive\n",
      "8        My Drive\n",
      "9        My Drive\n",
      "10       My Drive\n",
      "11       My Drive\n",
      "12       My Drive\n",
      "13       My Drive\n",
      "14       My Drive\n",
      "15       My Drive\n",
      "16       My Drive\n",
      "17       My Drive\n",
      "18       My Drive\n",
      "19       My Drive\n",
      "20       My Drive\n",
      "21       My Drive\n",
      "22       My Drive\n",
      "23       My Drive\n",
      "24       My Drive\n",
      "25       My Drive\n",
      "26       My Drive\n",
      "27       My Drive\n",
      "28       My Drive\n",
      "29       My Drive\n",
      "          ...    \n",
      "5371    Deepfakes\n",
      "5372    Deepfakes\n",
      "5373    Deepfakes\n",
      "5374    Deepfakes\n",
      "5375    Deepfakes\n",
      "5376    Deepfakes\n",
      "5377    Deepfakes\n",
      "5378    Deepfakes\n",
      "5379    Deepfakes\n",
      "5380    Deepfakes\n",
      "5381    Deepfakes\n",
      "5382    Deepfakes\n",
      "5383    Deepfakes\n",
      "5384    Deepfakes\n",
      "5385    Deepfakes\n",
      "5386    Deepfakes\n",
      "5387    Deepfakes\n",
      "5388    Deepfakes\n",
      "5389    Deepfakes\n",
      "5390    Deepfakes\n",
      "5391    Deepfakes\n",
      "5392    Deepfakes\n",
      "5393    Deepfakes\n",
      "5394    Deepfakes\n",
      "5395    Deepfakes\n",
      "5396    Deepfakes\n",
      "5397    Deepfakes\n",
      "5398    Deepfakes\n",
      "5399    Deepfakes\n",
      "5400    Deepfakes\n",
      "Name: fake_folder_name, Length: 52962, dtype: object\n"
     ]
    }
   ],
   "source": [
    "data_all['fake_folder_name'] = data_all['filename'].apply(lambda x: x.split('/'))\n",
    "data_all['fake_folder_name'] = data_all['fake_folder_name'].apply(lambda x: x[-4])\n",
    "print(data_all['fake_folder_name'])"
   ]
  },
  {
   "cell_type": "code",
   "execution_count": 132,
   "metadata": {},
   "outputs": [
    {
     "name": "stdout",
     "output_type": "stream",
     "text": [
      "index\n",
      "0       21__out\n",
      "1       21__out\n",
      "2       21__out\n",
      "3       21__out\n",
      "4       21__out\n",
      "5       21__out\n",
      "6       21__out\n",
      "7       21__out\n",
      "8       21__out\n",
      "9       21__out\n",
      "10      21__out\n",
      "11      21__out\n",
      "12      21__out\n",
      "13      27__kit\n",
      "14      27__kit\n",
      "15      27__kit\n",
      "16      27__kit\n",
      "17      27__kit\n",
      "18      27__kit\n",
      "19      27__kit\n",
      "20      27__kit\n",
      "21      27__kit\n",
      "22      27__kit\n",
      "23      27__kit\n",
      "24      27__kit\n",
      "25      27__kit\n",
      "26      27__kit\n",
      "27      27__kit\n",
      "28      27__kit\n",
      "29      27__kit\n",
      "         ...   \n",
      "5371    554_572\n",
      "5372    554_572\n",
      "5373    554_572\n",
      "5374    572_554\n",
      "5375    572_554\n",
      "5376    572_554\n",
      "5377    572_554\n",
      "5378    572_554\n",
      "5379    896_128\n",
      "5380    896_128\n",
      "5381    896_128\n",
      "5382    896_128\n",
      "5383    896_128\n",
      "5384    896_128\n",
      "5385    128_896\n",
      "5386    128_896\n",
      "5387    128_896\n",
      "5388    128_896\n",
      "5389    128_896\n",
      "5390    128_896\n",
      "5391    337_522\n",
      "5392    337_522\n",
      "5393    337_522\n",
      "5394    337_522\n",
      "5395    337_522\n",
      "5396    337_522\n",
      "5397    522_337\n",
      "5398    522_337\n",
      "5399    522_337\n",
      "5400    522_337\n",
      "Name: img_target_source, Length: 52962, dtype: object\n"
     ]
    }
   ],
   "source": [
    "data_all['img_target_source'] = data_all['filename'].apply(lambda x: x.split('/')[-1][:7])"
   ]
  },
  {
   "cell_type": "code",
   "execution_count": 133,
   "metadata": {},
   "outputs": [
    {
     "name": "stdout",
     "output_type": "stream",
     "text": [
      "(10069, 7)\n"
     ]
    }
   ],
   "source": [
    "data_face2face = data_all[data_all['fake_folder_name']=='Face2Face']\n",
    "print(data_face2face.shape)"
   ]
  },
  {
   "cell_type": "code",
   "execution_count": null,
   "metadata": {},
   "outputs": [],
   "source": []
  },
  {
   "cell_type": "code",
   "execution_count": 134,
   "metadata": {},
   "outputs": [
    {
     "name": "stdout",
     "output_type": "stream",
     "text": [
      "index\n",
      "0         440_364.mp4_2.jpg\n",
      "1         377_333.mp4_1.jpg\n",
      "2         233_995.mp4_3.jpg\n",
      "3         696_686.mp4_7.jpg\n",
      "4         390_709.mp4_1.jpg\n",
      "5        712_716.mp4_10.jpg\n",
      "6         668_664.mp4_5.jpg\n",
      "7         763_930.mp4_1.jpg\n",
      "8         169_227.mp4_5.jpg\n",
      "9         650_625.mp4_1.jpg\n",
      "10        946_049.mp4_4.jpg\n",
      "11       340_341.mp4_14.jpg\n",
      "12       809_799.mp4_21.jpg\n",
      "13        749_659.mp4_5.jpg\n",
      "14        244_822.mp4_6.jpg\n",
      "15        761_766.mp4_7.jpg\n",
      "16        867_765.mp4_7.jpg\n",
      "17        442_195.mp4_2.jpg\n",
      "18        207_908.mp4_9.jpg\n",
      "19       308_388.mp4_10.jpg\n",
      "20        403_497.mp4_3.jpg\n",
      "21        015_919.mp4_1.jpg\n",
      "22        938_987.mp4_6.jpg\n",
      "23        669_682.mp4_1.jpg\n",
      "24        073_024.mp4_2.jpg\n",
      "25        728_673.mp4_9.jpg\n",
      "26        721_715.mp4_9.jpg\n",
      "27       513_305.mp4_14.jpg\n",
      "28        253_183.mp4_2.jpg\n",
      "29        909_857.mp4_7.jpg\n",
      "                ...        \n",
      "10039     288_321.mp4_4.jpg\n",
      "10040     707_705.mp4_4.jpg\n",
      "10041    572_554.mp4_12.jpg\n",
      "10042     471_455.mp4_2.jpg\n",
      "10043     294_292.mp4_3.jpg\n",
      "10044     525_509.mp4_8.jpg\n",
      "10045    088_060.mp4_10.jpg\n",
      "10046     662_641.mp4_2.jpg\n",
      "10047     243_156.mp4_7.jpg\n",
      "10048     585_599.mp4_5.jpg\n",
      "10049    335_277.mp4_13.jpg\n",
      "10050     358_380.mp4_2.jpg\n",
      "10051     875_979.mp4_6.jpg\n",
      "10052     900_926.mp4_2.jpg\n",
      "10053     716_712.mp4_6.jpg\n",
      "10054     057_070.mp4_1.jpg\n",
      "10055     044_945.mp4_2.jpg\n",
      "10056     973_970.mp4_6.jpg\n",
      "10057    222_168.mp4_10.jpg\n",
      "10058     644_657.mp4_5.jpg\n",
      "10059    977_075.mp4_10.jpg\n",
      "10060     195_442.mp4_1.jpg\n",
      "10061    221_206.mp4_15.jpg\n",
      "10062     794_779.mp4_3.jpg\n",
      "10063     259_345.mp4_9.jpg\n",
      "10064     202_348.mp4_6.jpg\n",
      "10065     927_912.mp4_2.jpg\n",
      "10066     351_346.mp4_8.jpg\n",
      "10067     283_313.mp4_8.jpg\n",
      "10068     468_470.mp4_9.jpg\n",
      "Name: imgname, Length: 10069, dtype: object\n"
     ]
    },
    {
     "name": "stderr",
     "output_type": "stream",
     "text": [
      "/Users/ruska/anaconda/lib/python3.6/site-packages/ipykernel/__main__.py:1: SettingWithCopyWarning: \n",
      "A value is trying to be set on a copy of a slice from a DataFrame.\n",
      "Try using .loc[row_indexer,col_indexer] = value instead\n",
      "\n",
      "See the caveats in the documentation: http://pandas.pydata.org/pandas-docs/stable/indexing.html#indexing-view-versus-copy\n",
      "  if __name__ == '__main__':\n"
     ]
    }
   ],
   "source": [
    "data_face2face['imgname'] = data_face2face['filename'].apply(lambda x: x.split('/')[-1])\n",
    "print(data_face2face['imgname'])"
   ]
  },
  {
   "cell_type": "code",
   "execution_count": 135,
   "metadata": {},
   "outputs": [
    {
     "name": "stdout",
     "output_type": "stream",
     "text": [
      "index\n",
      "0        2\n",
      "1        1\n",
      "2        3\n",
      "3        7\n",
      "4        1\n",
      "5        0\n",
      "6        5\n",
      "7        1\n",
      "8        5\n",
      "9        1\n",
      "10       4\n",
      "11       4\n",
      "12       1\n",
      "13       5\n",
      "14       6\n",
      "15       7\n",
      "16       7\n",
      "17       2\n",
      "18       9\n",
      "19       0\n",
      "20       3\n",
      "21       1\n",
      "22       6\n",
      "23       1\n",
      "24       2\n",
      "25       9\n",
      "26       9\n",
      "27       4\n",
      "28       2\n",
      "29       7\n",
      "        ..\n",
      "10039    4\n",
      "10040    4\n",
      "10041    2\n",
      "10042    2\n",
      "10043    3\n",
      "10044    8\n",
      "10045    0\n",
      "10046    2\n",
      "10047    7\n",
      "10048    5\n",
      "10049    3\n",
      "10050    2\n",
      "10051    6\n",
      "10052    2\n",
      "10053    6\n",
      "10054    1\n",
      "10055    2\n",
      "10056    6\n",
      "10057    0\n",
      "10058    5\n",
      "10059    0\n",
      "10060    1\n",
      "10061    5\n",
      "10062    3\n",
      "10063    9\n",
      "10064    6\n",
      "10065    2\n",
      "10066    8\n",
      "10067    8\n",
      "10068    9\n",
      "Name: img_copy, Length: 10069, dtype: object\n"
     ]
    },
    {
     "name": "stderr",
     "output_type": "stream",
     "text": [
      "/Users/ruska/anaconda/lib/python3.6/site-packages/ipykernel/__main__.py:1: SettingWithCopyWarning: \n",
      "A value is trying to be set on a copy of a slice from a DataFrame.\n",
      "Try using .loc[row_indexer,col_indexer] = value instead\n",
      "\n",
      "See the caveats in the documentation: http://pandas.pydata.org/pandas-docs/stable/indexing.html#indexing-view-versus-copy\n",
      "  if __name__ == '__main__':\n"
     ]
    }
   ],
   "source": [
    "data_face2face['img_copy'] =  data_face2face['imgname'].apply(lambda x: x[-5])\n",
    "print(data_face2face['img_copy'])"
   ]
  },
  {
   "cell_type": "code",
   "execution_count": 139,
   "metadata": {},
   "outputs": [],
   "source": [
    "data_face2face_unq = data_face2face[data_face2face['img_copy'] == '1']"
   ]
  },
  {
   "cell_type": "code",
   "execution_count": 140,
   "metadata": {},
   "outputs": [
    {
     "name": "stdout",
     "output_type": "stream",
     "text": [
      "(1358, 9)\n"
     ]
    }
   ],
   "source": [
    "print(data_face2face_unq.shape)"
   ]
  },
  {
   "cell_type": "code",
   "execution_count": 148,
   "metadata": {},
   "outputs": [
    {
     "name": "stderr",
     "output_type": "stream",
     "text": [
      "/Users/ruska/anaconda/lib/python3.6/site-packages/ipykernel/__main__.py:1: SettingWithCopyWarning: \n",
      "A value is trying to be set on a copy of a slice from a DataFrame.\n",
      "Try using .loc[row_indexer,col_indexer] = value instead\n",
      "\n",
      "See the caveats in the documentation: http://pandas.pydata.org/pandas-docs/stable/indexing.html#indexing-view-versus-copy\n",
      "  if __name__ == '__main__':\n"
     ]
    }
   ],
   "source": [
    "data_face2face_unq['imgname_copy'] = data_face2face_unq['img_target_source'] + \"_\" + data_face2face_unq['img_copy']"
   ]
  },
  {
   "cell_type": "code",
   "execution_count": 147,
   "metadata": {},
   "outputs": [
    {
     "name": "stdout",
     "output_type": "stream",
     "text": [
      "['filename' 'gender' 'age' 'method' 'label' 'fake_folder_name'\n",
      " 'img_target_source' 'imgname' 'img_copy' 'imgname_copy']\n"
     ]
    }
   ],
   "source": [
    "print(data_face2face_unq.columns.values)"
   ]
  },
  {
   "cell_type": "code",
   "execution_count": 149,
   "metadata": {},
   "outputs": [
    {
     "data": {
      "text/html": [
       "<div>\n",
       "<style scoped>\n",
       "    .dataframe tbody tr th:only-of-type {\n",
       "        vertical-align: middle;\n",
       "    }\n",
       "\n",
       "    .dataframe tbody tr th {\n",
       "        vertical-align: top;\n",
       "    }\n",
       "\n",
       "    .dataframe thead th {\n",
       "        text-align: right;\n",
       "    }\n",
       "</style>\n",
       "<table border=\"1\" class=\"dataframe\">\n",
       "  <thead>\n",
       "    <tr style=\"text-align: right;\">\n",
       "      <th></th>\n",
       "      <th>filename</th>\n",
       "      <th>gender</th>\n",
       "      <th>age</th>\n",
       "      <th>method</th>\n",
       "      <th>label</th>\n",
       "      <th>fake_folder_name</th>\n",
       "      <th>img_target_source</th>\n",
       "      <th>imgname</th>\n",
       "      <th>img_copy</th>\n",
       "      <th>imgname_copy</th>\n",
       "    </tr>\n",
       "    <tr>\n",
       "      <th>index</th>\n",
       "      <th></th>\n",
       "      <th></th>\n",
       "      <th></th>\n",
       "      <th></th>\n",
       "      <th></th>\n",
       "      <th></th>\n",
       "      <th></th>\n",
       "      <th></th>\n",
       "      <th></th>\n",
       "      <th></th>\n",
       "    </tr>\n",
       "  </thead>\n",
       "  <tbody>\n",
       "    <tr>\n",
       "      <th>8173</th>\n",
       "      <td>/content/drive/My Drive/FakeImageDetector/data...</td>\n",
       "      <td>0.922068</td>\n",
       "      <td>30.017989</td>\n",
       "      <td>Face2Face</td>\n",
       "      <td>0</td>\n",
       "      <td>Face2Face</td>\n",
       "      <td>001_870</td>\n",
       "      <td>001_870.mp4_11.jpg</td>\n",
       "      <td>1</td>\n",
       "      <td>001_870_1</td>\n",
       "    </tr>\n",
       "    <tr>\n",
       "      <th>9051</th>\n",
       "      <td>/content/drive/My Drive/FakeImageDetector/data...</td>\n",
       "      <td>0.950477</td>\n",
       "      <td>36.059862</td>\n",
       "      <td>Face2Face</td>\n",
       "      <td>0</td>\n",
       "      <td>Face2Face</td>\n",
       "      <td>001_870</td>\n",
       "      <td>001_870.mp4_1.jpg</td>\n",
       "      <td>1</td>\n",
       "      <td>001_870_1</td>\n",
       "    </tr>\n",
       "    <tr>\n",
       "      <th>4293</th>\n",
       "      <td>/content/drive/My Drive/FakeImageDetector/data...</td>\n",
       "      <td>0.014026</td>\n",
       "      <td>33.324502</td>\n",
       "      <td>Face2Face</td>\n",
       "      <td>0</td>\n",
       "      <td>Face2Face</td>\n",
       "      <td>004_982</td>\n",
       "      <td>004_982.mp4_1.jpg</td>\n",
       "      <td>1</td>\n",
       "      <td>004_982_1</td>\n",
       "    </tr>\n",
       "    <tr>\n",
       "      <th>6650</th>\n",
       "      <td>/content/drive/My Drive/FakeImageDetector/data...</td>\n",
       "      <td>0.015641</td>\n",
       "      <td>34.808076</td>\n",
       "      <td>Face2Face</td>\n",
       "      <td>0</td>\n",
       "      <td>Face2Face</td>\n",
       "      <td>004_982</td>\n",
       "      <td>004_982.mp4_11.jpg</td>\n",
       "      <td>1</td>\n",
       "      <td>004_982_1</td>\n",
       "    </tr>\n",
       "    <tr>\n",
       "      <th>4998</th>\n",
       "      <td>/content/drive/My Drive/FakeImageDetector/data...</td>\n",
       "      <td>0.048060</td>\n",
       "      <td>42.029892</td>\n",
       "      <td>Face2Face</td>\n",
       "      <td>0</td>\n",
       "      <td>Face2Face</td>\n",
       "      <td>006_002</td>\n",
       "      <td>006_002.mp4_1.jpg</td>\n",
       "      <td>1</td>\n",
       "      <td>006_002_1</td>\n",
       "    </tr>\n",
       "    <tr>\n",
       "      <th>9951</th>\n",
       "      <td>/content/drive/My Drive/FakeImageDetector/data...</td>\n",
       "      <td>0.028665</td>\n",
       "      <td>42.965258</td>\n",
       "      <td>Face2Face</td>\n",
       "      <td>0</td>\n",
       "      <td>Face2Face</td>\n",
       "      <td>006_002</td>\n",
       "      <td>006_002.mp4_11.jpg</td>\n",
       "      <td>1</td>\n",
       "      <td>006_002_1</td>\n",
       "    </tr>\n",
       "    <tr>\n",
       "      <th>6606</th>\n",
       "      <td>/content/drive/My Drive/FakeImageDetector/data...</td>\n",
       "      <td>0.260105</td>\n",
       "      <td>35.104502</td>\n",
       "      <td>Face2Face</td>\n",
       "      <td>0</td>\n",
       "      <td>Face2Face</td>\n",
       "      <td>014_790</td>\n",
       "      <td>014_790.mp4_1.jpg</td>\n",
       "      <td>1</td>\n",
       "      <td>014_790_1</td>\n",
       "    </tr>\n",
       "    <tr>\n",
       "      <th>7272</th>\n",
       "      <td>/content/drive/My Drive/FakeImageDetector/data...</td>\n",
       "      <td>0.041379</td>\n",
       "      <td>26.905789</td>\n",
       "      <td>Face2Face</td>\n",
       "      <td>0</td>\n",
       "      <td>Face2Face</td>\n",
       "      <td>014_790</td>\n",
       "      <td>014_790.mp4_11.jpg</td>\n",
       "      <td>1</td>\n",
       "      <td>014_790_1</td>\n",
       "    </tr>\n",
       "    <tr>\n",
       "      <th>1776</th>\n",
       "      <td>/content/drive/My Drive/FakeImageDetector/data...</td>\n",
       "      <td>0.944651</td>\n",
       "      <td>32.354272</td>\n",
       "      <td>Face2Face</td>\n",
       "      <td>0</td>\n",
       "      <td>Face2Face</td>\n",
       "      <td>018_019</td>\n",
       "      <td>018_019.mp4_21.jpg</td>\n",
       "      <td>1</td>\n",
       "      <td>018_019_1</td>\n",
       "    </tr>\n",
       "    <tr>\n",
       "      <th>4631</th>\n",
       "      <td>/content/drive/My Drive/FakeImageDetector/data...</td>\n",
       "      <td>0.923307</td>\n",
       "      <td>31.673482</td>\n",
       "      <td>Face2Face</td>\n",
       "      <td>0</td>\n",
       "      <td>Face2Face</td>\n",
       "      <td>018_019</td>\n",
       "      <td>018_019.mp4_1.jpg</td>\n",
       "      <td>1</td>\n",
       "      <td>018_019_1</td>\n",
       "    </tr>\n",
       "    <tr>\n",
       "      <th>8116</th>\n",
       "      <td>/content/drive/My Drive/FakeImageDetector/data...</td>\n",
       "      <td>0.939266</td>\n",
       "      <td>32.607569</td>\n",
       "      <td>Face2Face</td>\n",
       "      <td>0</td>\n",
       "      <td>Face2Face</td>\n",
       "      <td>018_019</td>\n",
       "      <td>018_019.mp4_11.jpg</td>\n",
       "      <td>1</td>\n",
       "      <td>018_019_1</td>\n",
       "    </tr>\n",
       "    <tr>\n",
       "      <th>5329</th>\n",
       "      <td>/content/drive/My Drive/FakeImageDetector/data...</td>\n",
       "      <td>0.050897</td>\n",
       "      <td>22.226442</td>\n",
       "      <td>Face2Face</td>\n",
       "      <td>0</td>\n",
       "      <td>Face2Face</td>\n",
       "      <td>020_344</td>\n",
       "      <td>020_344.mp4_11.jpg</td>\n",
       "      <td>1</td>\n",
       "      <td>020_344_1</td>\n",
       "    </tr>\n",
       "    <tr>\n",
       "      <th>8953</th>\n",
       "      <td>/content/drive/My Drive/FakeImageDetector/data...</td>\n",
       "      <td>0.058348</td>\n",
       "      <td>23.864011</td>\n",
       "      <td>Face2Face</td>\n",
       "      <td>0</td>\n",
       "      <td>Face2Face</td>\n",
       "      <td>020_344</td>\n",
       "      <td>020_344.mp4_1.jpg</td>\n",
       "      <td>1</td>\n",
       "      <td>020_344_1</td>\n",
       "    </tr>\n",
       "    <tr>\n",
       "      <th>284</th>\n",
       "      <td>/content/drive/My Drive/FakeImageDetector/data...</td>\n",
       "      <td>0.067610</td>\n",
       "      <td>31.245230</td>\n",
       "      <td>Face2Face</td>\n",
       "      <td>0</td>\n",
       "      <td>Face2Face</td>\n",
       "      <td>023_923</td>\n",
       "      <td>023_923.mp4_1.jpg</td>\n",
       "      <td>1</td>\n",
       "      <td>023_923_1</td>\n",
       "    </tr>\n",
       "    <tr>\n",
       "      <th>5295</th>\n",
       "      <td>/content/drive/My Drive/FakeImageDetector/data...</td>\n",
       "      <td>0.116209</td>\n",
       "      <td>29.220227</td>\n",
       "      <td>Face2Face</td>\n",
       "      <td>0</td>\n",
       "      <td>Face2Face</td>\n",
       "      <td>023_923</td>\n",
       "      <td>023_923.mp4_11.jpg</td>\n",
       "      <td>1</td>\n",
       "      <td>023_923_1</td>\n",
       "    </tr>\n",
       "    <tr>\n",
       "      <th>1206</th>\n",
       "      <td>/content/drive/My Drive/FakeImageDetector/data...</td>\n",
       "      <td>0.021627</td>\n",
       "      <td>47.229997</td>\n",
       "      <td>Face2Face</td>\n",
       "      <td>0</td>\n",
       "      <td>Face2Face</td>\n",
       "      <td>024_073</td>\n",
       "      <td>024_073.mp4_1.jpg</td>\n",
       "      <td>1</td>\n",
       "      <td>024_073_1</td>\n",
       "    </tr>\n",
       "    <tr>\n",
       "      <th>1507</th>\n",
       "      <td>/content/drive/My Drive/FakeImageDetector/data...</td>\n",
       "      <td>0.024700</td>\n",
       "      <td>43.288232</td>\n",
       "      <td>Face2Face</td>\n",
       "      <td>0</td>\n",
       "      <td>Face2Face</td>\n",
       "      <td>024_073</td>\n",
       "      <td>024_073.mp4_11.jpg</td>\n",
       "      <td>1</td>\n",
       "      <td>024_073_1</td>\n",
       "    </tr>\n",
       "    <tr>\n",
       "      <th>1438</th>\n",
       "      <td>/content/drive/My Drive/FakeImageDetector/data...</td>\n",
       "      <td>0.009974</td>\n",
       "      <td>37.286792</td>\n",
       "      <td>Face2Face</td>\n",
       "      <td>0</td>\n",
       "      <td>Face2Face</td>\n",
       "      <td>039_058</td>\n",
       "      <td>039_058.mp4_11.jpg</td>\n",
       "      <td>1</td>\n",
       "      <td>039_058_1</td>\n",
       "    </tr>\n",
       "    <tr>\n",
       "      <th>1642</th>\n",
       "      <td>/content/drive/My Drive/FakeImageDetector/data...</td>\n",
       "      <td>0.014155</td>\n",
       "      <td>37.266851</td>\n",
       "      <td>Face2Face</td>\n",
       "      <td>0</td>\n",
       "      <td>Face2Face</td>\n",
       "      <td>039_058</td>\n",
       "      <td>039_058.mp4_1.jpg</td>\n",
       "      <td>1</td>\n",
       "      <td>039_058_1</td>\n",
       "    </tr>\n",
       "    <tr>\n",
       "      <th>3818</th>\n",
       "      <td>/content/drive/My Drive/FakeImageDetector/data...</td>\n",
       "      <td>0.118054</td>\n",
       "      <td>29.033408</td>\n",
       "      <td>Face2Face</td>\n",
       "      <td>0</td>\n",
       "      <td>Face2Face</td>\n",
       "      <td>041_063</td>\n",
       "      <td>041_063.mp4_1.jpg</td>\n",
       "      <td>1</td>\n",
       "      <td>041_063_1</td>\n",
       "    </tr>\n",
       "    <tr>\n",
       "      <th>6360</th>\n",
       "      <td>/content/drive/My Drive/FakeImageDetector/data...</td>\n",
       "      <td>0.045343</td>\n",
       "      <td>30.084610</td>\n",
       "      <td>Face2Face</td>\n",
       "      <td>0</td>\n",
       "      <td>Face2Face</td>\n",
       "      <td>041_063</td>\n",
       "      <td>041_063.mp4_11.jpg</td>\n",
       "      <td>1</td>\n",
       "      <td>041_063_1</td>\n",
       "    </tr>\n",
       "    <tr>\n",
       "      <th>4658</th>\n",
       "      <td>/content/drive/My Drive/FakeImageDetector/data...</td>\n",
       "      <td>0.032540</td>\n",
       "      <td>28.194448</td>\n",
       "      <td>Face2Face</td>\n",
       "      <td>0</td>\n",
       "      <td>Face2Face</td>\n",
       "      <td>044_945</td>\n",
       "      <td>044_945.mp4_11.jpg</td>\n",
       "      <td>1</td>\n",
       "      <td>044_945_1</td>\n",
       "    </tr>\n",
       "    <tr>\n",
       "      <th>9279</th>\n",
       "      <td>/content/drive/My Drive/FakeImageDetector/data...</td>\n",
       "      <td>0.048328</td>\n",
       "      <td>28.066703</td>\n",
       "      <td>Face2Face</td>\n",
       "      <td>0</td>\n",
       "      <td>Face2Face</td>\n",
       "      <td>044_945</td>\n",
       "      <td>044_945.mp4_1.jpg</td>\n",
       "      <td>1</td>\n",
       "      <td>044_945_1</td>\n",
       "    </tr>\n",
       "    <tr>\n",
       "      <th>2218</th>\n",
       "      <td>/content/drive/My Drive/FakeImageDetector/data...</td>\n",
       "      <td>0.046648</td>\n",
       "      <td>56.400754</td>\n",
       "      <td>Face2Face</td>\n",
       "      <td>0</td>\n",
       "      <td>Face2Face</td>\n",
       "      <td>050_059</td>\n",
       "      <td>050_059.mp4_1.jpg</td>\n",
       "      <td>1</td>\n",
       "      <td>050_059_1</td>\n",
       "    </tr>\n",
       "    <tr>\n",
       "      <th>9560</th>\n",
       "      <td>/content/drive/My Drive/FakeImageDetector/data...</td>\n",
       "      <td>0.037600</td>\n",
       "      <td>54.786284</td>\n",
       "      <td>Face2Face</td>\n",
       "      <td>0</td>\n",
       "      <td>Face2Face</td>\n",
       "      <td>050_059</td>\n",
       "      <td>050_059.mp4_11.jpg</td>\n",
       "      <td>1</td>\n",
       "      <td>050_059_1</td>\n",
       "    </tr>\n",
       "    <tr>\n",
       "      <th>3538</th>\n",
       "      <td>/content/drive/My Drive/FakeImageDetector/data...</td>\n",
       "      <td>0.882031</td>\n",
       "      <td>32.563686</td>\n",
       "      <td>Face2Face</td>\n",
       "      <td>0</td>\n",
       "      <td>Face2Face</td>\n",
       "      <td>051_332</td>\n",
       "      <td>051_332.mp4_1.jpg</td>\n",
       "      <td>1</td>\n",
       "      <td>051_332_1</td>\n",
       "    </tr>\n",
       "    <tr>\n",
       "      <th>7543</th>\n",
       "      <td>/content/drive/My Drive/FakeImageDetector/data...</td>\n",
       "      <td>0.865664</td>\n",
       "      <td>26.874673</td>\n",
       "      <td>Face2Face</td>\n",
       "      <td>0</td>\n",
       "      <td>Face2Face</td>\n",
       "      <td>051_332</td>\n",
       "      <td>051_332.mp4_11.jpg</td>\n",
       "      <td>1</td>\n",
       "      <td>051_332_1</td>\n",
       "    </tr>\n",
       "    <tr>\n",
       "      <th>345</th>\n",
       "      <td>/content/drive/My Drive/FakeImageDetector/data...</td>\n",
       "      <td>0.832591</td>\n",
       "      <td>38.522059</td>\n",
       "      <td>Face2Face</td>\n",
       "      <td>0</td>\n",
       "      <td>Face2Face</td>\n",
       "      <td>053_095</td>\n",
       "      <td>053_095.mp4_11.jpg</td>\n",
       "      <td>1</td>\n",
       "      <td>053_095_1</td>\n",
       "    </tr>\n",
       "    <tr>\n",
       "      <th>8748</th>\n",
       "      <td>/content/drive/My Drive/FakeImageDetector/data...</td>\n",
       "      <td>0.911745</td>\n",
       "      <td>40.789232</td>\n",
       "      <td>Face2Face</td>\n",
       "      <td>0</td>\n",
       "      <td>Face2Face</td>\n",
       "      <td>053_095</td>\n",
       "      <td>053_095.mp4_21.jpg</td>\n",
       "      <td>1</td>\n",
       "      <td>053_095_1</td>\n",
       "    </tr>\n",
       "    <tr>\n",
       "      <th>9477</th>\n",
       "      <td>/content/drive/My Drive/FakeImageDetector/data...</td>\n",
       "      <td>0.919244</td>\n",
       "      <td>39.330590</td>\n",
       "      <td>Face2Face</td>\n",
       "      <td>0</td>\n",
       "      <td>Face2Face</td>\n",
       "      <td>053_095</td>\n",
       "      <td>053_095.mp4_1.jpg</td>\n",
       "      <td>1</td>\n",
       "      <td>053_095_1</td>\n",
       "    </tr>\n",
       "    <tr>\n",
       "      <th>...</th>\n",
       "      <td>...</td>\n",
       "      <td>...</td>\n",
       "      <td>...</td>\n",
       "      <td>...</td>\n",
       "      <td>...</td>\n",
       "      <td>...</td>\n",
       "      <td>...</td>\n",
       "      <td>...</td>\n",
       "      <td>...</td>\n",
       "      <td>...</td>\n",
       "    </tr>\n",
       "    <tr>\n",
       "      <th>2787</th>\n",
       "      <td>/content/drive/My Drive/FakeImageDetector/data...</td>\n",
       "      <td>0.919387</td>\n",
       "      <td>26.297636</td>\n",
       "      <td>Face2Face</td>\n",
       "      <td>0</td>\n",
       "      <td>Face2Face</td>\n",
       "      <td>958_956</td>\n",
       "      <td>958_956.mp4_1.jpg</td>\n",
       "      <td>1</td>\n",
       "      <td>958_956_1</td>\n",
       "    </tr>\n",
       "    <tr>\n",
       "      <th>7292</th>\n",
       "      <td>/content/drive/My Drive/FakeImageDetector/data...</td>\n",
       "      <td>0.926496</td>\n",
       "      <td>25.971045</td>\n",
       "      <td>Face2Face</td>\n",
       "      <td>0</td>\n",
       "      <td>Face2Face</td>\n",
       "      <td>958_956</td>\n",
       "      <td>958_956.mp4_11.jpg</td>\n",
       "      <td>1</td>\n",
       "      <td>958_956_1</td>\n",
       "    </tr>\n",
       "    <tr>\n",
       "      <th>2012</th>\n",
       "      <td>/content/drive/My Drive/FakeImageDetector/data...</td>\n",
       "      <td>0.982831</td>\n",
       "      <td>19.981064</td>\n",
       "      <td>Face2Face</td>\n",
       "      <td>0</td>\n",
       "      <td>Face2Face</td>\n",
       "      <td>961_069</td>\n",
       "      <td>961_069.mp4_1.jpg</td>\n",
       "      <td>1</td>\n",
       "      <td>961_069_1</td>\n",
       "    </tr>\n",
       "    <tr>\n",
       "      <th>6867</th>\n",
       "      <td>/content/drive/My Drive/FakeImageDetector/data...</td>\n",
       "      <td>0.985688</td>\n",
       "      <td>20.534390</td>\n",
       "      <td>Face2Face</td>\n",
       "      <td>0</td>\n",
       "      <td>Face2Face</td>\n",
       "      <td>961_069</td>\n",
       "      <td>961_069.mp4_11.jpg</td>\n",
       "      <td>1</td>\n",
       "      <td>961_069_1</td>\n",
       "    </tr>\n",
       "    <tr>\n",
       "      <th>9030</th>\n",
       "      <td>/content/drive/My Drive/FakeImageDetector/data...</td>\n",
       "      <td>0.014087</td>\n",
       "      <td>35.746101</td>\n",
       "      <td>Face2Face</td>\n",
       "      <td>0</td>\n",
       "      <td>Face2Face</td>\n",
       "      <td>963_879</td>\n",
       "      <td>963_879.mp4_11.jpg</td>\n",
       "      <td>1</td>\n",
       "      <td>963_879_1</td>\n",
       "    </tr>\n",
       "    <tr>\n",
       "      <th>9088</th>\n",
       "      <td>/content/drive/My Drive/FakeImageDetector/data...</td>\n",
       "      <td>0.014666</td>\n",
       "      <td>34.277277</td>\n",
       "      <td>Face2Face</td>\n",
       "      <td>0</td>\n",
       "      <td>Face2Face</td>\n",
       "      <td>963_879</td>\n",
       "      <td>963_879.mp4_1.jpg</td>\n",
       "      <td>1</td>\n",
       "      <td>963_879_1</td>\n",
       "    </tr>\n",
       "    <tr>\n",
       "      <th>2749</th>\n",
       "      <td>/content/drive/My Drive/FakeImageDetector/data...</td>\n",
       "      <td>0.853208</td>\n",
       "      <td>25.274536</td>\n",
       "      <td>Face2Face</td>\n",
       "      <td>0</td>\n",
       "      <td>Face2Face</td>\n",
       "      <td>970_973</td>\n",
       "      <td>970_973.mp4_1.jpg</td>\n",
       "      <td>1</td>\n",
       "      <td>970_973_1</td>\n",
       "    </tr>\n",
       "    <tr>\n",
       "      <th>5134</th>\n",
       "      <td>/content/drive/My Drive/FakeImageDetector/data...</td>\n",
       "      <td>0.893609</td>\n",
       "      <td>22.909941</td>\n",
       "      <td>Face2Face</td>\n",
       "      <td>0</td>\n",
       "      <td>Face2Face</td>\n",
       "      <td>970_973</td>\n",
       "      <td>970_973.mp4_11.jpg</td>\n",
       "      <td>1</td>\n",
       "      <td>970_973_1</td>\n",
       "    </tr>\n",
       "    <tr>\n",
       "      <th>2605</th>\n",
       "      <td>/content/drive/My Drive/FakeImageDetector/data...</td>\n",
       "      <td>0.064319</td>\n",
       "      <td>27.413956</td>\n",
       "      <td>Face2Face</td>\n",
       "      <td>0</td>\n",
       "      <td>Face2Face</td>\n",
       "      <td>971_564</td>\n",
       "      <td>971_564.mp4_11.jpg</td>\n",
       "      <td>1</td>\n",
       "      <td>971_564_1</td>\n",
       "    </tr>\n",
       "    <tr>\n",
       "      <th>2744</th>\n",
       "      <td>/content/drive/My Drive/FakeImageDetector/data...</td>\n",
       "      <td>0.046527</td>\n",
       "      <td>27.905597</td>\n",
       "      <td>Face2Face</td>\n",
       "      <td>0</td>\n",
       "      <td>Face2Face</td>\n",
       "      <td>971_564</td>\n",
       "      <td>971_564.mp4_1.jpg</td>\n",
       "      <td>1</td>\n",
       "      <td>971_564_1</td>\n",
       "    </tr>\n",
       "    <tr>\n",
       "      <th>8538</th>\n",
       "      <td>/content/drive/My Drive/FakeImageDetector/data...</td>\n",
       "      <td>0.982672</td>\n",
       "      <td>30.298414</td>\n",
       "      <td>Face2Face</td>\n",
       "      <td>0</td>\n",
       "      <td>Face2Face</td>\n",
       "      <td>972_718</td>\n",
       "      <td>972_718.mp4_11.jpg</td>\n",
       "      <td>1</td>\n",
       "      <td>972_718_1</td>\n",
       "    </tr>\n",
       "    <tr>\n",
       "      <th>9905</th>\n",
       "      <td>/content/drive/My Drive/FakeImageDetector/data...</td>\n",
       "      <td>0.988842</td>\n",
       "      <td>20.577335</td>\n",
       "      <td>Face2Face</td>\n",
       "      <td>0</td>\n",
       "      <td>Face2Face</td>\n",
       "      <td>972_718</td>\n",
       "      <td>972_718.mp4_1.jpg</td>\n",
       "      <td>1</td>\n",
       "      <td>972_718_1</td>\n",
       "    </tr>\n",
       "    <tr>\n",
       "      <th>2442</th>\n",
       "      <td>/content/drive/My Drive/FakeImageDetector/data...</td>\n",
       "      <td>0.961694</td>\n",
       "      <td>31.408907</td>\n",
       "      <td>Face2Face</td>\n",
       "      <td>0</td>\n",
       "      <td>Face2Face</td>\n",
       "      <td>975_978</td>\n",
       "      <td>975_978.mp4_11.jpg</td>\n",
       "      <td>1</td>\n",
       "      <td>975_978_1</td>\n",
       "    </tr>\n",
       "    <tr>\n",
       "      <th>9956</th>\n",
       "      <td>/content/drive/My Drive/FakeImageDetector/data...</td>\n",
       "      <td>0.936923</td>\n",
       "      <td>29.535396</td>\n",
       "      <td>Face2Face</td>\n",
       "      <td>0</td>\n",
       "      <td>Face2Face</td>\n",
       "      <td>975_978</td>\n",
       "      <td>975_978.mp4_1.jpg</td>\n",
       "      <td>1</td>\n",
       "      <td>975_978_1</td>\n",
       "    </tr>\n",
       "    <tr>\n",
       "      <th>813</th>\n",
       "      <td>/content/drive/My Drive/FakeImageDetector/data...</td>\n",
       "      <td>0.928116</td>\n",
       "      <td>29.394995</td>\n",
       "      <td>Face2Face</td>\n",
       "      <td>0</td>\n",
       "      <td>Face2Face</td>\n",
       "      <td>977_075</td>\n",
       "      <td>977_075.mp4_1.jpg</td>\n",
       "      <td>1</td>\n",
       "      <td>977_075_1</td>\n",
       "    </tr>\n",
       "    <tr>\n",
       "      <th>9930</th>\n",
       "      <td>/content/drive/My Drive/FakeImageDetector/data...</td>\n",
       "      <td>0.890802</td>\n",
       "      <td>34.600027</td>\n",
       "      <td>Face2Face</td>\n",
       "      <td>0</td>\n",
       "      <td>Face2Face</td>\n",
       "      <td>977_075</td>\n",
       "      <td>977_075.mp4_11.jpg</td>\n",
       "      <td>1</td>\n",
       "      <td>977_075_1</td>\n",
       "    </tr>\n",
       "    <tr>\n",
       "      <th>5115</th>\n",
       "      <td>/content/drive/My Drive/FakeImageDetector/data...</td>\n",
       "      <td>0.935455</td>\n",
       "      <td>30.518211</td>\n",
       "      <td>Face2Face</td>\n",
       "      <td>0</td>\n",
       "      <td>Face2Face</td>\n",
       "      <td>980_992</td>\n",
       "      <td>980_992.mp4_1.jpg</td>\n",
       "      <td>1</td>\n",
       "      <td>980_992_1</td>\n",
       "    </tr>\n",
       "    <tr>\n",
       "      <th>7780</th>\n",
       "      <td>/content/drive/My Drive/FakeImageDetector/data...</td>\n",
       "      <td>0.961920</td>\n",
       "      <td>34.635759</td>\n",
       "      <td>Face2Face</td>\n",
       "      <td>0</td>\n",
       "      <td>Face2Face</td>\n",
       "      <td>980_992</td>\n",
       "      <td>980_992.mp4_11.jpg</td>\n",
       "      <td>1</td>\n",
       "      <td>980_992_1</td>\n",
       "    </tr>\n",
       "    <tr>\n",
       "      <th>309</th>\n",
       "      <td>/content/drive/My Drive/FakeImageDetector/data...</td>\n",
       "      <td>0.934222</td>\n",
       "      <td>27.709780</td>\n",
       "      <td>Face2Face</td>\n",
       "      <td>0</td>\n",
       "      <td>Face2Face</td>\n",
       "      <td>983_113</td>\n",
       "      <td>983_113.mp4_11.jpg</td>\n",
       "      <td>1</td>\n",
       "      <td>983_113_1</td>\n",
       "    </tr>\n",
       "    <tr>\n",
       "      <th>5562</th>\n",
       "      <td>/content/drive/My Drive/FakeImageDetector/data...</td>\n",
       "      <td>0.899050</td>\n",
       "      <td>32.051836</td>\n",
       "      <td>Face2Face</td>\n",
       "      <td>0</td>\n",
       "      <td>Face2Face</td>\n",
       "      <td>983_113</td>\n",
       "      <td>983_113.mp4_1.jpg</td>\n",
       "      <td>1</td>\n",
       "      <td>983_113_1</td>\n",
       "    </tr>\n",
       "    <tr>\n",
       "      <th>2931</th>\n",
       "      <td>/content/drive/My Drive/FakeImageDetector/data...</td>\n",
       "      <td>0.955225</td>\n",
       "      <td>21.333552</td>\n",
       "      <td>Face2Face</td>\n",
       "      <td>0</td>\n",
       "      <td>Face2Face</td>\n",
       "      <td>990_008</td>\n",
       "      <td>990_008.mp4_1.jpg</td>\n",
       "      <td>1</td>\n",
       "      <td>990_008_1</td>\n",
       "    </tr>\n",
       "    <tr>\n",
       "      <th>3821</th>\n",
       "      <td>/content/drive/My Drive/FakeImageDetector/data...</td>\n",
       "      <td>0.877169</td>\n",
       "      <td>23.622939</td>\n",
       "      <td>Face2Face</td>\n",
       "      <td>0</td>\n",
       "      <td>Face2Face</td>\n",
       "      <td>990_008</td>\n",
       "      <td>990_008.mp4_11.jpg</td>\n",
       "      <td>1</td>\n",
       "      <td>990_008_1</td>\n",
       "    </tr>\n",
       "    <tr>\n",
       "      <th>1563</th>\n",
       "      <td>/content/drive/My Drive/FakeImageDetector/data...</td>\n",
       "      <td>0.695786</td>\n",
       "      <td>31.800662</td>\n",
       "      <td>Face2Face</td>\n",
       "      <td>0</td>\n",
       "      <td>Face2Face</td>\n",
       "      <td>993_989</td>\n",
       "      <td>993_989.mp4_1.jpg</td>\n",
       "      <td>1</td>\n",
       "      <td>993_989_1</td>\n",
       "    </tr>\n",
       "    <tr>\n",
       "      <th>5094</th>\n",
       "      <td>/content/drive/My Drive/FakeImageDetector/data...</td>\n",
       "      <td>0.701691</td>\n",
       "      <td>27.768774</td>\n",
       "      <td>Face2Face</td>\n",
       "      <td>0</td>\n",
       "      <td>Face2Face</td>\n",
       "      <td>993_989</td>\n",
       "      <td>993_989.mp4_11.jpg</td>\n",
       "      <td>1</td>\n",
       "      <td>993_989_1</td>\n",
       "    </tr>\n",
       "    <tr>\n",
       "      <th>7238</th>\n",
       "      <td>/content/drive/My Drive/FakeImageDetector/data...</td>\n",
       "      <td>0.889360</td>\n",
       "      <td>31.548088</td>\n",
       "      <td>Face2Face</td>\n",
       "      <td>0</td>\n",
       "      <td>Face2Face</td>\n",
       "      <td>994_986</td>\n",
       "      <td>994_986.mp4_1.jpg</td>\n",
       "      <td>1</td>\n",
       "      <td>994_986_1</td>\n",
       "    </tr>\n",
       "    <tr>\n",
       "      <th>8373</th>\n",
       "      <td>/content/drive/My Drive/FakeImageDetector/data...</td>\n",
       "      <td>0.514763</td>\n",
       "      <td>33.073058</td>\n",
       "      <td>Face2Face</td>\n",
       "      <td>0</td>\n",
       "      <td>Face2Face</td>\n",
       "      <td>994_986</td>\n",
       "      <td>994_986.mp4_11.jpg</td>\n",
       "      <td>1</td>\n",
       "      <td>994_986_1</td>\n",
       "    </tr>\n",
       "    <tr>\n",
       "      <th>3609</th>\n",
       "      <td>/content/drive/My Drive/FakeImageDetector/data...</td>\n",
       "      <td>0.026276</td>\n",
       "      <td>31.529679</td>\n",
       "      <td>Face2Face</td>\n",
       "      <td>0</td>\n",
       "      <td>Face2Face</td>\n",
       "      <td>995_233</td>\n",
       "      <td>995_233.mp4_11.jpg</td>\n",
       "      <td>1</td>\n",
       "      <td>995_233_1</td>\n",
       "    </tr>\n",
       "    <tr>\n",
       "      <th>5932</th>\n",
       "      <td>/content/drive/My Drive/FakeImageDetector/data...</td>\n",
       "      <td>0.162443</td>\n",
       "      <td>37.821975</td>\n",
       "      <td>Face2Face</td>\n",
       "      <td>0</td>\n",
       "      <td>Face2Face</td>\n",
       "      <td>995_233</td>\n",
       "      <td>995_233.mp4_1.jpg</td>\n",
       "      <td>1</td>\n",
       "      <td>995_233_1</td>\n",
       "    </tr>\n",
       "    <tr>\n",
       "      <th>116</th>\n",
       "      <td>/content/drive/My Drive/FakeImageDetector/data...</td>\n",
       "      <td>0.923837</td>\n",
       "      <td>26.990441</td>\n",
       "      <td>Face2Face</td>\n",
       "      <td>0</td>\n",
       "      <td>Face2Face</td>\n",
       "      <td>997_040</td>\n",
       "      <td>997_040.mp4_1.jpg</td>\n",
       "      <td>1</td>\n",
       "      <td>997_040_1</td>\n",
       "    </tr>\n",
       "    <tr>\n",
       "      <th>8180</th>\n",
       "      <td>/content/drive/My Drive/FakeImageDetector/data...</td>\n",
       "      <td>0.788196</td>\n",
       "      <td>32.451779</td>\n",
       "      <td>Face2Face</td>\n",
       "      <td>0</td>\n",
       "      <td>Face2Face</td>\n",
       "      <td>997_040</td>\n",
       "      <td>997_040.mp4_11.jpg</td>\n",
       "      <td>1</td>\n",
       "      <td>997_040_1</td>\n",
       "    </tr>\n",
       "  </tbody>\n",
       "</table>\n",
       "<p>691 rows × 10 columns</p>\n",
       "</div>"
      ],
      "text/plain": [
       "                                                filename    gender        age  \\\n",
       "index                                                                           \n",
       "8173   /content/drive/My Drive/FakeImageDetector/data...  0.922068  30.017989   \n",
       "9051   /content/drive/My Drive/FakeImageDetector/data...  0.950477  36.059862   \n",
       "4293   /content/drive/My Drive/FakeImageDetector/data...  0.014026  33.324502   \n",
       "6650   /content/drive/My Drive/FakeImageDetector/data...  0.015641  34.808076   \n",
       "4998   /content/drive/My Drive/FakeImageDetector/data...  0.048060  42.029892   \n",
       "9951   /content/drive/My Drive/FakeImageDetector/data...  0.028665  42.965258   \n",
       "6606   /content/drive/My Drive/FakeImageDetector/data...  0.260105  35.104502   \n",
       "7272   /content/drive/My Drive/FakeImageDetector/data...  0.041379  26.905789   \n",
       "1776   /content/drive/My Drive/FakeImageDetector/data...  0.944651  32.354272   \n",
       "4631   /content/drive/My Drive/FakeImageDetector/data...  0.923307  31.673482   \n",
       "8116   /content/drive/My Drive/FakeImageDetector/data...  0.939266  32.607569   \n",
       "5329   /content/drive/My Drive/FakeImageDetector/data...  0.050897  22.226442   \n",
       "8953   /content/drive/My Drive/FakeImageDetector/data...  0.058348  23.864011   \n",
       "284    /content/drive/My Drive/FakeImageDetector/data...  0.067610  31.245230   \n",
       "5295   /content/drive/My Drive/FakeImageDetector/data...  0.116209  29.220227   \n",
       "1206   /content/drive/My Drive/FakeImageDetector/data...  0.021627  47.229997   \n",
       "1507   /content/drive/My Drive/FakeImageDetector/data...  0.024700  43.288232   \n",
       "1438   /content/drive/My Drive/FakeImageDetector/data...  0.009974  37.286792   \n",
       "1642   /content/drive/My Drive/FakeImageDetector/data...  0.014155  37.266851   \n",
       "3818   /content/drive/My Drive/FakeImageDetector/data...  0.118054  29.033408   \n",
       "6360   /content/drive/My Drive/FakeImageDetector/data...  0.045343  30.084610   \n",
       "4658   /content/drive/My Drive/FakeImageDetector/data...  0.032540  28.194448   \n",
       "9279   /content/drive/My Drive/FakeImageDetector/data...  0.048328  28.066703   \n",
       "2218   /content/drive/My Drive/FakeImageDetector/data...  0.046648  56.400754   \n",
       "9560   /content/drive/My Drive/FakeImageDetector/data...  0.037600  54.786284   \n",
       "3538   /content/drive/My Drive/FakeImageDetector/data...  0.882031  32.563686   \n",
       "7543   /content/drive/My Drive/FakeImageDetector/data...  0.865664  26.874673   \n",
       "345    /content/drive/My Drive/FakeImageDetector/data...  0.832591  38.522059   \n",
       "8748   /content/drive/My Drive/FakeImageDetector/data...  0.911745  40.789232   \n",
       "9477   /content/drive/My Drive/FakeImageDetector/data...  0.919244  39.330590   \n",
       "...                                                  ...       ...        ...   \n",
       "2787   /content/drive/My Drive/FakeImageDetector/data...  0.919387  26.297636   \n",
       "7292   /content/drive/My Drive/FakeImageDetector/data...  0.926496  25.971045   \n",
       "2012   /content/drive/My Drive/FakeImageDetector/data...  0.982831  19.981064   \n",
       "6867   /content/drive/My Drive/FakeImageDetector/data...  0.985688  20.534390   \n",
       "9030   /content/drive/My Drive/FakeImageDetector/data...  0.014087  35.746101   \n",
       "9088   /content/drive/My Drive/FakeImageDetector/data...  0.014666  34.277277   \n",
       "2749   /content/drive/My Drive/FakeImageDetector/data...  0.853208  25.274536   \n",
       "5134   /content/drive/My Drive/FakeImageDetector/data...  0.893609  22.909941   \n",
       "2605   /content/drive/My Drive/FakeImageDetector/data...  0.064319  27.413956   \n",
       "2744   /content/drive/My Drive/FakeImageDetector/data...  0.046527  27.905597   \n",
       "8538   /content/drive/My Drive/FakeImageDetector/data...  0.982672  30.298414   \n",
       "9905   /content/drive/My Drive/FakeImageDetector/data...  0.988842  20.577335   \n",
       "2442   /content/drive/My Drive/FakeImageDetector/data...  0.961694  31.408907   \n",
       "9956   /content/drive/My Drive/FakeImageDetector/data...  0.936923  29.535396   \n",
       "813    /content/drive/My Drive/FakeImageDetector/data...  0.928116  29.394995   \n",
       "9930   /content/drive/My Drive/FakeImageDetector/data...  0.890802  34.600027   \n",
       "5115   /content/drive/My Drive/FakeImageDetector/data...  0.935455  30.518211   \n",
       "7780   /content/drive/My Drive/FakeImageDetector/data...  0.961920  34.635759   \n",
       "309    /content/drive/My Drive/FakeImageDetector/data...  0.934222  27.709780   \n",
       "5562   /content/drive/My Drive/FakeImageDetector/data...  0.899050  32.051836   \n",
       "2931   /content/drive/My Drive/FakeImageDetector/data...  0.955225  21.333552   \n",
       "3821   /content/drive/My Drive/FakeImageDetector/data...  0.877169  23.622939   \n",
       "1563   /content/drive/My Drive/FakeImageDetector/data...  0.695786  31.800662   \n",
       "5094   /content/drive/My Drive/FakeImageDetector/data...  0.701691  27.768774   \n",
       "7238   /content/drive/My Drive/FakeImageDetector/data...  0.889360  31.548088   \n",
       "8373   /content/drive/My Drive/FakeImageDetector/data...  0.514763  33.073058   \n",
       "3609   /content/drive/My Drive/FakeImageDetector/data...  0.026276  31.529679   \n",
       "5932   /content/drive/My Drive/FakeImageDetector/data...  0.162443  37.821975   \n",
       "116    /content/drive/My Drive/FakeImageDetector/data...  0.923837  26.990441   \n",
       "8180   /content/drive/My Drive/FakeImageDetector/data...  0.788196  32.451779   \n",
       "\n",
       "          method  label fake_folder_name img_target_source  \\\n",
       "index                                                        \n",
       "8173   Face2Face      0        Face2Face           001_870   \n",
       "9051   Face2Face      0        Face2Face           001_870   \n",
       "4293   Face2Face      0        Face2Face           004_982   \n",
       "6650   Face2Face      0        Face2Face           004_982   \n",
       "4998   Face2Face      0        Face2Face           006_002   \n",
       "9951   Face2Face      0        Face2Face           006_002   \n",
       "6606   Face2Face      0        Face2Face           014_790   \n",
       "7272   Face2Face      0        Face2Face           014_790   \n",
       "1776   Face2Face      0        Face2Face           018_019   \n",
       "4631   Face2Face      0        Face2Face           018_019   \n",
       "8116   Face2Face      0        Face2Face           018_019   \n",
       "5329   Face2Face      0        Face2Face           020_344   \n",
       "8953   Face2Face      0        Face2Face           020_344   \n",
       "284    Face2Face      0        Face2Face           023_923   \n",
       "5295   Face2Face      0        Face2Face           023_923   \n",
       "1206   Face2Face      0        Face2Face           024_073   \n",
       "1507   Face2Face      0        Face2Face           024_073   \n",
       "1438   Face2Face      0        Face2Face           039_058   \n",
       "1642   Face2Face      0        Face2Face           039_058   \n",
       "3818   Face2Face      0        Face2Face           041_063   \n",
       "6360   Face2Face      0        Face2Face           041_063   \n",
       "4658   Face2Face      0        Face2Face           044_945   \n",
       "9279   Face2Face      0        Face2Face           044_945   \n",
       "2218   Face2Face      0        Face2Face           050_059   \n",
       "9560   Face2Face      0        Face2Face           050_059   \n",
       "3538   Face2Face      0        Face2Face           051_332   \n",
       "7543   Face2Face      0        Face2Face           051_332   \n",
       "345    Face2Face      0        Face2Face           053_095   \n",
       "8748   Face2Face      0        Face2Face           053_095   \n",
       "9477   Face2Face      0        Face2Face           053_095   \n",
       "...          ...    ...              ...               ...   \n",
       "2787   Face2Face      0        Face2Face           958_956   \n",
       "7292   Face2Face      0        Face2Face           958_956   \n",
       "2012   Face2Face      0        Face2Face           961_069   \n",
       "6867   Face2Face      0        Face2Face           961_069   \n",
       "9030   Face2Face      0        Face2Face           963_879   \n",
       "9088   Face2Face      0        Face2Face           963_879   \n",
       "2749   Face2Face      0        Face2Face           970_973   \n",
       "5134   Face2Face      0        Face2Face           970_973   \n",
       "2605   Face2Face      0        Face2Face           971_564   \n",
       "2744   Face2Face      0        Face2Face           971_564   \n",
       "8538   Face2Face      0        Face2Face           972_718   \n",
       "9905   Face2Face      0        Face2Face           972_718   \n",
       "2442   Face2Face      0        Face2Face           975_978   \n",
       "9956   Face2Face      0        Face2Face           975_978   \n",
       "813    Face2Face      0        Face2Face           977_075   \n",
       "9930   Face2Face      0        Face2Face           977_075   \n",
       "5115   Face2Face      0        Face2Face           980_992   \n",
       "7780   Face2Face      0        Face2Face           980_992   \n",
       "309    Face2Face      0        Face2Face           983_113   \n",
       "5562   Face2Face      0        Face2Face           983_113   \n",
       "2931   Face2Face      0        Face2Face           990_008   \n",
       "3821   Face2Face      0        Face2Face           990_008   \n",
       "1563   Face2Face      0        Face2Face           993_989   \n",
       "5094   Face2Face      0        Face2Face           993_989   \n",
       "7238   Face2Face      0        Face2Face           994_986   \n",
       "8373   Face2Face      0        Face2Face           994_986   \n",
       "3609   Face2Face      0        Face2Face           995_233   \n",
       "5932   Face2Face      0        Face2Face           995_233   \n",
       "116    Face2Face      0        Face2Face           997_040   \n",
       "8180   Face2Face      0        Face2Face           997_040   \n",
       "\n",
       "                  imgname img_copy imgname_copy  \n",
       "index                                            \n",
       "8173   001_870.mp4_11.jpg        1    001_870_1  \n",
       "9051    001_870.mp4_1.jpg        1    001_870_1  \n",
       "4293    004_982.mp4_1.jpg        1    004_982_1  \n",
       "6650   004_982.mp4_11.jpg        1    004_982_1  \n",
       "4998    006_002.mp4_1.jpg        1    006_002_1  \n",
       "9951   006_002.mp4_11.jpg        1    006_002_1  \n",
       "6606    014_790.mp4_1.jpg        1    014_790_1  \n",
       "7272   014_790.mp4_11.jpg        1    014_790_1  \n",
       "1776   018_019.mp4_21.jpg        1    018_019_1  \n",
       "4631    018_019.mp4_1.jpg        1    018_019_1  \n",
       "8116   018_019.mp4_11.jpg        1    018_019_1  \n",
       "5329   020_344.mp4_11.jpg        1    020_344_1  \n",
       "8953    020_344.mp4_1.jpg        1    020_344_1  \n",
       "284     023_923.mp4_1.jpg        1    023_923_1  \n",
       "5295   023_923.mp4_11.jpg        1    023_923_1  \n",
       "1206    024_073.mp4_1.jpg        1    024_073_1  \n",
       "1507   024_073.mp4_11.jpg        1    024_073_1  \n",
       "1438   039_058.mp4_11.jpg        1    039_058_1  \n",
       "1642    039_058.mp4_1.jpg        1    039_058_1  \n",
       "3818    041_063.mp4_1.jpg        1    041_063_1  \n",
       "6360   041_063.mp4_11.jpg        1    041_063_1  \n",
       "4658   044_945.mp4_11.jpg        1    044_945_1  \n",
       "9279    044_945.mp4_1.jpg        1    044_945_1  \n",
       "2218    050_059.mp4_1.jpg        1    050_059_1  \n",
       "9560   050_059.mp4_11.jpg        1    050_059_1  \n",
       "3538    051_332.mp4_1.jpg        1    051_332_1  \n",
       "7543   051_332.mp4_11.jpg        1    051_332_1  \n",
       "345    053_095.mp4_11.jpg        1    053_095_1  \n",
       "8748   053_095.mp4_21.jpg        1    053_095_1  \n",
       "9477    053_095.mp4_1.jpg        1    053_095_1  \n",
       "...                   ...      ...          ...  \n",
       "2787    958_956.mp4_1.jpg        1    958_956_1  \n",
       "7292   958_956.mp4_11.jpg        1    958_956_1  \n",
       "2012    961_069.mp4_1.jpg        1    961_069_1  \n",
       "6867   961_069.mp4_11.jpg        1    961_069_1  \n",
       "9030   963_879.mp4_11.jpg        1    963_879_1  \n",
       "9088    963_879.mp4_1.jpg        1    963_879_1  \n",
       "2749    970_973.mp4_1.jpg        1    970_973_1  \n",
       "5134   970_973.mp4_11.jpg        1    970_973_1  \n",
       "2605   971_564.mp4_11.jpg        1    971_564_1  \n",
       "2744    971_564.mp4_1.jpg        1    971_564_1  \n",
       "8538   972_718.mp4_11.jpg        1    972_718_1  \n",
       "9905    972_718.mp4_1.jpg        1    972_718_1  \n",
       "2442   975_978.mp4_11.jpg        1    975_978_1  \n",
       "9956    975_978.mp4_1.jpg        1    975_978_1  \n",
       "813     977_075.mp4_1.jpg        1    977_075_1  \n",
       "9930   977_075.mp4_11.jpg        1    977_075_1  \n",
       "5115    980_992.mp4_1.jpg        1    980_992_1  \n",
       "7780   980_992.mp4_11.jpg        1    980_992_1  \n",
       "309    983_113.mp4_11.jpg        1    983_113_1  \n",
       "5562    983_113.mp4_1.jpg        1    983_113_1  \n",
       "2931    990_008.mp4_1.jpg        1    990_008_1  \n",
       "3821   990_008.mp4_11.jpg        1    990_008_1  \n",
       "1563    993_989.mp4_1.jpg        1    993_989_1  \n",
       "5094   993_989.mp4_11.jpg        1    993_989_1  \n",
       "7238    994_986.mp4_1.jpg        1    994_986_1  \n",
       "8373   994_986.mp4_11.jpg        1    994_986_1  \n",
       "3609   995_233.mp4_11.jpg        1    995_233_1  \n",
       "5932    995_233.mp4_1.jpg        1    995_233_1  \n",
       "116     997_040.mp4_1.jpg        1    997_040_1  \n",
       "8180   997_040.mp4_11.jpg        1    997_040_1  \n",
       "\n",
       "[691 rows x 10 columns]"
      ]
     },
     "execution_count": 149,
     "metadata": {},
     "output_type": "execute_result"
    }
   ],
   "source": [
    "pd.concat(g for _, g in data_face2face_unq.groupby(\"imgname_copy\") if len(g) > 1)"
   ]
  },
  {
   "cell_type": "code",
   "execution_count": 154,
   "metadata": {},
   "outputs": [],
   "source": [
    "data_face2face_unq['img_copy'] = data_face2face_unq['imgname'].apply(lambda x: '11' if x[12:14] == '11' else '1')"
   ]
  },
  {
   "cell_type": "code",
   "execution_count": 172,
   "metadata": {},
   "outputs": [],
   "source": [
    "data_face2face_unq['img_copy'] = data_face2face_unq['imgname'].apply(lambda x: '11' if x[7] == '(' else '1')"
   ]
  },
  {
   "cell_type": "code",
   "execution_count": 173,
   "metadata": {},
   "outputs": [],
   "source": [
    "data_face2face_unq = data_face2face_unq[data_face2face_unq['img_copy'] != '11']"
   ]
  },
  {
   "cell_type": "code",
   "execution_count": 174,
   "metadata": {},
   "outputs": [
    {
     "name": "stdout",
     "output_type": "stream",
     "text": [
      "(999, 10)\n"
     ]
    }
   ],
   "source": [
    "print(data_face2face_unq.shape)"
   ]
  },
  {
   "cell_type": "code",
   "execution_count": 175,
   "metadata": {},
   "outputs": [
    {
     "data": {
      "text/html": [
       "<div>\n",
       "<style scoped>\n",
       "    .dataframe tbody tr th:only-of-type {\n",
       "        vertical-align: middle;\n",
       "    }\n",
       "\n",
       "    .dataframe tbody tr th {\n",
       "        vertical-align: top;\n",
       "    }\n",
       "\n",
       "    .dataframe thead th {\n",
       "        text-align: right;\n",
       "    }\n",
       "</style>\n",
       "<table border=\"1\" class=\"dataframe\">\n",
       "  <thead>\n",
       "    <tr style=\"text-align: right;\">\n",
       "      <th></th>\n",
       "      <th>filename</th>\n",
       "      <th>gender</th>\n",
       "      <th>age</th>\n",
       "      <th>method</th>\n",
       "      <th>label</th>\n",
       "      <th>fake_folder_name</th>\n",
       "      <th>img_target_source</th>\n",
       "      <th>imgname</th>\n",
       "      <th>img_copy</th>\n",
       "      <th>imgname_copy</th>\n",
       "    </tr>\n",
       "    <tr>\n",
       "      <th>index</th>\n",
       "      <th></th>\n",
       "      <th></th>\n",
       "      <th></th>\n",
       "      <th></th>\n",
       "      <th></th>\n",
       "      <th></th>\n",
       "      <th></th>\n",
       "      <th></th>\n",
       "      <th></th>\n",
       "      <th></th>\n",
       "    </tr>\n",
       "  </thead>\n",
       "  <tbody>\n",
       "    <tr>\n",
       "      <th>2205</th>\n",
       "      <td>/content/drive/My Drive/FakeImageDetector/data...</td>\n",
       "      <td>0.038104</td>\n",
       "      <td>33.920227</td>\n",
       "      <td>Face2Face</td>\n",
       "      <td>0</td>\n",
       "      <td>Face2Face</td>\n",
       "      <td>286_267</td>\n",
       "      <td>286_267.mp4_1.jpg</td>\n",
       "      <td>1</td>\n",
       "      <td>286_267_1</td>\n",
       "    </tr>\n",
       "    <tr>\n",
       "      <th>7083</th>\n",
       "      <td>/content/drive/My Drive/FakeImageDetector/data...</td>\n",
       "      <td>0.038104</td>\n",
       "      <td>33.920227</td>\n",
       "      <td>Face2Face</td>\n",
       "      <td>0</td>\n",
       "      <td>Face2Face</td>\n",
       "      <td>286_267</td>\n",
       "      <td>286_267 (1).mp4_1.jpg</td>\n",
       "      <td>1</td>\n",
       "      <td>286_267_1</td>\n",
       "    </tr>\n",
       "    <tr>\n",
       "      <th>5949</th>\n",
       "      <td>/content/drive/My Drive/FakeImageDetector/data...</td>\n",
       "      <td>0.955629</td>\n",
       "      <td>37.115073</td>\n",
       "      <td>Face2Face</td>\n",
       "      <td>0</td>\n",
       "      <td>Face2Face</td>\n",
       "      <td>618_629</td>\n",
       "      <td>618_629 (1).mp4_1.jpg</td>\n",
       "      <td>1</td>\n",
       "      <td>618_629_1</td>\n",
       "    </tr>\n",
       "    <tr>\n",
       "      <th>5950</th>\n",
       "      <td>/content/drive/My Drive/FakeImageDetector/data...</td>\n",
       "      <td>0.955629</td>\n",
       "      <td>37.115073</td>\n",
       "      <td>Face2Face</td>\n",
       "      <td>0</td>\n",
       "      <td>Face2Face</td>\n",
       "      <td>618_629</td>\n",
       "      <td>618_629.mp4_1.jpg</td>\n",
       "      <td>1</td>\n",
       "      <td>618_629_1</td>\n",
       "    </tr>\n",
       "  </tbody>\n",
       "</table>\n",
       "</div>"
      ],
      "text/plain": [
       "                                                filename    gender        age  \\\n",
       "index                                                                           \n",
       "2205   /content/drive/My Drive/FakeImageDetector/data...  0.038104  33.920227   \n",
       "7083   /content/drive/My Drive/FakeImageDetector/data...  0.038104  33.920227   \n",
       "5949   /content/drive/My Drive/FakeImageDetector/data...  0.955629  37.115073   \n",
       "5950   /content/drive/My Drive/FakeImageDetector/data...  0.955629  37.115073   \n",
       "\n",
       "          method  label fake_folder_name img_target_source  \\\n",
       "index                                                        \n",
       "2205   Face2Face      0        Face2Face           286_267   \n",
       "7083   Face2Face      0        Face2Face           286_267   \n",
       "5949   Face2Face      0        Face2Face           618_629   \n",
       "5950   Face2Face      0        Face2Face           618_629   \n",
       "\n",
       "                     imgname img_copy imgname_copy  \n",
       "index                                               \n",
       "2205       286_267.mp4_1.jpg        1    286_267_1  \n",
       "7083   286_267 (1).mp4_1.jpg        1    286_267_1  \n",
       "5949   618_629 (1).mp4_1.jpg        1    618_629_1  \n",
       "5950       618_629.mp4_1.jpg        1    618_629_1  "
      ]
     },
     "execution_count": 175,
     "metadata": {},
     "output_type": "execute_result"
    }
   ],
   "source": [
    "pd.concat(g for _, g in data_face2face_unq.groupby(\"imgname_copy\") if len(g) > 1)"
   ]
  },
  {
   "cell_type": "code",
   "execution_count": 187,
   "metadata": {},
   "outputs": [
    {
     "name": "stdout",
     "output_type": "stream",
     "text": [
      "[1, 4, 7, 9, 21, 23, 33, 44, 64, 67, 75, 81, 85, 92, 96, 105, 116, 117, 123, 132, 142, 151, 184, 187, 191, 228, 231, 234, 246, 251, 253, 264, 276, 277, 284, 321, 353, 365, 366, 369, 374, 390, 392, 398, 423, 424, 441, 452, 474, 478, 480, 486, 490, 496, 498, 779, 791, 813, 814, 822, 825, 836, 844, 846, 848, 851, 857, 866, 884, 892, 909, 926, 930, 934, 964, 973, 983, 992, 993, 995, 998, 1007, 1024, 1028, 1031, 1051, 1073, 1084, 1094, 1108, 1118, 1119, 1130, 1153, 1170, 1181, 1182, 1205, 1206, 1209, 1218, 1225, 1246, 1274, 1275, 1277, 1293, 1295, 1301, 1313, 1315, 1317, 1318, 1336, 1369, 1385, 1402, 1422, 1428, 1437, 1457, 1479, 1488, 1493, 1497, 1500, 1509, 1511, 1521, 1543, 1546, 1554, 1563, 1564, 1568, 1575, 1589, 1607, 1617, 1624, 1625, 1636, 1642, 1650, 1656, 1657, 1722, 1728, 1729, 1730, 1737, 1742, 1748, 1750, 1758, 1769, 1784, 1823, 1840, 1841, 1842, 1862, 1880, 1885, 1938, 1954, 1960, 1963, 1964, 1979, 1991, 1997, 2005, 2010, 2011, 2012, 2014, 2042, 2061, 2064, 2072, 2073, 2096, 2099, 2100, 2101, 2104, 2107, 2118, 2120, 2127, 2139, 2153, 2182, 2205, 2218, 2222, 2260, 2274, 2282, 2288, 2290, 2291, 2309, 2311, 2312, 2334, 2337, 2353, 2365, 2389, 2392, 2396, 2429, 2432, 2460, 2464, 2472, 2475, 2484, 2485, 2487, 2509, 2526, 2537, 2548, 2557, 2563, 2565, 2566, 2579, 2582, 2583, 2592, 2623, 2625, 2628, 2639, 2644, 2649, 2651, 2666, 2667, 2689, 2690, 2695, 2698, 2722, 2735, 2736, 2743, 2744, 2748, 2749, 2759, 2761, 2784, 2787, 2822, 2824, 2826, 2845, 2855, 2859, 2861, 2867, 2874, 2884, 2892, 2893, 2898, 2912, 2929, 2931, 2947, 2977, 2979, 3011, 3028, 3037, 3047, 3056, 3062, 3071, 3096, 3111, 3112, 3126, 3140, 3142, 3153, 3179, 3185, 3189, 3204, 3205, 3223, 3225, 3238, 3242, 3249, 3256, 3258, 3288, 3293, 3295, 3304, 3316, 3318, 3338, 3348, 3362, 3369, 3382, 3392, 3413, 3436, 3441, 3454, 3469, 3478, 3496, 3505, 3511, 3533, 3538, 3539, 3547, 3553, 3564, 3566, 3572, 3578, 3586, 3588, 3596, 3612, 3620, 3621, 3626, 3634, 3642, 3651, 3660, 3665, 3668, 3691, 3692, 3695, 3702, 3719, 3740, 3741, 3744, 3765, 3767, 3793, 3798, 3800, 3812, 3818, 3819, 3820, 3832, 3853, 3861, 3862, 3874, 3881, 3894, 3901, 3910, 3921, 3943, 3948, 3977, 3978, 3979, 3991, 3997, 4015, 4028, 4033, 4047, 4049, 4067, 4071, 4072, 4078, 4094, 4096, 4120, 4128, 4130, 4132, 4137, 4140, 4181, 4185, 4190, 4200, 4204, 4209, 4212, 4213, 4216, 4224, 4238, 4243, 4244, 4261, 4268, 4279, 4281, 4293, 4323, 4341, 4343, 4358, 4376, 4377, 4381, 4383, 4385, 4397, 4433, 4440, 4456, 4459, 4475, 4476, 4480, 4501, 4507, 4515, 4530, 4538, 4545, 4546, 4547, 4548, 4555, 4558, 4563, 4564, 4612, 4631, 4632, 4633, 4649, 4656, 4673, 4684, 4694, 4725, 4728, 4729, 4732, 4742, 4747, 4753, 4757, 4760, 4763, 4773, 4775, 4792, 4807, 4817, 4820, 4827, 4837, 4851, 4867, 4873, 4889, 4890, 4901, 4926, 4932, 4935, 4950, 4952, 4953, 4974, 4992, 4996, 4998, 5003, 5010, 5013, 5016, 5020, 5021, 5037, 5054, 5069, 5079, 5082, 5107, 5110, 5115, 5135, 5164, 5167, 5172, 5187, 5215, 5225, 5240, 5241, 5250, 5254, 5258, 5265, 5271, 5310, 5323, 5333, 5345, 5346, 5347, 5370, 5372, 5378, 5385, 5407, 5409, 5410, 5427, 5428, 5432, 5457, 5481, 5500, 5508, 5514, 5517, 5519, 5537, 5553, 5554, 5556, 5562, 5569, 5577, 5578, 5591, 5593, 5623, 5638, 5643, 5660, 5667, 5675, 5689, 5703, 5720, 5721, 5725, 5743, 5747, 5751, 5759, 5769, 5782, 5789, 5810, 5817, 5823, 5830, 5832, 5839, 5842, 5843, 5859, 5860, 5866, 5868, 5892, 5932, 5941, 5943, 5947, 5949, 5975, 5984, 5989, 6005, 6017, 6029, 6030, 6059, 6071, 6083, 6095, 6115, 6118, 6128, 6130, 6136, 6142, 6144, 6151, 6162, 6186, 6211, 6216, 6223, 6231, 6265, 6273, 6279, 6288, 6304, 6306, 6312, 6342, 6354, 6361, 6374, 6379, 6380, 6392, 6400, 6417, 6419, 6426, 6459, 6466, 6471, 6477, 6484, 6489, 6497, 6498, 6517, 6529, 6532, 6533, 6537, 6541, 6544, 6548, 6559, 6560, 6561, 6569, 6580, 6588, 6593, 6606, 6618, 6621, 6627, 6637, 6666, 6679, 6682, 6685, 6692, 6702, 6710, 6711, 6717, 6719, 6747, 6750, 6770, 6776, 6780, 6790, 6793, 6831, 6835, 6852, 6855, 6857, 6871, 6873, 6886, 6891, 6905, 6922, 6959, 6971, 6989, 7011, 7014, 7030, 7037, 7074, 7112, 7122, 7124, 7131, 7143, 7146, 7198, 7199, 7201, 7203, 7205, 7228, 7237, 7238, 7244, 7255, 7262, 7289, 7291, 7306, 7309, 7310, 7316, 7334, 7341, 7352, 7355, 7356, 7375, 7379, 7382, 7387, 7389, 7392, 7397, 7399, 7406, 7411, 7412, 7413, 7425, 7428, 7443, 7456, 7488, 7489, 7496, 7499, 7512, 7519, 7520, 7535, 7546, 7548, 7572, 7576, 7590, 7604, 7614, 7621, 7627, 7628, 7632, 7643, 7650, 7670, 7673, 7681, 7685, 7689, 7690, 7691, 7701, 7709, 7717, 7718, 7757, 7758, 7771, 7778, 7796, 7805, 7823, 7838, 7839, 7863, 7882, 7888, 7897, 7898, 7917, 7918, 7934, 7990, 8008, 8032, 8038, 8048, 8058, 8059, 8065, 8066, 8068, 8088, 8090, 8093, 8108, 8139, 8150, 8162, 8166, 8171, 8181, 8195, 8215, 8229, 8232, 8248, 8272, 8276, 8281, 8284, 8289, 8304, 8309, 8312, 8313, 8322, 8340, 8350, 8356, 8374, 8393, 8394, 8396, 8400, 8410, 8415, 8417, 8426, 8457, 8464, 8468, 8485, 8486, 8494, 8504, 8508, 8535, 8542, 8543, 8545, 8548, 8551, 8554, 8555, 8558, 8580, 8588, 8589, 8603, 8605, 8609, 8619, 8624, 8684, 8687, 8708, 8712, 8713, 8726, 8729, 8738, 8741, 8742, 8745, 8795, 8805, 8807, 8812, 8814, 8820, 8825, 8826, 8839, 8845, 8848, 8850, 8869, 8878, 8882, 8891, 8897, 8907, 8918, 8933, 8952, 8953, 8961, 8977, 8984, 8988, 8990, 9003, 9013, 9023, 9051, 9053, 9055, 9065, 9074, 9078, 9086, 9087, 9088, 9110, 9144, 9151, 9155, 9163, 9194, 9223, 9227, 9237, 9242, 9255, 9266, 9273, 9275, 9278, 9279, 9321, 9335, 9358, 9360, 9361, 9367, 9368, 9377, 9387, 9419, 9445, 9453, 9463, 9477, 9487, 9498, 9503, 9510, 9535, 9546, 9551, 9557, 9576, 9587, 9591, 9604, 9606, 9620, 9623, 9635, 9657, 9662, 9670, 9681, 9700, 9724, 9729, 9737, 9739, 9761, 9762, 9764, 9770, 9771, 9795, 9803, 9806, 9813, 9818, 9820, 9838, 9844, 9852, 9885, 9893, 9896, 9900, 9905, 9916, 9919, 9937, 9941, 9945, 9946, 9956, 9964, 9976, 9997, 10004, 10029, 10031, 10036, 10054, 10060]\n"
     ]
    }
   ],
   "source": [
    "df = data_face2face_unq['img_target_source'].drop_duplicates()\n",
    "print(df.index.tolist())\n",
    "ind = df.index.tolist()"
   ]
  },
  {
   "cell_type": "code",
   "execution_count": 191,
   "metadata": {},
   "outputs": [
    {
     "name": "stdout",
     "output_type": "stream",
     "text": [
      "(997, 10)\n"
     ]
    },
    {
     "name": "stderr",
     "output_type": "stream",
     "text": [
      "/Users/ruska/anaconda/lib/python3.6/site-packages/ipykernel/__main__.py:1: DeprecationWarning: \n",
      ".ix is deprecated. Please use\n",
      ".loc for label based indexing or\n",
      ".iloc for positional indexing\n",
      "\n",
      "See the documentation here:\n",
      "http://pandas.pydata.org/pandas-docs/stable/indexing.html#ix-indexer-is-deprecated\n",
      "  if __name__ == '__main__':\n"
     ]
    }
   ],
   "source": [
    "data_face2face_unq = data_face2face_unq.ix[ind]\n",
    "print(data_face2face_unq.shape)"
   ]
  },
  {
   "cell_type": "code",
   "execution_count": null,
   "metadata": {},
   "outputs": [],
   "source": []
  },
  {
   "cell_type": "markdown",
   "metadata": {},
   "source": [
    "## duplicateRowsDF = data_face2face[data_face2face.duplicated()]\n",
    " \n",
    "print(\"Duplicate Rows except first occurrence based on all columns are :\")\n",
    "print(duplicateRowsDF)"
   ]
  },
  {
   "cell_type": "code",
   "execution_count": 280,
   "metadata": {},
   "outputs": [
    {
     "name": "stderr",
     "output_type": "stream",
     "text": [
      "/Users/ruska/anaconda/lib/python3.6/site-packages/ipykernel/__main__.py:1: SettingWithCopyWarning: \n",
      "A value is trying to be set on a copy of a slice from a DataFrame.\n",
      "Try using .loc[row_indexer,col_indexer] = value instead\n",
      "\n",
      "See the caveats in the documentation: http://pandas.pydata.org/pandas-docs/stable/indexing.html#indexing-view-versus-copy\n",
      "  if __name__ == '__main__':\n"
     ]
    }
   ],
   "source": [
    "data_face2face['gender10'] = data_face2face['gender'].apply(lambda x: 1 if x > 0.5 else 0)"
   ]
  },
  {
   "cell_type": "code",
   "execution_count": 192,
   "metadata": {},
   "outputs": [],
   "source": [
    "data_face2face_unq['gender10'] = data_face2face_unq['gender'].apply(lambda x: 1 if x > 0.5 else 0)"
   ]
  },
  {
   "cell_type": "code",
   "execution_count": 296,
   "metadata": {},
   "outputs": [],
   "source": [
    "data_45= data_real['imgname'].apply(lambda x: x[4:7])\n",
    "data_youtube = data_real[data_45 == 'mp4']"
   ]
  },
  {
   "cell_type": "code",
   "execution_count": 297,
   "metadata": {},
   "outputs": [
    {
     "name": "stdout",
     "output_type": "stream",
     "text": [
      "                                                filename    gender        age  \\\n",
      "index                                                                           \n",
      "3783   /content/drive/My Drive/FakeImageDetector/real...  0.741020  30.489572   \n",
      "3784   /content/drive/My Drive/FakeImageDetector/real...  0.820204  41.067036   \n",
      "3785   /content/drive/My Drive/FakeImageDetector/real...  0.819673  35.213776   \n",
      "3786   /content/drive/My Drive/FakeImageDetector/real...  0.750895  30.652613   \n",
      "3787   /content/drive/My Drive/FakeImageDetector/real...  0.014293  37.562783   \n",
      "\n",
      "      method  label fake_folder_name img_target_source              imgname  \n",
      "index                                                                        \n",
      "3783    Real      1         My Drive           007.mp4   007.mp4_image7.jpg  \n",
      "3784    Real      1         My Drive           007.mp4   007.mp4_image8.jpg  \n",
      "3785    Real      1         My Drive           007.mp4   007.mp4_image9.jpg  \n",
      "3786    Real      1         My Drive           007.mp4  007.mp4_image10.jpg  \n",
      "3787    Real      1         My Drive           039.mp4   039.mp4_image1.jpg  \n"
     ]
    }
   ],
   "source": [
    "print(data_youtube.head())"
   ]
  },
  {
   "cell_type": "code",
   "execution_count": 298,
   "metadata": {},
   "outputs": [
    {
     "name": "stdout",
     "output_type": "stream",
     "text": [
      "(8373, 8)\n"
     ]
    }
   ],
   "source": [
    "print(data_youtube.shape)"
   ]
  },
  {
   "cell_type": "code",
   "execution_count": 300,
   "metadata": {},
   "outputs": [
    {
     "name": "stderr",
     "output_type": "stream",
     "text": [
      "/Users/ruska/anaconda/lib/python3.6/site-packages/ipykernel/__main__.py:1: SettingWithCopyWarning: \n",
      "A value is trying to be set on a copy of a slice from a DataFrame.\n",
      "Try using .loc[row_indexer,col_indexer] = value instead\n",
      "\n",
      "See the caveats in the documentation: http://pandas.pydata.org/pandas-docs/stable/indexing.html#indexing-view-versus-copy\n",
      "  if __name__ == '__main__':\n"
     ]
    }
   ],
   "source": [
    "data_youtube['gender10'] = data_youtube['gender'].apply(lambda x: 1 if x > 0.5 else 0)"
   ]
  },
  {
   "cell_type": "code",
   "execution_count": 21,
   "metadata": {},
   "outputs": [
    {
     "data": {
      "image/png": "[encoded data removed]",
      "text/plain": [
       "<Figure size 432x288 with 1 Axes>"
      ]
     },
     "metadata": {
      "needs_background": "light"
     },
     "output_type": "display_data"
    }
   ],
   "source": [
    "import numpy as np\n",
    "#n, bins, patches = plt.hist(x=data_youtube['gender10'])\n",
    "plt.hist(x=data_youtube['gender10'])\n",
    "plt.xlabel('Value')\n",
    "plt.ylabel('Frequency')\n",
    "#plt.xticks(np.arange(0, 1.2, step=0.5))\n",
    "plt.title('Real Youtube Gender Distribution')\n",
    "plt.show()"
   ]
  },
  {
   "cell_type": "code",
   "execution_count": 111,
   "metadata": {},
   "outputs": [
    {
     "data": {
      "image/png": "[encoded data removed]",
      "text/plain": [
       "<Figure size 432x288 with 1 Axes>"
      ]
     },
     "metadata": {
      "needs_background": "light"
     },
     "output_type": "display_data"
    }
   ],
   "source": [
    "import numpy as np\n",
    "#n, bins, patches = plt.hist(x=data_youtube['gender10'])\n",
    "plt.hist(x=data_face2face['gender10'])\n",
    "plt.xlabel('Value')\n",
    "plt.ylabel('Frequency')\n",
    "#plt.xticks(np.arange(0, 1.2, step=0.5))\n",
    "plt.title('Real Youtube Gender Distribution')\n",
    "plt.show()"
   ]
  },
  {
   "cell_type": "code",
   "execution_count": null,
   "metadata": {},
   "outputs": [],
   "source": [
    "pd.value_counts(data_youtube['gender10']).plot.bar()\n",
    "print(data_youtube['gender10'].value_counts()/data_youtube.shape[0])"
   ]
  },
  {
   "cell_type": "code",
   "execution_count": 22,
   "metadata": {},
   "outputs": [
    {
     "data": {
      "image/png": "[encoded data removed]",
      "text/plain": [
       "<Figure size 432x288 with 1 Axes>"
      ]
     },
     "metadata": {
      "needs_background": "light"
     },
     "output_type": "display_data"
    }
   ],
   "source": [
    "import numpy as np\n",
    "#n, bins, patches = plt.hist(x=data_youtube['gender10'])\n",
    "plt.hist(x=data_youtube['age'])\n",
    "plt.xlabel('Value')\n",
    "plt.ylabel('Frequency')\n",
    "#plt.xticks(np.arange(0, 1.2, step=0.5))\n",
    "plt.title('Real Youtube Gender Distribution')\n",
    "plt.show()"
   ]
  },
  {
   "cell_type": "code",
   "execution_count": 113,
   "metadata": {},
   "outputs": [
    {
     "data": {
      "image/png": "[encoded data removed]",
      "text/plain": [
       "<Figure size 432x288 with 1 Axes>"
      ]
     },
     "metadata": {
      "needs_background": "light"
     },
     "output_type": "display_data"
    }
   ],
   "source": [
    "import numpy as np\n",
    "#n, bins, patches = plt.hist(x=data_youtube['gender10'])\n",
    "plt.hist(x=data_face2face['age'])\n",
    "plt.xlabel('Value')\n",
    "plt.ylabel('Frequency')\n",
    "#plt.xticks(np.arange(0, 1.2, step=0.5))\n",
    "plt.title('Real Youtube Gender Distribution')\n",
    "plt.show()"
   ]
  },
  {
   "cell_type": "code",
   "execution_count": 24,
   "metadata": {},
   "outputs": [
    {
     "name": "stdout",
     "output_type": "stream",
     "text": [
      "1    0.574585\n",
      "0    0.425415\n",
      "Name: gender10, dtype: float64\n"
     ]
    }
   ],
   "source": [
    "print(data_youtube['gender10'].value_counts()/data_youtube.shape[0])"
   ]
  },
  {
   "cell_type": "code",
   "execution_count": 112,
   "metadata": {},
   "outputs": [
    {
     "name": "stdout",
     "output_type": "stream",
     "text": [
      "1    0.558049\n",
      "0    0.441951\n",
      "Name: gender10, dtype: float64\n"
     ]
    }
   ],
   "source": [
    "print(data_face2face['gender10'].value_counts()/data_face2face.shape[0])"
   ]
  },
  {
   "cell_type": "code",
   "execution_count": 193,
   "metadata": {},
   "outputs": [
    {
     "name": "stdout",
     "output_type": "stream",
     "text": [
      "1    0.567703\n",
      "0    0.432297\n",
      "Name: gender10, dtype: float64\n"
     ]
    }
   ],
   "source": [
    "print(data_face2face_unq['gender10'].value_counts()/data_face2face_unq.shape[0])"
   ]
  },
  {
   "cell_type": "code",
   "execution_count": 301,
   "metadata": {},
   "outputs": [
    {
     "name": "stderr",
     "output_type": "stream",
     "text": [
      "/Users/ruska/anaconda/lib/python3.6/site-packages/ipykernel/__main__.py:2: SettingWithCopyWarning: \n",
      "A value is trying to be set on a copy of a slice from a DataFrame.\n",
      "Try using .loc[row_indexer,col_indexer] = value instead\n",
      "\n",
      "See the caveats in the documentation: http://pandas.pydata.org/pandas-docs/stable/indexing.html#indexing-view-versus-copy\n",
      "  from ipykernel import kernelapp as app\n"
     ]
    }
   ],
   "source": [
    "data_youtube['age_cat'] = pd.cut(data_youtube['age'], bins = [0., 20., 30., 40., 50., np.inf], labels = \n",
    "                                ['age_less_20', 'age_20_30', 'age_30_40', 'age_40_50', 'age_above_50'])"
   ]
  },
  {
   "cell_type": "code",
   "execution_count": 281,
   "metadata": {},
   "outputs": [
    {
     "name": "stderr",
     "output_type": "stream",
     "text": [
      "/Users/ruska/anaconda/lib/python3.6/site-packages/ipykernel/__main__.py:2: SettingWithCopyWarning: \n",
      "A value is trying to be set on a copy of a slice from a DataFrame.\n",
      "Try using .loc[row_indexer,col_indexer] = value instead\n",
      "\n",
      "See the caveats in the documentation: http://pandas.pydata.org/pandas-docs/stable/indexing.html#indexing-view-versus-copy\n",
      "  from ipykernel import kernelapp as app\n"
     ]
    }
   ],
   "source": [
    "data_face2face['age_cat'] = pd.cut(data_face2face['age'], bins = [0., 20., 30., 40., 50., np.inf], labels = \n",
    "                                ['age_less_20', 'age_20_30', 'age_30_40', 'age_40_50', 'age_above_50'])"
   ]
  },
  {
   "cell_type": "code",
   "execution_count": 194,
   "metadata": {},
   "outputs": [],
   "source": [
    "data_face2face_unq['age_cat'] = pd.cut(data_face2face_unq['age'], bins = [0., 20., 30., 40., 50., np.inf], labels = \n",
    "                                ['age_less_20', 'age_20_30', 'age_30_40', 'age_40_50', 'age_above_50'])"
   ]
  },
  {
   "cell_type": "code",
   "execution_count": 32,
   "metadata": {},
   "outputs": [
    {
     "name": "stdout",
     "output_type": "stream",
     "text": [
      "age_30_40       0.425773\n",
      "age_20_30       0.326884\n",
      "age_40_50       0.177953\n",
      "age_above_50    0.057208\n",
      "age_less_20     0.012182\n",
      "Name: age_cat, dtype: float64\n"
     ]
    }
   ],
   "source": [
    "print(data_youtube['age_cat'].value_counts()/data_youtube.shape[0])"
   ]
  },
  {
   "cell_type": "code",
   "execution_count": 115,
   "metadata": {},
   "outputs": [
    {
     "name": "stdout",
     "output_type": "stream",
     "text": [
      "age_30_40       0.401927\n",
      "age_20_30       0.380077\n",
      "age_40_50       0.156023\n",
      "age_above_50    0.044890\n",
      "age_less_20     0.017082\n",
      "Name: age_cat, dtype: float64\n"
     ]
    }
   ],
   "source": [
    "print(data_face2face['age_cat'].value_counts()/data_face2face.shape[0])"
   ]
  },
  {
   "cell_type": "code",
   "execution_count": 195,
   "metadata": {},
   "outputs": [
    {
     "name": "stdout",
     "output_type": "stream",
     "text": [
      "age_30_40       0.416249\n",
      "age_20_30       0.366098\n",
      "age_40_50       0.156469\n",
      "age_above_50    0.041123\n",
      "age_less_20     0.020060\n",
      "Name: age_cat, dtype: float64\n"
     ]
    }
   ],
   "source": [
    "print(data_face2face_unq['age_cat'].value_counts()/data_face2face_unq.shape[0])"
   ]
  },
  {
   "cell_type": "code",
   "execution_count": 282,
   "metadata": {},
   "outputs": [
    {
     "name": "stderr",
     "output_type": "stream",
     "text": [
      "/Users/ruska/anaconda/lib/python3.6/site-packages/ipykernel/__main__.py:1: SettingWithCopyWarning: \n",
      "A value is trying to be set on a copy of a slice from a DataFrame.\n",
      "Try using .loc[row_indexer,col_indexer] = value instead\n",
      "\n",
      "See the caveats in the documentation: http://pandas.pydata.org/pandas-docs/stable/indexing.html#indexing-view-versus-copy\n",
      "  if __name__ == '__main__':\n"
     ]
    }
   ],
   "source": [
    "data_face2face['gender_age_cat'] = data_face2face['gender10'].astype(str) + \"_\" + data_face2face['age_cat'].astype(str)"
   ]
  },
  {
   "cell_type": "code",
   "execution_count": 196,
   "metadata": {},
   "outputs": [],
   "source": [
    "data_face2face_unq['gender_age_cat'] = data_face2face_unq['gender10'].astype(str) + \"_\" + data_face2face_unq['age_cat'].astype(str)"
   ]
  },
  {
   "cell_type": "code",
   "execution_count": 302,
   "metadata": {},
   "outputs": [
    {
     "name": "stderr",
     "output_type": "stream",
     "text": [
      "/Users/ruska/anaconda/lib/python3.6/site-packages/ipykernel/__main__.py:1: SettingWithCopyWarning: \n",
      "A value is trying to be set on a copy of a slice from a DataFrame.\n",
      "Try using .loc[row_indexer,col_indexer] = value instead\n",
      "\n",
      "See the caveats in the documentation: http://pandas.pydata.org/pandas-docs/stable/indexing.html#indexing-view-versus-copy\n",
      "  if __name__ == '__main__':\n"
     ]
    }
   ],
   "source": [
    "data_youtube['gender_age_cat'] = data_youtube['gender10'].astype(str) + \"_\" + data_youtube['age_cat'].astype(str)"
   ]
  },
  {
   "cell_type": "code",
   "execution_count": 40,
   "metadata": {},
   "outputs": [
    {
     "data": {
      "text/plain": [
       "<matplotlib.axes._subplots.AxesSubplot at 0x11577e550>"
      ]
     },
     "execution_count": 40,
     "metadata": {},
     "output_type": "execute_result"
    },
    {
     "data": {
      "image/png": "[encoded data removed]",
      "text/plain": [
       "<Figure size 432x288 with 1 Axes>"
      ]
     },
     "metadata": {
      "needs_background": "light"
     },
     "output_type": "display_data"
    }
   ],
   "source": [
    "pd.value_counts(data_youtube['gender_age_cat']).plot.bar()"
   ]
  },
  {
   "cell_type": "code",
   "execution_count": 303,
   "metadata": {},
   "outputs": [
    {
     "data": {
      "text/plain": [
       "<matplotlib.axes._subplots.AxesSubplot at 0x1161c9cc0>"
      ]
     },
     "execution_count": 303,
     "metadata": {},
     "output_type": "execute_result"
    },
    {
     "data": {
      "image/png": "[encoded data removed]",
      "text/plain": [
       "<Figure size 432x288 with 1 Axes>"
      ]
     },
     "metadata": {
      "needs_background": "light"
     },
     "output_type": "display_data"
    }
   ],
   "source": [
    "pd.value_counts(data_face2face['gender_age_cat']).plot.bar()"
   ]
  },
  {
   "cell_type": "code",
   "execution_count": 304,
   "metadata": {},
   "outputs": [
    {
     "data": {
      "text/plain": [
       "<matplotlib.axes._subplots.AxesSubplot at 0x1156a76a0>"
      ]
     },
     "execution_count": 304,
     "metadata": {},
     "output_type": "execute_result"
    },
    {
     "data": {
      "image/png": "[encoded data removed]",
      "text/plain": [
       "<Figure size 432x288 with 1 Axes>"
      ]
     },
     "metadata": {
      "needs_background": "light"
     },
     "output_type": "display_data"
    }
   ],
   "source": [
    "pd.value_counts(data_face2face_unq['gender_age_cat']).plot.bar()"
   ]
  },
  {
   "cell_type": "code",
   "execution_count": 41,
   "metadata": {},
   "outputs": [
    {
     "name": "stdout",
     "output_type": "stream",
     "text": [
      "1_age_20_30       0.263108\n",
      "1_age_30_40       0.229308\n",
      "0_age_30_40       0.196465\n",
      "0_age_40_50       0.114774\n",
      "0_age_20_30       0.063776\n",
      "1_age_40_50       0.063179\n",
      "0_age_above_50    0.047892\n",
      "1_age_less_20     0.009674\n",
      "1_age_above_50    0.009316\n",
      "0_age_less_20     0.002508\n",
      "Name: gender_age_cat, dtype: float64\n"
     ]
    }
   ],
   "source": [
    "print(data_youtube['gender_age_cat'].value_counts()/data_youtube.shape[0])"
   ]
  },
  {
   "cell_type": "code",
   "execution_count": 198,
   "metadata": {},
   "outputs": [
    {
     "name": "stdout",
     "output_type": "stream",
     "text": [
      "1_age_20_30       0.299900\n",
      "0_age_30_40       0.215647\n",
      "1_age_30_40       0.200602\n",
      "0_age_40_50       0.109328\n",
      "0_age_20_30       0.066199\n",
      "1_age_40_50       0.047141\n",
      "0_age_above_50    0.034102\n",
      "1_age_less_20     0.013039\n",
      "0_age_less_20     0.007021\n",
      "1_age_above_50    0.007021\n",
      "Name: gender_age_cat, dtype: float64\n"
     ]
    }
   ],
   "source": [
    "print(data_face2face_unq['gender_age_cat'].value_counts()/data_face2face_unq.shape[0])"
   ]
  },
  {
   "cell_type": "code",
   "execution_count": 52,
   "metadata": {},
   "outputs": [],
   "source": [
    "from sklearn.model_selection import train_test_split\n",
    "train_set1, test_set1 = train_test_split(data_youtube, test_size=0.2, \n",
    "                                         stratify = data_youtube['gender_age_cat'], \n",
    "                                         random_state=42)"
   ]
  },
  {
   "cell_type": "code",
   "execution_count": 53,
   "metadata": {},
   "outputs": [
    {
     "name": "stdout",
     "output_type": "stream",
     "text": [
      "1_age_20_30       0.263064\n",
      "1_age_30_40       0.229322\n",
      "0_age_30_40       0.196477\n",
      "0_age_40_50       0.114810\n",
      "0_age_20_30       0.063750\n",
      "1_age_40_50       0.063153\n",
      "0_age_above_50    0.047925\n",
      "1_age_less_20     0.009704\n",
      "1_age_above_50    0.009256\n",
      "0_age_less_20     0.002538\n",
      "Name: gender_age_cat, dtype: float64\n"
     ]
    }
   ],
   "source": [
    "print(train_set1['gender_age_cat'].value_counts()/train_set1.shape[0])"
   ]
  },
  {
   "cell_type": "code",
   "execution_count": 54,
   "metadata": {},
   "outputs": [
    {
     "name": "stdout",
     "output_type": "stream",
     "text": [
      "1_age_20_30       0.263284\n",
      "1_age_30_40       0.229254\n",
      "0_age_30_40       0.196418\n",
      "0_age_40_50       0.114627\n",
      "0_age_20_30       0.063881\n",
      "1_age_40_50       0.063284\n",
      "0_age_above_50    0.047761\n",
      "1_age_less_20     0.009552\n",
      "1_age_above_50    0.009552\n",
      "0_age_less_20     0.002388\n",
      "Name: gender_age_cat, dtype: float64\n"
     ]
    }
   ],
   "source": [
    "print(test_set1['gender_age_cat'].value_counts()/test_set1.shape[0])"
   ]
  },
  {
   "cell_type": "code",
   "execution_count": 200,
   "metadata": {},
   "outputs": [],
   "source": [
    "target_source_f2f = data_face2face_unq['img_target_source'].tolist()"
   ]
  },
  {
   "cell_type": "code",
   "execution_count": 206,
   "metadata": {},
   "outputs": [
    {
     "name": "stdout",
     "output_type": "stream",
     "text": [
      "500\n",
      "500\n"
     ]
    }
   ],
   "source": [
    "target_half = []\n",
    "source_half = []\n",
    "for ts in target_source_f2f:\n",
    "    if ts[:3] not in source_half:\n",
    "        target_half.append(ts[:3])\n",
    "    if ts[4:7] not in target_half:\n",
    "        source_half.append(ts[4:7])\n",
    "print(len(target_half))\n",
    "print(len(source_half))"
   ]
  },
  {
   "cell_type": "code",
   "execution_count": 207,
   "metadata": {},
   "outputs": [],
   "source": [
    "data_face2face_unq['target'] = data_face2face_unq['img_target_source'].apply(lambda x: x[:3])\n",
    "data_face2face_unq['source'] = data_face2face_unq['img_target_source'].apply(lambda x: x[4:7])"
   ]
  },
  {
   "cell_type": "code",
   "execution_count": 222,
   "metadata": {},
   "outputs": [],
   "source": [
    "data_face2face_unq_target = data_face2face_unq[data_face2face_unq['target'].isin(target_half)]"
   ]
  },
  {
   "cell_type": "code",
   "execution_count": 223,
   "metadata": {},
   "outputs": [],
   "source": [
    "data_face2face_unq_source = data_face2face_unq[data_face2face_unq['target'].isin(source_half)]"
   ]
  },
  {
   "cell_type": "code",
   "execution_count": 228,
   "metadata": {},
   "outputs": [
    {
     "name": "stdout",
     "output_type": "stream",
     "text": [
      "1_age_20_30       0.299900\n",
      "0_age_30_40       0.215647\n",
      "1_age_30_40       0.200602\n",
      "0_age_40_50       0.109328\n",
      "0_age_20_30       0.066199\n",
      "1_age_40_50       0.047141\n",
      "0_age_above_50    0.034102\n",
      "1_age_less_20     0.013039\n",
      "0_age_less_20     0.007021\n",
      "1_age_above_50    0.007021\n",
      "Name: gender_age_cat, dtype: float64\n"
     ]
    }
   ],
   "source": [
    "print(data_face2face_unq['gender_age_cat'].value_counts()/data_face2face_unq.shape[0])"
   ]
  },
  {
   "cell_type": "code",
   "execution_count": 227,
   "metadata": {},
   "outputs": [
    {
     "name": "stdout",
     "output_type": "stream",
     "text": [
      "1_age_20_30       0.292\n",
      "1_age_30_40       0.214\n",
      "0_age_30_40       0.206\n",
      "0_age_40_50       0.114\n",
      "0_age_20_30       0.070\n",
      "1_age_40_50       0.036\n",
      "0_age_above_50    0.030\n",
      "1_age_less_20     0.018\n",
      "0_age_less_20     0.012\n",
      "1_age_above_50    0.008\n",
      "Name: gender_age_cat, dtype: float64\n"
     ]
    }
   ],
   "source": [
    "print(data_face2face_unq_target['gender_age_cat'].value_counts()/500)"
   ]
  },
  {
   "cell_type": "code",
   "execution_count": 226,
   "metadata": {},
   "outputs": [
    {
     "name": "stdout",
     "output_type": "stream",
     "text": [
      "1_age_20_30       0.306\n",
      "0_age_30_40       0.224\n",
      "1_age_30_40       0.186\n",
      "0_age_40_50       0.104\n",
      "0_age_20_30       0.062\n",
      "1_age_40_50       0.058\n",
      "0_age_above_50    0.038\n",
      "1_age_less_20     0.008\n",
      "1_age_above_50    0.006\n",
      "0_age_less_20     0.002\n",
      "Name: gender_age_cat, dtype: float64\n"
     ]
    }
   ],
   "source": [
    "print(data_face2face_unq_source['gender_age_cat'].value_counts()/500)"
   ]
  },
  {
   "cell_type": "code",
   "execution_count": 221,
   "metadata": {},
   "outputs": [
    {
     "name": "stdout",
     "output_type": "stream",
     "text": [
      "yes\n",
      "yes\n"
     ]
    }
   ],
   "source": [
    "if '015' in target_half:\n",
    "    print('yes')\n",
    "if '919' in source_half:\n",
    "    print('yes')"
   ]
  },
  {
   "cell_type": "code",
   "execution_count": 213,
   "metadata": {},
   "outputs": [
    {
     "name": "stdout",
     "output_type": "stream",
     "text": [
      "                                                filename    gender        age  \\\n",
      "index                                                                           \n",
      "1      /content/drive/My Drive/FakeImageDetector/data...  0.018259  39.866432   \n",
      "4      /content/drive/My Drive/FakeImageDetector/data...  0.983510  21.640931   \n",
      "7      /content/drive/My Drive/FakeImageDetector/data...  0.785545  23.871733   \n",
      "9      /content/drive/My Drive/FakeImageDetector/data...  0.909293  31.828538   \n",
      "21     /content/drive/My Drive/FakeImageDetector/data...  0.518979  37.803860   \n",
      "\n",
      "          method  label fake_folder_name img_target_source            imgname  \\\n",
      "index                                                                           \n",
      "1      Face2Face      0        Face2Face           377_333  377_333.mp4_1.jpg   \n",
      "4      Face2Face      0        Face2Face           390_709  390_709.mp4_1.jpg   \n",
      "7      Face2Face      0        Face2Face           763_930  763_930.mp4_1.jpg   \n",
      "9      Face2Face      0        Face2Face           650_625  650_625.mp4_1.jpg   \n",
      "21     Face2Face      0        Face2Face           015_919  015_919.mp4_1.jpg   \n",
      "\n",
      "      img_copy imgname_copy  gender10    age_cat gender_age_cat target source  \n",
      "index                                                                          \n",
      "1            1    377_333_1         0  age_30_40    0_age_30_40    377    333  \n",
      "4            1    390_709_1         1  age_20_30    1_age_20_30    390    709  \n",
      "7            1    763_930_1         1  age_20_30    1_age_20_30    763    930  \n",
      "9            1    650_625_1         1  age_30_40    1_age_30_40    650    625  \n",
      "21           1    015_919_1         1  age_30_40    1_age_30_40    015    919  \n"
     ]
    }
   ],
   "source": [
    "print(data_face2face_unq.head())"
   ]
  },
  {
   "cell_type": "code",
   "execution_count": 214,
   "metadata": {},
   "outputs": [
    {
     "name": "stdout",
     "output_type": "stream",
     "text": [
      "                                                filename    gender        age  \\\n",
      "index                                                                           \n",
      "1      /content/drive/My Drive/FakeImageDetector/data...  0.018259  39.866432   \n",
      "\n",
      "          method  label fake_folder_name img_target_source            imgname  \\\n",
      "index                                                                           \n",
      "1      Face2Face      0        Face2Face           377_333  377_333.mp4_1.jpg   \n",
      "\n",
      "      img_copy imgname_copy  gender10    age_cat gender_age_cat target source  \n",
      "index                                                                          \n",
      "1            1    377_333_1         0  age_30_40    0_age_30_40    377    333  \n"
     ]
    }
   ],
   "source": [
    "print(data_face2face_unq[data_face2face_unq['target'] == '377'])"
   ]
  },
  {
   "cell_type": "code",
   "execution_count": 215,
   "metadata": {},
   "outputs": [
    {
     "name": "stdout",
     "output_type": "stream",
     "text": [
      "                                                filename    gender        age  \\\n",
      "index                                                                           \n",
      "4071   /content/drive/My Drive/FakeImageDetector/data...  0.033769  36.894009   \n",
      "\n",
      "          method  label fake_folder_name img_target_source            imgname  \\\n",
      "index                                                                           \n",
      "4071   Face2Face      0        Face2Face           333_377  333_377.mp4_1.jpg   \n",
      "\n",
      "      img_copy imgname_copy  gender10    age_cat gender_age_cat target source  \n",
      "index                                                                          \n",
      "4071         1    333_377_1         0  age_30_40    0_age_30_40    333    377  \n"
     ]
    }
   ],
   "source": [
    "print(data_face2face_unq[data_face2face_unq['target'] == '333'])"
   ]
  },
  {
   "cell_type": "code",
   "execution_count": 216,
   "metadata": {},
   "outputs": [
    {
     "name": "stdout",
     "output_type": "stream",
     "text": [
      "                                                filename    gender       age  \\\n",
      "index                                                                          \n",
      "21     /content/drive/My Drive/FakeImageDetector/data...  0.518979  37.80386   \n",
      "\n",
      "          method  label fake_folder_name img_target_source            imgname  \\\n",
      "index                                                                           \n",
      "21     Face2Face      0        Face2Face           015_919  015_919.mp4_1.jpg   \n",
      "\n",
      "      img_copy imgname_copy  gender10    age_cat gender_age_cat target source  \n",
      "index                                                                          \n",
      "21           1    015_919_1         1  age_30_40    1_age_30_40    015    919  \n"
     ]
    }
   ],
   "source": [
    "print(data_face2face_unq[data_face2face_unq['target'] == '015'])"
   ]
  },
  {
   "cell_type": "code",
   "execution_count": 217,
   "metadata": {},
   "outputs": [
    {
     "name": "stdout",
     "output_type": "stream",
     "text": [
      "                                                filename    gender        age  \\\n",
      "index                                                                           \n",
      "5743   /content/drive/My Drive/FakeImageDetector/data...  0.078723  26.030245   \n",
      "\n",
      "          method  label fake_folder_name img_target_source            imgname  \\\n",
      "index                                                                           \n",
      "5743   Face2Face      0        Face2Face           919_015  919_015.mp4_1.jpg   \n",
      "\n",
      "      img_copy imgname_copy  gender10    age_cat gender_age_cat target source  \n",
      "index                                                                          \n",
      "5743         1    919_015_1         0  age_20_30    0_age_20_30    919    015  \n"
     ]
    }
   ],
   "source": [
    "print(data_face2face_unq[data_face2face_unq['target'] == '919'])"
   ]
  },
  {
   "cell_type": "code",
   "execution_count": 209,
   "metadata": {},
   "outputs": [
    {
     "data": {
      "text/plain": [
       "(500, 15)"
      ]
     },
     "execution_count": 209,
     "metadata": {},
     "output_type": "execute_result"
    }
   ],
   "source": [
    "data_face2face_unq_target.shape"
   ]
  },
  {
   "cell_type": "code",
   "execution_count": null,
   "metadata": {},
   "outputs": [],
   "source": [
    "targets = df.isin([0, 2])"
   ]
  },
  {
   "cell_type": "code",
   "execution_count": null,
   "metadata": {},
   "outputs": [],
   "source": []
  },
  {
   "cell_type": "code",
   "execution_count": 229,
   "metadata": {},
   "outputs": [],
   "source": [
    "data_face2face_unq_target_train_validation, data_face2face_unq_target_test = train_test_split(data_face2face_unq_target, test_size=0.2, \n",
    "                                         stratify = data_face2face_unq_target['gender_age_cat'], \n",
    "                                         random_state=42)"
   ]
  },
  {
   "cell_type": "code",
   "execution_count": 230,
   "metadata": {},
   "outputs": [],
   "source": [
    "data_face2face_unq_target_train, data_face2face_target_unq_val = train_test_split(data_face2face_unq_target_train_validation, test_size=0.2, \n",
    "                                         stratify = data_face2face_unq_target_train_validation['gender_age_cat'], \n",
    "                                         random_state=42)"
   ]
  },
  {
   "cell_type": "code",
   "execution_count": 118,
   "metadata": {},
   "outputs": [],
   "source": [
    "data_face2face_train_validation, data_face2face_test = train_test_split(data_face2face, test_size=0.2, \n",
    "                                         stratify = data_face2face['gender_age_cat'], \n",
    "                                         random_state=42)"
   ]
  },
  {
   "cell_type": "code",
   "execution_count": 119,
   "metadata": {},
   "outputs": [],
   "source": [
    "data_face2face_train, data_face2face_val = train_test_split(data_face2face_train_validation, test_size=0.2, \n",
    "                                         stratify = data_face2face_train_validation['gender_age_cat'], \n",
    "                                         random_state=42)"
   ]
  },
  {
   "cell_type": "code",
   "execution_count": 64,
   "metadata": {},
   "outputs": [],
   "source": [
    "data_youtube_train_validation, data_youtube_test = train_test_split(data_youtube, test_size=0.2, \n",
    "                                         stratify = data_youtube['gender_age_cat'], \n",
    "                                         random_state=42)"
   ]
  },
  {
   "cell_type": "code",
   "execution_count": 67,
   "metadata": {},
   "outputs": [],
   "source": [
    "data_youtube_train, data_youtube_val = train_test_split(data_youtube_train_validation, test_size=0.2, \n",
    "                                         stratify = data_youtube_train_validation['gender_age_cat'], \n",
    "                                         random_state=42)"
   ]
  },
  {
   "cell_type": "code",
   "execution_count": 71,
   "metadata": {},
   "outputs": [
    {
     "name": "stdout",
     "output_type": "stream",
     "text": [
      "1    0.574585\n",
      "0    0.425415\n",
      "Name: gender10, dtype: float64\n"
     ]
    },
    {
     "data": {
      "image/png": "[encoded data removed]",
      "text/plain": [
       "<Figure size 432x288 with 1 Axes>"
      ]
     },
     "metadata": {
      "needs_background": "light"
     },
     "output_type": "display_data"
    }
   ],
   "source": [
    "pd.value_counts(data_youtube['gender10']).plot.bar()\n",
    "print(data_youtube['gender10'].value_counts()/data_youtube.shape[0])"
   ]
  },
  {
   "cell_type": "code",
   "execution_count": 72,
   "metadata": {},
   "outputs": [
    {
     "name": "stdout",
     "output_type": "stream",
     "text": [
      "1    0.574468\n",
      "0    0.425532\n",
      "Name: gender10, dtype: float64\n"
     ]
    },
    {
     "data": {
      "image/png": "[encoded data removed]",
      "text/plain": [
       "<Figure size 432x288 with 1 Axes>"
      ]
     },
     "metadata": {
      "needs_background": "light"
     },
     "output_type": "display_data"
    }
   ],
   "source": [
    "pd.value_counts(data_youtube_train['gender10']).plot.bar()\n",
    "print(data_youtube_train['gender10'].value_counts()/data_youtube_train.shape[0])"
   ]
  },
  {
   "cell_type": "code",
   "execution_count": 73,
   "metadata": {},
   "outputs": [
    {
     "name": "stdout",
     "output_type": "stream",
     "text": [
      "1    0.574627\n",
      "0    0.425373\n",
      "Name: gender10, dtype: float64\n"
     ]
    },
    {
     "data": {
      "image/png": "[encoded data removed]",
      "text/plain": [
       "<Figure size 432x288 with 1 Axes>"
      ]
     },
     "metadata": {
      "needs_background": "light"
     },
     "output_type": "display_data"
    }
   ],
   "source": [
    "pd.value_counts(data_youtube_val['gender10']).plot.bar()\n",
    "print(data_youtube_val['gender10'].value_counts()/data_youtube_val.shape[0])"
   ]
  },
  {
   "cell_type": "code",
   "execution_count": 74,
   "metadata": {},
   "outputs": [
    {
     "name": "stdout",
     "output_type": "stream",
     "text": [
      "1    0.574925\n",
      "0    0.425075\n",
      "Name: gender10, dtype: float64\n"
     ]
    },
    {
     "data": {
      "image/png": "[encoded data removed]",
      "text/plain": [
       "<Figure size 432x288 with 1 Axes>"
      ]
     },
     "metadata": {
      "needs_background": "light"
     },
     "output_type": "display_data"
    }
   ],
   "source": [
    "pd.value_counts(data_youtube_test['gender10']).plot.bar()\n",
    "print(data_youtube_test['gender10'].value_counts()/data_youtube_test.shape[0])"
   ]
  },
  {
   "cell_type": "code",
   "execution_count": 75,
   "metadata": {},
   "outputs": [
    {
     "data": {
      "image/png": "[encoded data removed]",
      "text/plain": [
       "<Figure size 432x288 with 1 Axes>"
      ]
     },
     "metadata": {
      "needs_background": "light"
     },
     "output_type": "display_data"
    }
   ],
   "source": [
    "import numpy as np\n",
    "#n, bins, patches = plt.hist(x=data_youtube['gender10'])\n",
    "plt.hist(x=data_youtube['age'])\n",
    "plt.xlabel('Value')\n",
    "plt.ylabel('Frequency')\n",
    "#plt.xticks(np.arange(0, 1.2, step=0.5))\n",
    "plt.title('Real Youtube Gender Distribution')\n",
    "plt.show()"
   ]
  },
  {
   "cell_type": "code",
   "execution_count": 76,
   "metadata": {},
   "outputs": [
    {
     "data": {
      "image/png": "[encoded data removed]",
      "text/plain": [
       "<Figure size 432x288 with 1 Axes>"
      ]
     },
     "metadata": {
      "needs_background": "light"
     },
     "output_type": "display_data"
    }
   ],
   "source": [
    "import numpy as np\n",
    "#n, bins, patches = plt.hist(x=data_youtube['gender10'])\n",
    "plt.hist(x=data_youtube_train['age'])\n",
    "plt.xlabel('Value')\n",
    "plt.ylabel('Frequency')\n",
    "#plt.xticks(np.arange(0, 1.2, step=0.5))\n",
    "plt.title('Real Youtube Gender Distribution')\n",
    "plt.show()"
   ]
  },
  {
   "cell_type": "code",
   "execution_count": 77,
   "metadata": {},
   "outputs": [
    {
     "data": {
      "image/png": "[encoded data removed]",
      "text/plain": [
       "<Figure size 432x288 with 1 Axes>"
      ]
     },
     "metadata": {
      "needs_background": "light"
     },
     "output_type": "display_data"
    }
   ],
   "source": [
    "import numpy as np\n",
    "#n, bins, patches = plt.hist(x=data_youtube['gender10'])\n",
    "plt.hist(x=data_youtube_test['age'])\n",
    "plt.xlabel('Value')\n",
    "plt.ylabel('Frequency')\n",
    "#plt.xticks(np.arange(0, 1.2, step=0.5))\n",
    "plt.title('Real Youtube Gender Distribution')\n",
    "plt.show()"
   ]
  },
  {
   "cell_type": "code",
   "execution_count": 78,
   "metadata": {},
   "outputs": [
    {
     "data": {
      "image/png": "[encoded data removed]",
      "text/plain": [
       "<Figure size 432x288 with 1 Axes>"
      ]
     },
     "metadata": {
      "needs_background": "light"
     },
     "output_type": "display_data"
    }
   ],
   "source": [
    "import numpy as np\n",
    "#n, bins, patches = plt.hist(x=data_youtube['gender10'])\n",
    "plt.hist(x=data_youtube_val['age'])\n",
    "plt.xlabel('Value')\n",
    "plt.ylabel('Frequency')\n",
    "#plt.xticks(np.arange(0, 1.2, step=0.5))\n",
    "plt.title('Real Youtube Gender Distribution')\n",
    "plt.show()"
   ]
  },
  {
   "cell_type": "code",
   "execution_count": 231,
   "metadata": {},
   "outputs": [
    {
     "data": {
      "image/png": "[encoded data removed]",
      "text/plain": [
       "<Figure size 432x288 with 1 Axes>"
      ]
     },
     "metadata": {
      "needs_background": "light"
     },
     "output_type": "display_data"
    }
   ],
   "source": [
    "import numpy as np\n",
    "#n, bins, patches = plt.hist(x=data_youtube['gender10'])\n",
    "plt.hist(x=data_face2face_unq_target_train['age'])\n",
    "plt.xlabel('Value')\n",
    "plt.ylabel('Frequency')\n",
    "#plt.xticks(np.arange(0, 1.2, step=0.5))\n",
    "plt.title('Real Youtube Gender Distribution')\n",
    "plt.show()"
   ]
  },
  {
   "cell_type": "code",
   "execution_count": 79,
   "metadata": {},
   "outputs": [
    {
     "name": "stdout",
     "output_type": "stream",
     "text": [
      "                                                filename    gender        age  \\\n",
      "index                                                                           \n",
      "9357   /content/drive/My Drive/FakeImageDetector/real...  0.985527  45.161220   \n",
      "5542   /content/drive/My Drive/FakeImageDetector/real...  0.015034  35.882441   \n",
      "7100   /content/drive/My Drive/FakeImageDetector/real...  0.940185  47.077362   \n",
      "5886   /content/drive/My Drive/FakeImageDetector/real...  0.800966  29.336288   \n",
      "5405   /content/drive/My Drive/FakeImageDetector/real...  0.904831  35.394705   \n",
      "\n",
      "      method  label             imgname  gender10    age_cat gender_age_cat  \n",
      "index                                                                        \n",
      "9357    Real      1  918.mp4_image3.jpg         1  age_40_50    1_age_40_50  \n",
      "5542    Real      1  631.mp4_image6.jpg         0  age_30_40    0_age_30_40  \n",
      "7100    Real      1  743.mp4_image2.jpg         1  age_40_50    1_age_40_50  \n",
      "5886    Real      1  095.mp4_image9.jpg         1  age_20_30    1_age_20_30  \n",
      "5405    Real      1  025.mp4_image8.jpg         1  age_30_40    1_age_30_40  \n"
     ]
    }
   ],
   "source": [
    "print(data_youtube_train.head())"
   ]
  },
  {
   "cell_type": "code",
   "execution_count": 83,
   "metadata": {},
   "outputs": [
    {
     "name": "stdout",
     "output_type": "stream",
     "text": [
      "['918', '631', '743', '095', '025', '685', '851', '989', '352', '589', '605', '808', '258', '302', '553', '015', '515', '347', '908', '132', '475', '527', '867', '648', '596', '762', '490', '660', '864', '950', '211', '707', '922', '992', '436', '222', '196', '648', '081', '992', '849', '185', '721', '361', '309', '557', '298', '653', '732', '054', '703', '078', '556', '245', '782', '833', '954', '947', '283', '327', '458', '140', '184', '331', '087', '023', '317', '995', '236', '199', '366', '910', '152', '325', '350', '081', '840', '904', '878', '094', '221', '046', '010', '246', '155', '388', '235', '832', '177', '164', '937', '346', '806', '016', '802', '089', '184', '857', '982', '162', '683', '095', '964', '443', '783', '257', '462', '528', '317', '365', '663', '893', '984', '608', '201', '557', '884', '742', '976', '920', '605', '060', '809', '723', '531', '355', '569', '679', '189', '650', '810', '097', '439', '844', '595', '018', '898', '197', '874', '222', '607', '302', '485', '512', '766', '056', '608', '250', '562', '790', '810', '604', '327', '253', '649', '089', '704', '998', '986', '644', '402', '051', '092', '491', '027', '002', '194', '192', '729', '087', '153', '399', '924', '324', '052', '403', '281', '495', '014', '016', '000', '059', '803', '757', '819', '515', '815', '983', '279', '956', '000', '221', '278', '021', '825', '279', '652', '678', '626', '845', '251', '996', '173', '064', '444', '183', '362', '958', '897', '055', '232', '136', '936', '354', '452', '063', '346', '651', '277', '444', '249', '326', '109', '974', '045', '747', '974', '867', '309', '286', '977', '686', '540', '895', '283', '600', '520', '723', '089', '595', '318', '558', '501', '944', '015', '043', '719', '309', '832', '602', '837', '681', '979', '463', '470', '811', '999', '237', '535', '687', '379', '733', '657', '528', '737', '392', '539', '513', '729', '785', '641', '041', '210', '270', '288', '952', '376', '178', '945', '361', '460', '790', '962', '535', '861', '377', '918', '511', '371', '062', '876', '267', '848', '158', '495', '268', '125', '207', '606', '230', '707', '804', '503', '090', '268', '402', '342', '460', '913', '127', '421', '503', '040', '651', '152', '477', '982', '576', '582', '153', '035', '486', '497', '727', '494', '503', '216', '951', '771', '000', '850', '527', '501', '719', '402', '752', '794', '412', '883', '997', '533', '686', '607', '801', '068', '461', '102', '923', '948', '245', '040', '549', '611', '393', '891', '051', '978', '774', '302', '143', '051', '874', '851', '977', '080', '160', '142', '062', '145', '044', '363', '813', '625', '355', '657', '214', '178', '972', '623', '629', '984', '932', '203', '202', '908', '329', '619', '132', '802', '131', '421', '068', '253', '143', '574', '626', '956', '279', '393', '058', '986', '469', '845', '795', '304', '465', '773', '815', '615', '004', '605', '762', '949', '379', '646', '201', '546', '670', '659', '716', '452', '495', '787', '266', '101', '948', '629', '496', '851', '875', '783', '310', '933', '401', '766', '117', '240', '531', '763', '224', '050', '897', '523', '825', '378', '708', '128', '992', '774', '060', '185', '794', '858', '266', '137', '653', '924', '692', '519', '834', '747', '197', '799', '662', '723', '756', '033', '041', '058', '283', '715', '114', '413', '464', '097', '146', '073', '935', '668', '819', '252', '789', '142', '095', '278', '833', '551', '391', '825', '575', '169', '584', '423', '793', '368', '158', '277', '485', '276', '637', '578', '799', '146', '650', '394', '389', '747', '197', '457', '626', '649', '526', '523', '889', '890', '137', '066', '379', '977', '808', '941', '023', '090', '378', '798', '454', '866', '667', '820', '145', '605', '915', '982', '596', '858', '801', '193', '982', '486', '016', '649', '822', '300', '553', '248', '998', '259', '892', '919', '058', '662', '486', '475', '435', '543', '437', '441', '991', '266', '277', '833', '272', '429', '485', '479', '518', '466', '559', '478', '489', '878', '629', '414', '141', '783', '839', '517', '696', '576', '793', '079', '732', '338', '525', '299', '917', '638', '749', '756', '363', '181', '404', '913', '947', '258', '437', '147', '079', '886', '117', '493', '341', '589', '610', '282', '853', '596', '488', '085', '114', '530', '901', '721', '443', '918', '338', '314', '712', '841', '771', '449', '453', '752', '113', '411', '339', '423', '829', '220', '088', '797', '478', '275', '047', '423', '684', '676', '788', '621', '244', '773', '128', '802', '852', '042', '867', '622', '579', '074', '864', '114', '880', '428', '572', '770', '884', '320', '229', '112', '081', '326', '371', '654', '039', '850', '474', '268', '133', '726', '232', '005', '867', '110', '661', '581', '888', '208', '811', '086', '315', '494', '867', '963', '461', '878', '020', '420', '240', '648', '269', '149', '756', '988', '955', '265', '331', '143', '574', '037', '887', '009', '097', '101', '221', '556', '119', '203', '578', '071', '290', '037', '050', '229', '666', '493', '505', '038', '671', '189', '044', '555', '616', '442', '720', '088', '100', '644', '035', '836', '039', '715', '650', '795', '615', '554', '473', '236', '977', '390', '713', '432', '655', '089', '262', '593', '145', '932', '758', '070', '994', '135', '103', '351', '932', '346', '598', '740', '950', '222', '540', '130', '697', '390', '415', '494', '920', '843', '919', '682', '516', '628', '217', '851', '237', '272', '184', '512', '318', '576', '867', '168', '114', '139', '496', '776', '880', '649', '502', '485', '730', '766', '930', '621', '413', '201', '409', '913', '935', '408', '810', '562', '238', '161', '661', '785', '895', '888', '885', '210', '050', '598', '618', '607', '090', '648', '010', '202', '628', '758', '553', '754', '058', '982', '582', '935', '219', '062', '789', '992', '187', '195', '236', '050', '367', '275', '999', '330', '042', '371', '125', '250', '077', '116', '412', '843', '378', '140', '904', '200', '805', '810', '467', '627', '324', '906', '535', '781', '563', '264', '526', '878', '967', '986', '097', '470', '261', '786', '007', '469', '242', '799', '830', '669', '251', '331', '448', '169', '879', '614', '650', '900', '490', '780', '109', '168', '081', '039', '498', '924', '486', '614', '416', '277', '558', '789', '625', '596', '324', '626', '206', '970', '307', '574', '649', '028', '874', '831', '655', '583', '318', '633', '980', '177', '515', '833', '966', '808', '551', '133', '787', '175', '734', '173', '023', '462', '009', '126', '268', '651', '091', '865', '619', '097', '123', '081', '321', '511', '596', '939', '150', '657', '494', '302', '358', '053', '813', '126', '909', '903', '361', '203', '094', '224', '506', '893', '627', '449', '981', '653', '111', '334', '724', '423', '268', '616', '215', '978', '940', '097', '526', '917', '435', '697', '780', '427', '470', '361', '720', '633', '088', '916', '572', '693', '196', '533', '798', '999', '206', '919', '581', '184', '832', '535', '995', '653', '897', '300', '028', '150', '307', '232', '298', '164', '713', '585', '247', '881', '733', '378', '767', '150', '284', '196', '142', '546', '208', '021', '989', '908', '778', '287', '251', '552', '866', '727', '184', '018', '330', '101', '461', '654', '190', '770', '019', '101', '597', '067', '088', '929', '462', '466', '570', '670', '975', '527', '840', '954', '780', '814', '302', '003', '401', '799', '063', '378', '019', '547', '533', '089', '570', '663', '109', '184', '460', '261', '173', '929', '063', '046', '392', '816', '421', '255', '629', '514', '388', '164', '551', '621', '704', '333', '106', '297', '930', '955', '422', '616', '932', '165', '728', '756', '197', '113', '137', '177', '781', '945', '745', '063', '207', '207', '392', '719', '074', '734', '820', '959', '640', '800', '464', '820', '502', '799', '387', '854', '545', '498', '103', '238', '753', '086', '785', '117', '181', '792', '280', '843', '589', '796', '317', '863', '951', '729', '284', '086', '489', '908', '853', '941', '094', '709', '647', '547', '079', '393', '341', '920', '314', '680', '712', '723', '112', '870', '664', '063', '642', '951', '725', '018', '908', '229', '284', '656', '726', '549', '422', '408', '406', '354', '262', '561', '947', '561', '867', '051', '136', '114', '280', '942', '417', '385', '767', '069', '208', '250', '434', '675', '703', '892', '229', '878', '393', '484', '616', '976', '950', '171', '174', '451', '931', '863', '821', '381', '607', '855', '584', '450', '178', '338', '425', '162', '353', '386', '177', '896', '358', '554', '224', '213', '057', '290', '810', '348', '064', '766', '549', '590', '530', '798', '995', '169', '204', '473', '909', '210', '568', '707', '968', '564', '854', '768', '478', '188', '827', '951', '274', '879', '415', '260', '691', '515', '599', '352', '437', '856', '691', '583', '808', '766', '883', '069', '651', '803', '669', '216', '360', '032', '605', '619', '491', '920', '207', '703', '448', '856', '833', '418', '567', '580', '373', '735', '467', '540', '961', '903', '966', '372', '293', '557', '384', '089', '987', '857', '672', '456', '407', '477', '795', '050', '309', '104', '530', '699', '530', '680', '810', '403', '339', '723', '852', '408', '391', '682', '569', '213', '599', '217', '807', '406', '710', '747', '039', '693', '010', '157', '871', '516', '465', '918', '095', '421', '170', '750', '926', '791', '313', '853', '063', '217', '425', '847', '299', '279', '600', '551', '484', '628', '880', '184', '090', '238', '926', '015', '367', '653', '081', '107', '134', '486', '792', '334', '461', '101', '162', '855', '592', '242', '388', '423', '146', '604', '715', '942', '977', '273', '073', '244', '155', '019', '496', '441', '101', '852', '612', '593', '832', '145', '378', '197', '156', '662', '052', '114', '940', '840', '943', '159', '730', '287', '557', '008', '201', '147', '298', '096', '407', '078', '596', '363', '829', '183', '549', '081', '955', '035', '837', '990', '171', '477', '802', '156', '073', '831', '313', '926', '321', '328', '306', '697', '321', '851', '706', '231', '825', '741', '390', '184', '071', '416', '754', '476', '681', '164', '297', '296', '431', '626', '590', '629', '724', '571', '116', '583', '064', '404', '317', '389', '870', '016', '114', '334', '574', '369', '278', '793', '409', '612', '384', '121', '528', '328', '311', '142', '218', '593', '912', '451', '727', '814', '451', '469', '197', '326', '145', '155', '099', '355', '037', '024', '421', '260', '900', '573', '029', '378', '277', '435', '699', '107', '369', '903', '693', '303', '771', '021', '228', '584', '917', '554', '299', '967', '966', '096', '505', '459', '532', '241', '710', '013', '653', '256', '631', '929', '817', '246', '423', '478', '687', '775', '200', '839', '460', '306', '898', '039', '740', '649', '595', '027', '199', '073', '291', '164', '500', '615', '417', '150', '131', '602', '396', '842', '341', '183', '013', '679', '508', '556', '086', '146', '868', '993', '958', '611', '046', '517', '682', '165', '499', '651', '769', '081', '197', '066', '123', '835', '763', '528', '019', '106', '284', '596', '495', '376', '682', '078', '507', '630', '889', '477', '677', '355', '905', '698', '356', '343', '950', '716', '815', '984', '957', '799', '752', '568', '631', '035', '388', '570', '464', '528', '221', '661', '649', '543', '210', '034', '340', '814', '026', '098', '373', '081', '180', '993', '941', '642', '608', '122', '691', '310', '456', '371', '332', '166', '766', '593', '095', '629', '201', '172', '078', '457', '707', '260', '249', '331', '728', '040', '924', '040', '884', '417', '710', '430', '530', '844', '479', '403', '743', '680', '268', '970', '040', '592', '300', '672', '151', '075', '783', '970', '491', '508', '145', '614', '336', '987', '978', '086', '649', '578', '480', '433', '452', '157', '534', '009', '990', '103', '331', '856', '955', '779', '851', '237', '934', '094', '851', '351', '821', '184', '321', '856', '665', '963', '554', '494', '882', '348', '356', '917', '617', '144', '077', '278', '148', '067', '152', '761', '532', '526', '756', '621', '609', '632', '953', '164', '687', '082', '398', '874', '659', '326', '100', '948', '540', '668', '564', '906', '851', '903', '785', '375', '359', '712', '587', '795', '244', '373', '316', '435', '502', '543', '627', '027', '711', '145', '184', '015', '935', '575', '778', '318', '379', '018', '584', '501', '922', '900', '063', '512', '918', '805', '642', '732', '844', '143', '251', '803', '762', '172', '014', '710', '719', '421', '029', '151', '894', '777', '166', '819', '713', '010', '309', '467', '329', '468', '050', '006', '369', '916', '984', '991', '793', '206', '238', '837', '763', '152', '931', '986', '343', '199', '997', '461', '688', '979', '268', '786', '063', '087', '766', '309', '599', '601', '530', '840', '917', '546', '251', '405', '593', '814', '741', '279', '217', '496', '367', '742', '414', '861', '455', '514', '215', '516', '017', '552', '899', '954', '571', '168', '768', '936', '415', '739', '881', '156', '432', '228', '590', '557', '718', '299', '685', '430', '948', '963', '639', '753', '423', '770', '060', '630', '472', '114', '817', '912', '436', '096', '668', '184', '655', '326', '810', '699', '720', '879', '788', '903', '468', '007', '395', '130', '537', '185', '722', '517', '519', '390', '631', '659', '242', '529', '844', '431', '300', '744', '250', '625', '635', '775', '021', '354', '689', '518', '499', '155', '761', '019', '886', '245', '497', '221', '905', '980', '829', '139', '609', '250', '629', '023', '077', '769', '724', '326', '612', '069', '751', '604', '402', '431', '965', '518', '514', '997', '255', '455', '815', '928', '266', '024', '528', '478', '942', '094', '324', '157', '065', '876', '711', '197', '167', '496', '914', '983', '547', '352', '861', '257', '992', '828', '733', '598', '194', '068', '875', '702', '310', '252', '314', '065', '994', '811', '545', '546', '016', '813', '650', '542', '650', '021', '326', '443', '705', '172', '834', '519', '844', '754', '462', '881', '118', '380', '384', '414', '857', '085', '408', '224', '626', '695', '108', '799', '248', '108', '142', '160', '585', '424', '799', '105', '168', '968', '273', '422', '540', '252', '455', '913', '587', '496', '420', '273', '874', '172', '365', '433', '310', '443', '707', '721', '955', '286', '854', '519', '867', '799', '183', '197', '485', '796', '575', '067', '837', '626', '771', '417', '889', '669', '507', '298', '287', '364', '380', '766', '887', '801', '886', '679', '286', '293', '856', '741', '407', '257', '675', '130', '858', '102', '343', '082', '014', '980', '434', '056', '473', '587', '170', '401', '372', '554', '568', '152', '403', '494', '389', '573', '780', '457', '879', '024', '490', '417', '153', '163', '089', '927', '828', '333', '788', '380', '140', '327', '982', '304', '937', '228', '413', '791', '924', '690', '525', '431', '286', '908', '832', '665', '121', '205', '310', '382', '161', '389', '321', '750', '495', '135', '280', '380', '506', '227', '292', '243', '012', '773', '189', '407', '257', '142', '820', '282', '561', '057', '019', '092', '569', '756', '742', '090', '844', '982', '166', '853', '016', '202', '297', '501', '282', '955', '293', '538', '463', '562', '203', '715', '669', '277', '798', '195', '611', '588', '850', '220', '261', '584', '217', '497', '741', '830', '047', '150', '166', '282', '600', '687', '726', '840', '734', '136', '398', '515', '079', '831', '682', '139', '401', '725', '258', '460', '734', '210', '053', '538', '088', '155', '808', '870', '643', '295', '392', '429', '616', '520', '420', '715', '928', '421', '610', '147', '436', '279', '063', '423', '770', '318', '270', '878', '834', '096', '898', '021', '766', '828', '497', '316', '887', '653', '984', '635', '715', '583', '056', '324', '111', '757', '070', '819', '693', '257', '242', '221', '132', '717', '311', '306', '877', '019', '635', '796', '107', '649', '619', '361', '720', '863', '323', '412', '449', '560', '234', '726', '275', '775', '008', '382', '069', '618', '148', '534', '180', '043', '478', '556', '742', '647', '465', '635', '954', '368', '526', '700', '201', '049', '125', '501', '629', '508', '960', '390', '532', '882', '121', '666', '763', '399', '770', '290', '138', '160', '944', '319', '271', '060', '467', '773', '864', '840', '937', '033', '190', '639', '799', '477', '099', '488', '924', '542', '093', '700', '424', '674', '292', '069', '393', '950', '059', '423', '728', '653', '195', '519', '489', '597', '423', '710', '378', '892', '839', '388', '704', '841', '168', '996', '546', '307', '752', '895', '825', '007', '159', '137', '069', '395', '315', '189', '496', '498', '391', '365', '830', '936', '405', '002', '811', '335', '337', '569', '117', '398', '262', '608', '520', '589', '875', '790', '230', '810', '350', '213', '379', '260', '093', '453', '026', '684', '320', '170', '041', '696', '042', '420', '506', '221', '262', '180', '404', '924', '967', '931', '550', '674', '706', '973', '512', '525', '306', '269', '159', '806', '327', '731', '341', '014', '062', '558', '371', '089', '792', '706', '211', '237', '700', '443', '080', '771', '552', '302', '847', '237', '350', '200', '133', '194', '628', '699', '778', '125', '927', '817', '024', '175', '578', '684', '900', '054', '462', '820', '259', '486', '828', '632', '712', '799', '769', '420', '310', '961', '034', '656', '519', '838', '423', '667', '991', '314', '736', '543', '775', '390', '634', '066', '388', '069', '442', '675', '715', '702', '420', '341', '929', '647', '078', '164', '440', '369', '771', '532', '300', '480', '407', '549', '787', '988', '775', '849', '969', '071', '629', '050', '685', '272', '215', '257', '402', '131', '275', '147', '938', '395', '252', '604', '946', '489', '391', '612', '437', '026', '101', '306', '271', '313', '400', '153', '215', '656', '642', '064', '255', '003', '927', '988', '080', '952', '781', '494', '210', '277', '727', '914', '060', '750', '618', '487', '719', '606', '225', '347', '923', '406', '080', '420', '683', '809', '174', '763', '965', '734', '950', '681', '204', '118', '000', '918', '745', '788', '252', '634', '403', '420', '650', '384', '541', '601', '221', '131', '950', '725', '917', '297', '856', '397', '113', '222', '571', '137', '795', '059', '121', '659', '802', '708', '769', '546', '187', '947', '257', '235', '740', '745', '096', '894', '846', '095', '874', '913', '429', '008', '352', '523', '221', '188', '275', '273', '966', '162', '081', '942', '651', '502', '918', '984', '374', '924', '990', '916', '093', '484', '039', '564', '496', '026', '918', '165', '332', '035', '366', '168', '166', '541', '321', '423', '822', '206', '982', '269', '567', '383', '367', '170', '169', '845', '980', '806', '479', '333', '723', '506', '776', '013', '257', '136', '159', '327', '482', '588', '682', '611', '689', '649', '772', '614', '787', '265', '171', '938', '740', '614', '180', '244', '780', '462', '200', '966', '449', '185', '359', '193', '568', '227', '362', '533', '184', '817', '451', '659', '367', '156', '263', '460', '265', '330', '513', '368', '704', '722', '849', '425', '747', '536', '228', '065', '396', '299', '987', '456', '016', '866', '423', '551', '988', '587', '148', '234', '118', '114', '360', '184', '312', '681', '184', '201', '142', '302', '615', '254', '181', '230', '092', '990', '509', '626', '320', '012', '792', '987', '845', '829', '348', '626', '778', '033', '342', '438', '539', '218', '389', '371', '399', '539', '733', '294', '070', '101', '924', '414', '479', '009', '473', '208', '770', '054', '883', '751', '686', '753', '715', '986', '051', '428', '546', '249', '543', '583', '575', '113', '416', '851', '519', '605', '890', '689', '917', '822', '043', '877', '572', '007', '549', '976', '435', '998', '643', '324', '029', '143', '406', '206', '745', '253', '563', '503', '811', '147', '863', '881', '550', '729', '424', '261', '082', '187', '244', '542', '538', '196', '456', '136', '220', '989', '466', '072', '493', '856', '281', '540', '775', '524', '951', '681', '025', '175', '781', '142', '100', '056', '783', '457', '598', '862', '541', '277', '866', '631', '976', '523', '461', '122', '864', '700', '236', '480', '092', '046', '450', '616', '478', '496', '705', '682', '596', '117', '662', '945', '579', '045', '464', '451', '989', '208', '635', '116', '150', '325', '044', '458', '107', '422', '879', '986', '167', '104', '546', '049', '330', '354', '995', '390', '646', '659', '855', '222', '293', '495', '604', '392', '606', '788', '798', '551', '142', '166', '002', '856', '711', '215', '355', '095', '070', '897', '636', '555', '454', '182', '846', '460', '741', '395', '578', '628', '218', '899', '820', '642', '450', '452', '457', '130', '520', '460', '393', '444', '827', '771', '392', '456', '360', '470', '191', '164', '169', '767', '346', '423', '480', '452', '768', '266', '143', '063', '256', '023', '064', '881', '182', '870', '393', '188', '472', '042', '040', '676', '085', '699', '265', '047', '037', '253', '155', '951', '340', '856', '910', '820', '261', '042', '885', '623', '149', '033', '688', '679', '628', '850', '840', '582', '234', '776', '682', '792', '135', '128', '142', '334', '704', '472', '253', '323', '232', '642', '941', '390', '568', '168', '086', '334', '337', '752', '867', '744', '482', '350', '656', '040', '316', '224', '300', '529', '304', '696', '773', '629', '200', '276', '034', '530', '376', '315', '729', '423', '279', '922', '404', '826', '051', '364', '704', '513', '933', '907', '360', '137', '947', '932', '649', '868', '019', '414', '406', '265', '453', '286', '956', '851', '794', '156', '107', '299', '916', '743', '697', '665', '538', '121', '051', '864', '946', '768', '719', '054', '779', '818', '470', '324', '845', '052', '338', '146', '810', '951', '631', '260', '090', '118', '466', '268', '989', '855', '922', '366', '629', '698', '674', '158', '649', '587', '236', '931', '113', '986', '441', '614', '373', '461', '215', '610', '312', '551', '512', '178', '899', '203', '486', '947', '443', '184', '475', '306', '147', '599', '296', '503', '870', '752', '402', '203', '639', '623', '533', '416', '323', '539', '987', '391', '283', '348', '806', '758', '050', '206', '707', '164', '220', '374', '316', '844', '643', '358', '508', '772', '677', '801', '856', '690', '264', '336', '790', '670', '971', '596', '351', '138', '604', '370', '005', '559', '749', '519', '400', '385', '185', '363', '266', '404', '364', '337', '796', '075', '958', '184', '121', '772', '164', '257', '206', '700', '429', '771', '578', '288', '699', '944', '891', '069', '293', '674', '069', '790', '437', '387', '421', '693', '588', '025', '904', '901', '551', '182', '099', '857', '268', '089', '847', '064', '852', '597', '238', '982', '870', '507', '496', '293', '691', '173', '290', '185', '702', '234', '392', '656', '702', '766', '451', '182', '639', '814', '079', '924', '268', '565', '650', '894', '732', '505', '785', '987', '080', '338', '835', '049', '114', '484', '036', '142', '123', '813', '803', '242', '485', '127', '423', '906', '978', '306', '032', '867', '853', '245', '315', '455', '443', '640', '397', '526', '206', '342', '788', '754', '104', '616', '966', '470', '788', '139', '123', '524', '234', '032', '368', '748', '236', '949', '570', '022', '124', '485', '361', '130', '835', '197', '473', '334', '211', '601', '351', '889', '909', '487', '459', '204', '829', '924', '346', '199', '177', '881', '376', '839', '682', '981', '052', '527', '468', '219', '928', '380', '650', '611', '377', '772', '946', '470', '441', '543', '187', '531', '421', '786', '107', '505', '256', '290', '401', '450', '442', '294', '334', '487', '351', '981', '197', '031', '450', '369', '018', '497', '056', '721', '524', '512', '974', '290', '657', '856', '708', '658', '303', '766', '628', '451', '231', '017', '647', '244', '909', '787', '509', '236', '003', '914', '134', '035', '189', '733', '445', '920', '515', '184', '734', '773', '311', '235', '294', '600', '187', '189', '922', '954', '194', '987', '517', '019', '939', '286', '575', '624', '635', '292', '221', '855', '270', '820', '433', '486', '605', '234', '063', '036', '296', '037', '400', '412', '263', '687', '496', '248', '294', '497', '789', '989', '927', '023', '534', '008', '881', '720', '172', '372', '081', '741', '439', '073', '495', '101', '662', '660', '670', '313', '115', '813', '326', '734', '902', '101', '545', '103', '918', '531', '626', '799', '266', '629', '396', '565', '605', '627', '099', '961', '832', '035', '839', '385', '776', '978', '412', '180', '101', '610', '071', '687', '211', '846', '912', '896', '267', '114', '831', '903', '962', '614', '675', '813', '679', '114', '881', '427', '728', '830', '704', '538', '354', '291', '322', '470', '145', '078', '411', '287', '022', '113', '369', '268', '924', '116', '708', '850', '119', '963', '378', '211', '512', '730', '142', '625', '201', '810', '703', '609', '734', '101', '059', '383', '201', '313', '185', '200', '095', '382', '278', '304', '725', '193', '387', '721', '051', '584', '089', '246', '812', '201', '761', '299', '372', '481', '566', '647', '685', '512', '374', '347', '298', '440', '006', '293', '751', '507', '962', '843', '821', '199', '374', '662', '208', '184', '928', '573', '073', '107', '844', '286', '455', '303', '089', '471', '841', '845', '901', '175', '452', '558', '734', '014', '923', '197', '958', '554', '244', '740', '884', '659', '317', '456', '116', '659', '244', '103', '306', '438', '000', '148', '433', '393', '938', '832', '010', '151', '429', '060', '560', '753', '972', '958', '539', '639', '729', '316', '596', '282', '846', '206', '070', '293', '693', '852', '688', '839', '334', '459', '799', '225', '033', '923', '394', '106', '246', '158', '442', '356', '123', '832', '871', '113', '201', '786', '778', '616', '993', '933', '005', '421', '437', '095', '372', '862', '407', '734', '628', '141', '180', '605', '150', '593', '795', '778', '628', '675', '420', '470', '580', '446', '175', '957', '598', '718', '948', '820', '397', '658', '567', '166', '423', '838', '753', '138', '421', '851', '355', '587', '817', '365', '568', '632', '231', '058', '665', '921', '439', '319', '399', '935', '988', '966', '328', '705', '404', '075', '879', '132', '433', '611', '993', '909', '756', '386', '378', '082', '727', '329', '782', '609', '103', '498', '425', '504', '840', '204', '963', '729', '294', '172', '420', '987', '964', '266', '063', '611', '351', '160', '406', '330', '988', '734', '100', '794', '334', '568', '415', '739', '937', '414', '672', '974', '045', '772', '832', '366', '087', '315', '658', '185', '982', '181', '882', '271', '065', '296', '600', '324', '042', '482', '307', '283', '391', '415', '648', '002', '939', '274', '712', '478', '794', '740', '777', '707', '763', '117', '909', '467', '639', '486', '099', '211', '858', '908', '638', '989', '498', '392', '856', '670', '392', '133', '810', '321', '203', '518', '598', '676', '543', '730', '713', '543', '106', '689', '820', '509', '001', '921', '740', '023', '912', '461', '298', '847', '190', '371', '678', '495', '221', '573', '913', '237', '678', '725', '617', '293', '695', '368', '844', '680', '200', '178', '698', '789', '607', '681', '870', '105', '240', '540', '094', '671', '163', '816', '590', '695', '217', '987', '797', '797', '137', '787', '063', '770', '074', '864', '621', '963', '443', '418', '024', '857', '067', '630', '194', '567', '717', '604', '006', '508', '921', '057', '423', '756', '126', '302', '554', '380', '716', '588', '887', '128', '333', '820', '430', '422', '612', '377', '589', '608', '861', '341', '700', '293', '855', '734', '203', '166', '479', '139', '923', '225', '218', '782', '531', '298', '637', '886', '931', '346', '364', '128', '324', '611', '606', '728', '504', '471', '359', '672', '506', '727', '068', '809', '055', '145', '165', '761', '184', '277', '990', '183', '232', '313', '646', '290', '587', '618', '146', '158', '184', '075', '540', '865', '953', '414', '178', '232', '199', '103', '155', '187', '261', '032', '235', '774', '576', '578', '697', '659', '114', '486', '799', '851', '898', '324', '423', '837', '312', '727', '596', '565', '575', '930', '568', '187', '459', '349', '818', '616', '428', '556', '634', '732', '826', '721', '025', '810', '568', '238', '473', '558', '291', '326', '314', '552', '172', '538', '147', '990', '400', '805', '886', '617', '566', '616', '596', '195', '983', '638', '352', '723', '341', '543', '389', '292', '726', '702', '396', '080', '187', '385', '602', '587', '679', '159', '178', '046', '997', '036', '283', '464', '515', '403', '380', '125', '247', '800', '342', '237', '051', '439', '185', '924', '387', '100', '168', '351', '427', '262', '599', '890', '774', '007', '268', '224', '411', '435', '257', '446', '470', '352', '987', '131', '461', '536', '867', '121', '766', '216', '110', '598', '973', '348', '284', '845', '825', '535', '663', '635', '858', '474', '025', '090', '908', '007', '799', '014', '302', '938', '895', '489', '668', '377', '001', '682', '780', '006', '782', '192', '903', '950', '610', '023', '103', '685', '404', '729', '733', '356', '061', '282', '791', '878', '454', '356', '392', '149', '339', '088', '385', '153', '693', '825', '624', '172', '228', '799', '506', '211', '153', '800', '205', '508', '821', '102', '355', '737', '237', '364', '601', '954', '655', '620', '434', '003', '570', '799', '033', '073', '420', '012', '564', '276', '961', '157', '703', '118', '974', '111', '042', '816', '029', '206', '069', '524', '307', '595', '433', '992', '348', '986', '473', '435', '801', '320', '315', '213', '653', '443', '716', '210', '734', '101', '371', '964', '745', '440', '476', '841', '443', '295', '477', '110', '368', '943', '370', '453', '187', '325', '185', '593', '277', '221', '964', '886', '288', '425', '554', '194', '856', '747', '626', '248', '715', '432', '858', '060', '932', '733', '133', '302', '351', '681', '526', '081', '899', '589', '829', '487', '578', '054', '840', '937', '283', '384', '375', '231', '007', '348', '530', '019', '481', '958', '650', '496', '351', '286', '734', '246', '962', '612', '008', '185', '494', '334', '215', '734', '908', '603', '771', '035', '259', '452', '782', '144', '909', '628', '513', '513', '863', '103', '009', '616', '056', '796', '342', '937', '717', '949', '353', '957', '111', '659', '659', '605', '658', '793', '200', '506', '431', '195', '827', '728', '982', '862', '515', '146', '347', '717', '828', '113', '053', '417', '855', '888', '523', '097', '629', '359', '297', '530', '324', '156', '368', '341', '122', '554', '291', '979', '075', '271', '474', '509', '884', '573', '077', '573', '859', '407', '710', '281', '138', '881', '888', '420', '870', '213', '811', '726', '366', '297', '878', '808', '705', '067', '299', '779', '529', '278', '110', '324', '153', '651', '732', '770', '816', '226', '688', '391', '805', '639', '538', '972', '450', '573', '449', '678', '334', '372', '531', '462', '006', '658', '166', '610', '423', '349', '378', '830', '519', '967', '910', '347', '628', '254', '333', '588', '117', '597', '777', '899', '679', '665', '417', '257', '119', '281', '617', '390', '490', '879', '278', '240', '736', '113', '060', '464', '398', '686', '111', '588', '002', '459', '799', '102', '250', '413', '782', '524', '491', '754', '297', '333', '215', '042', '841', '960', '151', '384', '509', '550', '117', '625', '496', '811', '512', '478', '431', '793', '177', '837', '222', '350', '969', '733', '453', '172', '702', '834', '973', '496', '304', '269', '092', '519', '656', '816', '175', '207', '327', '001', '506', '145', '012', '132', '631', '303', '629', '963', '429', '676', '274', '096', '982', '681', '648', '331', '470', '078', '112', '182', '727', '658', '769', '534', '457', '417', '929', '001', '623', '180', '261', '478', '355', '536', '924', '796', '990', '909', '448', '836', '151', '256', '217', '015', '050', '786', '298', '275', '168', '131', '313', '388', '742', '519', '655', '945', '654', '373', '526', '303', '545', '458', '855', '908', '682', '377', '924', '340', '817', '885', '461', '819', '520', '164', '398', '577', '326', '470', '106', '136', '081', '138', '644', '745', '069', '916', '033', '201', '398', '912', '332', '173', '684', '332', '381', '622', '095', '027', '956', '290', '306', '005', '481', '786', '685', '555', '288', '752', '139', '066', '025', '409', '980', '983', '017', '131', '370', '080', '982', '312', '453', '734', '424', '517', '616', '153', '157', '102', '026', '628', '906', '745', '339', '937', '054', '708', '001', '896', '200', '332', '231', '656', '953', '217', '770', '541', '563', '258', '037', '168', '794', '629', '428', '088', '943', '779', '820', '259', '364', '073', '858', '490', '423', '965', '750', '202', '326', '814', '933', '706', '309', '197', '446', '221', '964', '970', '166', '940', '040', '514', '253', '611', '412', '007', '498', '094', '868', '034', '252', '870', '294', '920', '722', '038', '080', '403', '062', '707', '258', '403', '042', '712', '059', '326', '043', '074', '178', '969', '173', '488', '550', '965', '819', '788', '853', '851', '063', '261', '488', '321', '078', '617', '616', '354', '341', '574', '139', '756', '735', '324', '256', '989', '947', '644', '386', '807', '375', '579', '622', '852', '750', '902', '421', '092', '777', '682', '019', '265', '358', '236', '561', '722', '137', '890', '681', '598', '268', '063', '043', '629', '268', '028', '360', '128', '339', '450', '564', '284', '421', '575', '404', '470', '734', '841', '183', '359', '906', '114', '790', '647', '717', '112', '081', '293', '637', '962', '420', '838', '797', '065', '763', '051', '922', '114', '371', '949', '658', '867', '794', '549', '364', '079', '974', '503', '478', '665', '343', '429', '101', '317', '644', '753', '518', '595', '247', '513', '437', '073', '497', '231', '738', '670', '844', '330', '821', '862', '856', '650', '061', '837', '469', '655', '134', '835', '827', '337', '032', '630', '319', '044', '220', '618', '423', '065', '420', '312', '172', '208', '375', '072', '136', '970', '989', '486', '364', '406', '945', '359', '178', '551', '468', '250', '876', '896', '676', '879', '155', '917', '293', '085', '368', '372', '897', '056', '749', '243', '853', '039', '272', '350', '338', '915', '489', '836', '514', '264', '932', '697', '807', '425', '095', '214', '635', '537', '893', '938', '128', '374', '160', '555', '382', '423', '282', '251', '184', '472', '723', '406', '669', '829', '287', '058', '125', '729', '810', '431', '850', '045', '870', '744', '559', '050', '228', '409', '191', '014', '694', '604', '366', '815', '853', '371', '567', '229', '588', '434', '835', '576', '655', '763', '689', '002', '450', '224', '042', '517', '372', '930', '640', '730', '017', '500', '353', '130', '604', '887', '772', '062', '256', '775', '515', '946', '423', '716', '648', '442', '709', '439', '135', '515', '135', '087', '459', '536', '627', '933', '263', '464', '721', '082', '383', '271', '494', '704', '433', '163', '206', '431', '387', '733', '972', '507', '696', '182', '257', '796', '966', '914', '408', '511', '532', '248', '412', '677', '725', '681', '068', '740', '413', '540', '572', '215', '787', '774', '428', '376', '936', '205', '053', '766', '068', '416', '177', '757', '535', '334', '538', '937', '734', '078', '883', '490', '432', '152', '437', '989', '395', '957', '232', '615', '457', '975', '789', '867', '013', '291', '957', '138', '538', '686', '364', '217', '309', '055', '107', '609', '118', '919', '487', '626', '976', '169', '859', '659', '423', '300', '861', '090', '231', '329', '867', '738', '341', '058', '950', '635', '987', '023', '919', '401', '229', '505', '277', '472', '605', '617', '434', '472', '411', '421', '631', '459', '802', '762', '440', '796', '761', '218', '268', '571', '815', '833', '117', '710', '326', '536', '501', '173', '201', '300', '689', '922', '120', '019', '489', '608', '530', '825', '674', '286', '266', '557', '133', '039', '785', '294', '094', '398', '329', '751', '975', '757', '721', '683', '736', '031', '429', '051', '668', '734', '588', '855', '043', '980', '525', '721', '066', '392', '608', '796', '472', '989', '208', '960', '421', '019', '372', '187', '302', '326', '177', '228', '945', '343', '993', '696', '288', '851', '642', '865', '647', '438', '730', '336', '217', '397', '811', '529', '139', '851', '238', '682', '173', '417', '868', '328', '935', '750', '991', '293', '094', '197', '282', '867', '763', '440', '095', '368', '309', '793', '074', '271', '364', '240', '110', '466', '393', '414', '518', '088', '404', '043', '559', '630', '230', '883', '624', '753', '963', '696', '245', '258', '324', '847', '639', '970', '657', '316', '611', '564', '626', '630', '956', '041', '948', '681', '314', '806', '115', '324', '809', '367', '281', '625', '773', '792', '708', '269', '019', '468', '607', '814', '494', '055', '231', '141', '453', '971', '162', '541', '463', '137', '643', '123', '331', '381', '936', '896', '555', '206', '057', '214', '295', '247', '130', '785', '245', '413', '060', '857', '383', '670', '176', '197', '096', '282', '698', '681', '168', '903', '375', '646', '261', '473', '058', '696', '867', '886', '254', '374', '063', '334', '676', '480', '885', '719', '874', '621', '836', '707', '408', '215', '739', '277', '283', '232', '267', '788', '907', '848', '034', '363', '861', '901', '259', '533', '837', '963', '888', '751', '067', '858', '635', '588', '375', '869', '092', '920', '518', '708', '170', '834', '280', '295', '762', '235', '511', '660', '654']\n"
     ]
    }
   ],
   "source": [
    "def get_3numname(df):\n",
    "    imgs = df['imgname'].apply(lambda x: x[:3])\n",
    "    return imgs\n",
    "\n",
    "print(get_3numname(data_youtube_train).tolist())"
   ]
  },
  {
   "cell_type": "code",
   "execution_count": 86,
   "metadata": {},
   "outputs": [],
   "source": [
    "train_val_test_dict = {}\n",
    "train_val_test_dict['train'] = get_3numname(data_youtube_train).tolist()\n",
    "train_val_test_dict['validation'] = get_3numname(data_youtube_val).tolist()\n",
    "train_val_test_dict['test'] = get_3numname(data_youtube_test).tolist()"
   ]
  },
  {
   "cell_type": "code",
   "execution_count": 232,
   "metadata": {},
   "outputs": [
    {
     "name": "stdout",
     "output_type": "stream",
     "text": [
      "                                                filename    gender        age  \\\n",
      "index                                                                           \n",
      "1748   /content/drive/My Drive/FakeImageDetector/data...  0.845889  27.559307   \n",
      "2735   /content/drive/My Drive/FakeImageDetector/data...  0.969431  23.555553   \n",
      "490    /content/drive/My Drive/FakeImageDetector/data...  0.992486  22.580248   \n",
      "3111   /content/drive/My Drive/FakeImageDetector/data...  0.954956  29.142198   \n",
      "4216   /content/drive/My Drive/FakeImageDetector/data...  0.983590  21.052065   \n",
      "\n",
      "          method  label fake_folder_name img_target_source            imgname  \\\n",
      "index                                                                           \n",
      "1748   Face2Face      0        Face2Face           722_458  722_458.mp4_1.jpg   \n",
      "2735   Face2Face      0        Face2Face           641_662  641_662.mp4_1.jpg   \n",
      "490    Face2Face      0        Face2Face           272_396  272_396.mp4_1.jpg   \n",
      "3111   Face2Face      0        Face2Face           151_225  151_225.mp4_1.jpg   \n",
      "4216   Face2Face      0        Face2Face           093_121  093_121.mp4_1.jpg   \n",
      "\n",
      "      img_copy imgname_copy  gender10    age_cat gender_age_cat target source  \n",
      "index                                                                          \n",
      "1748         1    722_458_1         1  age_20_30    1_age_20_30    722    458  \n",
      "2735         1    641_662_1         1  age_20_30    1_age_20_30    641    662  \n",
      "490          1    272_396_1         1  age_20_30    1_age_20_30    272    396  \n",
      "3111         1    151_225_1         1  age_20_30    1_age_20_30    151    225  \n",
      "4216         1    093_121_1         1  age_20_30    1_age_20_30    093    121  \n"
     ]
    }
   ],
   "source": [
    "print(data_face2face_unq_target_train.head())"
   ]
  },
  {
   "cell_type": "code",
   "execution_count": 260,
   "metadata": {},
   "outputs": [],
   "source": [
    "tvt_f2f_ts = {}\n",
    "tvt_f2f_ts['train'] = data_face2face_unq_target_train['img_target_source'].tolist()\n",
    "tvt_f2f_ts['validation'] = data_face2face_target_unq_val['img_target_source'].tolist()\n",
    "tvt_f2f_ts['test'] = data_face2face_unq_target_test['img_target_source'].tolist()"
   ]
  },
  {
   "cell_type": "code",
   "execution_count": 261,
   "metadata": {},
   "outputs": [
    {
     "name": "stdout",
     "output_type": "stream",
     "text": [
      "320\n"
     ]
    }
   ],
   "source": [
    "print(len(tvt_f2f_ts['train']))"
   ]
  },
  {
   "cell_type": "code",
   "execution_count": 255,
   "metadata": {},
   "outputs": [],
   "source": [
    "def rev_text(text):\n",
    "    new_text = text[4:7] + \"_\" + text[:3]\n",
    "    return new_text"
   ]
  },
  {
   "cell_type": "code",
   "execution_count": 262,
   "metadata": {},
   "outputs": [],
   "source": [
    "new_train = []\n",
    "for v in tvt_f2f_ts['train']:\n",
    "    new_train.append(v)\n",
    "    new_train.append(rev_text(v))"
   ]
  },
  {
   "cell_type": "code",
   "execution_count": 264,
   "metadata": {},
   "outputs": [],
   "source": [
    "new_val = []\n",
    "for v in tvt_f2f_ts['validation']:\n",
    "    new_val.append(v)\n",
    "    new_val.append(rev_text(v))"
   ]
  },
  {
   "cell_type": "code",
   "execution_count": 265,
   "metadata": {},
   "outputs": [],
   "source": [
    "new_test = []\n",
    "for v in tvt_f2f_ts['test']:\n",
    "    new_test.append(v)\n",
    "    new_test.append(rev_text(v))"
   ]
  },
  {
   "cell_type": "code",
   "execution_count": 266,
   "metadata": {},
   "outputs": [
    {
     "name": "stdout",
     "output_type": "stream",
     "text": [
      "640\n",
      "160\n",
      "200\n"
     ]
    }
   ],
   "source": [
    "print(len(new_train))\n",
    "print(len(new_val))\n",
    "print(len(new_test))"
   ]
  },
  {
   "cell_type": "code",
   "execution_count": 267,
   "metadata": {},
   "outputs": [],
   "source": [
    "tvt_f2f_ts['train'] = new_train\n",
    "tvt_f2f_ts['validation'] = new_val\n",
    "tvt_f2f_ts['test'] = new_test"
   ]
  },
  {
   "cell_type": "code",
   "execution_count": 269,
   "metadata": {},
   "outputs": [
    {
     "name": "stdout",
     "output_type": "stream",
     "text": [
      "640\n"
     ]
    }
   ],
   "source": [
    "print(len(tvt_f2f_ts['train']))"
   ]
  },
  {
   "cell_type": "code",
   "execution_count": 272,
   "metadata": {},
   "outputs": [],
   "source": [
    "tvt_f2f_youtube_ts = {}\n",
    "tvt_f2f_youtube_ts['train'] = [x[:3] for x in tvt_f2f_ts['train']]\n",
    "tvt_f2f_youtube_ts['validation'] = [x[:3] for x in tvt_f2f_ts['validation']]\n",
    "tvt_f2f_youtube_ts['test'] = [x[:3] for x in tvt_f2f_ts['test']]"
   ]
  },
  {
   "cell_type": "code",
   "execution_count": 288,
   "metadata": {},
   "outputs": [],
   "source": [
    "face2face_train = data_face2face[data_face2face['img_target_source'].isin(tvt_f2f_ts['train'])]\n",
    "face2face_val = data_face2face[data_face2face['img_target_source'].isin(tvt_f2f_ts['validation'])]\n",
    "face2face_test = data_face2face[data_face2face['img_target_source'].isin(tvt_f2f_ts['test'])]"
   ]
  },
  {
   "cell_type": "code",
   "execution_count": 308,
   "metadata": {},
   "outputs": [
    {
     "name": "stderr",
     "output_type": "stream",
     "text": [
      "/Users/ruska/anaconda/lib/python3.6/site-packages/ipykernel/__main__.py:1: SettingWithCopyWarning: \n",
      "A value is trying to be set on a copy of a slice from a DataFrame.\n",
      "Try using .loc[row_indexer,col_indexer] = value instead\n",
      "\n",
      "See the caveats in the documentation: http://pandas.pydata.org/pandas-docs/stable/indexing.html#indexing-view-versus-copy\n",
      "  if __name__ == '__main__':\n"
     ]
    }
   ],
   "source": [
    "data_youtube['img_target_source'] = data_youtube['img_target_source'].apply(lambda x: x[:3])"
   ]
  },
  {
   "cell_type": "code",
   "execution_count": 309,
   "metadata": {},
   "outputs": [],
   "source": [
    "youtube_train = data_youtube[data_youtube['img_target_source'].isin(tvt_f2f_youtube_ts['train'])]\n",
    "youtube_val = data_youtube[data_youtube['img_target_source'].isin(tvt_f2f_youtube_ts['validation'])]\n",
    "youtube_test = data_youtube[data_youtube['img_target_source'].isin(tvt_f2f_youtube_ts['test'])]"
   ]
  },
  {
   "cell_type": "code",
   "execution_count": 289,
   "metadata": {},
   "outputs": [
    {
     "name": "stdout",
     "output_type": "stream",
     "text": [
      "1_age_20_30       0.301828\n",
      "1_age_30_40       0.200125\n",
      "0_age_30_40       0.194032\n",
      "0_age_40_50       0.121856\n",
      "0_age_20_30       0.080456\n",
      "1_age_40_50       0.043431\n",
      "0_age_above_50    0.034995\n",
      "1_age_less_20     0.013748\n",
      "1_age_above_50    0.005937\n",
      "0_age_less_20     0.003593\n",
      "Name: gender_age_cat, dtype: float64\n"
     ]
    }
   ],
   "source": [
    "print(face2face_train['gender_age_cat'].value_counts()/face2face_train.shape[0])"
   ]
  },
  {
   "cell_type": "code",
   "execution_count": 291,
   "metadata": {},
   "outputs": [
    {
     "name": "stdout",
     "output_type": "stream",
     "text": [
      "1_age_20_30       0.279126\n",
      "0_age_30_40       0.230583\n",
      "1_age_30_40       0.200243\n",
      "0_age_20_30       0.087379\n",
      "0_age_40_50       0.084951\n",
      "0_age_above_50    0.050364\n",
      "1_age_40_50       0.042476\n",
      "0_age_less_20     0.011529\n",
      "1_age_above_50    0.007282\n",
      "1_age_less_20     0.006068\n",
      "Name: gender_age_cat, dtype: float64\n"
     ]
    }
   ],
   "source": [
    "print(face2face_val['gender_age_cat'].value_counts()/face2face_val.shape[0])"
   ]
  },
  {
   "cell_type": "code",
   "execution_count": 292,
   "metadata": {},
   "outputs": [
    {
     "name": "stdout",
     "output_type": "stream",
     "text": [
      "1_age_20_30       0.313861\n",
      "0_age_30_40       0.225743\n",
      "1_age_30_40       0.177228\n",
      "0_age_40_50       0.104455\n",
      "0_age_20_30       0.070297\n",
      "1_age_40_50       0.045545\n",
      "0_age_above_50    0.040594\n",
      "1_age_less_20     0.011386\n",
      "1_age_above_50    0.006436\n",
      "0_age_less_20     0.004455\n",
      "Name: gender_age_cat, dtype: float64\n"
     ]
    }
   ],
   "source": [
    "print(face2face_test['gender_age_cat'].value_counts()/face2face_test.shape[0])"
   ]
  },
  {
   "cell_type": "code",
   "execution_count": 310,
   "metadata": {},
   "outputs": [
    {
     "name": "stdout",
     "output_type": "stream",
     "text": [
      "1_age_20_30       0.269705\n",
      "1_age_30_40       0.220770\n",
      "0_age_30_40       0.180613\n",
      "0_age_40_50       0.128502\n",
      "1_age_40_50       0.069481\n",
      "0_age_20_30       0.065185\n",
      "0_age_above_50    0.042585\n",
      "1_age_above_50    0.010273\n",
      "1_age_less_20     0.010086\n",
      "0_age_less_20     0.002802\n",
      "Name: gender_age_cat, dtype: float64\n"
     ]
    }
   ],
   "source": [
    "print(youtube_train['gender_age_cat'].value_counts()/youtube_train.shape[0])"
   ]
  },
  {
   "cell_type": "code",
   "execution_count": 311,
   "metadata": {},
   "outputs": [
    {
     "name": "stdout",
     "output_type": "stream",
     "text": [
      "1_age_30_40       0.279053\n",
      "0_age_30_40       0.234641\n",
      "1_age_20_30       0.228719\n",
      "0_age_40_50       0.074759\n",
      "0_age_20_30       0.071058\n",
      "0_age_above_50    0.052554\n",
      "1_age_40_50       0.044412\n",
      "1_age_above_50    0.008882\n",
      "1_age_less_20     0.005922\n",
      "Name: gender_age_cat, dtype: float64\n"
     ]
    }
   ],
   "source": [
    "print(youtube_val['gender_age_cat'].value_counts()/youtube_val.shape[0])"
   ]
  },
  {
   "cell_type": "code",
   "execution_count": 312,
   "metadata": {},
   "outputs": [
    {
     "name": "stdout",
     "output_type": "stream",
     "text": [
      "1_age_20_30       0.269784\n",
      "0_age_30_40       0.216427\n",
      "1_age_30_40       0.216427\n",
      "0_age_40_50       0.103118\n",
      "0_age_above_50    0.061151\n",
      "1_age_40_50       0.058153\n",
      "0_age_20_30       0.053357\n",
      "1_age_less_20     0.011391\n",
      "1_age_above_50    0.006595\n",
      "0_age_less_20     0.003597\n",
      "Name: gender_age_cat, dtype: float64\n"
     ]
    }
   ],
   "source": [
    "print(youtube_test['gender_age_cat'].value_counts()/youtube_test.shape[0])"
   ]
  },
  {
   "cell_type": "code",
   "execution_count": 270,
   "metadata": {},
   "outputs": [],
   "source": [
    "import pickle\n",
    "\n",
    "# a = {'hello': 'world'}\n",
    "\n",
    "with open('tvt_split_f2f.pickle', 'wb') as handle:\n",
    "    pickle.dump(tvt_f2f_ts, handle, protocol=pickle.HIGHEST_PROTOCOL)\n",
    "\n",
    "# with open('filename.pickle', 'rb') as handle:\n",
    "#     b = pickle.load(handle)\n",
    "\n",
    "# print a == b"
   ]
  },
  {
   "cell_type": "code",
   "execution_count": 431,
   "metadata": {},
   "outputs": [],
   "source": [
    "import pickle\n",
    "\n",
    "# a = {'hello': 'world'}\n",
    "\n",
    "with open('tvt_split_f2f_youtube.pickle', 'wb') as handle:\n",
    "    pickle.dump(tvt_f2f_youtube_ts, handle, protocol=pickle.HIGHEST_PROTOCOL)"
   ]
  },
  {
   "cell_type": "code",
   "execution_count": 87,
   "metadata": {},
   "outputs": [
    {
     "name": "stdout",
     "output_type": "stream",
     "text": [
      "9865\n"
     ]
    }
   ],
   "source": [
    "from os import listdir\n",
    "from os.path import isfile, join\n",
    "mypath = \"./Face2Face_image\"\n",
    "fffiles_img = [f for f in listdir(mypath) if isfile(join(mypath, f))]\n",
    "print(len(fffiles_img))"
   ]
  },
  {
   "cell_type": "code",
   "execution_count": 88,
   "metadata": {},
   "outputs": [
    {
     "name": "stdout",
     "output_type": "stream",
     "text": [
      "180_105.mp4_3.jpg\n"
     ]
    }
   ],
   "source": [
    "print(fffiles_img[0])"
   ]
  },
  {
   "cell_type": "code",
   "execution_count": 130,
   "metadata": {},
   "outputs": [
    {
     "name": "stdout",
     "output_type": "stream",
     "text": [
      "934_918.mp4_10.jpg\n",
      "934_918.mp4_6.jpg\n",
      "934_918.mp4_7.jpg\n",
      "934_918.mp4_5.jpg\n",
      "934_918.mp4_4.jpg\n",
      "918_934.mp4_8.jpg\n",
      "934_918.mp4_1.jpg\n",
      "934_918.mp4_3.jpg\n",
      "934_918.mp4_2.jpg\n",
      "918_934.mp4_6.jpg\n",
      "918_934.mp4_7.jpg\n",
      "918_934.mp4_5.jpg\n",
      "918_934.mp4_4.jpg\n",
      "934_918.mp4_9.jpg\n",
      "918_934.mp4_1.jpg\n",
      "934_918.mp4_8.jpg\n",
      "918_934.mp4_3.jpg\n",
      "918_934.mp4_2.jpg\n"
     ]
    }
   ],
   "source": [
    "for f in fffiles_img:\n",
    "    if (f[:3] == '918') or (f[4:7] == '918'):\n",
    "        print(f)"
   ]
  },
  {
   "cell_type": "code",
   "execution_count": 131,
   "metadata": {},
   "outputs": [
    {
     "name": "stdout",
     "output_type": "stream",
     "text": [
      "605_591.mp4_7.jpg\n",
      "591_605.mp4_14.jpg\n",
      "605_591.mp4_6.jpg\n",
      "605_591.mp4_4.jpg\n",
      "605_591.mp4_5.jpg\n",
      "605_591.mp4_1.jpg\n",
      "591_605.mp4_12.jpg\n",
      "591_605.mp4_9.jpg\n",
      "591_605.mp4_8.jpg\n",
      "591_605.mp4_13.jpg\n",
      "605_591.mp4_2.jpg\n",
      "591_605.mp4_11.jpg\n",
      "591_605.mp4_10.jpg\n",
      "605_591.mp4_3.jpg\n",
      "591_605.mp4_6.jpg\n",
      "591_605.mp4_7.jpg\n",
      "591_605.mp4_5.jpg\n",
      "591_605.mp4_4.jpg\n",
      "605_591.mp4_8.jpg\n",
      "591_605.mp4_1.jpg\n",
      "605_591.mp4_9.jpg\n",
      "591_605.mp4_3.jpg\n",
      "591_605.mp4_2.jpg\n",
      "605_591.mp4_11.jpg\n",
      "605_591.mp4_10.jpg\n"
     ]
    }
   ],
   "source": [
    "for f in fffiles_img:\n",
    "    if (f[:3] == '605') or (f[4:7] == '605'):\n",
    "        print(f)"
   ]
  },
  {
   "cell_type": "code",
   "execution_count": null,
   "metadata": {},
   "outputs": [],
   "source": []
  },
  {
   "cell_type": "code",
   "execution_count": 120,
   "metadata": {},
   "outputs": [
    {
     "name": "stdout",
     "output_type": "stream",
     "text": [
      "['596_609', '004_982', '691_732', '816_649', '788_710', '503_756', '546_621', '918_934', '211_177', '321_288', '958_956', '365_307', '831_508', '506_478', '222_168', '288_321', '108_052', '404_429', '809_799', '352_319', '384_932', '737_719', '338_336', '784_769', '091_116', '065_089', '741_731', '308_388', '863_853', '177_211', '781_806', '436_526', '118_120', '957_959', '117_217', '408_424', '761_766', '252_266', '059_050', '853_863', '733_935', '930_763', '988_966', '898_922', '269_268', '021_312', '373_394', '741_731', '339_392', '096_101', '840_800', '522_337', '280_249', '406_391', '369_316', '412_274', '808_829', '913_893', '621_546', '483_370', '037_072', '826_833', '096_101', '146_256', '365_307', '043_110', '545_553', '219_220', '779_794', '725_724', '469_481', '903_792', '313_283', '626_562', '214_255', '419_824', '861_858', '087_081', '367_371', '525_509', '721_715', '566_617', '568_628', '217_117', '458_722', '249_280', '299_145', '939_115', '175_159', '938_987', '309_303', '354_362', '214_255', '636_578', '245_157', '257_420', '335_277', '927_912', '209_016', '725_724', '269_268', '361_448', '980_992', '159_175', '035_036', '017_803', '109_107', '153_150', '809_799', '716_712', '442_195', '657_644', '228_289', '165_137', '639_841', '723_704', '293_296', '632_548', '947_951', '935_733', '505_600', '572_554', '604_703', '792_903', '705_707', '392_339', '882_952', '740_796', '065_089', '147_055', '883_013', '657_644', '578_636', '068_028', '403_497', '719_737', '886_877', '052_108', '759_755', '430_459', '934_918', '958_956', '614_616', '318_334', '461_250', '117_217', '535_587', '598_178', '818_820', '658_627', '434_438', '295_099', '402_453', '815_730', '567_606', '142_138', '827_817', '373_394', '533_450', '309_303', '397_602', '818_820', '937_888', '917_924', '097_033', '305_513', '296_293', '421_423', '839_864', '360_437', '443_514', '263_284', '074_825', '110_043', '775_742', '711_681', '955_078', '928_160', '335_277', '082_103', '637_427', '994_986', '214_255', '256_146', '206_221', '299_145', '318_334', '431_447', '932_384', '192_134', '843_859', '385_414', '548_632', '876_891', '280_249', '628_568', '007_132', '417_496', '326_501', '061_080', '216_164', '816_649', '393_405', '896_128', '747_854', '289_228', '436_526', '576_155', '658_627', '288_321', '620_619', '830_828', '339_392', '825_074', '749_659', '228_289', '460_678', '808_829', '961_069', '467_462', '601_653', '185_276', '083_213', '965_948', '521_517', '226_491', '950_836', '481_469', '066_062', '761_766', '807_273', '685_613', '514_443', '818_820', '416_342', '337_522', '356_324', '993_989', '866_878', '528_510', '134_192', '804_738', '150_153', '292_294', '013_883', '833_826', '638_640', '666_656', '619_620', '867_765', '850_764', '257_420', '368_378', '045_889', '619_620', '757_573', '173_171', '497_403', '719_737', '887_275', '514_443', '653_601', '947_951', '341_340', '631_551', '934_918', '206_221', '093_121', '079_076', '609_596', '575_603', '513_305', '698_693', '439_441', '369_316', '154_386', '655_444', '784_769', '765_867', '967_984', '292_294', '448_361', '568_628', '214_255', '043_110', '711_681', '975_978', '309_303', '792_903', '096_101', '867_765', '153_150', '562_626', '481_469', '203_201', '954_976', '207_908', '241_210', '907_795', '446_667', '366_473', '979_875', '263_284', '423_421', '917_924', '993_989', '568_628', '874_291', '094_111', '721_715', '440_364', '494_445', '318_334', '847_906', '538_493', '789_753', '764_850', '333_377', '280_249', '916_783', '606_567', '343_363', '590_034', '474_281', '154_386', '530_594', '206_221', '205_184', '920_811', '765_867', '187_234', '763_930', '101_096', '116_091', '929_962', '625_650', '946_049', '846_845', '015_919', '147_055', '823_584', '596_609', '339_392', '538_493', '096_101', '640_638', '772_708', '506_478', '487_477', '582_172', '626_562', '859_843', '000_003', '337_522', '617_566', '973_970', '580_524', '648_654', '131_518', '307_365', '828_830', '920_811', '148_133', '034_590', '594_530', '708_772', '717_684', '655_444', '057_070', '826_833', '080_061', '696_686', '146_256', '607_683', '635_642', '771_849', '232_248', '629_618', '070_057', '940_941', '828_830', '178_598', '310_196', '006_002', '198_106', '903_792', '347_314', '531_549', '071_054', '164_216', '337_522', '896_128', '653_601', '453_402', '359_317', '924_917', '558_583', '212_179', '356_324', '022_489', '374_407', '210_241', '895_915', '715_721', '651_835', '020_344', '004_982', '356_324', '421_423', '193_030', '639_841', '356_324', '087_081', '259_345', '301_262', '250_461', '858_861', '791_770', '232_248', '024_073', '183_253', '966_988', '402_453', '282_238', '611_760', '538_493', '587_535', '988_966', '112_892', '917_924', '138_142', '864_839', '613_685', '358_380', '244_822', '945_044', '023_923', '828_830', '007_132', '882_952', '769_784', '539_499', '746_571', '584_823', '961_069', '485_425', '461_250', '400_476', '559_543', '011_805', '192_134', '395_401', '812_821', '051_332', '252_266', '120_118', '048_029', '914_899', '271_264', '129_127', '032_944', '698_693', '349_350', '975_978', '576_155', '198_106', '024_073', '503_756', '033_097', '018_019', '481_469', '478_506', '759_755', '129_127', '987_938', '339_392', '542_520', '992_980', '358_380', '875_979', '972_718', '532_544', '308_388', '299_145', '709_390', '343_363', '118_120', '323_302', '206_221', '616_614', '454_527', '470_468', '838_810', '047_862', '536_540', '778_798', '165_137', '673_728', '654_648', '445_494', '327_329', '805_011', '296_293', '260_331', '228_289', '368_378', '102_114', '957_959', '434_438', '318_334', '233_995', '051_332', '210_241', '775_742', '080_061', '340_341', '821_812', '006_002', '859_843', '364_440', '676_776', '655_444', '261_254', '631_551', '783_916', '314_347', '391_406', '928_160', '615_687', '296_293', '143_140', '576_155', '980_992', '919_015', '968_884', '111_094', '156_243', '501_326', '814_871', '311_387', '351_346', '265_475', '573_757', '421_423', '447_431', '243_156', '606_567', '050_059', '530_594', '055_147', '884_968', '194_235', '828_830', '501_326', '018_019', '148_133', '779_794', '805_011', '645_688', '907_795', '630_623', '824_419', '370_483', '449_451', '191_188', '973_970', '546_621', '838_810', '765_867', '581_697', '740_796', '083_213', '332_051', '029_048', '781_806', '605_591', '415_484', '684_717', '424_408', '202_348', '057_070', '272_396', '010_005', '495_512', '795_907', '089_065', '027_009', '109_107', '628_568', '610_692', '405_393', '809_799', '952_882', '384_932', '553_545', '915_895', '456_435', '407_374', '993_989', '335_277', '596_609', '856_881', '051_332', '603_575', '749_659', '923_023', '996_056', '656_666', '005_010', '734_699', '348_202', '237_236', '421_423', '635_642', '777_745', '152_149', '711_681', '050_059', '290_240', '669_682', '919_015', '197_224', '539_499', '888_937', '941_940', '913_893', '599_585', '128_896', '662_641', '172_582', '428_466', '190_176', '595_597', '242_182', '754_758', '167_166', '572_554', '732_691', '272_396', '801_855', '375_251', '354_362', '065_089', '745_777', '303_309', '673_728', '208_215', '570_624', '276_185', '840_800', '452_550', '471_455', '847_906', '304_300', '527_454', '283_313', '788_710', '138_142', '218_239', '646_643', '732_691', '428_466', '212_179', '152_149', '796_740', '137_165', '296_293', '659_749', '816_649', '632_548', '917_924', '209_016', '450_533', '217_117', '189_200', '364_440', '851_552', '033_097', '768_793', '344_020', '262_301', '943_942', '908_207', '971_564', '817_827', '155_576', '605_591', '997_040', '515_519', '958_956', '809_799', '655_444', '461_250', '126_104', '819_786', '792_903', '060_088', '366_473', '449_451', '822_244', '213_083', '340_341', '786_819', '636_578', '168_222', '398_457', '774_735', '675_608', '130_139', '362_354', '242_182', '024_073', '998_561', '302_323', '215_208', '846_845', '880_135', '087_081', '830_828', '318_334', '330_162', '718_972', '551_631', '148_133', '105_180', '711_681', '358_380', '869_780', '452_550', '451_449', '622_647', '189_200', '909_857', '297_270', '235_194', '257_420', '055_147', '339_392', '323_302', '845_846', '564_971', '996_056', '303_309', '217_117', '485_425', '761_766', '457_398', '825_074', '590_034', '864_839', '000_003', '070_057', '597_595', '341_340', '067_025', '212_179', '556_588', '534_490', '221_206', '645_688', '120_118', '704_723', '844_797', '768_793', '749_659', '169_227', '310_196', '835_651', '351_346', '625_650', '456_435', '194_235', '319_352', '125_038', '802_885', '202_348', '443_514', '971_564', '148_133', '199_181', '475_265', '401_395', '005_010', '672_720', '673_728', '728_673', '524_580', '583_558', '659_749', '519_515', '761_766', '866_878', '709_390', '618_629', '993_989', '686_696', '363_343', '049_946', '216_164', '135_880', '656_666', '174_964', '041_063', '053_095', '925_933', '958_956', '517_521', '894_848', '448_361', '990_008', '683_607', '237_236', '929_962', '662_641', '805_011', '401_395', '948_965', '723_704', '850_764', '525_509', '920_811', '588_556', '330_162', '545_553', '663_231', '087_081', '810_838', '666_656', '287_426', '980_992', '384_932', '001_870', '725_724', '753_789', '118_120', '661_670', '635_642', '454_527', '088_060', '072_037', '705_707', '765_867', '254_261', '126_104', '497_403', '470_468', '793_768', '374_407', '694_767', '796_740', '617_566', '523_541', '729_727', '102_114', '697_581', '145_299', '572_554', '510_528', '161_141', '866_878', '056_996', '190_176', '607_683', '718_972', '082_103', '395_401', '523_541', '488_399', '930_763', '452_550', '344_020', '201_203', '805_011', '540_536', '559_543', '927_912', '109_107', '710_788', '139_130', '513_305', '823_584', '492_325', '575_603', '481_469', '210_241', '434_438', '729_727', '269_268', '917_924', '853_863', '041_063', '673_728', '143_140', '657_644', '622_647', '845_846', '069_961', '382_409', '017_803', '138_142', '183_253', '155_576', '224_197', '421_423', '830_828', '999_960', '909_857', '308_388', '737_719', '075_977', '704_723', '243_156', '925_933', '192_134', '504_502', '264_271', '725_724', '790_014', '533_450', '318_334', '103_082', '859_843', '994_986', '477_487', '236_237', '257_420', '234_187', '167_166', '911_910', '960_999', '768_793', '554_572', '177_211', '571_746', '992_980', '096_101', '707_705', '492_325', '060_088', '535_587', '501_326', '568_628', '620_619', '311_387', '237_236', '343_363', '748_355', '337_522', '013_883', '624_570', '622_647', '828_830', '383_353', '101_096', '264_271', '335_277', '427_637', '724_725', '875_979', '600_505', '442_195', '298_279', '300_304', '160_928', '807_273', '642_635', '187_234', '710_788', '020_344', '185_276', '244_822', '969_897', '162_330', '470_468', '897_969', '371_367', '648_654', '514_443', '378_368', '081_087', '384_932', '663_231', '690_689', '247_229', '704_723', '424_408', '153_150', '242_182', '458_722', '031_163', '493_538', '738_804', '500_592', '497_403', '421_423', '989_993', '636_578', '893_913', '425_485', '481_469', '698_693', '087_081', '154_386', '515_519', '769_784', '291_874', '313_283', '488_399', '222_168', '986_994', '768_793', '883_013', '129_127', '640_638', '356_324', '393_405', '582_172', '289_228', '218_239', '396_272', '090_086', '353_383', '681_711', '830_828', '481_469', '982_004', '702_612', '992_980', '883_013', '762_832', '631_551', '597_595', '167_166', '349_350', '711_681', '234_187', '089_065', '038_125', '438_434', '236_237', '513_305', '230_204', '831_508', '876_891', '917_924', '898_922', '774_735', '515_519', '077_100', '977_075', '735_774', '699_734', '020_344', '549_531', '902_901', '973_970', '165_137', '675_608', '750_743', '343_363', '483_370', '485_425', '552_851', '123_119', '890_837', '254_261', '774_735', '295_099', '206_221', '344_020', '775_742', '733_935', '823_584', '596_609', '208_215', '312_021', '816_649', '777_745', '962_929', '727_729', '829_808', '358_380', '891_876', '010_005', '330_162', '514_443', '217_117', '755_759', '116_091', '789_753', '526_436', '195_442', '704_723', '855_801', '705_707', '138_142', '600_505', '980_992', '245_157', '102_114', '712_716', '713_726', '531_549', '554_572', '531_549', '967_984', '138_142', '166_167', '281_474', '130_139', '120_118', '933_925', '680_486', '767_694', '021_312', '271_264', '299_145', '789_753', '237_236', '661_670', '536_540', '776_676', '174_964', '670_661', '440_364', '589_565', '834_852', '729_727', '316_369', '513_305', '199_181', '917_924', '036_035', '396_272', '221_206', '099_295', '609_596', '169_227', '992_980', '303_309', '200_189', '094_111', '706_479', '078_955', '234_187', '752_751', '498_433', '159_175', '709_390', '227_169', '374_407', '897_969', '779_794', '001_870', '200_189', '213_083', '298_279', '612_702', '961_069', '400_476', '003_000', '554_572', '207_908', '205_184', '614_616', '103_082', '579_701', '811_920', '079_076', '362_354', '376_381', '480_389', '051_332', '051_332', '536_540', '991_064', '213_083', '259_345', '181_199', '147_055', '369_316', '293_296', '880_135', '808_829', '957_959', '380_358', '849_771', '306_278', '481_469', '467_462', '935_733', '869_780', '077_100', '092_098', '721_715', '193_030', '496_417', '131_518', '980_992', '118_120', '237_236', '832_762', '437_360', '994_986', '363_343', '852_834', '985_981', '434_438', '618_629', '364_440', '336_338', '618_629', '742_775', '802_885', '710_788', '037_072', '878_866', '716_712', '467_462', '123_119', '316_369', '135_880', '535_587', '899_914', '847_906', '340_341', '672_720', '472_511', '983_113', '325_492', '675_608', '744_674', '443_514', '765_867', '006_002', '084_042', '902_901', '036_035', '296_293', '632_548', '730_815', '153_150', '923_023', '256_146', '386_154', '088_060', '582_172', '491_226', '571_746', '605_591', '512_495', '753_789', '755_759', '672_720', '920_811', '598_178', '119_123', '629_618', '102_114', '932_384', '355_748', '344_020', '305_513', '869_780', '663_231', '159_175', '513_305', '233_995', '699_734', '245_157', '478_506', '315_322', '139_130', '746_571', '638_640', '405_393', '668_664', '475_265', '391_406', '798_778', '803_017', '796_740', '272_396', '735_774', '403_497', '280_249', '335_277', '400_476', '515_519', '994_986', '457_398', '715_721', '706_479', '149_152', '680_486', '940_941', '033_097', '961_069', '251_375', '889_045', '764_850', '051_332', '777_745', '912_927', '872_873', '250_461', '251_375', '144_122', '358_380', '833_826', '529_633', '167_166', '167_166', '832_762', '810_838', '738_804', '102_114', '383_353', '998_561', '401_395', '938_987', '183_253', '310_196', '059_050', '987_938', '857_909', '050_059', '881_856', '585_599', '930_763', '601_653', '691_732', '779_794', '012_026', '848_894', '423_421', '963_879', '224_197', '096_101', '178_598', '168_222', '490_534', '890_837', '475_265', '117_217', '093_121', '280_249', '537_563', '556_588', '418_507', '921_569', '256_146', '632_548', '145_299', '918_934', '370_483', '222_168', '913_893', '397_602', '269_268', '789_753', '846_845', '519_515', '625_650', '177_211', '055_147', '576_155', '498_433', '444_655', '644_657', '428_466', '573_757', '178_598', '366_473', '074_825', '054_071', '734_699', '751_752', '149_152', '046_904', '761_766', '235_194', '711_681', '971_564', '852_834', '688_645', '226_491', '518_131', '346_351', '764_850', '050_059', '680_486', '873_872', '644_657', '159_175', '984_967', '306_278', '347_314', '221_206', '605_591', '283_313', '312_021', '301_262', '394_373', '407_374', '830_828', '243_156', '552_851', '529_633', '269_268', '461_250', '815_730', '749_659', '568_628', '311_387', '154_386', '389_480', '715_721', '801_855', '423_421', '336_338', '648_654', '994_986', '327_329', '872_873', '097_033', '061_080', '561_998', '654_648', '185_276', '776_676', '227_169', '987_938', '621_546', '949_868', '231_663', '057_070', '300_304', '062_066', '205_184', '961_069', '338_336', '993_989', '555_516', '818_820', '326_501', '732_691', '765_867', '981_985', '558_583', '381_376', '755_759', '772_708', '098_092', '628_568', '639_841', '492_325', '102_114', '849_771', '433_498', '819_786', '163_031', '150_153', '358_380', '652_773', '969_897', '514_443', '385_414', '866_878', '652_773', '598_178', '666_656', '864_839', '245_157', '369_316', '277_335', '420_257', '294_292', '816_649', '038_125', '593_577', '635_642', '331_260', '954_976', '346_351', '025_067', '222_168', '735_774', '166_167', '562_626', '969_897', '541_523', '346_351', '606_567', '257_420', '662_641', '412_274', '101_096', '260_331', '905_860', '421_423', '578_636', '051_332', '537_563', '892_112', '235_194', '046_904', '115_939', '618_629', '709_390', '587_535', '744_674', '568_628', '881_856', '421_423', '297_270', '077_100', '764_850', '324_356', '522_337', '361_448', '455_471', '851_552', '484_415', '574_547', '374_407', '992_980', '278_306', '131_518', '787_782', '110_043', '262_301', '097_033', '330_162', '425_485', '885_802', '041_063', '929_962', '560_557', '555_516', '846_845', '997_040', '008_990', '775_742', '374_407', '933_925', '612_702', '793_768', '042_084', '421_423', '168_222', '101_096', '727_729', '357_432', '392_339', '335_277', '024_073', '248_232', '241_210', '328_320', '757_573', '116_091', '404_429', '898_922', '006_002', '746_571', '877_886', '478_506', '494_445', '303_309', '064_991', '156_243', '765_867', '599_585', '501_326', '142_138', '356_324', '270_297', '200_189', '228_289', '815_730', '815_730', '831_508', '650_625', '742_775', '343_363', '731_741', '740_796', '178_598', '117_217', '131_518', '970_973', '141_161', '055_147', '644_657', '939_115', '866_878', '415_484', '484_415', '356_324', '276_185', '561_998', '266_252', '831_508', '897_969', '704_723', '904_046', '490_534', '511_472', '220_219', '992_980', '844_797', '913_893', '618_629', '832_762', '750_743', '695_422', '595_597', '488_399', '678_460', '169_227', '365_307', '117_217', '434_438', '205_184', '329_327', '226_491', '653_601', '604_703', '290_240', '341_340', '096_101', '787_782', '602_397', '429_404', '768_793', '573_757', '596_609', '529_633', '283_313', '278_306', '369_316', '510_528', '823_584', '707_705', '479_706', '934_918', '378_368', '306_278', '675_608', '084_042', '089_065', '449_451', '771_849', '756_503', '732_691', '518_131', '991_064', '004_982', '278_306', '729_727', '947_951', '836_950', '626_562', '136_285', '870_001', '427_637', '187_234', '559_543', '785_736', '521_517', '525_509', '465_482', '405_393', '352_319', '651_835', '519_515', '279_298', '692_610', '974_953', '616_614', '150_153', '716_712', '724_725', '115_939', '074_825', '190_176', '061_080', '187_234', '624_570', '189_200', '472_511', '861_858', '241_210', '242_182', '732_691', '871_814', '524_580', '371_367', '290_240', '777_745', '918_934', '292_294', '208_215', '997_040', '936_931', '962_929', '452_550', '191_188', '076_079', '324_356', '758_754', '466_428', '683_607', '977_075', '368_378', '520_542', '090_086', '610_692', '941_940', '989_993', '287_426', '710_788', '956_958', '447_431', '706_479', '188_191', '697_581', '256_146', '381_376', '970_973', '063_041', '005_010', '345_259', '535_587', '568_628', '299_145', '888_937', '013_883', '449_451', '909_857', '701_579', '854_747', '587_535', '591_605', '661_670', '658_627', '085_124', '343_363', '842_714', '103_082', '686_696', '138_142', '107_109', '749_659', '262_301', '004_982', '090_086', '171_173', '266_252', '829_808', '373_394', '417_496', '800_840', '679_665', '360_437', '093_121', '323_302', '709_390', '087_081', '924_917', '783_916', '942_943', '811_920', '373_394', '285_136', '858_861', '366_473', '350_349', '421_423', '376_381', '055_147', '808_829', '089_065', '168_222', '942_943', '568_628', '018_019', '864_839', '336_338', '648_654', '847_906', '105_180', '352_319', '993_989', '488_399', '157_245', '261_254', '096_101', '069_961', '450_533', '421_423', '778_798', '591_605', '461_250', '959_957', '515_519', '342_416', '517_521', '963_879', '584_823', '709_390', '846_845', '035_036', '408_424', '584_823', '269_268', '365_307', '943_942', '192_134', '492_325', '338_336', '985_981', '452_550', '975_978', '299_145', '882_952', '087_081', '876_891', '282_238', '525_509', '663_231', '871_814', '946_049', '902_901', '760_611', '398_457', '879_963', '066_062', '436_526', '813_700', '387_311', '528_510', '407_374', '407_374', '101_096', '366_473', '035_036', '520_542', '886_877', '812_821', '801_855', '205_184', '178_598', '423_421', '640_638', '142_138', '467_462', '200_189', '446_667', '614_616', '531_549', '589_565', '558_583', '299_145', '615_687', '104_126', '413_372', '463_464', '290_240', '377_333', '146_256', '584_823', '403_497', '345_259', '830_828', '216_164', '096_101', '216_164', '405_393', '755_759', '559_543', '492_325', '008_990', '504_502', '938_987', '641_662', '606_567', '786_819', '773_652', '147_055', '109_107', '427_637', '316_369', '955_078', '590_034', '809_799', '916_783', '340_341', '588_556', '639_841', '463_464', '173_171', '260_331', '384_932', '573_757', '492_325', '141_161', '138_142', '691_732', '777_745', '490_534', '045_889', '898_922', '002_006', '068_028', '811_920', '534_490', '732_691', '553_545', '044_945', '815_730', '050_059', '221_206', '268_269', '185_276', '237_236', '266_252', '319_352', '724_725', '388_308', '026_012', '014_790', '147_055', '348_202', '498_433', '845_846', '191_188', '558_583', '814_871', '289_228', '386_154', '928_160', '245_157', '766_761', '909_857', '993_989', '994_986', '992_980', '896_128', '773_652', '800_840', '815_730', '844_797', '472_511', '312_021', '574_547', '055_147', '929_962', '878_866', '778_798', '536_540', '844_797', '576_155', '940_941', '187_234', '669_682', '682_669', '211_177', '955_078', '089_065', '904_046', '923_023', '304_300', '534_490', '122_144', '476_400', '674_744', '359_317', '590_034', '060_088', '809_799', '138_142', '802_885', '636_578', '788_710', '402_453', '296_293', '525_509', '976_954', '348_202', '102_114', '121_093', '211_177', '542_520', '601_653', '228_289', '104_126', '175_159', '556_588', '057_070', '658_627', '440_364', '303_309', '886_877', '827_817', '335_277', '608_675', '534_490', '153_150', '456_435', '269_268', '670_661', '127_129', '406_391', '627_658', '386_154', '428_466', '126_104', '993_989', '596_609', '162_330', '618_629', '478_506', '851_552', '376_381', '224_197', '591_605', '351_346', '332_051', '253_183', '676_776', '637_427', '764_850', '873_872', '385_414', '102_114', '417_496', '939_115', '881_856', '878_866', '159_175', '219_220', '790_014', '309_303', '907_795', '180_105', '101_096', '589_565', '551_631', '409_382', '206_221', '550_452', '624_570', '804_738', '278_306', '644_657', '421_423', '558_583', '621_546', '803_017', '225_151', '075_977', '509_525', '886_877', '598_178', '150_153', '205_184', '254_261', '061_080', '116_091', '110_043', '762_832', '605_591', '333_377', '887_275', '416_342', '115_939', '881_856', '792_903', '238_282', '028_068', '598_178', '132_007', '776_676', '877_886', '616_614', '600_505', '000_003', '818_820', '868_949', '357_432', '455_471', '030_193', '004_982', '712_716', '527_454', '311_387', '999_960', '041_063', '069_961', '830_828', '818_820', '720_672', '389_480', '534_490', '609_596', '546_621', '696_686', '260_331', '478_506', '217_117', '584_823', '257_420', '040_997', '252_266', '508_831', '121_093', '113_983', '207_908', '917_924', '612_702', '286_267', '410_411', '533_450', '840_800', '116_091', '224_197', '657_644', '858_861', '339_392', '870_001', '545_553', '920_811', '381_376', '153_150', '839_864', '397_602', '468_470', '894_848', '159_175', '184_205', '879_963', '039_058', '189_200', '739_865', '784_769', '106_198', '556_588', '392_339', '563_537', '971_564', '076_079', '995_233', '573_757', '842_714', '265_475', '515_519', '336_338', '367_371', '454_527', '438_434', '356_324', '968_884', '281_474', '096_101', '368_378', '127_129', '216_164', '735_774', '028_068', '114_102', '494_445', '621_546', '706_479', '997_040', '965_948', '773_652', '495_512', '318_334', '053_095', '459_430', '100_077', '326_501', '506_478', '147_055', '445_494', '155_576', '317_359', '583_558', '376_381', '824_419', '217_117', '064_991', '746_571', '513_305', '462_467', '353_383', '492_325', '659_749', '912_927', '909_857', '548_632', '215_208', '887_275', '380_358', '903_792', '903_792', '857_909', '811_920', '678_460', '809_799', '340_341', '582_172', '563_537', '511_472', '475_265', '357_432', '217_117', '675_608', '016_209', '405_393', '155_576', '495_512', '047_862', '531_549', '327_329', '066_062', '530_594', '267_286', '701_579', '758_754', '593_577', '771_849', '537_563', '089_065', '606_567', '687_615', '337_522', '307_365', '765_867', '961_069', '993_989', '285_136', '067_025', '511_472', '715_721', '016_209', '262_301', '858_861', '725_724', '391_406', '990_008', '848_894', '962_929', '597_595', '104_126', '822_244', '790_014', '270_297', '862_047', '142_138', '309_303', '044_945', '729_727', '640_638', '888_937', '423_421', '427_637', '440_364', '983_113', '227_169', '584_823', '887_275', '791_770', '552_851', '292_294', '666_656', '036_035', '139_130', '956_958', '675_608', '026_012', '826_833', '611_760', '450_533', '855_801', '940_941', '644_657', '137_165', '842_714', '762_832', '323_302', '958_956', '156_243', '044_945', '580_524', '457_398', '257_420', '055_147', '407_374', '216_164', '099_295', '347_314', '233_995', '252_266', '811_920', '501_326', '489_022', '739_865', '161_141', '086_090', '990_008', '616_614', '265_475', '641_662', '836_950', '045_889', '082_103', '058_039', '282_238', '356_324', '313_283', '468_470', '336_338', '040_997', '288_321', '836_950', '340_341', '740_796', '816_649', '350_349', '903_792', '335_277', '188_191', '455_471', '039_058', '210_241', '664_668', '587_535', '560_557', '277_335', '877_886', '827_817', '575_603', '417_496', '837_890', '515_519', '359_317', '399_488', '413_372', '447_431', '339_392', '431_447', '159_175', '634_660', '486_680', '350_349', '756_503', '964_174', '189_200', '269_268', '493_538', '868_949', '823_584', '263_284', '129_127', '546_621', '472_511', '783_916', '197_224', '365_307', '687_615', '802_885', '872_873', '329_327', '662_641', '949_868', '303_309', '945_044', '791_770', '700_813', '540_536', '062_066', '058_039', '751_752', '345_259', '134_192', '598_178', '065_089', '912_927', '149_152', '724_725', '906_847', '022_489', '677_671', '728_673', '726_713', '606_567', '984_967', '075_977', '063_041', '665_679', '321_288', '266_252', '615_687', '189_200', '955_078', '406_391', '004_982', '044_945', '861_858', '730_815', '071_054', '722_458', '097_033', '496_417', '467_462', '455_471', '863_853', '623_630', '101_096', '514_443', '644_657', '144_122', '393_405', '352_319', '712_716', '057_070', '127_129', '418_507', '534_490', '727_729', '088_060', '938_987', '865_739', '414_385', '406_391', '519_515', '815_730', '440_364', '926_900', '346_351', '481_469', '409_382', '157_245', '496_417', '711_681', '949_868', '549_531', '720_672', '671_677', '990_008', '631_551', '899_914', '145_299', '841_639', '136_285', '390_709', '143_140', '744_674', '145_299', '761_766', '594_530', '236_237', '200_189', '730_815', '244_822', '864_839', '648_654', '058_039', '239_218', '172_582', '221_206', '886_877', '356_324', '600_505', '692_610', '617_566', '656_666', '896_128', '374_407', '276_185', '323_302', '262_301', '910_911', '024_073', '459_430', '456_435', '205_184', '300_304', '074_825', '677_671', '124_085', '361_448', '632_548', '076_079', '496_417', '020_344', '989_993', '001_870', '552_851', '455_471', '408_424', '618_629', '743_750', '838_810', '511_472', '736_785', '756_503', '685_613', '148_133', '724_725', '291_874', '323_302', '508_831', '640_638', '516_555', '085_124', '196_310', '661_670', '540_536', '223_586', '753_789', '045_889', '797_844', '352_319', '008_990', '259_345', '317_359', '054_071', '386_154', '319_352', '582_172', '607_683', '430_459', '591_605', '552_851', '189_200', '110_043', '378_368', '503_756', '649_816', '858_861', '340_341', '381_376', '696_686', '639_841', '291_874', '726_713', '598_178', '394_373', '392_339', '795_907', '398_457', '209_016', '383_353', '255_214', '257_420', '976_954', '402_453', '864_839', '955_078', '786_819', '898_922', '637_427', '466_428', '394_373', '800_840', '531_549', '625_650', '038_125', '343_363', '115_939', '502_504', '549_531', '124_085', '340_341', '443_514', '942_943', '103_082', '199_181', '703_604', '971_564', '007_132', '344_020', '321_288', '905_860', '449_451', '386_154', '203_201', '468_470', '239_218', '320_328', '065_089', '370_483', '953_974', '081_087', '552_851', '548_632', '378_368', '885_802', '761_766', '458_722', '808_829', '018_019', '408_424', '380_358', '445_494', '886_877', '455_471', '121_093', '394_373', '360_437', '117_217', '135_880', '849_771', '788_710', '123_119', '313_283', '033_097', '811_920', '924_917', '698_693', '442_195', '149_152', '982_004', '790_014', '455_471', '879_963', '971_564', '438_434', '429_404', '278_306', '064_991', '129_127', '356_324', '654_648', '513_305', '705_707', '528_510', '547_574', '737_719', '772_708', '053_095', '893_913', '371_367', '865_739', '469_481', '266_252', '339_392', '182_242', '241_210', '019_018', '797_844', '367_371', '792_903', '644_657', '559_543', '540_536', '107_109', '379_158', '124_085', '108_052', '881_856', '347_314', '387_311', '269_268', '823_584', '801_855', '482_465', '881_856', '010_005', '489_022', '183_253', '488_399', '779_794', '671_677', '076_079', '623_630', '101_096', '262_301', '407_374', '122_144', '550_452', '295_099', '647_622', '038_125', '487_477', '701_579', '882_952', '494_445', '476_400', '991_064', '380_358', '677_671', '712_716', '394_373', '469_481', '621_546', '429_404', '336_338', '099_295', '792_903', '447_431', '165_137', '164_216', '312_021', '890_837', '025_067', '109_107', '001_870', '367_371', '568_628', '552_851', '493_538', '137_165', '794_779', '737_719', '866_878', '254_261', '934_918', '603_575', '009_027', '782_787', '330_162', '896_128', '974_953', '177_211', '376_381', '417_496', '302_323', '360_437', '457_398', '792_903', '080_061', '001_870', '462_467', '202_348', '464_463', '699_734', '983_113', '643_646', '421_423', '013_883', '552_851', '269_268', '204_230', '919_015', '114_102', '447_431', '873_872', '087_081', '394_373', '051_332', '893_913', '159_175', '314_347', '838_810', '474_281', '432_357', '508_831', '026_012', '618_629', '132_007', '550_452', '234_187', '877_886', '980_992', '377_333', '318_334', '341_340', '130_139', '041_063', '440_364', '642_635', '585_599', '963_879', '237_236', '396_272', '618_629', '838_810', '654_648', '330_162', '055_147', '128_896', '756_503', '786_819', '431_447', '125_038', '717_684', '053_095', '044_945', '406_391', '751_752', '651_835', '781_806', '208_215', '990_008', '227_169', '800_840', '702_612', '817_827', '636_578', '034_590', '140_143', '024_073', '649_816', '197_224', '027_009', '203_201', '224_197', '580_524', '264_271', '880_135', '574_547', '920_811', '636_578', '651_835', '740_796', '170_186', '972_718', '252_266', '831_508', '324_356', '313_283', '207_908', '406_391', '895_915', '155_576', '523_541', '817_827', '695_422', '786_819', '469_481', '832_762', '376_381', '518_131', '023_923', '184_205', '520_542', '805_011', '945_044', '371_367', '164_216', '920_811', '703_604', '986_994', '721_715', '550_452', '238_282', '699_734', '801_855', '092_098', '044_945', '536_540', '488_399', '841_639', '873_872', '066_062', '298_279', '867_765', '717_684', '406_391', '867_765', '978_975', '935_733', '103_082', '258_246', '881_856', '378_368', '548_632', '918_934', '846_845', '554_572', '726_713', '014_790', '408_424', '694_767', '306_278', '009_027', '851_552', '254_261', '288_321', '065_089', '574_547', '127_129', '002_006', '266_252', '872_873', '796_740', '809_799', '095_053', '536_540', '350_349', '872_873', '962_929', '330_162', '392_339', '679_665', '170_186', '688_645', '615_687', '502_504', '435_456', '205_184', '090_086', '555_516', '669_682', '261_254', '433_498', '748_355', '495_512', '913_893', '657_644', '730_815', '375_251', '233_995', '226_491', '948_965', '534_490', '493_538', '507_418', '218_239', '552_851', '667_446', '409_382', '679_665', '444_655', '866_878', '335_277', '708_772', '026_012', '503_756', '346_351', '017_803', '297_270', '731_741', '475_265', '356_324', '334_318', '819_786', '819_786', '871_814', '929_962', '004_982', '988_966', '785_736', '314_347', '726_713', '400_476', '535_587', '907_795', '372_413', '931_936', '809_799', '889_045', '367_371', '816_649', '050_059', '009_027', '406_391', '567_606', '870_001', '812_821', '476_400', '113_983', '912_927', '433_498', '339_392', '420_257', '094_111', '705_707', '471_455', '097_033', '994_986', '533_450', '682_669', '921_569', '563_537', '310_196', '119_123', '001_870', '873_872', '835_651', '421_423', '665_679', '093_121', '290_240', '257_420', '677_671', '417_496', '923_023', '200_189', '318_334', '958_956', '046_904', '855_801', '291_874', '313_283', '239_218', '444_655', '212_179', '743_750', '234_187', '053_095', '008_990', '426_287', '206_221', '320_328', '782_787', '216_164', '995_233', '538_493', '266_252', '015_919', '304_300', '391_406', '866_878', '063_041', '559_543', '760_611', '263_284', '097_033', '872_873', '306_278', '809_799', '301_262', '146_256', '426_287', '897_969', '720_672', '680_486', '557_560', '250_461', '603_575', '344_020', '023_923', '994_986', '657_644', '023_923', '734_699', '215_208', '608_675', '111_094', '088_060', '241_210', '761_766', '841_639', '103_082', '393_405', '502_504', '980_992', '526_436', '781_806', '704_723', '712_716', '856_881', '257_420', '816_649', '532_544', '499_539', '426_287', '727_729', '423_421', '409_382', '186_170', '494_445', '495_512', '395_401', '789_753', '886_877', '661_670', '207_908', '348_202', '415_484', '048_029', '417_496', '691_732', '794_779', '111_094', '418_507', '687_615', '709_390', '692_610', '279_298', '242_182', '528_510', '067_025', '323_302', '110_043', '962_929', '726_713', '513_305', '914_899', '495_512', '018_019', '447_431', '004_982', '241_210', '486_680', '165_137', '744_674', '988_966', '080_061', '018_019', '595_597', '762_832', '290_240', '336_338', '207_908', '531_549', '429_404', '627_658', '205_184', '610_692', '549_531', '605_591', '517_521', '266_252', '644_657', '716_712', '608_675', '070_057', '010_005', '473_366', '211_177', '524_580', '097_033', '578_636', '735_774', '173_171', '806_781', '932_384', '716_712', '420_257', '519_515', '505_600', '550_452', '572_554', '740_796', '628_568', '715_721', '203_201', '343_363', '573_757', '821_812', '997_040', '972_718', '857_909', '852_834', '835_651', '828_830', '345_259', '730_815', '663_231', '040_997', '995_233', '022_489', '018_019', '443_514', '100_077', '234_187', '355_748', '809_799', '821_812', '605_591', '543_559', '657_644', '780_869', '704_723', '914_899', '403_497', '325_492', '194_235', '253_183', '769_784', '077_100', '947_951', '992_980', '669_682', '512_495', '250_461', '203_201', '165_137', '335_277', '496_417', '583_558', '713_726', '129_127', '950_836', '435_456', '128_896', '688_645', '474_281', '300_304', '136_285', '027_009', '373_394', '462_467', '893_913', '495_512', '820_818', '650_625', '798_778', '962_929', '654_648', '345_259', '664_668', '285_136', '974_953', '570_624', '808_829', '892_112', '719_737', '050_059', '100_077', '996_056', '869_780', '181_199', '019_018', '318_334', '793_768', '740_796', '518_131', '783_916', '026_012', '518_131', '062_066', '381_376', '309_303', '013_883', '079_076', '197_224', '712_716', '557_560', '625_650', '877_886', '494_445', '062_066', '720_672', '023_923', '574_547', '917_924', '087_081', '515_519', '576_155', '841_639', '622_647', '689_690', '131_518', '615_687', '486_680', '517_521', '205_184', '069_961', '791_770', '613_685', '884_968', '696_686', '468_470', '034_590', '508_831', '033_097', '068_028', '249_280', '106_198', '085_124', '653_601', '675_608', '703_604', '503_756', '031_163', '437_360', '195_442', '965_948', '535_587', '102_114', '577_593', '736_785', '381_376', '097_033', '888_937', '090_086', '815_730', '342_416', '630_623', '421_423', '276_185', '576_155', '691_732', '173_171', '680_486', '672_720', '882_952', '687_615', '803_017', '940_941', '421_423', '337_522', '470_468', '948_965', '148_133', '687_615', '113_983', '082_103', '418_507', '418_507', '757_573', '152_149', '029_048', '957_959', '705_707', '302_323', '512_495', '267_286', '967_984', '905_860', '105_180', '167_166', '128_896', '394_373', '426_287', '147_055', '749_659', '700_813', '839_864', '268_269', '633_529', '300_304', '523_541', '963_879', '247_229', '572_554', '456_435', '765_867', '059_050', '274_412', '404_429', '594_530', '544_532', '954_976', '588_556', '956_958', '720_672', '203_201', '146_256', '931_936', '910_911', '159_175', '233_995', '813_700', '895_915', '162_330', '449_451', '704_723', '861_858', '090_086', '487_477', '957_959', '056_996', '283_313', '468_470', '902_901', '930_763', '507_418', '033_097', '492_325', '850_764', '878_866', '254_261', '988_966', '981_985', '082_103', '710_788', '849_771', '188_191', '915_895', '543_559', '858_861', '636_578', '690_689', '422_695', '547_574', '642_635', '557_560', '245_157', '759_755', '936_931', '136_285', '302_323', '786_819', '020_344', '758_754', '547_574', '424_408', '256_146', '204_230', '828_830', '896_128', '279_298', '751_752', '413_372', '505_600', '531_549', '265_475', '283_313', '991_064', '159_175', '223_586', '445_494', '501_326', '455_471', '120_118', '852_834', '184_205', '130_139', '301_262', '764_850', '509_525', '501_326', '644_657', '835_651', '512_495', '044_945', '494_445', '178_598', '970_973', '477_487', '260_331', '754_758', '004_982', '798_778', '877_886', '030_193', '565_589', '390_709', '608_675', '519_515', '756_503', '647_622', '710_788', '397_602', '336_338', '694_767', '634_660', '943_942', '458_722', '087_081', '087_081', '879_963', '449_451', '881_856', '278_306', '993_989', '617_566', '218_239', '532_544', '793_768', '355_748', '116_091', '211_177', '369_316', '805_011', '788_710', '789_753', '721_715', '471_455', '293_296', '863_853', '507_418', '531_549', '258_246', '224_197', '622_647', '061_080', '339_392', '179_212', '394_373', '373_394', '285_136', '022_489', '423_421', '529_633', '318_334', '425_485', '981_985', '161_141', '323_302', '933_925', '349_350', '772_708', '364_440', '712_716', '580_524', '390_709', '667_446', '367_371', '881_856', '228_289', '470_468', '292_294', '834_852', '520_542', '301_262', '397_602', '023_923', '749_659', '348_202', '167_166', '173_171', '856_881', '463_464', '049_946', '063_041', '041_063', '999_960', '429_404', '355_748', '806_781', '158_379', '501_326', '253_183', '985_981', '212_179', '854_747', '652_773', '687_615', '285_136', '596_609', '987_938', '809_799', '493_538', '205_184', '018_019', '966_988', '053_095', '925_933', '751_752', '362_354', '351_346', '940_941', '099_295', '827_817', '407_374', '019_018', '630_623', '337_522', '212_179', '435_456', '520_542', '531_549', '582_172', '292_294', '216_164', '808_829', '836_950', '248_232', '360_437', '908_207', '655_444', '475_265', '386_154', '078_955', '787_782', '659_749', '572_554', '247_229', '988_966', '101_096', '660_634', '777_745', '777_745', '721_715', '252_266', '603_575', '820_818', '111_094', '476_400', '619_620', '295_099', '932_384', '164_216', '458_722', '669_682', '207_908', '206_221', '138_142', '644_657', '307_365', '099_295', '568_628', '881_856', '741_731', '389_480', '585_599', '409_382', '363_343', '717_684', '684_717', '648_654', '341_340', '540_536', '615_687', '792_903', '467_462', '813_700', '993_989', '325_492', '386_154', '499_539', '704_723', '994_986', '657_644', '387_311', '165_137', '079_076', '208_215', '894_848', '016_209', '991_064', '190_176', '002_006', '690_689', '469_481', '028_068', '480_389', '276_185', '278_306', '173_171', '973_970', '422_695', '803_017', '644_657', '410_411', '222_168', '800_840', '086_090', '892_112', '123_119', '921_569', '328_320', '764_850', '492_325', '303_309', '885_802', '488_399', '896_128', '192_134', '585_599', '714_842', '648_654', '805_011', '624_570', '868_949', '270_297', '783_916', '339_392', '175_159', '607_683', '972_718', '304_300', '698_693', '195_442', '474_281', '236_237', '332_051', '285_136', '375_251', '212_179', '878_866', '342_416', '211_177', '951_947', '744_674', '064_991', '395_401', '014_790', '199_181', '977_075', '876_891', '746_571', '660_634', '661_670', '099_295', '412_274', '579_701', '352_319', '779_794', '089_065', '082_103', '313_283', '116_091', '763_930', '779_794', '731_741', '559_543', '304_300', '219_220', '006_002', '129_127', '320_328', '721_715', '288_321', '053_095', '147_055', '911_910', '241_210', '867_765', '756_503', '195_442', '716_712', '264_271', '920_811', '995_233', '843_859', '806_781', '005_010', '583_558', '789_753', '642_635', '300_304', '588_556', '324_356', '078_955', '577_593', '025_067', '556_588', '479_706', '196_310', '332_051', '039_058', '782_787', '462_467', '741_731', '467_462', '775_742', '628_568', '881_856', '302_323', '564_971', '872_873', '151_225', '874_291', '288_321', '242_182', '814_871', '958_956', '879_963', '842_714', '845_846', '849_771', '457_398', '639_841', '961_069', '178_598', '148_133', '497_403', '235_194', '682_669', '506_478', '983_113', '083_213', '922_898', '888_937', '850_764', '461_250', '324_356', '958_956', '528_510', '866_878', '177_211', '763_930', '269_268', '824_419', '892_112', '577_593', '515_519', '924_917', '210_241', '441_439', '537_563', '892_112', '004_982', '298_279', '256_146', '105_180', '272_396', '562_626', '510_528', '675_608', '673_728', '434_438', '601_653', '138_142', '765_867', '569_921', '423_421', '816_649', '608_675', '565_589', '836_950', '133_148', '043_110', '545_553', '413_372', '404_429', '001_870', '556_588', '300_304', '398_457', '950_836', '422_695', '331_260', '588_556', '120_118', '669_682', '009_027', '270_297', '192_134', '718_972', '594_530', '003_000', '370_483', '187_234', '761_766', '632_548', '858_861', '273_807', '552_851', '707_705', '518_131', '461_250', '305_513', '678_460', '654_648', '282_238', '792_903', '556_588', '111_094', '294_292', '420_257', '961_069', '763_930', '925_933', '907_795', '430_459', '223_586', '980_992', '261_254', '420_257', '479_706', '912_927', '943_942', '251_375', '365_307', '654_648', '088_060', '328_320', '505_600', '884_968', '860_905', '717_684', '249_280', '167_166', '773_652', '466_428', '766_761', '412_274', '903_792', '833_826', '699_734', '603_575', '930_763', '660_634', '787_782', '194_235', '288_321', '403_497', '947_951', '111_094', '504_502', '333_377', '391_406', '963_879', '936_931', '740_796', '180_105', '631_551', '703_604', '522_337', '705_707', '632_548', '849_771', '234_187', '672_720', '047_862', '013_883', '945_044', '283_313', '494_445', '875_979', '930_763', '006_002', '867_765', '372_413', '075_977', '635_642', '930_763', '349_350', '334_318', '366_473', '460_678', '339_392', '647_622', '429_404', '230_204', '250_461', '482_465', '086_090', '015_919', '192_134', '585_599', '052_108', '118_120', '777_745', '951_947', '566_617', '024_073', '486_680', '533_450', '935_733', '858_861', '923_023', '591_605', '757_573', '748_355', '314_347', '841_639', '276_185', '888_937', '562_626', '399_488', '435_456', '949_868', '407_374', '366_473', '378_368', '729_727', '746_571', '174_964', '972_718', '221_206', '149_152', '262_301', '100_077', '760_611', '927_912', '568_628', '592_500', '291_874', '067_025', '501_326', '360_437', '199_181', '371_367', '731_741', '539_499', '562_626', '402_453', '254_261', '855_801', '038_125', '014_790', '280_249', '354_362', '793_768', '669_682', '953_974', '993_989', '306_278', '591_605', '838_810', '670_661', '307_365', '917_924', '536_540', '491_226', '797_844', '237_236', '487_477', '711_681', '750_743', '294_292', '305_513', '994_986', '454_527', '930_763', '209_016', '627_658', '471_455', '257_420', '627_658', '238_282', '908_207', '769_784', '326_501', '207_908', '374_407', '429_404', '974_953', '258_246', '826_833', '482_465', '268_269', '538_493', '417_496', '055_147', '407_374', '951_947', '074_825', '081_087', '741_731', '741_731', '938_987', '282_238', '152_149', '675_608', '694_767', '822_244', '214_255', '058_039', '681_711', '399_488', '209_016', '484_415', '268_269', '830_828', '943_942', '762_832', '565_589', '761_766', '996_056', '863_853', '536_540', '325_492', '688_645', '503_756', '697_581', '243_156', '917_924', '241_210', '936_931', '490_534', '313_283', '124_085', '914_899', '775_742', '639_841', '077_100', '547_574', '104_126', '230_204', '078_955', '809_799', '614_616', '416_342', '749_659', '956_958', '820_818', '318_334', '743_750', '298_279', '560_557', '665_679', '989_993', '261_254', '378_368', '421_423', '888_937', '804_738', '461_250', '276_185', '503_756', '985_981', '779_794', '093_121', '963_879', '745_777', '605_591', '855_801', '097_033', '819_786', '619_620', '552_851', '681_711', '410_411', '027_009', '075_977', '112_892', '175_159', '993_989', '816_649', '810_838', '306_278', '441_439', '572_554', '186_170', '654_648', '675_608', '498_433', '138_142', '091_116', '883_013', '263_284', '267_286', '529_633', '616_614', '136_285', '720_672', '881_856', '709_390', '551_631', '010_005', '929_962', '774_735', '908_207', '137_165', '129_127', '907_795', '290_240', '425_485', '723_704', '820_818', '412_274', '838_810', '851_552', '748_355', '133_148', '696_686', '917_924', '468_470', '552_851', '254_261', '471_455', '100_077', '176_190', '051_332', '488_399', '037_072', '422_695', '944_032', '044_945', '035_036', '132_007', '614_616', '560_557', '256_146', '751_752', '686_696', '613_685', '463_464', '789_753', '142_138', '389_480', '960_999', '139_130', '371_367', '096_101', '102_114', '612_702', '598_178', '969_897', '879_963', '513_305', '164_216', '301_262', '718_972', '541_523', '502_504', '703_604', '534_490', '519_515', '441_439', '512_495', '049_946', '640_638', '352_319', '578_636', '649_816', '725_724', '075_977', '067_025', '174_964', '321_288', '060_088', '623_630', '786_819', '372_413', '249_280', '849_771', '481_469', '891_876', '059_050', '752_751', '366_473', '485_425', '238_282', '050_059', '425_485', '242_182', '112_892', '952_882', '769_784', '456_435', '003_000', '012_026', '688_645', '631_551', '197_224', '979_875', '650_625', '247_229', '333_377', '864_839', '768_793', '961_069', '339_392', '309_303', '898_922', '822_244', '241_210', '035_036', '058_039', '512_495', '241_210', '767_694', '113_983', '308_388', '155_576', '240_290', '644_657', '807_273', '117_217', '697_581', '084_042', '400_476', '790_014', '597_595', '682_669', '630_623', '344_020', '098_092', '421_423', '762_832', '205_184', '231_663', '701_579', '598_178', '967_984', '906_847', '599_585', '457_398', '342_416', '319_352', '900_926', '892_112', '090_086', '630_623', '559_543', '624_570', '251_375', '664_668', '114_102', '275_887', '838_810', '308_388', '584_823', '845_846', '557_560', '741_731', '614_616', '003_000', '947_951', '915_895', '100_077', '396_272', '160_928', '920_811', '943_942', '857_909', '139_130', '733_935', '836_950', '097_033', '086_090', '469_481', '052_108', '159_175', '784_769', '294_292', '396_272', '360_437', '914_899', '011_805', '524_580', '659_749', '241_210', '072_037', '437_360', '226_491', '286_267', '980_992', '609_596', '657_644', '329_327', '392_339', '254_261', '100_077', '917_924', '413_372', '705_707', '367_371', '839_864', '666_656', '008_990', '566_617', '669_682', '669_682', '322_315', '990_008', '092_098', '359_317', '232_248', '643_646', '344_020', '314_347', '553_545', '709_390', '102_114', '716_712', '179_212', '338_336', '318_334', '848_894', '643_646', '242_182', '564_971', '492_325', '308_388', '154_386', '163_031', '859_843', '317_359', '569_921', '926_900', '781_806', '111_094', '394_373', '711_681', '220_219', '663_231', '667_446', '572_554', '238_282', '429_404', '197_224', '442_195', '831_508', '411_410', '695_422', '001_870', '256_146', '030_193', '308_388', '836_950', '758_754', '204_230', '926_900', '786_819', '377_333', '834_852', '838_810', '986_994', '340_341', '720_672', '189_200', '299_145', '481_469', '035_036', '445_494', '138_142', '256_146', '870_001', '678_460', '444_655', '705_707', '234_187', '405_393', '959_957', '811_920', '451_449', '388_308', '492_325', '681_711', '303_309', '201_203', '433_498', '460_678', '560_557', '397_602', '569_921', '456_435', '618_629', '886_877', '259_345', '197_224', '859_843', '594_530', '496_417', '157_245', '934_918', '051_332', '006_002', '339_392', '248_232', '382_409', '272_396', '254_261', '646_643', '165_137', '218_239', '699_734', '044_945', '371_367', '183_253', '885_802', '496_417', '370_483', '714_842', '089_065', '627_658', '667_446', '849_771', '742_775', '601_653', '525_509', '808_829', '640_638', '688_645', '562_626', '640_638', '469_481', '239_218', '111_094', '137_165', '216_164', '495_512', '492_325', '118_120', '625_650', '186_170', '617_566', '347_314', '197_224', '625_650', '117_217', '762_832', '247_229', '231_663', '043_110', '131_518', '351_346', '625_650', '838_810', '074_825', '737_719', '641_662', '768_793', '205_184', '691_732', '965_948', '768_793', '011_805', '186_170', '891_876', '515_519', '601_653', '395_401', '770_791', '276_185', '757_573', '065_089', '838_810', '843_859', '057_070', '540_536', '955_078', '567_606', '445_494', '927_912', '070_057', '411_410', '693_698', '296_293', '336_338', '973_970', '280_249', '956_958', '097_033', '492_325', '279_298', '078_955', '860_905', '830_828', '451_449', '511_472', '900_926', '224_197', '504_502', '453_402', '725_724', '399_488', '728_673', '762_832', '609_596', '676_776', '222_168', '493_538', '593_577', '207_908', '497_403', '985_981', '147_055', '119_123', '786_819', '712_716', '334_318', '428_466', '192_134', '526_436', '680_486', '912_927', '290_240', '896_128', '675_608', '816_649', '166_167', '805_011', '511_472', '488_399', '942_943', '163_031', '048_029', '352_319', '970_973', '339_392', '424_408', '756_503', '321_288', '501_326', '161_141', '573_757', '012_026', '257_420', '492_325', '663_231', '729_727', '110_043', '659_749', '547_574', '925_933', '837_890', '568_628', '904_046', '033_097', '726_713', '599_585', '798_778', '054_071', '786_819', '468_470', '278_306', '871_814', '472_511', '011_805', '243_156', '438_434', '329_327', '727_729', '647_622', '366_473', '219_220', '268_269', '282_238', '860_905', '222_168', '821_812', '541_523', '382_409', '974_953', '332_051', '779_794', '536_540', '773_652', '690_689', '568_628', '139_130', '554_572', '153_150', '895_915', '425_485', '712_716', '898_922', '235_194', '754_758', '613_685', '160_928', '567_606', '583_558', '318_334', '469_481', '337_522', '495_512', '774_735', '348_202', '169_227', '836_950', '594_530', '945_044', '957_959', '477_487', '949_868', '205_184', '716_712', '303_309', '051_332', '027_009', '403_497', '258_246', '725_724', '808_829', '420_257', '647_622', '983_113', '489_022', '434_438', '699_734', '795_907', '021_312', '463_464', '005_010', '583_558', '705_707', '509_525', '813_700', '917_924', '815_730', '863_853', '705_707', '729_727', '515_519', '833_826', '970_973', '791_770', '475_265', '244_822', '947_951', '419_824', '438_434', '248_232', '698_693', '462_467', '086_090', '939_115', '747_854', '790_014', '254_261', '093_121', '782_787', '766_761', '446_667', '407_374', '728_673', '390_709', '036_035', '468_470', '138_142', '706_479', '072_037', '839_864', '063_041', '125_038', '060_088', '669_682', '381_376', '156_243', '352_319', '666_656', '779_794', '126_104', '620_619', '631_551', '305_513', '983_113', '349_350', '379_158', '277_335', '635_642', '544_532', '417_496', '129_127', '913_893', '727_729', '883_013', '172_582', '757_573', '644_657', '470_468', '768_793', '997_040', '269_268', '216_164', '238_282', '120_118', '834_852', '617_566', '137_165', '791_770', '887_275', '763_930', '275_887', '030_193', '212_179', '459_430', '048_029', '917_924', '375_251', '853_863', '470_468', '289_228', '036_035', '081_087', '562_626', '734_699', '544_532', '667_446', '132_007', '182_242', '173_171', '866_878', '501_326', '808_829', '460_678', '654_648', '034_590', '175_159', '923_023', '723_704', '386_154', '133_148', '217_117', '134_192', '465_482', '889_045', '479_706', '132_007', '330_162', '390_709', '466_428', '634_660', '256_146', '208_215', '405_393', '500_592', '149_152', '710_788', '585_599', '004_982', '084_042', '769_784', '357_432', '999_960', '958_956', '401_395', '200_189', '029_048', '225_151', '282_238', '075_977', '799_809', '289_228', '009_027', '098_092', '269_268', '631_551', '215_208', '582_172', '737_719', '811_920', '699_734', '435_456', '533_450', '492_325', '090_086', '118_120', '447_431', '011_805', '675_608', '786_819', '224_197', '289_228', '205_184', '379_158', '041_063', '872_873', '432_357', '198_106', '323_302', '652_773', '316_369', '609_596', '102_114', '222_168', '215_208', '714_842', '091_116', '908_207', '497_403', '253_183', '834_852', '963_879', '656_666', '610_692', '838_810', '398_457', '337_522', '527_454', '950_836', '016_209', '657_644', '402_453', '963_879', '269_268', '174_964', '790_014', '097_033', '976_954', '158_379', '153_150', '993_989', '672_720', '917_924', '359_317', '035_036', '093_121', '295_099', '088_060', '087_081', '802_885', '973_970', '577_593', '795_907', '565_589', '753_789', '942_943', '773_652', '289_228', '107_109', '376_381', '413_372', '614_616', '392_339', '614_616', '776_676', '299_145', '970_973', '325_492', '050_059', '955_078', '514_443', '890_837', '634_660', '621_546', '629_618', '860_905', '664_668', '609_596', '008_990', '812_821', '995_233', '765_867', '895_915', '853_863', '345_259', '883_013', '763_930', '004_982', '780_869', '196_310', '772_708', '927_912', '232_248', '437_360', '541_523', '924_917', '303_309', '382_409', '550_452', '859_843', '182_242', '460_678', '861_858', '815_730', '536_540', '697_581', '740_796', '404_429', '954_976', '245_157', '195_442', '709_390', '891_876', '375_251', '643_646', '356_324', '513_305', '879_963', '181_199', '450_533', '586_223', '090_086', '091_116', '235_194', '714_842', '983_113', '740_796', '475_265', '616_614', '862_047', '228_289', '212_179', '682_669', '917_924', '648_654', '655_444', '910_911', '851_552', '628_568', '236_237', '016_209', '084_042', '796_740', '787_782', '433_498', '673_728', '171_173', '274_412', '752_751', '222_168', '944_032', '430_459', '317_359', '929_962', '279_298', '026_012', '630_623', '071_054', '922_898', '326_501', '849_771', '095_053', '594_530', '917_924', '550_452', '415_484', '977_075', '750_743', '887_275', '117_217', '538_493', '132_007', '713_726', '320_328', '256_146', '489_022', '600_505', '791_770', '371_367', '437_360', '132_007', '497_403', '278_306', '800_840', '097_033', '458_722', '396_272', '877_886', '175_159', '242_182', '448_361', '018_019', '313_283', '318_334', '473_366', '472_511', '133_148', '932_384', '417_496', '844_797', '062_066', '246_258', '778_798', '302_323', '368_378', '278_306', '956_958', '172_582', '928_160', '265_475', '958_956', '281_474', '492_325', '311_387', '924_917', '227_169', '391_406', '106_198', '321_288', '209_016', '133_148', '094_111', '409_382', '067_025', '204_230', '890_837', '298_279', '700_813', '268_269', '965_948', '140_143', '087_081', '809_799', '224_197', '274_412', '911_910', '368_378', '654_648', '369_316', '221_206', '981_985', '116_091', '771_849', '048_029', '622_647', '346_351', '779_794', '480_389', '253_183', '702_612', '323_302', '541_523', '994_986', '298_279', '875_979', '748_355', '377_333', '840_800', '220_219', '220_219', '761_766', '173_171', '313_283', '535_587', '028_068', '323_302', '800_840', '612_702', '410_411', '769_784', '577_593', '353_383', '514_443', '033_097', '135_880', '727_729', '090_086', '960_999', '151_225', '612_702', '049_946', '142_138', '247_229', '335_277', '018_019', '487_477', '350_349', '322_315', '937_888', '868_949', '599_585', '030_193', '531_549', '774_735', '384_932', '950_836', '113_983', '907_795', '898_922', '044_945', '604_703', '609_596', '986_994', '945_044', '267_286', '623_630', '299_145', '678_460', '460_678', '205_184', '018_019', '806_781', '482_465', '703_604', '599_585', '315_322', '635_642', '608_675', '619_620', '496_417', '715_721', '728_673', '444_655', '339_392', '800_840', '600_505', '558_583', '266_252', '497_403', '040_997', '285_136', '068_028', '704_723', '765_867', '273_807', '719_737', '959_957', '134_192', '336_338', '506_478', '201_203', '632_548', '183_253', '293_296', '592_500', '699_734', '900_926', '871_814', '943_942', '151_225', '296_293', '699_734', '141_161', '007_132', '193_030', '980_992', '399_488', '722_458', '918_934', '229_247', '738_804', '184_205', '232_248', '676_776', '828_830', '672_720', '338_336', '004_982', '942_943', '994_986', '550_452', '943_942', '256_146', '276_185', '082_103', '683_607', '332_051', '832_762', '388_308', '819_786', '666_656', '932_384', '726_713', '642_635', '987_938', '019_018', '388_308', '776_676', '265_475', '258_246', '648_654', '511_472', '360_437', '942_943', '683_607', '212_179', '011_805', '059_050', '317_359', '324_356', '075_977', '666_656', '940_941', '445_494', '730_815', '185_276', '043_110', '282_238', '792_903', '741_731', '562_626', '832_762', '445_494', '264_271', '498_433', '765_867', '639_841', '886_877', '271_264', '974_953', '463_464', '435_456', '255_214', '216_164', '300_304', '317_359', '484_415', '616_614', '303_309', '601_653', '465_482', '164_216', '971_564', '087_081', '280_249', '942_943', '006_002', '282_238', '565_589', '129_127', '441_439', '072_037', '417_496', '191_188', '269_268', '416_342', '761_766', '170_186', '594_530', '814_871', '729_727', '542_520', '225_151', '580_524', '571_746', '587_535', '630_623', '509_525', '061_080', '354_362', '741_731', '817_827', '881_856', '687_615', '582_172', '248_232', '442_195', '882_952', '972_718', '500_592', '318_334', '695_422', '776_676', '751_752', '155_576', '881_856', '860_905', '049_946', '080_061', '845_846', '597_595', '232_248', '729_727', '910_911', '855_801', '220_219', '809_799', '417_496', '917_924', '868_949', '563_537', '192_134', '979_875', '478_506', '022_489', '142_138', '070_057', '309_303', '256_146', '638_640', '498_433', '237_236', '724_725', '533_450', '702_612', '993_989', '943_942', '303_309', '282_238', '135_880', '826_833', '067_025', '642_635', '551_631', '132_007', '790_014', '367_371', '519_515', '188_191', '097_033', '469_481', '405_393', '586_223', '121_093', '949_868', '994_986', '794_779', '629_618', '166_167', '736_785', '139_130', '736_785', '174_964', '204_230', '806_781', '060_088', '362_354', '381_376', '229_247', '855_801', '260_331', '335_277', '206_221', '213_083', '148_133', '979_875', '079_076', '214_255', '262_301', '975_978', '660_634', '873_872', '744_674', '673_728', '399_488', '597_595', '924_917', '050_059', '346_351', '361_448', '940_941', '721_715', '042_084', '540_536', '092_098', '740_796', '210_241', '414_385', '709_390', '642_635', '204_230', '570_624', '041_063', '612_702', '113_983', '656_666', '102_114', '191_188', '164_216', '072_037', '210_241', '564_971', '635_642', '410_411', '001_870', '102_114', '866_878', '094_111', '093_121', '331_260', '795_907', '418_507', '863_853', '557_560', '522_337', '366_473', '060_088', '434_438', '018_019', '693_698', '487_477', '381_376', '626_562', '417_496', '388_308', '276_185', '924_917', '750_743', '617_566', '261_254', '102_114', '829_808', '494_445', '124_085', '006_002', '171_173', '672_720', '860_905', '587_535', '128_896', '447_431', '529_633', '033_097', '061_080', '471_455', '036_035', '290_240', '018_019', '519_515', '333_377', '927_912', '658_627', '942_943', '823_584', '936_931', '743_750', '105_180', '806_781', '394_373', '394_373', '051_332', '603_575', '909_857', '774_735', '901_902', '021_312', '458_722', '246_258', '274_412', '302_323', '378_368', '314_347', '969_897', '372_413', '414_385', '986_994', '084_042', '581_697', '446_667', '153_150', '445_494', '686_696', '562_626', '236_237', '704_723', '284_263', '323_302', '932_384', '300_304', '039_058', '751_752', '835_651', '390_709', '899_914', '561_998', '845_846', '905_860', '923_023', '829_808', '387_311', '086_090', '194_235', '534_490', '159_175', '155_576', '866_878', '070_057', '402_453', '263_284', '321_288', '327_329', '644_657', '135_880', '494_445', '232_248', '584_823', '711_681', '763_930', '934_918', '024_073', '852_834', '566_617', '336_338', '878_866', '818_820', '436_526', '952_882', '708_772', '722_458', '420_257', '339_392', '181_199', '179_212', '980_992', '084_042', '451_449', '296_293', '243_156', '108_052', '150_153', '992_980', '102_114', '421_423', '990_008', '374_407', '189_200', '624_570', '829_808', '167_166', '612_702', '729_727', '445_494', '566_617', '692_610', '271_264', '128_896', '340_341', '724_725', '891_876', '304_300', '823_584', '580_524', '776_676', '808_829', '648_654', '033_097', '951_947', '660_634', '727_729', '259_345', '676_776', '444_655', '014_790', '273_807', '202_348', '225_151', '496_417', '328_320', '952_882', '825_074', '027_009', '396_272', '986_994', '407_374', '866_878', '828_830', '631_551', '867_765', '610_692', '047_862', '546_621', '571_746', '322_315', '617_566', '209_016', '052_108', '476_400', '794_779', '707_705', '525_509', '710_788', '779_794', '626_562', '506_478', '349_350', '139_130', '358_380', '799_809', '362_354', '600_505', '786_819', '446_667', '765_867', '585_599', '285_136', '995_233', '203_201', '833_826', '554_572', '534_490', '576_155', '785_736', '382_409', '197_224', '669_682', '459_430', '502_504', '935_733', '615_687', '119_123', '470_468', '854_747', '269_268', '190_176', '817_827', '439_441', '894_848', '496_417', '110_043', '257_420', '731_741', '741_731', '689_690', '376_381', '654_648', '695_422', '237_236', '180_105', '899_914', '252_266', '446_667', '638_640', '679_665', '908_207', '462_467', '171_173', '587_535', '244_822', '506_478', '421_423', '048_029', '423_421', '405_393', '603_575', '484_415', '553_545', '086_090', '421_423', '596_609', '536_540', '536_540', '044_945', '761_766', '237_236', '980_992', '434_438', '691_732', '290_240', '562_626', '095_053', '090_086', '832_762', '575_603', '563_537', '585_599', '783_916', '938_987', '758_754', '295_099', '310_196', '829_808', '683_607', '592_500', '797_844', '418_507', '403_497', '369_316', '591_605', '512_495', '827_817', '305_513', '107_109', '293_296', '437_360', '438_434', '093_121', '059_050', '843_859', '029_048', '115_939', '326_501', '236_237', '669_682', '272_396', '954_976', '995_233', '732_691', '272_396', '312_021', '167_166', '707_705', '683_607', '270_297', '873_872', '740_796', '494_445', '330_162', '372_413', '678_460', '719_737', '727_729', '878_866', '345_259', '797_844', '356_324', '382_409', '256_146', '671_677', '977_075', '669_682', '965_948', '565_589', '306_278', '081_087', '279_298', '569_921', '734_699', '126_104', '886_877', '421_423', '881_856', '176_190', '872_873', '066_062', '878_866', '395_401', '102_114', '696_686', '339_392', '110_043', '275_887', '003_000', '224_197', '551_631', '591_605', '182_242', '747_854', '100_077', '232_248', '257_420', '207_908', '618_629', '290_240', '670_661', '707_705', '123_119', '069_961', '102_114', '675_608', '364_440', '805_011', '436_526', '166_167', '754_758', '215_208', '667_446', '450_533', '178_598', '165_137', '053_095', '356_324', '628_568', '709_390', '488_399', '256_146', '033_097', '580_524', '854_747', '144_122', '992_980', '537_563', '806_781', '510_528', '067_025', '870_001', '156_243', '121_093', '060_088', '480_389', '701_579', '387_311', '237_236', '015_919', '441_439', '083_213', '809_799', '239_218', '777_745', '570_624', '829_808', '376_381', '643_646', '568_628', '629_618', '797_844', '923_023', '029_048', '423_421', '996_056', '821_812', '982_004', '160_928', '895_915', '661_670', '215_208', '934_918', '426_287', '896_128', '628_568', '877_886', '483_370', '284_263', '649_816', '938_987', '799_809', '836_950', '068_028', '894_848', '085_124', '600_505', '917_924', '714_842', '984_967', '291_874', '742_775', '114_102', '863_853', '491_226', '389_480', '033_097', '570_624', '065_089', '095_053', '601_653', '056_996', '627_658', '829_808', '795_907', '835_651', '464_463', '339_392', '163_031', '359_317', '296_293', '856_881', '688_645', '492_325', '993_989', '514_443', '114_102', '288_321', '927_912', '087_081', '205_184', '470_468', '540_536', '893_913', '930_763', '586_223', '733_935', '234_187', '309_303', '146_256', '238_282', '250_461', '046_904', '308_388', '837_890', '962_929', '945_044', '518_131', '753_789', '259_345', '889_045', '105_180', '305_513', '038_125', '475_265', '522_337', '581_697', '395_401', '692_610', '019_018', '276_185', '496_417', '616_614', '189_200', '044_945', '109_107', '349_350', '822_244', '767_694', '553_545', '107_109', '968_884', '594_530', '861_858', '823_584', '193_030', '273_807', '966_988', '885_802', '439_441', '512_495', '632_548', '995_233', '921_569', '010_005', '797_844', '266_252', '689_690', '165_137', '328_320', '768_793', '717_684', '769_784', '072_037', '022_489', '154_386', '741_731', '330_162', '272_396', '440_364', '729_727', '096_101', '672_720', '263_284', '261_254', '373_394', '549_531', '572_554', '786_819', '299_145', '712_716', '994_986', '339_392', '518_131', '975_978', '986_994', '250_461', '797_844', '230_204', '298_279', '260_331', '447_431', '384_932', '109_107', '603_575', '765_867', '088_060', '841_639', '367_371', '053_095', '106_198', '740_796', '784_769', '955_078', '277_335', '841_639', '227_169', '376_381', '160_928', '587_535', '668_664', '567_606', '800_840', '874_291', '961_069', '435_456', '096_101', '014_790', '909_857', '058_039', '681_711', '226_491', '473_366', '877_886', '488_399', '642_635', '177_211', '636_578', '142_138', '645_688', '968_884', '523_541', '704_723', '802_885', '451_449', '273_807', '205_184', '775_742', '882_952', '114_102', '424_408', '255_214', '513_305', '425_485', '118_120', '336_338', '516_555', '006_002', '171_173', '742_775', '532_544', '920_811', '290_240', '162_330', '514_443', '020_344', '029_048', '935_733', '295_099', '339_392', '545_553', '212_179', '499_539', '925_933', '283_313', '252_266', '420_257', '150_153', '004_982', '188_191', '173_171', '718_972', '017_803', '392_339', '913_893', '476_400', '356_324', '555_516', '304_300', '927_912', '224_197', '542_520', '481_469', '405_393', '980_992', '827_817', '720_672', '609_596', '266_252', '816_649', '720_672', '010_005', '404_429', '477_487', '102_114', '800_840', '648_654', '293_296', '669_682', '669_682', '138_142', '431_447', '205_184', '218_239', '989_993', '981_985', '652_773', '686_696', '224_197', '686_696', '208_215', '253_183', '993_989', '380_358', '215_208', '257_420', '161_141', '533_450', '138_142', '402_453', '212_179', '398_457', '618_629', '495_512', '276_185', '300_304', '465_482', '648_654', '163_031', '935_733', '328_320', '690_689', '938_987', '585_599', '386_154', '615_687', '509_525', '334_318', '478_506', '138_142', '809_799', '577_593', '503_756', '205_184', '247_229', '036_035', '563_537', '088_060', '525_509', '044_945', '721_715', '589_565', '835_651', '249_280', '387_311', '898_922', '764_850', '825_074', '621_546', '285_136', '270_297', '371_367', '326_501', '222_168', '078_955', '747_854', '052_108', '351_346', '022_489', '740_796', '667_446', '821_812', '757_573', '562_626', '082_103', '002_006', '262_301', '345_259', '000_003', '085_124', '065_089', '992_980', '700_813', '755_759', '263_284', '331_260', '678_460', '957_959', '833_826', '541_523', '006_002', '496_417', '473_366', '159_175', '680_486', '966_988', '507_418', '826_833', '423_421', '751_752', '385_414', '098_092', '640_638', '562_626', '633_529', '928_160', '368_378', '360_437', '946_049', '201_203', '221_206', '175_159', '041_063', '457_398', '925_933', '976_954', '722_458', '225_151', '914_899', '095_053', '631_551', '445_494', '004_982', '528_510', '242_182', '619_620', '468_470', '230_204', '539_499', '311_387', '519_515', '741_731', '018_019', '522_337', '024_073', '688_645', '944_032', '337_522', '958_956', '841_639', '324_356', '667_446', '401_395', '699_734', '519_515', '697_581', '688_645', '983_113', '359_317', '491_226', '954_976', '405_393', '262_301', '318_334', '200_189', '213_083', '103_082', '617_566', '604_703', '749_659', '785_736', '189_200', '318_334', '461_250', '160_928', '286_267', '938_987', '009_027', '091_116', '747_854', '527_454', '629_618', '279_298', '598_178', '975_978', '980_992', '744_674', '394_373', '529_633', '995_233', '233_995', '021_312', '618_629', '760_611', '187_234', '512_495', '768_793', '774_735', '340_341', '423_421', '264_271', '150_153', '943_942', '771_849', '164_216', '723_704', '359_317', '974_953', '525_509', '700_813', '601_653', '775_742', '305_513', '023_923', '728_673', '921_569', '096_101', '073_024', '407_374', '871_814', '523_541', '278_306', '133_148', '399_488', '218_239', '889_045', '420_257', '779_794', '289_228', '986_994', '618_629', '309_303', '173_171', '097_033', '445_494', '014_790', '935_733', '534_490', '150_153', '801_855', '338_336', '787_782', '082_103', '662_641', '513_305', '725_724', '877_886', '230_204', '205_184', '222_168', '631_551', '441_439', '920_811', '322_315', '738_804', '716_712', '694_767', '240_290', '621_546', '851_552', '861_858', '811_920', '108_052', '775_742', '854_747', '906_847', '935_733', '166_167', '076_079', '309_303', '216_164', '657_644', '824_419', '098_092', '215_208', '017_803', '171_173', '922_898', '708_772', '195_442', '072_037', '059_050', '623_630', '706_479', '549_531', '983_113', '890_837', '638_640', '007_132', '354_362', '372_413', '751_752', '494_445', '998_561', '492_325', '340_341', '100_077', '208_215', '243_156', '881_856', '512_495', '106_198', '167_166', '818_820', '130_139', '666_656', '267_286', '209_016', '726_713', '018_019', '292_294', '210_241', '292_294', '216_164', '035_036', '624_570', '228_289', '514_443', '483_370', '368_378', '374_407', '570_624', '206_221', '279_298', '037_072', '834_852', '061_080', '508_831', '675_608', '505_600', '381_376', '663_231', '591_605', '884_968', '346_351', '670_661', '672_720', '803_017', '041_063', '712_716', '020_344', '520_542', '117_217', '604_703', '983_113', '647_622', '032_944', '654_648', '024_073', '947_951', '705_707', '988_966', '854_747', '713_726', '495_512', '311_387', '831_508', '192_134', '506_478', '212_179', '978_975', '429_404', '753_789', '059_050', '806_781', '253_183', '959_957', '326_501', '740_796', '797_844', '429_404', '446_667', '202_348', '530_594', '365_307', '157_245', '761_766', '652_773', '212_179', '633_529', '599_585']\n"
     ]
    }
   ],
   "source": [
    "def get_7numname(df):\n",
    "    imgs = df['imgname'].apply(lambda x: x[:7])\n",
    "    return imgs\n",
    "\n",
    "print(get_7numname(data_face2face_train).tolist())"
   ]
  },
  {
   "cell_type": "code",
   "execution_count": 121,
   "metadata": {},
   "outputs": [],
   "source": [
    "train_val_test_dict_f2f = {}\n",
    "train_val_test_dict_f2f['train'] = get_7numname(data_face2face_train).tolist()\n",
    "train_val_test_dict_f2f['validation'] = get_7numname(data_face2face_val).tolist()\n",
    "train_val_test_dict_f2f['test'] = get_7numname(data_face2face_test).tolist()"
   ]
  },
  {
   "cell_type": "code",
   "execution_count": 127,
   "metadata": {},
   "outputs": [
    {
     "name": "stdout",
     "output_type": "stream",
     "text": [
      "12888\n",
      "1000\n"
     ]
    }
   ],
   "source": [
    "train_val_test_dict_real = {}\n",
    "immm = []\n",
    "for im in train_val_test_dict_f2f['train']:\n",
    "    im2 = im.split('_')\n",
    "    immm.extend(im2)\n",
    "    \n",
    "print(len(immm))\n",
    "myset = set(immm)\n",
    "print(len(myset))"
   ]
  },
  {
   "cell_type": "code",
   "execution_count": 128,
   "metadata": {},
   "outputs": [
    {
     "name": "stdout",
     "output_type": "stream",
     "text": [
      "6444\n"
     ]
    }
   ],
   "source": [
    "print(len(train_val_test_dict_f2f['train']))"
   ]
  },
  {
   "cell_type": "code",
   "execution_count": null,
   "metadata": {},
   "outputs": [],
   "source": []
  },
  {
   "cell_type": "code",
   "execution_count": 122,
   "metadata": {},
   "outputs": [],
   "source": [
    "all_images = pd.read_csv('dataset_faces.csv')  "
   ]
  },
  {
   "cell_type": "code",
   "execution_count": 124,
   "metadata": {},
   "outputs": [],
   "source": [
    "all_images['imgname'] = all_images['filename'].apply(lambda x: x.split('/')[-1])"
   ]
  },
  {
   "cell_type": "code",
   "execution_count": null,
   "metadata": {},
   "outputs": [],
   "source": [
    "918.mp4_image3.jpg \n",
    "data_45= data_real['imgname'].apply(lambda x: x[4:7])\n",
    "data_youtube = data_real[data_45 == 'mp4']"
   ]
  },
  {
   "cell_type": "code",
   "execution_count": null,
   "metadata": {},
   "outputs": [],
   "source": [
    "# def check_in_train_test_dict(text):\n",
    "#     if text in train_val_test_dict_f2f['train']:\n",
    "#         return 'train'\n",
    "#     elif text in train_val_test_dict_f2f['validation']:\n",
    "#         return 'validation'\n",
    "#     elif text in train_val_test_dict_f2f['test']:\n",
    "#         return 'test'\n",
    "#     else:\n",
    "#         return np.nan"
   ]
  },
  {
   "cell_type": "code",
   "execution_count": null,
   "metadata": {},
   "outputs": [],
   "source": [
    "# def labeling_to_train_val_test(textcell):\n",
    "#     if textcell[4:7] == 'mp4':\n",
    "#         return check_in_train_test_dict(textcell)\n",
    "#     if textcell[:7] in train_val_test_dict_f2f['train']:\n",
    "#         return 'train'\n",
    "#     elif textcell[:7] in train_val_test_dict_f2f['validation']:\n",
    "#         return 'validation'\n",
    "#     elif textcell[:7] in train_val_test_dict_f2f['test']:\n",
    "#         return 'test'\n",
    " "
   ]
  },
  {
   "cell_type": "code",
   "execution_count": null,
   "metadata": {},
   "outputs": [],
   "source": []
  }
 ],
 "metadata": {
  "anaconda-cloud": {},
  "kernelspec": {
   "display_name": "Python [default]",
   "language": "python",
   "name": "python3"
  },
  "language_info": {
   "codemirror_mode": {
    "name": "ipython",
    "version": 3
   },
   "file_extension": ".py",
   "mimetype": "text/x-python",
   "name": "python",
   "nbconvert_exporter": "python",
   "pygments_lexer": "ipython3",
   "version": "3.6.7"
  }
 },
 "nbformat": 4,
 "nbformat_minor": 4
}
