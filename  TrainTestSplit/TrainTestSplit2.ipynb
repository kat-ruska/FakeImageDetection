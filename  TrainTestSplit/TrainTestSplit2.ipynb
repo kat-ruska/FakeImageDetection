{
 "cells": [
  {
   "cell_type": "code",
   "execution_count": null,
   "metadata": {},
   "outputs": [],
   "source": [
    "import pandas as pd\n",
    "import matplotlib.pyplot as plt\n",
    "import numpy as np"
   ]
  },
  {
   "cell_type": "code",
   "execution_count": 8,
   "metadata": {},
   "outputs": [],
   "source": [
    "data_DeepFakes = pd.read_csv('pyagender_DeepFakes.csv', index_col=0)"
   ]
  },
  {
   "cell_type": "code",
   "execution_count": 6,
   "metadata": {},
   "outputs": [
    {
     "name": "stdout",
     "output_type": "stream",
     "text": [
      "                                                filename       gender  \\\n",
      "index                                                                   \n",
      "0      /content/drive/My Drive/FakeImageDetector/data...  0.032668225   \n",
      "1      /content/drive/My Drive/FakeImageDetector/data...            -   \n",
      "2      /content/drive/My Drive/FakeImageDetector/data...     0.917696   \n",
      "3      /content/drive/My Drive/FakeImageDetector/data...  0.036866818   \n",
      "4      /content/drive/My Drive/FakeImageDetector/data...    0.8750631   \n",
      "\n",
      "                      age  \n",
      "index                      \n",
      "0      32.283002284852046  \n",
      "1                       -  \n",
      "2      31.841469694639272  \n",
      "3       35.49534453271053  \n",
      "4      30.228436802563692  \n"
     ]
    }
   ],
   "source": [
    "print(data_DeepFakes.head())"
   ]
  },
  {
   "cell_type": "code",
   "execution_count": 9,
   "metadata": {},
   "outputs": [
    {
     "name": "stdout",
     "output_type": "stream",
     "text": [
      "                                                filename       gender  \\\n",
      "index                                                                   \n",
      "0      /content/drive/My Drive/FakeImageDetector/data...  0.032668225   \n",
      "1      /content/drive/My Drive/FakeImageDetector/data...          NaN   \n",
      "2      /content/drive/My Drive/FakeImageDetector/data...     0.917696   \n",
      "3      /content/drive/My Drive/FakeImageDetector/data...  0.036866818   \n",
      "4      /content/drive/My Drive/FakeImageDetector/data...    0.8750631   \n",
      "\n",
      "                      age  \n",
      "index                      \n",
      "0      32.283002284852046  \n",
      "1                     NaN  \n",
      "2      31.841469694639272  \n",
      "3       35.49534453271053  \n",
      "4      30.228436802563692  \n"
     ]
    }
   ],
   "source": [
    "data_DeepFakes = data_DeepFakes.replace('-', np.nan)\n",
    "print(data_DeepFakes.head())"
   ]
  },
  {
   "cell_type": "code",
   "execution_count": 14,
   "metadata": {},
   "outputs": [
    {
     "data": {
      "text/plain": [
       "filename            0\n",
       "gender            151\n",
       "age               151\n",
       "fake_real_name      0\n",
       "dtype: int64"
      ]
     },
     "execution_count": 14,
     "metadata": {},
     "output_type": "execute_result"
    }
   ],
   "source": [
    "data_DeepFakes.isnull().sum()"
   ]
  },
  {
   "cell_type": "code",
   "execution_count": 15,
   "metadata": {},
   "outputs": [],
   "source": [
    "data_DeepFakes = data_DeepFakes.dropna()"
   ]
  },
  {
   "cell_type": "code",
   "execution_count": 16,
   "metadata": {},
   "outputs": [
    {
     "data": {
      "text/plain": [
       "filename          0\n",
       "gender            0\n",
       "age               0\n",
       "fake_real_name    0\n",
       "dtype: int64"
      ]
     },
     "execution_count": 16,
     "metadata": {},
     "output_type": "execute_result"
    }
   ],
   "source": [
    "data_DeepFakes.isnull().sum()"
   ]
  },
  {
   "cell_type": "code",
   "execution_count": 19,
   "metadata": {},
   "outputs": [],
   "source": [
    "data_DeepFakes['gender'] = data_DeepFakes['gender'].astype(float)"
   ]
  },
  {
   "cell_type": "code",
   "execution_count": 20,
   "metadata": {},
   "outputs": [],
   "source": [
    "data_DeepFakes['age'] = data_DeepFakes['age'].astype(float)"
   ]
  },
  {
   "cell_type": "code",
   "execution_count": 21,
   "metadata": {},
   "outputs": [],
   "source": [
    "data_all = data_DeepFakes\n",
    "data_all['fake_real_name'] = data_all['filename'].apply(lambda x: x.split('/'))\n",
    "data_all['fake_real_name'] = data_all['fake_real_name'].apply(lambda x: x[-4])"
   ]
  },
  {
   "cell_type": "code",
   "execution_count": 22,
   "metadata": {},
   "outputs": [],
   "source": [
    "data_all['age_cat'] = pd.cut(data_all['age'], bins = [0., 20., 30., 40., 50., np.inf], labels = \n",
    "                                ['age_less_20', 'age_20_30', 'age_30_40', 'age_40_50', 'age_above_50'])"
   ]
  },
  {
   "cell_type": "code",
   "execution_count": 23,
   "metadata": {},
   "outputs": [],
   "source": [
    "data_all['gender10'] = data_all['gender'].apply(lambda x: 1 if x > 0.5 else 0)"
   ]
  },
  {
   "cell_type": "code",
   "execution_count": 24,
   "metadata": {},
   "outputs": [],
   "source": [
    "data_all['gender_age_cat'] = data_all['gender10'].astype(str) + \"_\" + data_all['age_cat'].astype(str)"
   ]
  },
  {
   "cell_type": "code",
   "execution_count": 25,
   "metadata": {},
   "outputs": [],
   "source": [
    "data_all['imgname'] = data_all['filename'].apply(lambda x: x.split('/')[-1])"
   ]
  },
  {
   "cell_type": "code",
   "execution_count": 26,
   "metadata": {},
   "outputs": [],
   "source": [
    "def get_target_source(img):\n",
    "    if (img[2] == \"_\") and (img[3] == \"_\"):\n",
    "        return img[:2]\n",
    "    if (img[2] != \"_\") and (img[3] == \"_\"):\n",
    "        return img[:7]\n",
    "    if (img[2] == \"_\") and (img[3] != \"_\"):\n",
    "        return img[:5]\n",
    "    if (img[4:7] =='mp4'):\n",
    "        return img[:3]"
   ]
  },
  {
   "cell_type": "code",
   "execution_count": 27,
   "metadata": {},
   "outputs": [],
   "source": [
    "data_all['target_source'] = data_all['imgname'].apply(lambda x: get_target_source(x))"
   ]
  },
  {
   "cell_type": "code",
   "execution_count": 28,
   "metadata": {},
   "outputs": [
    {
     "name": "stdout",
     "output_type": "stream",
     "text": [
      "                                                filename    gender        age  \\\n",
      "index                                                                           \n",
      "0      /content/drive/My Drive/FakeImageDetector/data...  0.032668  32.283002   \n",
      "2      /content/drive/My Drive/FakeImageDetector/data...  0.917696  31.841470   \n",
      "3      /content/drive/My Drive/FakeImageDetector/data...  0.036867  35.495345   \n",
      "4      /content/drive/My Drive/FakeImageDetector/data...  0.875063  30.228437   \n",
      "5      /content/drive/My Drive/FakeImageDetector/data...  0.935679  40.027410   \n",
      "\n",
      "      fake_real_name    age_cat  gender10 gender_age_cat             imgname  \\\n",
      "index                                                                          \n",
      "0          Deepfakes  age_30_40         0    0_age_30_40   484_415.mp4_6.jpg   \n",
      "2          Deepfakes  age_30_40         1    1_age_30_40  391_406.mp4_11.jpg   \n",
      "3          Deepfakes  age_30_40         0    0_age_30_40   153_150.mp4_7.jpg   \n",
      "4          Deepfakes  age_30_40         1    1_age_30_40  417_496.mp4_11.jpg   \n",
      "5          Deepfakes  age_40_50         1    1_age_40_50   563_537.mp4_5.jpg   \n",
      "\n",
      "      target_source  \n",
      "index                \n",
      "0           484_415  \n",
      "2           391_406  \n",
      "3           153_150  \n",
      "4           417_496  \n",
      "5           563_537  \n"
     ]
    }
   ],
   "source": [
    "print(data_all.head())"
   ]
  },
  {
   "cell_type": "code",
   "execution_count": 31,
   "metadata": {},
   "outputs": [
    {
     "name": "stdout",
     "output_type": "stream",
     "text": [
      "(8248, 9)\n"
     ]
    }
   ],
   "source": [
    "print(data_all.shape)"
   ]
  },
  {
   "cell_type": "code",
   "execution_count": 32,
   "metadata": {},
   "outputs": [],
   "source": [
    "data_deepfakes = data_all"
   ]
  },
  {
   "cell_type": "code",
   "execution_count": 33,
   "metadata": {},
   "outputs": [],
   "source": [
    "data = pd.read_csv('dataset_new.csv', index_col=0)"
   ]
  },
  {
   "cell_type": "code",
   "execution_count": 34,
   "metadata": {},
   "outputs": [
    {
     "name": "stdout",
     "output_type": "stream",
     "text": [
      "(47561, 11)\n"
     ]
    }
   ],
   "source": [
    "print(data.shape)"
   ]
  },
  {
   "cell_type": "code",
   "execution_count": 35,
   "metadata": {},
   "outputs": [
    {
     "name": "stdout",
     "output_type": "stream",
     "text": [
      "                                                filename    gender        age  \\\n",
      "index                                                                           \n",
      "0      /content/drive/My Drive/FakeImageDetector/data...  0.032668  32.283002   \n",
      "2      /content/drive/My Drive/FakeImageDetector/data...  0.917696  31.841470   \n",
      "3      /content/drive/My Drive/FakeImageDetector/data...  0.036867  35.495345   \n",
      "4      /content/drive/My Drive/FakeImageDetector/data...  0.875063  30.228437   \n",
      "5      /content/drive/My Drive/FakeImageDetector/data...  0.935679  40.027410   \n",
      "\n",
      "      fake_real_name    age_cat  gender10 gender_age_cat             imgname  \\\n",
      "index                                                                          \n",
      "0          Deepfakes  age_30_40         0    0_age_30_40   484_415.mp4_6.jpg   \n",
      "2          Deepfakes  age_30_40         1    1_age_30_40  391_406.mp4_11.jpg   \n",
      "3          Deepfakes  age_30_40         0    0_age_30_40   153_150.mp4_7.jpg   \n",
      "4          Deepfakes  age_30_40         1    1_age_30_40  417_496.mp4_11.jpg   \n",
      "5          Deepfakes  age_40_50         1    1_age_40_50   563_537.mp4_5.jpg   \n",
      "\n",
      "      target_source  \n",
      "index                \n",
      "0           484_415  \n",
      "2           391_406  \n",
      "3           153_150  \n",
      "4           417_496  \n",
      "5           563_537  \n"
     ]
    }
   ],
   "source": [
    "print(data_deepfakes.head())"
   ]
  },
  {
   "cell_type": "code",
   "execution_count": 36,
   "metadata": {},
   "outputs": [
    {
     "name": "stdout",
     "output_type": "stream",
     "text": [
      "                                                filename    gender        age  \\\n",
      "index                                                                           \n",
      "0      /content/drive/My Drive/FakeImageDetector/real...  0.061687  32.637210   \n",
      "1      /content/drive/My Drive/FakeImageDetector/real...  0.063749  31.867521   \n",
      "2      /content/drive/My Drive/FakeImageDetector/real...  0.032942  34.179979   \n",
      "3      /content/drive/My Drive/FakeImageDetector/real...  0.026315  33.717182   \n",
      "4      /content/drive/My Drive/FakeImageDetector/real...  0.055017  37.760803   \n",
      "\n",
      "      method  label fake_real_name    age_cat  gender10 gender_age_cat  \\\n",
      "index                                                                    \n",
      "0       Real      1    real_images  age_30_40         0    0_age_30_40   \n",
      "1       Real      1    real_images  age_30_40         0    0_age_30_40   \n",
      "2       Real      1    real_images  age_30_40         0    0_age_30_40   \n",
      "3       Real      1    real_images  age_30_40         0    0_age_30_40   \n",
      "4       Real      1    real_images  age_30_40         0    0_age_30_40   \n",
      "\n",
      "                                                 imgname target_source  \n",
      "index                                                                   \n",
      "0      21__outside_talking_still_laughing.mp4_image6.jpg            21  \n",
      "1      21__outside_talking_still_laughing.mp4_image7.jpg            21  \n",
      "2      21__outside_talking_still_laughing.mp4_image8.jpg            21  \n",
      "3      21__outside_talking_still_laughing.mp4_image9.jpg            21  \n",
      "4      21__outside_talking_still_laughing.mp4_image10...            21  \n"
     ]
    }
   ],
   "source": [
    "print(data.head())"
   ]
  },
  {
   "cell_type": "code",
   "execution_count": 37,
   "metadata": {},
   "outputs": [
    {
     "name": "stderr",
     "output_type": "stream",
     "text": [
      "/Users/ruska/anaconda/lib/python3.6/site-packages/pandas/core/frame.py:6692: FutureWarning: Sorting because non-concatenation axis is not aligned. A future version\n",
      "of pandas will change to not sort by default.\n",
      "\n",
      "To accept the future behavior, pass 'sort=False'.\n",
      "\n",
      "To retain the current behavior and silence the warning, pass 'sort=True'.\n",
      "\n",
      "  sort=sort)\n"
     ]
    }
   ],
   "source": [
    "data = data.append(data_deepfakes)"
   ]
  },
  {
   "cell_type": "code",
   "execution_count": 38,
   "metadata": {},
   "outputs": [
    {
     "name": "stdout",
     "output_type": "stream",
     "text": [
      "(55809, 11)\n"
     ]
    }
   ],
   "source": [
    "print(data.shape)"
   ]
  },
  {
   "cell_type": "code",
   "execution_count": 39,
   "metadata": {},
   "outputs": [
    {
     "name": "stdout",
     "output_type": "stream",
     "text": [
      "             age    age_cat fake_real_name  \\\n",
      "index                                        \n",
      "0      32.637210  age_30_40    real_images   \n",
      "1      31.867521  age_30_40    real_images   \n",
      "2      34.179979  age_30_40    real_images   \n",
      "3      33.717182  age_30_40    real_images   \n",
      "4      37.760803  age_30_40    real_images   \n",
      "\n",
      "                                                filename    gender  gender10  \\\n",
      "index                                                                          \n",
      "0      /content/drive/My Drive/FakeImageDetector/real...  0.061687         0   \n",
      "1      /content/drive/My Drive/FakeImageDetector/real...  0.063749         0   \n",
      "2      /content/drive/My Drive/FakeImageDetector/real...  0.032942         0   \n",
      "3      /content/drive/My Drive/FakeImageDetector/real...  0.026315         0   \n",
      "4      /content/drive/My Drive/FakeImageDetector/real...  0.055017         0   \n",
      "\n",
      "      gender_age_cat                                            imgname  \\\n",
      "index                                                                     \n",
      "0        0_age_30_40  21__outside_talking_still_laughing.mp4_image6.jpg   \n",
      "1        0_age_30_40  21__outside_talking_still_laughing.mp4_image7.jpg   \n",
      "2        0_age_30_40  21__outside_talking_still_laughing.mp4_image8.jpg   \n",
      "3        0_age_30_40  21__outside_talking_still_laughing.mp4_image9.jpg   \n",
      "4        0_age_30_40  21__outside_talking_still_laughing.mp4_image10...   \n",
      "\n",
      "       label method target_source  \n",
      "index                              \n",
      "0        1.0   Real            21  \n",
      "1        1.0   Real            21  \n",
      "2        1.0   Real            21  \n",
      "3        1.0   Real            21  \n",
      "4        1.0   Real            21  \n"
     ]
    }
   ],
   "source": [
    "print(data.head())"
   ]
  },
  {
   "cell_type": "code",
   "execution_count": 40,
   "metadata": {},
   "outputs": [
    {
     "name": "stdout",
     "output_type": "stream",
     "text": [
      "index                                                             0\n",
      "age                                                         32.6372\n",
      "age_cat                                                   age_30_40\n",
      "fake_real_name                                          real_images\n",
      "filename          /content/drive/My Drive/FakeImageDetector/real...\n",
      "gender                                                    0.0616868\n",
      "gender10                                                          0\n",
      "gender_age_cat                                          0_age_30_40\n",
      "imgname           21__outside_talking_still_laughing.mp4_image6.jpg\n",
      "label                                                             1\n",
      "method                                                         Real\n",
      "target_source                                                    21\n",
      "Name: 0, dtype: object\n"
     ]
    }
   ],
   "source": [
    "data = data.reset_index()\n",
    "print(data.loc[0])"
   ]
  },
  {
   "cell_type": "code",
   "execution_count": 41,
   "metadata": {},
   "outputs": [],
   "source": [
    "data1 = data.loc[:,['filename', 'imgname', 'fake_real_name', 'target_source', 'age', 'age_cat', 'gender', 'gender10',\n",
    "                  'gender_age_cat']]"
   ]
  },
  {
   "cell_type": "code",
   "execution_count": 42,
   "metadata": {},
   "outputs": [
    {
     "name": "stdout",
     "output_type": "stream",
     "text": [
      "                                            filename  \\\n",
      "0  /content/drive/My Drive/FakeImageDetector/real...   \n",
      "1  /content/drive/My Drive/FakeImageDetector/real...   \n",
      "2  /content/drive/My Drive/FakeImageDetector/real...   \n",
      "3  /content/drive/My Drive/FakeImageDetector/real...   \n",
      "4  /content/drive/My Drive/FakeImageDetector/real...   \n",
      "\n",
      "                                             imgname fake_real_name  \\\n",
      "0  21__outside_talking_still_laughing.mp4_image6.jpg    real_images   \n",
      "1  21__outside_talking_still_laughing.mp4_image7.jpg    real_images   \n",
      "2  21__outside_talking_still_laughing.mp4_image8.jpg    real_images   \n",
      "3  21__outside_talking_still_laughing.mp4_image9.jpg    real_images   \n",
      "4  21__outside_talking_still_laughing.mp4_image10...    real_images   \n",
      "\n",
      "  target_source        age    age_cat    gender  gender10 gender_age_cat  \n",
      "0            21  32.637210  age_30_40  0.061687         0    0_age_30_40  \n",
      "1            21  31.867521  age_30_40  0.063749         0    0_age_30_40  \n",
      "2            21  34.179979  age_30_40  0.032942         0    0_age_30_40  \n",
      "3            21  33.717182  age_30_40  0.026315         0    0_age_30_40  \n",
      "4            21  37.760803  age_30_40  0.055017         0    0_age_30_40  \n"
     ]
    }
   ],
   "source": [
    "print(data1.head())"
   ]
  },
  {
   "cell_type": "code",
   "execution_count": 43,
   "metadata": {},
   "outputs": [
    {
     "name": "stdout",
     "output_type": "stream",
     "text": [
      "(55809, 9)\n"
     ]
    }
   ],
   "source": [
    "print(data1.shape)"
   ]
  },
  {
   "cell_type": "code",
   "execution_count": 44,
   "metadata": {},
   "outputs": [],
   "source": [
    "data1.to_csv(\"dataset2104.csv\", index=0)"
   ]
  },
  {
   "cell_type": "code",
   "execution_count": null,
   "metadata": {},
   "outputs": [],
   "source": [
    "img[4:7] =='mp4'"
   ]
  },
  {
   "cell_type": "code",
   "execution_count": 45,
   "metadata": {},
   "outputs": [],
   "source": [
    "data = data1"
   ]
  },
  {
   "cell_type": "code",
   "execution_count": null,
   "metadata": {},
   "outputs": [],
   "source": [
    "data1['fake_real_name'] = data1['imgname'].apply[]"
   ]
  },
  {
   "cell_type": "code",
   "execution_count": 46,
   "metadata": {},
   "outputs": [],
   "source": [
    "d2 = data1.loc[:, ['fake_real_name', 'imgname']]"
   ]
  },
  {
   "cell_type": "code",
   "execution_count": 47,
   "metadata": {},
   "outputs": [],
   "source": [
    "def f(x):\n",
    "    if x[1][4:7] == 'mp4':\n",
    "        return 'real_images_youtube'\n",
    "    else:\n",
    "        return x[0]"
   ]
  },
  {
   "cell_type": "code",
   "execution_count": 48,
   "metadata": {},
   "outputs": [
    {
     "name": "stdout",
     "output_type": "stream",
     "text": [
      "0        real_images\n",
      "1        real_images\n",
      "2        real_images\n",
      "3        real_images\n",
      "4        real_images\n",
      "5        real_images\n",
      "6        real_images\n",
      "7        real_images\n",
      "8        real_images\n",
      "9        real_images\n",
      "10       real_images\n",
      "11       real_images\n",
      "12       real_images\n",
      "13       real_images\n",
      "14       real_images\n",
      "15       real_images\n",
      "16       real_images\n",
      "17       real_images\n",
      "18       real_images\n",
      "19       real_images\n",
      "20       real_images\n",
      "21       real_images\n",
      "22       real_images\n",
      "23       real_images\n",
      "24       real_images\n",
      "25       real_images\n",
      "26       real_images\n",
      "27       real_images\n",
      "28       real_images\n",
      "29       real_images\n",
      "            ...     \n",
      "55779      Deepfakes\n",
      "55780      Deepfakes\n",
      "55781      Deepfakes\n",
      "55782      Deepfakes\n",
      "55783      Deepfakes\n",
      "55784      Deepfakes\n",
      "55785      Deepfakes\n",
      "55786      Deepfakes\n",
      "55787      Deepfakes\n",
      "55788      Deepfakes\n",
      "55789      Deepfakes\n",
      "55790      Deepfakes\n",
      "55791      Deepfakes\n",
      "55792      Deepfakes\n",
      "55793      Deepfakes\n",
      "55794      Deepfakes\n",
      "55795      Deepfakes\n",
      "55796      Deepfakes\n",
      "55797      Deepfakes\n",
      "55798      Deepfakes\n",
      "55799      Deepfakes\n",
      "55800      Deepfakes\n",
      "55801      Deepfakes\n",
      "55802      Deepfakes\n",
      "55803      Deepfakes\n",
      "55804      Deepfakes\n",
      "55805      Deepfakes\n",
      "55806      Deepfakes\n",
      "55807      Deepfakes\n",
      "55808      Deepfakes\n",
      "Name: frn, Length: 55809, dtype: object\n"
     ]
    }
   ],
   "source": [
    "d2['frn'] = d2.apply(f, axis = 1)\n",
    "print(d2['frn'])"
   ]
  },
  {
   "cell_type": "code",
   "execution_count": 49,
   "metadata": {},
   "outputs": [
    {
     "name": "stdout",
     "output_type": "stream",
     "text": [
      "      fake_real_name              imgname                  frn\n",
      "3783     real_images   007.mp4_image7.jpg  real_images_youtube\n",
      "3784     real_images   007.mp4_image8.jpg  real_images_youtube\n",
      "3785     real_images   007.mp4_image9.jpg  real_images_youtube\n",
      "3786     real_images  007.mp4_image10.jpg  real_images_youtube\n",
      "3787     real_images   039.mp4_image1.jpg  real_images_youtube\n",
      "3788     real_images   039.mp4_image2.jpg  real_images_youtube\n",
      "3789     real_images   039.mp4_image3.jpg  real_images_youtube\n",
      "3790     real_images   039.mp4_image4.jpg  real_images_youtube\n",
      "3791     real_images   039.mp4_image5.jpg  real_images_youtube\n",
      "3792     real_images   039.mp4_image6.jpg  real_images_youtube\n",
      "3793     real_images   039.mp4_image7.jpg  real_images_youtube\n",
      "3794     real_images   039.mp4_image8.jpg  real_images_youtube\n",
      "3795     real_images   039.mp4_image9.jpg  real_images_youtube\n",
      "3796     real_images  039.mp4_image10.jpg  real_images_youtube\n",
      "3797     real_images  039.mp4_image11.jpg  real_images_youtube\n",
      "3798     real_images   058.mp4_image1.jpg  real_images_youtube\n",
      "3799     real_images   058.mp4_image2.jpg  real_images_youtube\n",
      "3800     real_images   058.mp4_image3.jpg  real_images_youtube\n",
      "3801     real_images   058.mp4_image4.jpg  real_images_youtube\n",
      "3802     real_images   058.mp4_image5.jpg  real_images_youtube\n",
      "3803     real_images   058.mp4_image6.jpg  real_images_youtube\n",
      "3804     real_images   058.mp4_image7.jpg  real_images_youtube\n",
      "3805     real_images   058.mp4_image8.jpg  real_images_youtube\n",
      "3806     real_images   058.mp4_image9.jpg  real_images_youtube\n",
      "3807     real_images  058.mp4_image10.jpg  real_images_youtube\n",
      "3808     real_images  058.mp4_image11.jpg  real_images_youtube\n",
      "3809     real_images  058.mp4_image12.jpg  real_images_youtube\n",
      "3810     real_images  608.mp4_image11.jpg  real_images_youtube\n",
      "3811     real_images  608.mp4_image13.jpg  real_images_youtube\n",
      "3812     real_images  608.mp4_image16.jpg  real_images_youtube\n",
      "...              ...                  ...                  ...\n",
      "12702    real_images  321.mp4_image12.jpg  real_images_youtube\n",
      "12703    real_images   206.mp4_image1.jpg  real_images_youtube\n",
      "12704    real_images   206.mp4_image2.jpg  real_images_youtube\n",
      "12705    real_images   206.mp4_image3.jpg  real_images_youtube\n",
      "12706    real_images   206.mp4_image4.jpg  real_images_youtube\n",
      "12707    real_images   206.mp4_image5.jpg  real_images_youtube\n",
      "12708    real_images   206.mp4_image6.jpg  real_images_youtube\n",
      "12709    real_images   206.mp4_image7.jpg  real_images_youtube\n",
      "12710    real_images   206.mp4_image8.jpg  real_images_youtube\n",
      "12711    real_images   206.mp4_image9.jpg  real_images_youtube\n",
      "12712    real_images  206.mp4_image10.jpg  real_images_youtube\n",
      "12713    real_images  206.mp4_image11.jpg  real_images_youtube\n",
      "12714    real_images  206.mp4_image12.jpg  real_images_youtube\n",
      "12715    real_images  206.mp4_image13.jpg  real_images_youtube\n",
      "12716    real_images  206.mp4_image14.jpg  real_images_youtube\n",
      "12717    real_images  206.mp4_image15.jpg  real_images_youtube\n",
      "12718    real_images   221.mp4_image1.jpg  real_images_youtube\n",
      "12719    real_images   221.mp4_image2.jpg  real_images_youtube\n",
      "12720    real_images   221.mp4_image3.jpg  real_images_youtube\n",
      "12721    real_images   221.mp4_image4.jpg  real_images_youtube\n",
      "12722    real_images   221.mp4_image5.jpg  real_images_youtube\n",
      "12723    real_images   221.mp4_image6.jpg  real_images_youtube\n",
      "12724    real_images   221.mp4_image7.jpg  real_images_youtube\n",
      "12725    real_images   221.mp4_image8.jpg  real_images_youtube\n",
      "12726    real_images   221.mp4_image9.jpg  real_images_youtube\n",
      "12727    real_images  221.mp4_image10.jpg  real_images_youtube\n",
      "12728    real_images  221.mp4_image11.jpg  real_images_youtube\n",
      "12729    real_images  221.mp4_image12.jpg  real_images_youtube\n",
      "12730    real_images  221.mp4_image13.jpg  real_images_youtube\n",
      "12731    real_images  221.mp4_image14.jpg  real_images_youtube\n",
      "\n",
      "[8373 rows x 3 columns]\n"
     ]
    }
   ],
   "source": [
    "print(d2[d2['frn'] == 'real_images_youtube'])"
   ]
  },
  {
   "cell_type": "code",
   "execution_count": 50,
   "metadata": {},
   "outputs": [],
   "source": [
    "data1['fake_real_name'] = d2['frn']"
   ]
  },
  {
   "cell_type": "code",
   "execution_count": 51,
   "metadata": {},
   "outputs": [
    {
     "name": "stdout",
     "output_type": "stream",
     "text": [
      "                                                filename              imgname  \\\n",
      "3783   /content/drive/My Drive/FakeImageDetector/real...   007.mp4_image7.jpg   \n",
      "3784   /content/drive/My Drive/FakeImageDetector/real...   007.mp4_image8.jpg   \n",
      "3785   /content/drive/My Drive/FakeImageDetector/real...   007.mp4_image9.jpg   \n",
      "3786   /content/drive/My Drive/FakeImageDetector/real...  007.mp4_image10.jpg   \n",
      "3787   /content/drive/My Drive/FakeImageDetector/real...   039.mp4_image1.jpg   \n",
      "3788   /content/drive/My Drive/FakeImageDetector/real...   039.mp4_image2.jpg   \n",
      "3789   /content/drive/My Drive/FakeImageDetector/real...   039.mp4_image3.jpg   \n",
      "3790   /content/drive/My Drive/FakeImageDetector/real...   039.mp4_image4.jpg   \n",
      "3791   /content/drive/My Drive/FakeImageDetector/real...   039.mp4_image5.jpg   \n",
      "3792   /content/drive/My Drive/FakeImageDetector/real...   039.mp4_image6.jpg   \n",
      "3793   /content/drive/My Drive/FakeImageDetector/real...   039.mp4_image7.jpg   \n",
      "3794   /content/drive/My Drive/FakeImageDetector/real...   039.mp4_image8.jpg   \n",
      "3795   /content/drive/My Drive/FakeImageDetector/real...   039.mp4_image9.jpg   \n",
      "3796   /content/drive/My Drive/FakeImageDetector/real...  039.mp4_image10.jpg   \n",
      "3797   /content/drive/My Drive/FakeImageDetector/real...  039.mp4_image11.jpg   \n",
      "3798   /content/drive/My Drive/FakeImageDetector/real...   058.mp4_image1.jpg   \n",
      "3799   /content/drive/My Drive/FakeImageDetector/real...   058.mp4_image2.jpg   \n",
      "3800   /content/drive/My Drive/FakeImageDetector/real...   058.mp4_image3.jpg   \n",
      "3801   /content/drive/My Drive/FakeImageDetector/real...   058.mp4_image4.jpg   \n",
      "3802   /content/drive/My Drive/FakeImageDetector/real...   058.mp4_image5.jpg   \n",
      "3803   /content/drive/My Drive/FakeImageDetector/real...   058.mp4_image6.jpg   \n",
      "3804   /content/drive/My Drive/FakeImageDetector/real...   058.mp4_image7.jpg   \n",
      "3805   /content/drive/My Drive/FakeImageDetector/real...   058.mp4_image8.jpg   \n",
      "3806   /content/drive/My Drive/FakeImageDetector/real...   058.mp4_image9.jpg   \n",
      "3807   /content/drive/My Drive/FakeImageDetector/real...  058.mp4_image10.jpg   \n",
      "3808   /content/drive/My Drive/FakeImageDetector/real...  058.mp4_image11.jpg   \n",
      "3809   /content/drive/My Drive/FakeImageDetector/real...  058.mp4_image12.jpg   \n",
      "3810   /content/drive/My Drive/FakeImageDetector/real...  608.mp4_image11.jpg   \n",
      "3811   /content/drive/My Drive/FakeImageDetector/real...  608.mp4_image13.jpg   \n",
      "3812   /content/drive/My Drive/FakeImageDetector/real...  608.mp4_image16.jpg   \n",
      "...                                                  ...                  ...   \n",
      "12702  /content/drive/My Drive/FakeImageDetector/real...  321.mp4_image12.jpg   \n",
      "12703  /content/drive/My Drive/FakeImageDetector/real...   206.mp4_image1.jpg   \n",
      "12704  /content/drive/My Drive/FakeImageDetector/real...   206.mp4_image2.jpg   \n",
      "12705  /content/drive/My Drive/FakeImageDetector/real...   206.mp4_image3.jpg   \n",
      "12706  /content/drive/My Drive/FakeImageDetector/real...   206.mp4_image4.jpg   \n",
      "12707  /content/drive/My Drive/FakeImageDetector/real...   206.mp4_image5.jpg   \n",
      "12708  /content/drive/My Drive/FakeImageDetector/real...   206.mp4_image6.jpg   \n",
      "12709  /content/drive/My Drive/FakeImageDetector/real...   206.mp4_image7.jpg   \n",
      "12710  /content/drive/My Drive/FakeImageDetector/real...   206.mp4_image8.jpg   \n",
      "12711  /content/drive/My Drive/FakeImageDetector/real...   206.mp4_image9.jpg   \n",
      "12712  /content/drive/My Drive/FakeImageDetector/real...  206.mp4_image10.jpg   \n",
      "12713  /content/drive/My Drive/FakeImageDetector/real...  206.mp4_image11.jpg   \n",
      "12714  /content/drive/My Drive/FakeImageDetector/real...  206.mp4_image12.jpg   \n",
      "12715  /content/drive/My Drive/FakeImageDetector/real...  206.mp4_image13.jpg   \n",
      "12716  /content/drive/My Drive/FakeImageDetector/real...  206.mp4_image14.jpg   \n",
      "12717  /content/drive/My Drive/FakeImageDetector/real...  206.mp4_image15.jpg   \n",
      "12718  /content/drive/My Drive/FakeImageDetector/real...   221.mp4_image1.jpg   \n",
      "12719  /content/drive/My Drive/FakeImageDetector/real...   221.mp4_image2.jpg   \n",
      "12720  /content/drive/My Drive/FakeImageDetector/real...   221.mp4_image3.jpg   \n",
      "12721  /content/drive/My Drive/FakeImageDetector/real...   221.mp4_image4.jpg   \n",
      "12722  /content/drive/My Drive/FakeImageDetector/real...   221.mp4_image5.jpg   \n",
      "12723  /content/drive/My Drive/FakeImageDetector/real...   221.mp4_image6.jpg   \n",
      "12724  /content/drive/My Drive/FakeImageDetector/real...   221.mp4_image7.jpg   \n",
      "12725  /content/drive/My Drive/FakeImageDetector/real...   221.mp4_image8.jpg   \n",
      "12726  /content/drive/My Drive/FakeImageDetector/real...   221.mp4_image9.jpg   \n",
      "12727  /content/drive/My Drive/FakeImageDetector/real...  221.mp4_image10.jpg   \n",
      "12728  /content/drive/My Drive/FakeImageDetector/real...  221.mp4_image11.jpg   \n",
      "12729  /content/drive/My Drive/FakeImageDetector/real...  221.mp4_image12.jpg   \n",
      "12730  /content/drive/My Drive/FakeImageDetector/real...  221.mp4_image13.jpg   \n",
      "12731  /content/drive/My Drive/FakeImageDetector/real...  221.mp4_image14.jpg   \n",
      "\n",
      "            fake_real_name target_source        age    age_cat    gender  \\\n",
      "3783   real_images_youtube           007  30.489572  age_30_40  0.741020   \n",
      "3784   real_images_youtube           007  41.067036  age_40_50  0.820204   \n",
      "3785   real_images_youtube           007  35.213776  age_30_40  0.819673   \n",
      "3786   real_images_youtube           007  30.652613  age_30_40  0.750895   \n",
      "3787   real_images_youtube           039  37.562783  age_30_40  0.014293   \n",
      "3788   real_images_youtube           039  41.897489  age_40_50  0.013494   \n",
      "3789   real_images_youtube           039  35.270606  age_30_40  0.055570   \n",
      "3790   real_images_youtube           039  35.454746  age_30_40  0.057100   \n",
      "3791   real_images_youtube           039  37.043452  age_30_40  0.021546   \n",
      "3792   real_images_youtube           039  33.968512  age_30_40  0.017087   \n",
      "3793   real_images_youtube           039  36.518494  age_30_40  0.018714   \n",
      "3794   real_images_youtube           039  37.228752  age_30_40  0.027388   \n",
      "3795   real_images_youtube           039  35.710328  age_30_40  0.014233   \n",
      "3796   real_images_youtube           039  36.942951  age_30_40  0.018599   \n",
      "3797   real_images_youtube           039  36.258951  age_30_40  0.017922   \n",
      "3798   real_images_youtube           058  36.248685  age_30_40  0.049634   \n",
      "3799   real_images_youtube           058  33.536345  age_30_40  0.066271   \n",
      "3800   real_images_youtube           058  35.462929  age_30_40  0.051288   \n",
      "3801   real_images_youtube           058  34.710341  age_30_40  0.069943   \n",
      "3802   real_images_youtube           058  34.132914  age_30_40  0.086053   \n",
      "3803   real_images_youtube           058  33.697144  age_30_40  0.045171   \n",
      "3804   real_images_youtube           058  35.497304  age_30_40  0.062617   \n",
      "3805   real_images_youtube           058  34.456625  age_30_40  0.068764   \n",
      "3806   real_images_youtube           058  35.493032  age_30_40  0.091100   \n",
      "3807   real_images_youtube           058  32.844389  age_30_40  0.054472   \n",
      "3808   real_images_youtube           058  37.733514  age_30_40  0.044199   \n",
      "3809   real_images_youtube           058  35.583261  age_30_40  0.088832   \n",
      "3810   real_images_youtube           608  44.802865  age_40_50  0.014604   \n",
      "3811   real_images_youtube           608  43.173332  age_40_50  0.006286   \n",
      "3812   real_images_youtube           608  44.280225  age_40_50  0.012757   \n",
      "...                    ...           ...        ...        ...       ...   \n",
      "12702  real_images_youtube           321  29.196794  age_20_30  0.956265   \n",
      "12703  real_images_youtube           206  23.712389  age_20_30  0.956371   \n",
      "12704  real_images_youtube           206  27.883470  age_20_30  0.937354   \n",
      "12705  real_images_youtube           206  29.461511  age_20_30  0.904213   \n",
      "12706  real_images_youtube           206  29.300378  age_20_30  0.858685   \n",
      "12707  real_images_youtube           206  26.444989  age_20_30  0.904511   \n",
      "12708  real_images_youtube           206  26.961412  age_20_30  0.910462   \n",
      "12709  real_images_youtube           206  27.331577  age_20_30  0.931450   \n",
      "12710  real_images_youtube           206  26.145514  age_20_30  0.904084   \n",
      "12711  real_images_youtube           206  25.076394  age_20_30  0.859496   \n",
      "12712  real_images_youtube           206  27.801281  age_20_30  0.904753   \n",
      "12713  real_images_youtube           206  25.243230  age_20_30  0.943917   \n",
      "12714  real_images_youtube           206  27.916729  age_20_30  0.883316   \n",
      "12715  real_images_youtube           206  27.956590  age_20_30  0.861870   \n",
      "12716  real_images_youtube           206  27.333632  age_20_30  0.830048   \n",
      "12717  real_images_youtube           206  25.441970  age_20_30  0.901417   \n",
      "12718  real_images_youtube           221  25.889365  age_20_30  0.916547   \n",
      "12719  real_images_youtube           221  30.522542  age_30_40  0.884773   \n",
      "12720  real_images_youtube           221  32.273520  age_30_40  0.909870   \n",
      "12721  real_images_youtube           221  34.273107  age_30_40  0.952851   \n",
      "12722  real_images_youtube           221  23.392056  age_20_30  0.856555   \n",
      "12723  real_images_youtube           221  30.942168  age_30_40  0.944365   \n",
      "12724  real_images_youtube           221  27.052430  age_20_30  0.945551   \n",
      "12725  real_images_youtube           221  30.536939  age_30_40  0.914024   \n",
      "12726  real_images_youtube           221  26.257625  age_20_30  0.861736   \n",
      "12727  real_images_youtube           221  27.159677  age_20_30  0.928993   \n",
      "12728  real_images_youtube           221  28.746532  age_20_30  0.907160   \n",
      "12729  real_images_youtube           221  31.128643  age_30_40  0.917194   \n",
      "12730  real_images_youtube           221  28.906211  age_20_30  0.913263   \n",
      "12731  real_images_youtube           221  25.968423  age_20_30  0.940494   \n",
      "\n",
      "       gender10 gender_age_cat  \n",
      "3783          1    1_age_30_40  \n",
      "3784          1    1_age_40_50  \n",
      "3785          1    1_age_30_40  \n",
      "3786          1    1_age_30_40  \n",
      "3787          0    0_age_30_40  \n",
      "3788          0    0_age_40_50  \n",
      "3789          0    0_age_30_40  \n",
      "3790          0    0_age_30_40  \n",
      "3791          0    0_age_30_40  \n",
      "3792          0    0_age_30_40  \n",
      "3793          0    0_age_30_40  \n",
      "3794          0    0_age_30_40  \n",
      "3795          0    0_age_30_40  \n",
      "3796          0    0_age_30_40  \n",
      "3797          0    0_age_30_40  \n",
      "3798          0    0_age_30_40  \n",
      "3799          0    0_age_30_40  \n",
      "3800          0    0_age_30_40  \n",
      "3801          0    0_age_30_40  \n",
      "3802          0    0_age_30_40  \n",
      "3803          0    0_age_30_40  \n",
      "3804          0    0_age_30_40  \n",
      "3805          0    0_age_30_40  \n",
      "3806          0    0_age_30_40  \n",
      "3807          0    0_age_30_40  \n",
      "3808          0    0_age_30_40  \n",
      "3809          0    0_age_30_40  \n",
      "3810          0    0_age_40_50  \n",
      "3811          0    0_age_40_50  \n",
      "3812          0    0_age_40_50  \n",
      "...         ...            ...  \n",
      "12702         1    1_age_20_30  \n",
      "12703         1    1_age_20_30  \n",
      "12704         1    1_age_20_30  \n",
      "12705         1    1_age_20_30  \n",
      "12706         1    1_age_20_30  \n",
      "12707         1    1_age_20_30  \n",
      "12708         1    1_age_20_30  \n",
      "12709         1    1_age_20_30  \n",
      "12710         1    1_age_20_30  \n",
      "12711         1    1_age_20_30  \n",
      "12712         1    1_age_20_30  \n",
      "12713         1    1_age_20_30  \n",
      "12714         1    1_age_20_30  \n",
      "12715         1    1_age_20_30  \n",
      "12716         1    1_age_20_30  \n",
      "12717         1    1_age_20_30  \n",
      "12718         1    1_age_20_30  \n",
      "12719         1    1_age_30_40  \n",
      "12720         1    1_age_30_40  \n",
      "12721         1    1_age_30_40  \n",
      "12722         1    1_age_20_30  \n",
      "12723         1    1_age_30_40  \n",
      "12724         1    1_age_20_30  \n",
      "12725         1    1_age_30_40  \n",
      "12726         1    1_age_20_30  \n",
      "12727         1    1_age_20_30  \n",
      "12728         1    1_age_20_30  \n",
      "12729         1    1_age_30_40  \n",
      "12730         1    1_age_20_30  \n",
      "12731         1    1_age_20_30  \n",
      "\n",
      "[8373 rows x 9 columns]\n"
     ]
    }
   ],
   "source": [
    "print(data1[data1['fake_real_name'] == 'real_images_youtube'])"
   ]
  },
  {
   "cell_type": "code",
   "execution_count": 52,
   "metadata": {},
   "outputs": [],
   "source": [
    "data1.to_csv(\"dataset2104.csv\", index=0)"
   ]
  },
  {
   "cell_type": "code",
   "execution_count": null,
   "metadata": {},
   "outputs": [],
   "source": [
    "tvt_split_f2f.pickle\n",
    "tvt_split_f2f_youtube.pickle\n",
    "tvt_split_dfd.pickle\n",
    "tvt_split_dfd_actor.pickle"
   ]
  },
  {
   "cell_type": "code",
   "execution_count": 97,
   "metadata": {},
   "outputs": [],
   "source": [
    "import pickle\n",
    "\n",
    "with open('tvt_split_f2f.pickle', 'rb') as handle:\n",
    "    fakes4 = pickle.load(handle)\n",
    "\n",
    "with open('tvt_split_f2f_youtube.pickle', 'rb') as handle:\n",
    "    youtube = pickle.load(handle)\n",
    "\n",
    "with open('tvt_split_dfd.pickle', 'rb') as handle:\n",
    "    fakes_dfd = pickle.load(handle)\n",
    "    \n",
    "with open('tvt_split_dfd_actor.pickle', 'rb') as handle:\n",
    "    actors = pickle.load(handle)"
   ]
  },
  {
   "cell_type": "code",
   "execution_count": 98,
   "metadata": {},
   "outputs": [
    {
     "name": "stdout",
     "output_type": "stream",
     "text": [
      "['real_images' 'real_images_youtube' 'NeuralTextures' 'FaceSwap'\n",
      " 'DeepFakeDetection' 'Face2Face' 'Deepfakes']\n"
     ]
    }
   ],
   "source": [
    "print(data1['fake_real_name'].unique())"
   ]
  },
  {
   "cell_type": "code",
   "execution_count": 99,
   "metadata": {},
   "outputs": [],
   "source": [
    "def f(x):\n",
    "    if x[1][4:7] == 'mp4':\n",
    "        return 'real_images_youtube'\n",
    "    else:\n",
    "        return x[0]"
   ]
  },
  {
   "cell_type": "code",
   "execution_count": 100,
   "metadata": {},
   "outputs": [],
   "source": [
    "def get_train_val_test(tvt_dict, imgname):\n",
    "    if imgname in tvt_dict['train']:\n",
    "        return 'train'\n",
    "    if imgname in tvt_dict['validation']:\n",
    "        return 'validation'\n",
    "    if imgname in tvt_dict['test']:\n",
    "        return 'test'\n",
    "    else:\n",
    "        return np.nan"
   ]
  },
  {
   "cell_type": "code",
   "execution_count": 101,
   "metadata": {},
   "outputs": [],
   "source": [
    "def train_test_val_by_foldername(df):\n",
    "    if df[0] == 'real_images_youtube':\n",
    "        return get_train_val_test(youtube, df[1][:3])\n",
    "    if df[0] == 'real_images':\n",
    "        return get_train_val_test(actors, df[1][:2])\n",
    "    if df[0] == 'DeepFakeDetection':\n",
    "        return get_train_val_test(fakes_dfd, df[1][:5])\n",
    "    else:\n",
    "        return get_train_val_test(fakes4, df[1][:7])"
   ]
  },
  {
   "cell_type": "code",
   "execution_count": 102,
   "metadata": {},
   "outputs": [],
   "source": [
    "data_train = data1.loc[:, ['fake_real_name', 'imgname']]"
   ]
  },
  {
   "cell_type": "code",
   "execution_count": 103,
   "metadata": {},
   "outputs": [],
   "source": [
    "data_train['train_test_validation'] = data_train.apply(train_test_val_by_foldername, axis=1)"
   ]
  },
  {
   "cell_type": "code",
   "execution_count": 104,
   "metadata": {},
   "outputs": [
    {
     "name": "stdout",
     "output_type": "stream",
     "text": [
      "0             train\n",
      "1             train\n",
      "2             train\n",
      "3             train\n",
      "4             train\n",
      "5             train\n",
      "6             train\n",
      "7             train\n",
      "8             train\n",
      "9             train\n",
      "10            train\n",
      "11            train\n",
      "12            train\n",
      "13            train\n",
      "14            train\n",
      "15            train\n",
      "16            train\n",
      "17            train\n",
      "18            train\n",
      "19            train\n",
      "20            train\n",
      "21            train\n",
      "22            train\n",
      "23            train\n",
      "24            train\n",
      "25            train\n",
      "26            train\n",
      "27            train\n",
      "28            train\n",
      "29            train\n",
      "            ...    \n",
      "55779          test\n",
      "55780         train\n",
      "55781         train\n",
      "55782         train\n",
      "55783         train\n",
      "55784         train\n",
      "55785         train\n",
      "55786          test\n",
      "55787         train\n",
      "55788         train\n",
      "55789          test\n",
      "55790          test\n",
      "55791         train\n",
      "55792         train\n",
      "55793    validation\n",
      "55794         train\n",
      "55795    validation\n",
      "55796          test\n",
      "55797         train\n",
      "55798    validation\n",
      "55799         train\n",
      "55800         train\n",
      "55801          test\n",
      "55802         train\n",
      "55803         train\n",
      "55804          test\n",
      "55805         train\n",
      "55806    validation\n",
      "55807    validation\n",
      "55808         train\n",
      "Name: train_test_validation, Length: 55809, dtype: object\n"
     ]
    }
   ],
   "source": [
    "print(data_train['train_test_validation'])"
   ]
  },
  {
   "cell_type": "code",
   "execution_count": 105,
   "metadata": {},
   "outputs": [
    {
     "name": "stdout",
     "output_type": "stream",
     "text": [
      "          fake_real_name                                            imgname  \\\n",
      "20277           FaceSwap                          Copy of 000_003.mp4_6.jpg   \n",
      "21024           FaceSwap                          Copy of 000_003.mp4_2.jpg   \n",
      "21650           FaceSwap                          Copy of 000_003.mp4_1.jpg   \n",
      "23159           FaceSwap                          Copy of 000_003.mp4_3.jpg   \n",
      "24352           FaceSwap                          Copy of 000_003.mp4_5.jpg   \n",
      "24467           FaceSwap                          Copy of 000_003.mp4_7.jpg   \n",
      "26125           FaceSwap                          Copy of 000_003.mp4_4.jpg   \n",
      "26312  DeepFakeDetection        14_03__talking_angry_couch__L0GHYIFS_36.bmp   \n",
      "26313  DeepFakeDetection        14_03__talking_angry_couch__L0GHYIFS_38.bmp   \n",
      "26314  DeepFakeDetection        14_03__talking_angry_couch__L0GHYIFS_40.bmp   \n",
      "26315  DeepFakeDetection        14_03__talking_angry_couch__L0GHYIFS_42.bmp   \n",
      "26316  DeepFakeDetection        14_03__talking_angry_couch__L0GHYIFS_44.bmp   \n",
      "26317  DeepFakeDetection        14_03__talking_angry_couch__L0GHYIFS_46.bmp   \n",
      "26318  DeepFakeDetection        14_03__talking_angry_couch__L0GHYIFS_48.bmp   \n",
      "26319  DeepFakeDetection        14_03__talking_angry_couch__L0GHYIFS_50.bmp   \n",
      "26320  DeepFakeDetection        14_03__talking_angry_couch__L0GHYIFS_52.bmp   \n",
      "26321  DeepFakeDetection        14_03__talking_angry_couch__L0GHYIFS_54.bmp   \n",
      "26322  DeepFakeDetection        14_03__talking_angry_couch__L0GHYIFS_56.bmp   \n",
      "26323  DeepFakeDetection        14_03__talking_angry_couch__L0GHYIFS_58.bmp   \n",
      "26324  DeepFakeDetection        14_03__talking_angry_couch__L0GHYIFS_60.bmp   \n",
      "26325  DeepFakeDetection        14_03__talking_angry_couch__L0GHYIFS_62.bmp   \n",
      "26326  DeepFakeDetection        14_03__talking_angry_couch__L0GHYIFS_64.bmp   \n",
      "26353  DeepFakeDetection        03_07__talking_against_wall__PWXXULHR_0.bmp   \n",
      "26354  DeepFakeDetection        03_07__talking_against_wall__PWXXULHR_2.bmp   \n",
      "26355  DeepFakeDetection        03_07__talking_against_wall__PWXXULHR_4.bmp   \n",
      "26356  DeepFakeDetection        03_07__talking_against_wall__PWXXULHR_6.bmp   \n",
      "26357  DeepFakeDetection       03_07__talking_against_wall__PWXXULHR_12.bmp   \n",
      "26358  DeepFakeDetection       03_07__talking_against_wall__PWXXULHR_14.bmp   \n",
      "26359  DeepFakeDetection       03_07__talking_against_wall__PWXXULHR_16.bmp   \n",
      "26360  DeepFakeDetection       03_07__talking_against_wall__PWXXULHR_18.bmp   \n",
      "...                  ...                                                ...   \n",
      "37373  DeepFakeDetection  18_12__outside_talking_pan_laughing__IKH1LBBY_...   \n",
      "37374  DeepFakeDetection  18_12__outside_talking_pan_laughing__IKH1LBBY_...   \n",
      "37375  DeepFakeDetection  18_12__outside_talking_pan_laughing__IKH1LBBY_...   \n",
      "37463  DeepFakeDetection         09_14__talking_angry_couch__6TEK3ZX0_0.bmp   \n",
      "37464  DeepFakeDetection         09_14__talking_angry_couch__6TEK3ZX0_2.bmp   \n",
      "37465  DeepFakeDetection         09_14__talking_angry_couch__6TEK3ZX0_6.bmp   \n",
      "37466  DeepFakeDetection         09_14__talking_angry_couch__6TEK3ZX0_8.bmp   \n",
      "37467  DeepFakeDetection        09_14__talking_angry_couch__6TEK3ZX0_10.bmp   \n",
      "37468  DeepFakeDetection        09_14__talking_angry_couch__6TEK3ZX0_12.bmp   \n",
      "37469  DeepFakeDetection        09_14__talking_angry_couch__6TEK3ZX0_14.bmp   \n",
      "37470  DeepFakeDetection        09_14__talking_angry_couch__6TEK3ZX0_16.bmp   \n",
      "37471  DeepFakeDetection        09_14__talking_angry_couch__6TEK3ZX0_18.bmp   \n",
      "37472  DeepFakeDetection        09_14__talking_angry_couch__6TEK3ZX0_20.bmp   \n",
      "37473  DeepFakeDetection        09_14__talking_angry_couch__6TEK3ZX0_22.bmp   \n",
      "37474  DeepFakeDetection        09_14__talking_angry_couch__6TEK3ZX0_24.bmp   \n",
      "37475  DeepFakeDetection        09_14__talking_angry_couch__6TEK3ZX0_26.bmp   \n",
      "37476  DeepFakeDetection        09_14__talking_angry_couch__6TEK3ZX0_28.bmp   \n",
      "37477  DeepFakeDetection        09_14__talking_angry_couch__6TEK3ZX0_30.bmp   \n",
      "37478  DeepFakeDetection        09_14__talking_angry_couch__6TEK3ZX0_32.bmp   \n",
      "37479  DeepFakeDetection        09_14__talking_angry_couch__6TEK3ZX0_34.bmp   \n",
      "37480  DeepFakeDetection        09_14__talking_angry_couch__6TEK3ZX0_36.bmp   \n",
      "37481  DeepFakeDetection        09_14__talking_angry_couch__6TEK3ZX0_38.bmp   \n",
      "37482  DeepFakeDetection        09_14__talking_angry_couch__6TEK3ZX0_40.bmp   \n",
      "37483  DeepFakeDetection        09_14__talking_angry_couch__6TEK3ZX0_42.bmp   \n",
      "37484  DeepFakeDetection        09_14__talking_angry_couch__6TEK3ZX0_44.bmp   \n",
      "37485  DeepFakeDetection        09_14__talking_angry_couch__6TEK3ZX0_46.bmp   \n",
      "37486  DeepFakeDetection        09_14__talking_angry_couch__6TEK3ZX0_48.bmp   \n",
      "37487  DeepFakeDetection        09_14__talking_angry_couch__6TEK3ZX0_50.bmp   \n",
      "37488  DeepFakeDetection        09_14__talking_angry_couch__6TEK3ZX0_52.bmp   \n",
      "37489  DeepFakeDetection        09_14__talking_angry_couch__6TEK3ZX0_54.bmp   \n",
      "\n",
      "      train_test_validation  \n",
      "20277                   NaN  \n",
      "21024                   NaN  \n",
      "21650                   NaN  \n",
      "23159                   NaN  \n",
      "24352                   NaN  \n",
      "24467                   NaN  \n",
      "26125                   NaN  \n",
      "26312                   NaN  \n",
      "26313                   NaN  \n",
      "26314                   NaN  \n",
      "26315                   NaN  \n",
      "26316                   NaN  \n",
      "26317                   NaN  \n",
      "26318                   NaN  \n",
      "26319                   NaN  \n",
      "26320                   NaN  \n",
      "26321                   NaN  \n",
      "26322                   NaN  \n",
      "26323                   NaN  \n",
      "26324                   NaN  \n",
      "26325                   NaN  \n",
      "26326                   NaN  \n",
      "26353                   NaN  \n",
      "26354                   NaN  \n",
      "26355                   NaN  \n",
      "26356                   NaN  \n",
      "26357                   NaN  \n",
      "26358                   NaN  \n",
      "26359                   NaN  \n",
      "26360                   NaN  \n",
      "...                     ...  \n",
      "37373                   NaN  \n",
      "37374                   NaN  \n",
      "37375                   NaN  \n",
      "37463                   NaN  \n",
      "37464                   NaN  \n",
      "37465                   NaN  \n",
      "37466                   NaN  \n",
      "37467                   NaN  \n",
      "37468                   NaN  \n",
      "37469                   NaN  \n",
      "37470                   NaN  \n",
      "37471                   NaN  \n",
      "37472                   NaN  \n",
      "37473                   NaN  \n",
      "37474                   NaN  \n",
      "37475                   NaN  \n",
      "37476                   NaN  \n",
      "37477                   NaN  \n",
      "37478                   NaN  \n",
      "37479                   NaN  \n",
      "37480                   NaN  \n",
      "37481                   NaN  \n",
      "37482                   NaN  \n",
      "37483                   NaN  \n",
      "37484                   NaN  \n",
      "37485                   NaN  \n",
      "37486                   NaN  \n",
      "37487                   NaN  \n",
      "37488                   NaN  \n",
      "37489                   NaN  \n",
      "\n",
      "[2935 rows x 3 columns]\n"
     ]
    }
   ],
   "source": [
    "print(data_train[data_train['train_test_validation'].isnull() == True])"
   ]
  },
  {
   "cell_type": "code",
   "execution_count": 106,
   "metadata": {},
   "outputs": [],
   "source": [
    "data_nottrain = data_train[data_train['train_test_validation'].isnull() == True]"
   ]
  },
  {
   "cell_type": "code",
   "execution_count": 107,
   "metadata": {},
   "outputs": [
    {
     "name": "stdout",
     "output_type": "stream",
     "text": [
      "['FaceSwap' 'DeepFakeDetection']\n"
     ]
    }
   ],
   "source": [
    "print(data_nottrain['fake_real_name'].unique())"
   ]
  },
  {
   "cell_type": "code",
   "execution_count": 108,
   "metadata": {},
   "outputs": [],
   "source": [
    "data1['train'] = data_train['train_test_validation']"
   ]
  },
  {
   "cell_type": "code",
   "execution_count": 109,
   "metadata": {},
   "outputs": [
    {
     "name": "stdout",
     "output_type": "stream",
     "text": [
      "                                            filename  \\\n",
      "0  /content/drive/My Drive/FakeImageDetector/real...   \n",
      "1  /content/drive/My Drive/FakeImageDetector/real...   \n",
      "2  /content/drive/My Drive/FakeImageDetector/real...   \n",
      "3  /content/drive/My Drive/FakeImageDetector/real...   \n",
      "4  /content/drive/My Drive/FakeImageDetector/real...   \n",
      "\n",
      "                                             imgname fake_real_name  \\\n",
      "0  21__outside_talking_still_laughing.mp4_image6.jpg    real_images   \n",
      "1  21__outside_talking_still_laughing.mp4_image7.jpg    real_images   \n",
      "2  21__outside_talking_still_laughing.mp4_image8.jpg    real_images   \n",
      "3  21__outside_talking_still_laughing.mp4_image9.jpg    real_images   \n",
      "4  21__outside_talking_still_laughing.mp4_image10...    real_images   \n",
      "\n",
      "  target_source        age    age_cat    gender  gender10 gender_age_cat  \\\n",
      "0            21  32.637210  age_30_40  0.061687         0    0_age_30_40   \n",
      "1            21  31.867521  age_30_40  0.063749         0    0_age_30_40   \n",
      "2            21  34.179979  age_30_40  0.032942         0    0_age_30_40   \n",
      "3            21  33.717182  age_30_40  0.026315         0    0_age_30_40   \n",
      "4            21  37.760803  age_30_40  0.055017         0    0_age_30_40   \n",
      "\n",
      "   train  \n",
      "0  train  \n",
      "1  train  \n",
      "2  train  \n",
      "3  train  \n",
      "4  train  \n"
     ]
    }
   ],
   "source": [
    "print(data1.head())"
   ]
  },
  {
   "cell_type": "code",
   "execution_count": 110,
   "metadata": {},
   "outputs": [
    {
     "data": {
      "text/plain": [
       "filename             0\n",
       "imgname              0\n",
       "fake_real_name       0\n",
       "target_source        7\n",
       "age                  0\n",
       "age_cat              0\n",
       "gender               0\n",
       "gender10             0\n",
       "gender_age_cat       0\n",
       "train             2935\n",
       "dtype: int64"
      ]
     },
     "execution_count": 110,
     "metadata": {},
     "output_type": "execute_result"
    }
   ],
   "source": [
    "data1.isnull().sum()"
   ]
  },
  {
   "cell_type": "code",
   "execution_count": 111,
   "metadata": {},
   "outputs": [],
   "source": [
    "data1_nan = data1[data1['train'].isnull() == True]"
   ]
  },
  {
   "cell_type": "code",
   "execution_count": 80,
   "metadata": {},
   "outputs": [],
   "source": [
    "actor_nan = data1_nan[data1_nan['fake_real_name'] == 'real_images']['target_source'].unique()"
   ]
  },
  {
   "cell_type": "code",
   "execution_count": 81,
   "metadata": {},
   "outputs": [
    {
     "name": "stdout",
     "output_type": "stream",
     "text": [
      "['16', '28', '23', '18', '17', '22']\n"
     ]
    }
   ],
   "source": [
    "print(actor_nan.tolist())"
   ]
  },
  {
   "cell_type": "code",
   "execution_count": 112,
   "metadata": {},
   "outputs": [
    {
     "name": "stdout",
     "output_type": "stream",
     "text": [
      "['14_03', '03_07', '02_09', '02_15', '28_16', '03_15', '18_15', '18_09', '13_02', '02_13', '23_22', '03_13', '17_16', '11_01', '28_05', '09_03', '14_13', '14_02', '18_14', '11_13', '13_03', '15_03', '22_23', '11_07', '15_02', '16_05', '09_13', '03_14', '18_11', '14_18', '03_02', '13_14', '03_11', '03_18', '02_18', '03_20', '03_09', '18_03', '15_20', '15_18', '09_02', '16_17', '11_03', '23_10', '22_19', '15_21', '14_15', '11_18', '18_02', '16_28', '13_04', '13_09', '09_14', '15_14', '02_03', '14_09', '13_11', '09_18', '02_14', '18_12']\n"
     ]
    }
   ],
   "source": [
    "dfd_nan = data1_nan[data1_nan['fake_real_name'] == 'DeepFakeDetection']['target_source'].unique()\n",
    "print(dfd_nan.tolist())"
   ]
  },
  {
   "cell_type": "code",
   "execution_count": 83,
   "metadata": {},
   "outputs": [
    {
     "name": "stdout",
     "output_type": "stream",
     "text": [
      "{'train': ['27_02', '01_15', '25_09', '25_15', '21_07', '07_13', '21_14', '01_04', '26_14', '04_26', '01_02', '07_21', '24_23', '04_21', '01_09', '20_26', '06_25', '26_04', '07_09', '26_11', '04_18', '21_02', '05_08', '25_27', '20_06', '07_02', '06_02', '06_18', '06_26', '26_07', '26_06', '26_13', '10_19', '20_12', '27_18', '06_20', '04_06', '21_11', '25_02', '21_25', '27_13', '25_12', '12_15', '20_09', '06_07', '12_20', '08_05', '07_14', '12_13', '26_18', '24_19', '26_27', '26_12', '05_17', '26_25', '24_22', '06_14', '25_06', '04_01', '25_20', '06_03', '08_17', '12_02', '07_04', '21_01', '21_03', '19_23', '01_27', '19_10', '26_20', '20_13', '12_14', '26_03', '09_11', '04_27', '27_14', '14_01', '21_06', '03_04', '02_11', '26_15', '15_27', '07_25', '15_04', '20_27', '21_09', '10_24', '20_21', '05_28', '20_25', '06_12'], 'validation': ['27_26', '01_03', '06_04', '08_16', '21_04', '27_03', '12_26', '27_01', '07_12', '08_28', '20_14', '26_09', '12_25', '06_15', '07_15', '10_22', '06_11', '27_25', '25_18', '12_21', '20_18', '06_27', '01_12', '07_20', '26_01'], 'test': ['07_26', '01_26', '25_21', '20_03', '12_06', '01_11', '05_16', '20_07', '21_15', '07_06', '12_18', '04_07', '10_23', '01_21', '19_24', '12_07', '20_15', '04_13', '07_03', '19_22', '01_20', '20_01', '25_26', '15_13', '02_04', '13_25', '21_18', '11_04', '06_12']}\n"
     ]
    }
   ],
   "source": [
    "print(fakes_dfd)"
   ]
  },
  {
   "cell_type": "code",
   "execution_count": 84,
   "metadata": {},
   "outputs": [
    {
     "name": "stdout",
     "output_type": "stream",
     "text": [
      "['07_26', '01_26', '25_21', '20_03', '12_06', '01_11', '05_16', '20_07', '21_15', '07_06', '12_18', '04_07', '10_23', '01_21', '19_24', '12_07', '20_15', '04_13', '07_03', '19_22', '01_20', '20_01', '25_26', '15_13', '02_04', '13_25', '21_18', '11_04', '06_12']\n"
     ]
    }
   ],
   "source": [
    "print(fakes_dfd['test'])"
   ]
  },
  {
   "cell_type": "code",
   "execution_count": 85,
   "metadata": {},
   "outputs": [
    {
     "name": "stdout",
     "output_type": "stream",
     "text": [
      "[nan]\n"
     ]
    }
   ],
   "source": [
    "fs_nan = data1_nan[data1_nan['fake_real_name'] == 'FaceSwap']['target_source'].unique()\n",
    "print(fs_nan.tolist())"
   ]
  },
  {
   "cell_type": "code",
   "execution_count": 86,
   "metadata": {},
   "outputs": [
    {
     "name": "stdout",
     "output_type": "stream",
     "text": [
      "['real_images' 'FaceSwap' 'DeepFakeDetection']\n"
     ]
    }
   ],
   "source": [
    "print(data1_nan['fake_real_name'].unique())"
   ]
  },
  {
   "cell_type": "code",
   "execution_count": 87,
   "metadata": {},
   "outputs": [
    {
     "name": "stdout",
     "output_type": "stream",
     "text": [
      "                                                filename  \\\n",
      "20277  /content/drive/My Drive/FakeImageDetector/data...   \n",
      "21024  /content/drive/My Drive/FakeImageDetector/data...   \n",
      "21650  /content/drive/My Drive/FakeImageDetector/data...   \n",
      "23159  /content/drive/My Drive/FakeImageDetector/data...   \n",
      "24352  /content/drive/My Drive/FakeImageDetector/data...   \n",
      "24467  /content/drive/My Drive/FakeImageDetector/data...   \n",
      "26125  /content/drive/My Drive/FakeImageDetector/data...   \n",
      "\n",
      "                         imgname fake_real_name target_source        age  \\\n",
      "20277  Copy of 000_003.mp4_6.jpg       FaceSwap           NaN  44.286446   \n",
      "21024  Copy of 000_003.mp4_2.jpg       FaceSwap           NaN  45.291066   \n",
      "21650  Copy of 000_003.mp4_1.jpg       FaceSwap           NaN  43.193126   \n",
      "23159  Copy of 000_003.mp4_3.jpg       FaceSwap           NaN  38.333096   \n",
      "24352  Copy of 000_003.mp4_5.jpg       FaceSwap           NaN  33.359346   \n",
      "24467  Copy of 000_003.mp4_7.jpg       FaceSwap           NaN  41.483302   \n",
      "26125  Copy of 000_003.mp4_4.jpg       FaceSwap           NaN  42.493970   \n",
      "\n",
      "         age_cat    gender  gender10 gender_age_cat train  \n",
      "20277  age_40_50  0.020258         0    0_age_40_50   NaN  \n",
      "21024  age_40_50  0.032667         0    0_age_40_50   NaN  \n",
      "21650  age_40_50  0.028311         0    0_age_40_50   NaN  \n",
      "23159  age_30_40  0.042318         0    0_age_30_40   NaN  \n",
      "24352  age_30_40  0.118857         0    0_age_30_40   NaN  \n",
      "24467  age_40_50  0.043287         0    0_age_40_50   NaN  \n",
      "26125  age_40_50  0.055211         0    0_age_40_50   NaN  \n"
     ]
    }
   ],
   "source": [
    "print(data1_nan[data1_nan['fake_real_name'] == 'FaceSwap'])"
   ]
  },
  {
   "cell_type": "code",
   "execution_count": 113,
   "metadata": {},
   "outputs": [],
   "source": [
    "import pickle\n",
    "\n",
    "with open('tvt_split_f2f.pickle', 'rb') as handle:\n",
    "    fakes4 = pickle.load(handle)\n",
    "\n",
    "with open('tvt_split_f2f_youtube.pickle', 'rb') as handle:\n",
    "    youtube = pickle.load(handle)\n",
    "\n",
    "with open('tvt_split_dfd2.pickle', 'rb') as handle:\n",
    "    fakes_dfd = pickle.load(handle)\n",
    "    \n",
    "with open('tvt_split_dfd_actor2.pickle', 'rb') as handle:\n",
    "    actors = pickle.load(handle)"
   ]
  },
  {
   "cell_type": "code",
   "execution_count": 114,
   "metadata": {},
   "outputs": [],
   "source": [
    "data_train = data1.loc[:, ['fake_real_name', 'imgname']]"
   ]
  },
  {
   "cell_type": "code",
   "execution_count": 115,
   "metadata": {},
   "outputs": [],
   "source": [
    "data_train['train_test_validation'] = data_train.apply(train_test_val_by_foldername, axis=1)"
   ]
  },
  {
   "cell_type": "code",
   "execution_count": 116,
   "metadata": {},
   "outputs": [],
   "source": [
    "data_nottrain = data_train[data_train['train_test_validation'].isnull() == True]"
   ]
  },
  {
   "cell_type": "code",
   "execution_count": 117,
   "metadata": {},
   "outputs": [],
   "source": [
    "data1['train'] = data_train['train_test_validation']"
   ]
  },
  {
   "cell_type": "code",
   "execution_count": 118,
   "metadata": {},
   "outputs": [
    {
     "data": {
      "text/plain": [
       "filename          0\n",
       "imgname           0\n",
       "fake_real_name    0\n",
       "target_source     7\n",
       "age               0\n",
       "age_cat           0\n",
       "gender            0\n",
       "gender10          0\n",
       "gender_age_cat    0\n",
       "train             7\n",
       "dtype: int64"
      ]
     },
     "execution_count": 118,
     "metadata": {},
     "output_type": "execute_result"
    }
   ],
   "source": [
    "data1.isnull().sum()"
   ]
  },
  {
   "cell_type": "code",
   "execution_count": 120,
   "metadata": {},
   "outputs": [],
   "source": [
    "data1 = data1.dropna()"
   ]
  },
  {
   "cell_type": "code",
   "execution_count": 121,
   "metadata": {},
   "outputs": [],
   "source": [
    "data1.to_csv(\"dataset2204.csv\")"
   ]
  },
  {
   "cell_type": "code",
   "execution_count": 123,
   "metadata": {},
   "outputs": [
    {
     "name": "stdout",
     "output_type": "stream",
     "text": [
      "(37299, 10)\n"
     ]
    }
   ],
   "source": [
    "train_all = data1[data1['train'] =='train']\n",
    "print(train_all.shape)"
   ]
  },
  {
   "cell_type": "code",
   "execution_count": 125,
   "metadata": {},
   "outputs": [
    {
     "name": "stdout",
     "output_type": "stream",
     "text": [
      "(8545, 10)\n"
     ]
    }
   ],
   "source": [
    "val_all = data1[data1['train'] == 'validation']\n",
    "print(val_all.shape)"
   ]
  },
  {
   "cell_type": "code",
   "execution_count": 127,
   "metadata": {},
   "outputs": [
    {
     "name": "stdout",
     "output_type": "stream",
     "text": [
      "(9958, 10)\n"
     ]
    }
   ],
   "source": [
    "test_all = data1[data1['train'] == 'test']\n",
    "print(test_all.shape)"
   ]
  },
  {
   "cell_type": "code",
   "execution_count": 128,
   "metadata": {},
   "outputs": [
    {
     "data": {
      "text/plain": [
       "<BarContainer object of 4 artists>"
      ]
     },
     "execution_count": 128,
     "metadata": {},
     "output_type": "execute_result"
    },
    {
     "data": {
      "image/png": "[encoded data removed]",
      "text/plain": [
       "<Figure size 432x288 with 1 Axes>"
      ]
     },
     "metadata": {
      "needs_background": "light"
     },
     "output_type": "display_data"
    }
   ],
   "source": [
    "import numpy as np\n",
    "import matplotlib.pyplot as plt\n",
    "data = [[30, 25, 50, 20],\n",
    "[40, 23, 51, 17],\n",
    "[35, 22, 45, 19]]\n",
    "X = np.arange(4)\n",
    "fig = plt.figure()\n",
    "ax = fig.add_axes([0,0,1,1])\n",
    "ax.bar(X + 0.00, data[0], color = 'b', width = 0.25)\n",
    "ax.bar(X + 0.25, data[1], color = 'g', width = 0.25)\n",
    "ax.bar(X + 0.50, data[2], color = 'r', width = 0.25)"
   ]
  },
  {
   "cell_type": "code",
   "execution_count": 136,
   "metadata": {},
   "outputs": [],
   "source": [
    "train_gender = train_all['gender10'].value_counts()/train_all.shape[0]\n",
    "tr_g = train_gender.values\n",
    "test_gender = test_all['gender10'].value_counts()/test_all.shape[0]\n",
    "te_g = test_gender.values\n",
    "val_gender = val_all['gender10'].value_counts()/val_all.shape[0]\n",
    "val_g = val_gender.values"
   ]
  },
  {
   "cell_type": "code",
   "execution_count": 133,
   "metadata": {},
   "outputs": [
    {
     "name": "stdout",
     "output_type": "stream",
     "text": [
      "[0.53526904 0.46473096]\n"
     ]
    }
   ],
   "source": [
    "print(train_gender.values)"
   ]
  },
  {
   "cell_type": "code",
   "execution_count": 167,
   "metadata": {},
   "outputs": [
    {
     "data": {
      "image/png": "[encoded data removed]",
      "text/plain": [
       "<Figure size 432x288 with 1 Axes>"
      ]
     },
     "metadata": {
      "needs_background": "light"
     },
     "output_type": "display_data"
    }
   ],
   "source": [
    "X = np.arange(2)\n",
    "fig = plt.figure()\n",
    "ax = fig.add_axes([0,0,1,1])\n",
    "ax.bar(X + 0.00, tr_g, color = 'b', width = 0.25, label = 'train')\n",
    "ax.bar(X + 0.25, te_g, color = 'g', width = 0.25, label = 'test')\n",
    "ax.bar(X + 0.50, val_g, color = 'r', width = 0.25, label = 'validation')\n",
    "ax.set_xticks([0.25, 1.25])\n",
    "ax.set_xticklabels( ('Female', 'Male') )\n",
    "ax.legend()\n",
    "ax.set_title(\"Gender in train/validation/test\")\n",
    "plt.show()"
   ]
  },
  {
   "cell_type": "code",
   "execution_count": 161,
   "metadata": {},
   "outputs": [
    {
     "name": "stderr",
     "output_type": "stream",
     "text": [
      "/Users/ruska/anaconda/lib/python3.6/site-packages/matplotlib/axes/_axes.py:6462: UserWarning: The 'normed' kwarg is deprecated, and has been replaced by the 'density' kwarg.\n",
      "  warnings.warn(\"The 'normed' kwarg is deprecated, and has been \"\n"
     ]
    },
    {
     "data": {
      "image/png": "[encoded data removed]",
      "text/plain": [
       "<Figure size 432x288 with 1 Axes>"
      ]
     },
     "metadata": {
      "needs_background": "light"
     },
     "output_type": "display_data"
    }
   ],
   "source": [
    "plt.hist(train_all['age'], alpha=0.5, bins = 20, label='train', normed=True)\n",
    "plt.hist(val_all['age'], alpha=0.5, bins = 20, label='validation', normed = True)\n",
    "plt.hist(test_all['age'], alpha=0.5, bins = 20, label='test', normed = True)\n",
    "plt.legend(loc='upper right')\n",
    "plt.show()"
   ]
  },
  {
   "cell_type": "code",
   "execution_count": 168,
   "metadata": {},
   "outputs": [
    {
     "name": "stderr",
     "output_type": "stream",
     "text": [
      "/Users/ruska/anaconda/lib/python3.6/site-packages/matplotlib/axes/_axes.py:6462: UserWarning: The 'normed' kwarg is deprecated, and has been replaced by the 'density' kwarg.\n",
      "  warnings.warn(\"The 'normed' kwarg is deprecated, and has been \"\n"
     ]
    },
    {
     "data": {
      "image/png": "[encoded data removed]",
      "text/plain": [
       "<Figure size 720x360 with 1 Axes>"
      ]
     },
     "metadata": {
      "needs_background": "light"
     },
     "output_type": "display_data"
    }
   ],
   "source": [
    "\n",
    "plt.figure(figsize=(10,5))\n",
    "plt.hist([train_all['age'].values, val_all['age'].values, test_all['age'].values], bins=10, label=['train', 'validation', 'test'], normed = True)\n",
    "plt.legend(loc='upper right')\n",
    "plt.title('Age distribution in train/validation/test')\n",
    "plt.show()"
   ]
  },
  {
   "cell_type": "code",
   "execution_count": 169,
   "metadata": {},
   "outputs": [],
   "source": [
    "data_real1 = data1[data1['fake_real_name'] == 'real_images']\n",
    "data_real2 = data1[data1['fake_real_name'] == 'real_images_youtube']"
   ]
  },
  {
   "cell_type": "code",
   "execution_count": 170,
   "metadata": {},
   "outputs": [
    {
     "name": "stdout",
     "output_type": "stream",
     "text": [
      "0.22816386509444106\n"
     ]
    }
   ],
   "source": [
    "print((data_real1.shape[0] + data_real2.shape[0])/data1.shape[0])\n"
   ]
  },
  {
   "cell_type": "code",
   "execution_count": null,
   "metadata": {},
   "outputs": [],
   "source": []
  }
 ],
 "metadata": {
  "anaconda-cloud": {},
  "kernelspec": {
   "display_name": "Python [default]",
   "language": "python",
   "name": "python3"
  },
  "language_info": {
   "codemirror_mode": {
    "name": "ipython",
    "version": 3
   },
   "file_extension": ".py",
   "mimetype": "text/x-python",
   "name": "python",
   "nbconvert_exporter": "python",
   "pygments_lexer": "ipython3",
   "version": "3.6.7"
  }
 },
 "nbformat": 4,
 "nbformat_minor": 4
}
