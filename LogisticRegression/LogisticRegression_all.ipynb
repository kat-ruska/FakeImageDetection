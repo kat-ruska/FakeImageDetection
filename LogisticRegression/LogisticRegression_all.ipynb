{
 "cells": [
  {
   "cell_type": "code",
   "execution_count": 16,
   "metadata": {},
   "outputs": [],
   "source": [
    "import copy\n",
    "import cv2\n",
    "%matplotlib inline\n",
    "from matplotlib import pyplot as plt\n",
    "import numpy as np\n",
    "import pandas as pd\n",
    "import os\n",
    "import random\n",
    "from sklearn.linear_model import LogisticRegression\n",
    "from sklearn.metrics import confusion_matrix, classification_report"
   ]
  },
  {
   "cell_type": "code",
   "execution_count": 17,
   "metadata": {},
   "outputs": [],
   "source": [
    "all_df = pd.read_csv(\"./dataset/all_train_test_val.csv\", index_col = 0)"
   ]
  },
  {
   "cell_type": "code",
   "execution_count": 18,
   "metadata": {},
   "outputs": [],
   "source": [
    "fake_df = all_df[all_df['label'] == 1]\n",
    "real_df = all_df[all_df['label'] == 0]"
   ]
  },
  {
   "cell_type": "code",
   "execution_count": 19,
   "metadata": {},
   "outputs": [
    {
     "name": "stdout",
     "output_type": "stream",
     "text": [
      "train\n",
      "test          2236\n",
      "train         6712\n",
      "validation    2237\n",
      "Name: path_drive, dtype: int64\n"
     ]
    }
   ],
   "source": [
    "print(fake_df.groupby('train')['path_drive'].agg('count'))"
   ]
  },
  {
   "cell_type": "code",
   "execution_count": 20,
   "metadata": {},
   "outputs": [
    {
     "name": "stdout",
     "output_type": "stream",
     "text": [
      "train\n",
      "test          2210\n",
      "train         7043\n",
      "validation    1934\n",
      "Name: path_drive, dtype: int64\n"
     ]
    }
   ],
   "source": [
    "print(real_df.groupby('train')['path_drive'].agg('count'))"
   ]
  },
  {
   "cell_type": "code",
   "execution_count": null,
   "metadata": {},
   "outputs": [],
   "source": [
    "def get_ttv_xy(fake_df, real_df):\n",
    "    fake_train = fake_df[fake_df['train'] == 'train']\n",
    "    real_train = real_df[real_df['train'] == 'train']\n",
    "    fake_test = fake_df[fake_df['train'] == 'test']\n",
    "    real_test = real_df[real_df['train'] == 'test']\n",
    "    fake_val = fake_df[fake_df['train'] == 'validation']\n",
    "    real_val = real_df[real_df['train'] == 'validation']\n",
    "    x_train = np.concatenate((fake_train.iloc[:,:-3].values, real_train.iloc[:,:-3].values), axis=0)\n",
    "    y_train = np.concatenate((np.ones(fake_train.shape[0]), np.zeros(real_train.shape[0])))\n",
    "    x_test = np.concatenate((fake_test.iloc[:,:-3].values, real_test.iloc[:,:-3].values), axis=0)\n",
    "    y_test = np.concatenate((np.ones(fake_test.shape[0]), np.zeros(real_test.shape[0])))\n",
    "    x_val = np.concatenate((fake_val.iloc[:,:-3].values, real_val.iloc[:,:-3].values), axis=0)\n",
    "    y_val = np.concatenate((np.ones(fake_val.shape[0]), np.zeros(real_val.shape[0])))\n",
    "    return x_train, x_test, x_val, y_train, y_test, y_val\n",
    "    "
   ]
  },
  {
   "cell_type": "code",
   "execution_count": null,
   "metadata": {},
   "outputs": [],
   "source": [
    "def shuffle_two_arrays(arr1, arr2):\n",
    "    shuffler = np.random.permutation(len(arr1))\n",
    "    array1_shuffled = arr1[shuffler]\n",
    "    array2_shuffled = arr2[shuffler]\n",
    "\n",
    "    return array1_shuffled, array2_shuffled"
   ]
  },
  {
   "cell_type": "code",
   "execution_count": null,
   "metadata": {},
   "outputs": [],
   "source": [
    "x_train, x_test, x_val, y_train, y_test, y_val = get_ttv_xy(fake_df, real_df)"
   ]
  },
  {
   "cell_type": "code",
   "execution_count": 24,
   "metadata": {},
   "outputs": [],
   "source": [
    "x_train, y_train = shuffle_two_arrays(x_train, y_train)"
   ]
  },
  {
   "cell_type": "code",
   "execution_count": 25,
   "metadata": {},
   "outputs": [],
   "source": [
    "x_test, y_test = shuffle_two_arrays(x_test, y_test)"
   ]
  },
  {
   "cell_type": "code",
   "execution_count": 26,
   "metadata": {},
   "outputs": [],
   "source": [
    "x_val, y_val = shuffle_two_arrays(x_val, y_val)"
   ]
  },
  {
   "cell_type": "code",
   "execution_count": 27,
   "metadata": {},
   "outputs": [],
   "source": [
    "def demeaning_local(array_nd):\n",
    "    array_nd = array_nd.astype('float32')\n",
    "    means = array_nd.mean(axis=(0,1,2), dtype='float64')\n",
    "    #print('Means: %s' % means)\n",
    "    #print(means.shape)\n",
    "    array_nd -= means\n",
    "    return array_nd"
   ]
  },
  {
   "cell_type": "code",
   "execution_count": 28,
   "metadata": {},
   "outputs": [],
   "source": [
    "def demeaning_global(arr):\n",
    "    mean = arr.mean()\n",
    "    print('Mean: %.3f' % mean)\n",
    "    arr_0mean = arr - mean\n",
    "    return arr_0mean"
   ]
  },
  {
   "cell_type": "code",
   "execution_count": 29,
   "metadata": {},
   "outputs": [
    {
     "ename": "ValueError",
     "evalue": "cannot reshape array of size 264109755 into shape (13755,40,40,4,3)",
     "output_type": "error",
     "traceback": [
      "\u001b[0;31m---------------------------------------------------------------------------\u001b[0m",
      "\u001b[0;31mValueError\u001b[0m                                Traceback (most recent call last)",
      "\u001b[0;32m<ipython-input-29-f087b89a9daf>\u001b[0m in \u001b[0;36m<module>\u001b[0;34m()\u001b[0m\n\u001b[1;32m      1\u001b[0m \u001b[0;31m#nd_array = np.reshape(flat_array, (40, 40, 4, 3))\u001b[0m\u001b[0;34m\u001b[0m\u001b[0;34m\u001b[0m\u001b[0;34m\u001b[0m\u001b[0m\n\u001b[0;32m----> 2\u001b[0;31m \u001b[0mx_train_4d\u001b[0m \u001b[0;34m=\u001b[0m \u001b[0mnp\u001b[0m\u001b[0;34m.\u001b[0m\u001b[0mreshape\u001b[0m\u001b[0;34m(\u001b[0m\u001b[0mx_train\u001b[0m\u001b[0;34m,\u001b[0m \u001b[0;34m(\u001b[0m\u001b[0mx_train\u001b[0m\u001b[0;34m.\u001b[0m\u001b[0mshape\u001b[0m\u001b[0;34m[\u001b[0m\u001b[0;36m0\u001b[0m\u001b[0;34m]\u001b[0m\u001b[0;34m,\u001b[0m\u001b[0;36m40\u001b[0m\u001b[0;34m,\u001b[0m\u001b[0;36m40\u001b[0m\u001b[0;34m,\u001b[0m\u001b[0;36m4\u001b[0m\u001b[0;34m,\u001b[0m\u001b[0;36m3\u001b[0m\u001b[0;34m)\u001b[0m\u001b[0;34m)\u001b[0m\u001b[0;34m\u001b[0m\u001b[0;34m\u001b[0m\u001b[0m\n\u001b[0m\u001b[1;32m      3\u001b[0m \u001b[0mx_train_4d_demean\u001b[0m \u001b[0;34m=\u001b[0m \u001b[0mdemeaning_local\u001b[0m\u001b[0;34m(\u001b[0m\u001b[0mx_train_4d\u001b[0m\u001b[0;34m)\u001b[0m\u001b[0;34m\u001b[0m\u001b[0;34m\u001b[0m\u001b[0m\n\u001b[1;32m      4\u001b[0m \u001b[0mx_train_flat\u001b[0m \u001b[0;34m=\u001b[0m \u001b[0mx_train_4d_demean\u001b[0m\u001b[0;34m.\u001b[0m\u001b[0mreshape\u001b[0m\u001b[0;34m(\u001b[0m\u001b[0;34m(\u001b[0m\u001b[0mx_train\u001b[0m\u001b[0;34m.\u001b[0m\u001b[0mshape\u001b[0m\u001b[0;34m[\u001b[0m\u001b[0;36m0\u001b[0m\u001b[0;34m]\u001b[0m\u001b[0;34m,\u001b[0m \u001b[0;36m40\u001b[0m\u001b[0;34m*\u001b[0m\u001b[0;36m40\u001b[0m\u001b[0;34m*\u001b[0m\u001b[0;36m4\u001b[0m\u001b[0;34m*\u001b[0m\u001b[0;36m3\u001b[0m\u001b[0;34m)\u001b[0m\u001b[0;34m)\u001b[0m\u001b[0;34m\u001b[0m\u001b[0;34m\u001b[0m\u001b[0m\n",
      "\u001b[0;32m<__array_function__ internals>\u001b[0m in \u001b[0;36mreshape\u001b[0;34m(*args, **kwargs)\u001b[0m\n",
      "\u001b[0;32m/Users/ruska/anaconda/lib/python3.6/site-packages/numpy/core/fromnumeric.py\u001b[0m in \u001b[0;36mreshape\u001b[0;34m(a, newshape, order)\u001b[0m\n\u001b[1;32m    299\u001b[0m            [5, 6]])\n\u001b[1;32m    300\u001b[0m     \"\"\"\n\u001b[0;32m--> 301\u001b[0;31m     \u001b[0;32mreturn\u001b[0m \u001b[0m_wrapfunc\u001b[0m\u001b[0;34m(\u001b[0m\u001b[0ma\u001b[0m\u001b[0;34m,\u001b[0m \u001b[0;34m'reshape'\u001b[0m\u001b[0;34m,\u001b[0m \u001b[0mnewshape\u001b[0m\u001b[0;34m,\u001b[0m \u001b[0morder\u001b[0m\u001b[0;34m=\u001b[0m\u001b[0morder\u001b[0m\u001b[0;34m)\u001b[0m\u001b[0;34m\u001b[0m\u001b[0;34m\u001b[0m\u001b[0m\n\u001b[0m\u001b[1;32m    302\u001b[0m \u001b[0;34m\u001b[0m\u001b[0m\n\u001b[1;32m    303\u001b[0m \u001b[0;34m\u001b[0m\u001b[0m\n",
      "\u001b[0;32m/Users/ruska/anaconda/lib/python3.6/site-packages/numpy/core/fromnumeric.py\u001b[0m in \u001b[0;36m_wrapfunc\u001b[0;34m(obj, method, *args, **kwds)\u001b[0m\n\u001b[1;32m     59\u001b[0m \u001b[0;34m\u001b[0m\u001b[0m\n\u001b[1;32m     60\u001b[0m     \u001b[0;32mtry\u001b[0m\u001b[0;34m:\u001b[0m\u001b[0;34m\u001b[0m\u001b[0;34m\u001b[0m\u001b[0m\n\u001b[0;32m---> 61\u001b[0;31m         \u001b[0;32mreturn\u001b[0m \u001b[0mbound\u001b[0m\u001b[0;34m(\u001b[0m\u001b[0;34m*\u001b[0m\u001b[0margs\u001b[0m\u001b[0;34m,\u001b[0m \u001b[0;34m**\u001b[0m\u001b[0mkwds\u001b[0m\u001b[0;34m)\u001b[0m\u001b[0;34m\u001b[0m\u001b[0;34m\u001b[0m\u001b[0m\n\u001b[0m\u001b[1;32m     62\u001b[0m     \u001b[0;32mexcept\u001b[0m \u001b[0mTypeError\u001b[0m\u001b[0;34m:\u001b[0m\u001b[0;34m\u001b[0m\u001b[0;34m\u001b[0m\u001b[0m\n\u001b[1;32m     63\u001b[0m         \u001b[0;31m# A TypeError occurs if the object does have such a method in its\u001b[0m\u001b[0;34m\u001b[0m\u001b[0;34m\u001b[0m\u001b[0;34m\u001b[0m\u001b[0m\n",
      "\u001b[0;31mValueError\u001b[0m: cannot reshape array of size 264109755 into shape (13755,40,40,4,3)"
     ]
    }
   ],
   "source": [
    "#nd_array = np.reshape(flat_array, (40, 40, 4, 3))\n",
    "x_train_4d = np.reshape(x_train, (x_train.shape[0],40,40,4,3))\n",
    "x_train_4d_demean = demeaning_local(x_train_4d)\n",
    "x_train_flat = x_train_4d_demean.reshape((x_train.shape[0], 40*40*4*3))"
   ]
  },
  {
   "cell_type": "code",
   "execution_count": null,
   "metadata": {},
   "outputs": [],
   "source": [
    "x_test_4d = np.reshape(x_test, (x_test.shape[0],40,40,4,3))\n",
    "x_test_4d_demean = demeaning_local(x_test_4d)\n",
    "x_test_flat = x_test_4d_demean.reshape((x_test.shape[0], 40*40*4*3))"
   ]
  },
  {
   "cell_type": "code",
   "execution_count": null,
   "metadata": {},
   "outputs": [],
   "source": [
    "x_val_4d = np.reshape(x_val, (x_val.shape[0],40,40,4,3))\n",
    "x_val_4d_demean = demeaning_local(x_val_4d)\n",
    "x_val_flat = x_val_4d_demean.reshape((x_val.shape[0], 40*40*4*3))"
   ]
  },
  {
   "cell_type": "code",
   "execution_count": null,
   "metadata": {},
   "outputs": [],
   "source": [
    "\n",
    "\n",
    "x_val_flat = x_val.reshape((x_val.shape[0], 40*40*4*3))\n",
    "\n",
    "x_test_flat = x_test.reshape((x_test.shape[0], 40*40*4*3))\n",
    "\n",
    "\n",
    "from sklearn.linear_model import LogisticRegression\n",
    "\n",
    "logisticRegr = LogisticRegression(solver = 'saga')\n",
    "logit = logisticRegr.fit(x_train_flat, y_train)\n",
    "\n",
    "# training and test accuracy\n",
    "print('training acc: {:.2f}'.format(logit.score(x_train_flat, y_train)))\n",
    "print('test acc: {:.2f}'.format(logit.score(x_test_flat, y_test)))\n",
    "print('validation acc: {:.2f}'.format(logit.score(x_val_flat, y_val)))"
   ]
  },
  {
   "cell_type": "code",
   "execution_count": null,
   "metadata": {},
   "outputs": [],
   "source": [
    "y_test_pred =logit.predict(x_test_flat)\n",
    "y_val_pred = logit.predict(x_val_flat)"
   ]
  },
  {
   "cell_type": "code",
   "execution_count": null,
   "metadata": {},
   "outputs": [],
   "source": [
    "from sklearn.metrics import classification_report\n",
    "\n",
    "print(classification_report(y_test, y_test_pred))"
   ]
  },
  {
   "cell_type": "code",
   "execution_count": null,
   "metadata": {},
   "outputs": [],
   "source": [
    "print(confusion_matrix(y_test, y_test_pred, labels=[0,1]))\n",
    "cm = confusion_matrix(y_test, y_test_pred, labels=[0,1])"
   ]
  },
  {
   "cell_type": "code",
   "execution_count": null,
   "metadata": {},
   "outputs": [],
   "source": [
    "import seaborn as sns\n",
    "plt.figure(figsize=(9,9))\n",
    "sns.heatmap(cm, annot=True, fmt=\".3f\", linewidths=.5, square = True, cmap = 'Blues_r');\n",
    "plt.ylabel('Actual label');\n",
    "plt.xlabel('Predicted label');\n",
    "all_sample_title = 'Accuracy Score: {0}'.format(logit.score)\n",
    "plt.title(\"Confusion matrix\");"
   ]
  },
  {
   "cell_type": "code",
   "execution_count": null,
   "metadata": {},
   "outputs": [],
   "source": [
    "print(classification_report(y_val, y_val_pred))"
   ]
  },
  {
   "cell_type": "code",
   "execution_count": null,
   "metadata": {},
   "outputs": [],
   "source": [
    "print(logit.coef_)\n",
    "print(logit.coef_.shape)\n",
    "coef_lr = logit.coef_.reshape(-1)\n",
    "print(coef_lr.shape)\n",
    "coef_lr_abs = np.abs(coef_lr)\n",
    "coef_lr_0_1 = np.interp(coef_lr_abs, (coef_lr.min(), coef_lr.max()), (0, 1))\n",
    "coef_lr_split_0_1 = np.array_split(coef_lr_0_1, 4)"
   ]
  },
  {
   "cell_type": "code",
   "execution_count": null,
   "metadata": {},
   "outputs": [],
   "source": [
    "coef_lr_0_1_3mean = np.mean(coef_lr_0_1.reshape(-1, 3), axis=1)\n",
    "coef_lr_split_0_1_3mean = np.array_split(coef_lr_0_1_3mean, 4)\n",
    "feat = ['eye_left', 'eye_right', 'nose', 'lips']\n",
    "plt.rcParams['figure.figsize'] = (20.0, 16.0)\n",
    "for i in range(4):\n",
    "    plt.subplot(1,4,i+1)\n",
    "    img_color = coef_lr_split_0_1_3mean[i]\n",
    "    img_color = img_color.reshape((40,40))\n",
    "    #img_gray = np.dot(img_color, [0.299, 0.587, 0.114])\n",
    "    plt.imshow(img_color, cmap='Greys')\n",
    "    plt.title(feat[i])\n",
    "    plt.axis('off')"
   ]
  },
  {
   "cell_type": "code",
   "execution_count": null,
   "metadata": {},
   "outputs": [],
   "source": []
  }
 ],
 "metadata": {
  "anaconda-cloud": {},
  "kernelspec": {
   "display_name": "Python 3",
   "language": "python",
   "name": "python3"
  },
  "language_info": {
   "codemirror_mode": {
    "name": "ipython",
    "version": 3
   },
   "file_extension": ".py",
   "mimetype": "text/x-python",
   "name": "python",
   "nbconvert_exporter": "python",
   "pygments_lexer": "ipython3",
   "version": "3.6.9"
  }
 },
 "nbformat": 4,
 "nbformat_minor": 4
}
